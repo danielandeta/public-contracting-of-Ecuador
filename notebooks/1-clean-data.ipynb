{
  "cells": [
    {
      "cell_type": "code",
      "execution_count": 1,
      "metadata": {
        "gather": {
          "logged": 1657408622488
        }
      },
      "outputs": [],
      "source": [
        "import pandas as pd"
      ]
    },
    {
      "cell_type": "code",
      "execution_count": 2,
      "metadata": {
        "gather": {
          "logged": 1657408624143
        }
      },
      "outputs": [
        {
          "name": "stderr",
          "output_type": "stream",
          "text": [
            "/anaconda/envs/azureml_py38/lib/python3.8/site-packages/IPython/core/interactiveshell.py:3134: DtypeWarning: Columns (4,6,13,14) have mixed types.Specify dtype option on import or set low_memory=False.\n",
            "  has_raised = await self.run_ast_nodes(code_ast.body, cell_name,\n"
          ]
        },
        {
          "data": {
            "text/plain": [
              "ocid                                  0\n",
              "release_id                            0\n",
              "id                                    0\n",
              "title                            161869\n",
              "description                      123757\n",
              "status                            48559\n",
              "date                             131407\n",
              "amount                                3\n",
              "currency                              3\n",
              "correctedValue_amount            161869\n",
              "correctedValue_currency          161869\n",
              "enteredValue_amount              161869\n",
              "enteredValue_currency            161869\n",
              "contractPeriod_startDate         155762\n",
              "contractPeriod_endDate           155762\n",
              "contractPeriod_maxExtentDate     161869\n",
              "contractPeriod_durationInDays    155764\n",
              "dtype: int64"
            ]
          },
          "execution_count": 2,
          "metadata": {},
          "output_type": "execute_result"
        }
      ],
      "source": [
        "df_awards = pd.read_csv(\"../data/awards_2021.csv\")\n",
        "df_awards.head()\n",
        "df_awards.isnull().sum()"
      ]
    },
    {
      "cell_type": "code",
      "execution_count": 3,
      "metadata": {
        "gather": {
          "logged": 1657408624340
        },
        "jupyter": {
          "outputs_hidden": false,
          "source_hidden": false
        },
        "nteract": {
          "transient": {
            "deleting": false
          }
        }
      },
      "outputs": [
        {
          "data": {
            "text/plain": [
              "ocid              0\n",
              "release_id        0\n",
              "id                0\n",
              "status        48559\n",
              "amount            3\n",
              "currency          3\n",
              "dtype: int64"
            ]
          },
          "execution_count": 3,
          "metadata": {},
          "output_type": "execute_result"
        }
      ],
      "source": [
        "df_awards.drop(columns=[\"title\", \"description\", \"date\", \"correctedValue_amount\", \"correctedValue_currency\", \"enteredValue_amount\", \"enteredValue_currency\", \"contractPeriod_startDate\", \"contractPeriod_endDate\", \"contractPeriod_maxExtentDate\", \"contractPeriod_durationInDays\"], inplace=True)\n",
        "df_awards.isnull().sum()"
      ]
    },
    {
      "cell_type": "code",
      "execution_count": 4,
      "metadata": {
        "gather": {
          "logged": 1657408625956
        }
      },
      "outputs": [
        {
          "data": {
            "text/plain": [
              "ocid                                  0\n",
              "release_id                            0\n",
              "id                                    0\n",
              "awardID                               0\n",
              "title                            151586\n",
              "description                      151586\n",
              "status                                0\n",
              "contractPeriod_startDate         123757\n",
              "contractPeriod_endDate           123757\n",
              "contractPeriod_maxExtentDate     151586\n",
              "contractPeriod_durationInDays    123761\n",
              "amount                           123757\n",
              "currency                         123757\n",
              "dateSigned                       123757\n",
              "dtype: int64"
            ]
          },
          "execution_count": 4,
          "metadata": {},
          "output_type": "execute_result"
        }
      ],
      "source": [
        "df_contracts = pd.read_csv(\"../data/contracts_2021.csv\")\n",
        "df_contracts.head()\n",
        "df_contracts.isnull().sum()\n"
      ]
    },
    {
      "cell_type": "code",
      "execution_count": 5,
      "metadata": {
        "gather": {
          "logged": 1657408626317
        },
        "jupyter": {
          "outputs_hidden": false,
          "source_hidden": false
        },
        "nteract": {
          "transient": {
            "deleting": false
          }
        }
      },
      "outputs": [
        {
          "data": {
            "text/plain": [
              "ocid          0\n",
              "release_id    0\n",
              "id            0\n",
              "awardID       0\n",
              "status        0\n",
              "dtype: int64"
            ]
          },
          "execution_count": 5,
          "metadata": {},
          "output_type": "execute_result"
        }
      ],
      "source": [
        "df_contracts.drop(columns=[\"title\", \"description\", \"contractPeriod_startDate\", \"contractPeriod_endDate\", \"contractPeriod_maxExtentDate\", \"contractPeriod_durationInDays\", \"amount\", \"currency\", \"dateSigned\"], inplace=True)\n",
        "df_contracts.isnull().sum()"
      ]
    },
    {
      "cell_type": "code",
      "execution_count": 6,
      "metadata": {
        "gather": {
          "logged": 1657408627445
        }
      },
      "outputs": [
        {
          "data": {
            "text/html": [
              "<div>\n",
              "<style scoped>\n",
              "    .dataframe tbody tr th:only-of-type {\n",
              "        vertical-align: middle;\n",
              "    }\n",
              "\n",
              "    .dataframe tbody tr th {\n",
              "        vertical-align: top;\n",
              "    }\n",
              "\n",
              "    .dataframe thead th {\n",
              "        text-align: right;\n",
              "    }\n",
              "</style>\n",
              "<table border=\"1\" class=\"dataframe\">\n",
              "  <thead>\n",
              "    <tr style=\"text-align: right;\">\n",
              "      <th></th>\n",
              "      <th>extension</th>\n",
              "    </tr>\n",
              "  </thead>\n",
              "  <tbody>\n",
              "    <tr>\n",
              "      <th>0</th>\n",
              "      <td>https://raw.githubusercontent.com/open-contrac...</td>\n",
              "    </tr>\n",
              "    <tr>\n",
              "      <th>1</th>\n",
              "      <td>https://raw.githubusercontent.com/open-contrac...</td>\n",
              "    </tr>\n",
              "    <tr>\n",
              "      <th>2</th>\n",
              "      <td>https://raw.githubusercontent.com/open-contrac...</td>\n",
              "    </tr>\n",
              "    <tr>\n",
              "      <th>3</th>\n",
              "      <td>https://raw.githubusercontent.com/GobiernoFaci...</td>\n",
              "    </tr>\n",
              "    <tr>\n",
              "      <th>4</th>\n",
              "      <td>https://gitlab.com/dncp-opendata/ocds_auctions...</td>\n",
              "    </tr>\n",
              "  </tbody>\n",
              "</table>\n",
              "</div>"
            ],
            "text/plain": [
              "                                           extension\n",
              "0  https://raw.githubusercontent.com/open-contrac...\n",
              "1  https://raw.githubusercontent.com/open-contrac...\n",
              "2  https://raw.githubusercontent.com/open-contrac...\n",
              "3  https://raw.githubusercontent.com/GobiernoFaci...\n",
              "4  https://gitlab.com/dncp-opendata/ocds_auctions..."
            ]
          },
          "execution_count": 6,
          "metadata": {},
          "output_type": "execute_result"
        }
      ],
      "source": [
        "df_extensions = pd.read_csv(\"../data/extensions_2021.csv\")\n",
        "df_extensions.head()"
      ]
    },
    {
      "cell_type": "code",
      "execution_count": 7,
      "metadata": {
        "gather": {
          "logged": 1657408628281
        }
      },
      "outputs": [
        {
          "data": {
            "text/html": [
              "<div>\n",
              "<style scoped>\n",
              "    .dataframe tbody tr th:only-of-type {\n",
              "        vertical-align: middle;\n",
              "    }\n",
              "\n",
              "    .dataframe tbody tr th {\n",
              "        vertical-align: top;\n",
              "    }\n",
              "\n",
              "    .dataframe thead th {\n",
              "        text-align: right;\n",
              "    }\n",
              "</style>\n",
              "<table border=\"1\" class=\"dataframe\">\n",
              "  <thead>\n",
              "    <tr style=\"text-align: right;\">\n",
              "      <th></th>\n",
              "      <th>Uri</th>\n",
              "      <th>Version</th>\n",
              "      <th>PublisherName</th>\n",
              "      <th>PublisherScheme</th>\n",
              "      <th>PublisherUid</th>\n",
              "      <th>PublisherUri</th>\n",
              "      <th>License</th>\n",
              "      <th>PublicationPolicy</th>\n",
              "      <th>PublishedDate</th>\n",
              "    </tr>\n",
              "  </thead>\n",
              "  <tbody>\n",
              "    <tr>\n",
              "      <th>0</th>\n",
              "      <td>https://portal.compraspublicas.gob.ec/sercop/d...</td>\n",
              "      <td>1.1</td>\n",
              "      <td>Servicio Nacional de Contratación Pública (SER...</td>\n",
              "      <td>OCDS</td>\n",
              "      <td>ocds-5wno2w</td>\n",
              "      <td>https://www.compraspublicas.gob.ec</td>\n",
              "      <td>https://creativecommons.org/licenses/by/3.0/ec/</td>\n",
              "      <td>https://datosabiertos.compraspublicas.gob.ec/P...</td>\n",
              "      <td>2022-06-22T12:48:52.215Z</td>\n",
              "    </tr>\n",
              "  </tbody>\n",
              "</table>\n",
              "</div>"
            ],
            "text/plain": [
              "                                                 Uri  Version  \\\n",
              "0  https://portal.compraspublicas.gob.ec/sercop/d...      1.1   \n",
              "\n",
              "                                       PublisherName PublisherScheme  \\\n",
              "0  Servicio Nacional de Contratación Pública (SER...            OCDS   \n",
              "\n",
              "  PublisherUid                        PublisherUri  \\\n",
              "0  ocds-5wno2w  https://www.compraspublicas.gob.ec   \n",
              "\n",
              "                                           License  \\\n",
              "0  https://creativecommons.org/licenses/by/3.0/ec/   \n",
              "\n",
              "                                   PublicationPolicy             PublishedDate  \n",
              "0  https://datosabiertos.compraspublicas.gob.ec/P...  2022-06-22T12:48:52.215Z  "
            ]
          },
          "execution_count": 7,
          "metadata": {},
          "output_type": "execute_result"
        }
      ],
      "source": [
        "df_metadata = pd.read_csv(\"../data/metadata_2021.csv\")\n",
        "df_metadata.head()"
      ]
    },
    {
      "cell_type": "code",
      "execution_count": 8,
      "metadata": {
        "gather": {
          "logged": 1657408629506
        }
      },
      "outputs": [
        {
          "data": {
            "text/plain": [
              "ocid                      0\n",
              "id                        0\n",
              "rationale                 1\n",
              "budget_id                 0\n",
              "budget_description    38202\n",
              "budget_amount         19740\n",
              "budget_currency       19740\n",
              "dtype: int64"
            ]
          },
          "execution_count": 8,
          "metadata": {},
          "output_type": "execute_result"
        }
      ],
      "source": [
        "df_planning = pd.read_csv(\"../data/planning_2021.csv\")\n",
        "df_planning.head()\n",
        "df_planning.isnull().sum()"
      ]
    },
    {
      "cell_type": "code",
      "execution_count": 9,
      "metadata": {
        "gather": {
          "logged": 1657408630239
        },
        "jupyter": {
          "outputs_hidden": false,
          "source_hidden": false
        },
        "nteract": {
          "transient": {
            "deleting": false
          }
        }
      },
      "outputs": [
        {
          "data": {
            "text/plain": [
              "ocid               0\n",
              "id                 0\n",
              "rationale          0\n",
              "budget_id          0\n",
              "budget_amount      0\n",
              "budget_currency    0\n",
              "dtype: int64"
            ]
          },
          "execution_count": 9,
          "metadata": {},
          "output_type": "execute_result"
        }
      ],
      "source": [
        "df_planning.drop(columns=[\"budget_description\"], inplace=True)\n",
        "df_planning.dropna(subset=[\"budget_amount\", \"budget_currency\"], how=\"all\", inplace=True)\n",
        "df_planning.isnull().sum()"
      ]
    },
    {
      "cell_type": "code",
      "execution_count": 10,
      "metadata": {
        "gather": {
          "logged": 1657408632010
        }
      },
      "outputs": [
        {
          "data": {
            "text/plain": [
              "ocid              0\n",
              "id                0\n",
              "initiationType    0\n",
              "buyer_id          0\n",
              "buyer_name        0\n",
              "language          0\n",
              "date              0\n",
              "tag               0\n",
              "dtype: int64"
            ]
          },
          "execution_count": 10,
          "metadata": {},
          "output_type": "execute_result"
        }
      ],
      "source": [
        "df_releases = pd.read_csv(\"../data/releases_2021.csv\")\n",
        "df_releases.head()\n",
        "df_releases.isnull().sum()"
      ]
    },
    {
      "cell_type": "code",
      "execution_count": 11,
      "metadata": {
        "gather": {
          "logged": 1657408633085
        }
      },
      "outputs": [
        {
          "data": {
            "text/plain": [
              "ocid           0\n",
              "release_id     0\n",
              "award_id       0\n",
              "id             0\n",
              "name          16\n",
              "dtype: int64"
            ]
          },
          "execution_count": 11,
          "metadata": {},
          "output_type": "execute_result"
        }
      ],
      "source": [
        "df_suppliers = pd.read_csv(\"../data/suppliers_2021.csv\")\n",
        "df_suppliers.head()\n",
        "df_suppliers.isnull().sum()"
      ]
    },
    {
      "cell_type": "code",
      "execution_count": 12,
      "metadata": {
        "gather": {
          "logged": 1657408633415
        },
        "jupyter": {
          "outputs_hidden": false,
          "source_hidden": false
        },
        "nteract": {
          "transient": {
            "deleting": false
          }
        }
      },
      "outputs": [
        {
          "data": {
            "text/plain": [
              "ocid          0\n",
              "release_id    0\n",
              "award_id      0\n",
              "id            0\n",
              "name          0\n",
              "dtype: int64"
            ]
          },
          "execution_count": 12,
          "metadata": {},
          "output_type": "execute_result"
        }
      ],
      "source": [
        "df_suppliers.dropna(inplace=True)\n",
        "df_suppliers.isnull().sum()"
      ]
    },
    {
      "cell_type": "code",
      "execution_count": 13,
      "metadata": {
        "gather": {
          "logged": 1657408636360
        }
      },
      "outputs": [
        {
          "name": "stderr",
          "output_type": "stream",
          "text": [
            "/anaconda/envs/azureml_py38/lib/python3.8/site-packages/IPython/core/interactiveshell.py:3134: DtypeWarning: Columns (12,13,14,15,16,18,19,20,22,23,24,25,26) have mixed types.Specify dtype option on import or set low_memory=False.\n",
            "  has_raised = await self.run_ast_nodes(code_ast.body, cell_name,\n"
          ]
        },
        {
          "data": {
            "text/plain": [
              "ocid                                 0\n",
              "release_id                           0\n",
              "id                                   0\n",
              "title                                0\n",
              "description                          1\n",
              "status                               0\n",
              "procuringEntity_id                  54\n",
              "procuringEntity_name                54\n",
              "value_amount                     19048\n",
              "value_currency                   19048\n",
              "procurementMethod                    0\n",
              "procurementMethodDetails             0\n",
              "mainProcurementCategory         123757\n",
              "awardCriteria                   123757\n",
              "tenderPeriod_startDate          123757\n",
              "tenderPeriod_endDate            145778\n",
              "tenderPeriod_maxExtentDate      145778\n",
              "tenderPeriod_durationInDays     146107\n",
              "enquiryPeriod_startDate         123757\n",
              "enquiryPeriod_endDate           129772\n",
              "enquiryPeriod_maxExtentDate     129772\n",
              "enquiryPeriod_durationInDays    130583\n",
              "hasEnquiries                    136645\n",
              "eligibilityCriteria             142805\n",
              "awardPeriod_startDate           141465\n",
              "awardPeriod_endDate             123757\n",
              "awardPeriod_maxExtentDate       123757\n",
              "awardPeriod_durationInDays      142361\n",
              "numberOfTenderers               124031\n",
              "dtype: int64"
            ]
          },
          "execution_count": 13,
          "metadata": {},
          "output_type": "execute_result"
        }
      ],
      "source": [
        "df_tender = pd.read_csv(\"../data/tender_2021.csv\")\n",
        "df_tender.head()\n",
        "df_tender.isnull().sum()"
      ]
    },
    {
      "cell_type": "code",
      "execution_count": 14,
      "metadata": {
        "gather": {
          "logged": 1657408636567
        },
        "jupyter": {
          "outputs_hidden": false,
          "source_hidden": false
        },
        "nteract": {
          "transient": {
            "deleting": false
          }
        }
      },
      "outputs": [
        {
          "data": {
            "text/plain": [
              "ocid                            0\n",
              "release_id                      0\n",
              "id                              0\n",
              "title                           0\n",
              "description                     1\n",
              "status                          0\n",
              "procuringEntity_id             54\n",
              "procuringEntity_name           54\n",
              "value_amount                19048\n",
              "value_currency              19048\n",
              "procurementMethod               0\n",
              "procurementMethodDetails        0\n",
              "dtype: int64"
            ]
          },
          "execution_count": 14,
          "metadata": {},
          "output_type": "execute_result"
        }
      ],
      "source": [
        "df_tender = df_tender[[\"ocid\", \"release_id\", \"id\", \"title\", \"description\", \"status\", \"procuringEntity_id\", \"procuringEntity_name\", \"value_amount\", \"value_currency\", \"procurementMethod\", \"procurementMethodDetails\"]]\n",
        "df_tender.isnull().sum()"
      ]
    },
    {
      "cell_type": "code",
      "execution_count": 15,
      "metadata": {
        "gather": {
          "logged": 1657408636758
        }
      },
      "outputs": [],
      "source": [
        "def unir(df_general, df_unir, r_sufix):\n",
        "    return df_general.merge(df_unir, how=\"right\", left_on=\"ocid\", right_on=\"ocid\", suffixes=(\"\", r_sufix))"
      ]
    },
    {
      "cell_type": "code",
      "execution_count": 16,
      "metadata": {
        "gather": {
          "logged": 1657408700576
        }
      },
      "outputs": [
        {
          "data": {
            "text/html": [
              "<div>\n",
              "<style scoped>\n",
              "    .dataframe tbody tr th:only-of-type {\n",
              "        vertical-align: middle;\n",
              "    }\n",
              "\n",
              "    .dataframe tbody tr th {\n",
              "        vertical-align: top;\n",
              "    }\n",
              "\n",
              "    .dataframe thead th {\n",
              "        text-align: right;\n",
              "    }\n",
              "</style>\n",
              "<table border=\"1\" class=\"dataframe\">\n",
              "  <thead>\n",
              "    <tr style=\"text-align: right;\">\n",
              "      <th></th>\n",
              "      <th>ocid</th>\n",
              "      <th>id</th>\n",
              "      <th>initiationType</th>\n",
              "      <th>buyer_id</th>\n",
              "      <th>buyer_name</th>\n",
              "      <th>language</th>\n",
              "      <th>date</th>\n",
              "      <th>tag</th>\n",
              "      <th>release_id</th>\n",
              "      <th>id_tender</th>\n",
              "      <th>...</th>\n",
              "      <th>release_id_awards</th>\n",
              "      <th>id_awards</th>\n",
              "      <th>status_awards</th>\n",
              "      <th>amount</th>\n",
              "      <th>currency</th>\n",
              "      <th>id_planning</th>\n",
              "      <th>rationale</th>\n",
              "      <th>budget_id</th>\n",
              "      <th>budget_amount</th>\n",
              "      <th>budget_currency</th>\n",
              "    </tr>\n",
              "  </thead>\n",
              "  <tbody>\n",
              "    <tr>\n",
              "      <th>0</th>\n",
              "      <td>ocds-5wno2w-MCBS-DNA-003-2021-178618</td>\n",
              "      <td>MCBS-DNA-003-2021-178618-2022-05-04T11:41:39.8...</td>\n",
              "      <td>tender</td>\n",
              "      <td>EC-RUC-1768040760001-178618</td>\n",
              "      <td>DIRECCION NACIONAL DE ANTINARCOTICOS</td>\n",
              "      <td>es</td>\n",
              "      <td>2022-05-04T06:51:47-05:00</td>\n",
              "      <td>[\"planning\",\"tender\",\"award\",\"contract\"]</td>\n",
              "      <td>MCBS-DNA-003-2021-178618-2022-05-04T11:41:39.8...</td>\n",
              "      <td>MCBS-DNA-003-2021-178618</td>\n",
              "      <td>...</td>\n",
              "      <td>MCBS-DNA-003-2021-178618-2022-05-04T11:41:39.8...</td>\n",
              "      <td>4726509-MCBS-DNA-003-2021</td>\n",
              "      <td>NaN</td>\n",
              "      <td>24706.08</td>\n",
              "      <td>USD</td>\n",
              "      <td>MCBS-DNA-003-2021-178618-2022-05-04T11:41:39.8...</td>\n",
              "      <td>SERVICIO DE MANTENIMIENTO PREVENTIVO Y CORRECT...</td>\n",
              "      <td>2021.052.0003.0000.01.00.000.001.000.1701.5304...</td>\n",
              "      <td>24706.08</td>\n",
              "      <td>USD</td>\n",
              "    </tr>\n",
              "    <tr>\n",
              "      <th>1</th>\n",
              "      <td>ocds-5wno2w-MCO-GADPP-7-2021-2426</td>\n",
              "      <td>NaN</td>\n",
              "      <td>NaN</td>\n",
              "      <td>NaN</td>\n",
              "      <td>NaN</td>\n",
              "      <td>NaN</td>\n",
              "      <td>NaN</td>\n",
              "      <td>NaN</td>\n",
              "      <td>NaN</td>\n",
              "      <td>NaN</td>\n",
              "      <td>...</td>\n",
              "      <td>MCO-GADPP-7-2021-2426-2022-05-19T11:58:55.147Z...</td>\n",
              "      <td>5159820-MCO-GADPP-7-2021</td>\n",
              "      <td>NaN</td>\n",
              "      <td>147135.85</td>\n",
              "      <td>USD</td>\n",
              "      <td>MCO-GADPP-7-2021-2426-2022-05-19T11:58:55.147Z...</td>\n",
              "      <td>Construcción de Bordillo - Cuneta, para el mej...</td>\n",
              "      <td>03.22.06.044.002.2021.750105.002.17.01.78.D51....</td>\n",
              "      <td>147135.85</td>\n",
              "      <td>USD</td>\n",
              "    </tr>\n",
              "    <tr>\n",
              "      <th>2</th>\n",
              "      <td>ocds-5wno2w-LCC-GADMQ-001-2021-2453</td>\n",
              "      <td>LCC-GADMQ-001-2021-2453-2022-05-05T11:49:59.83...</td>\n",
              "      <td>tender</td>\n",
              "      <td>EC-RUC-1260000650001-2453</td>\n",
              "      <td>GOBIERNO AUTONOMO DESCENTRALIZADO MUNICIPAL DE...</td>\n",
              "      <td>es</td>\n",
              "      <td>2022-05-05T06:56:50-05:00</td>\n",
              "      <td>[\"planning\",\"tender\",\"award\",\"contract\"]</td>\n",
              "      <td>LCC-GADMQ-001-2021-2453-2022-05-05T11:49:59.83...</td>\n",
              "      <td>LCC-GADMQ-001-2021-2453</td>\n",
              "      <td>...</td>\n",
              "      <td>LCC-GADMQ-001-2021-2453-2022-05-05T11:49:59.83...</td>\n",
              "      <td>5031904-LCC-GADMQ-001-2021</td>\n",
              "      <td>NaN</td>\n",
              "      <td>258933.74</td>\n",
              "      <td>USD</td>\n",
              "      <td>LCC-GADMQ-001-2021-2453-2022-05-05T11:49:59.83...</td>\n",
              "      <td>FISCALIZACION DE LA CONSTRUCCION DEL PUENTE CA...</td>\n",
              "      <td>310750105A0000000000021</td>\n",
              "      <td>264218.10</td>\n",
              "      <td>USD</td>\n",
              "    </tr>\n",
              "    <tr>\n",
              "      <th>3</th>\n",
              "      <td>ocds-5wno2w-MCO-GADMCJS-029-2021-40430</td>\n",
              "      <td>NaN</td>\n",
              "      <td>NaN</td>\n",
              "      <td>NaN</td>\n",
              "      <td>NaN</td>\n",
              "      <td>NaN</td>\n",
              "      <td>NaN</td>\n",
              "      <td>NaN</td>\n",
              "      <td>NaN</td>\n",
              "      <td>NaN</td>\n",
              "      <td>...</td>\n",
              "      <td>MCO-GADMCJS-029-2021-40430-2022-05-05T11:53:55...</td>\n",
              "      <td>5310384-MCO-GADMCJS-029-2021</td>\n",
              "      <td>NaN</td>\n",
              "      <td>73664.04</td>\n",
              "      <td>USD</td>\n",
              "      <td>MCO-GADMCJS-029-2021-40430-2022-05-05T11:53:55...</td>\n",
              "      <td>CONSTRUCCIÓN DE UNIDADES BÁSICAS SANITARIAS UN...</td>\n",
              "      <td>3.3.1.7.5.01.01.38</td>\n",
              "      <td>73664.04</td>\n",
              "      <td>USD</td>\n",
              "    </tr>\n",
              "    <tr>\n",
              "      <th>4</th>\n",
              "      <td>ocds-5wno2w-CDC-GADMP-2021-008-45119</td>\n",
              "      <td>CDC-GADMP-2021-008-45119-2022-05-07T11:59:26.4...</td>\n",
              "      <td>tender</td>\n",
              "      <td>EC-RUC-0560000460001-45119</td>\n",
              "      <td>Municipio del Canton Pangua</td>\n",
              "      <td>es</td>\n",
              "      <td>2022-05-07T07:11:03-05:00</td>\n",
              "      <td>[\"planning\",\"tender\",\"award\",\"contract\",\"imple...</td>\n",
              "      <td>CDC-GADMP-2021-008-45119-2022-05-07T11:59:26.4...</td>\n",
              "      <td>CDC-GADMP-2021-008-45119</td>\n",
              "      <td>...</td>\n",
              "      <td>CDC-GADMP-2021-008-45119-2022-05-07T11:59:26.4...</td>\n",
              "      <td>5101416-CDC-GADMP-2021-008</td>\n",
              "      <td>NaN</td>\n",
              "      <td>2694.00</td>\n",
              "      <td>USD</td>\n",
              "      <td>CDC-GADMP-2021-008-45119-2022-05-07T11:59:26.4...</td>\n",
              "      <td>CONSULTORÍA PARA EL DIAGNÓSTICO, EVALUACIÓN DE...</td>\n",
              "      <td>3.2.0.7.3.06.01.33</td>\n",
              "      <td>2700.00</td>\n",
              "      <td>USD</td>\n",
              "    </tr>\n",
              "    <tr>\n",
              "      <th>...</th>\n",
              "      <td>...</td>\n",
              "      <td>...</td>\n",
              "      <td>...</td>\n",
              "      <td>...</td>\n",
              "      <td>...</td>\n",
              "      <td>...</td>\n",
              "      <td>...</td>\n",
              "      <td>...</td>\n",
              "      <td>...</td>\n",
              "      <td>...</td>\n",
              "      <td>...</td>\n",
              "      <td>...</td>\n",
              "      <td>...</td>\n",
              "      <td>...</td>\n",
              "      <td>...</td>\n",
              "      <td>...</td>\n",
              "      <td>...</td>\n",
              "      <td>...</td>\n",
              "      <td>...</td>\n",
              "      <td>...</td>\n",
              "      <td>...</td>\n",
              "    </tr>\n",
              "    <tr>\n",
              "      <th>26808792</th>\n",
              "      <td>ocds-5wno2w-REOALC-GADMANTA01-21-2668</td>\n",
              "      <td>REOALC-GADMANTA01-21-2668-2022-04-30T12:21:31....</td>\n",
              "      <td>tender</td>\n",
              "      <td>EC-RUC-1360000980001-2668</td>\n",
              "      <td>GOBIERNO AUTONOMO DESCENTRALIZADO MUNICIPAL DE...</td>\n",
              "      <td>es</td>\n",
              "      <td>2022-04-30T07:28:18-05:00</td>\n",
              "      <td>[\"planning\",\"tender\",\"award\",\"contract\"]</td>\n",
              "      <td>REOALC-GADMANTA01-21-2668-2022-04-30T12:21:31....</td>\n",
              "      <td>REOALC-GADMANTA01-21-2668</td>\n",
              "      <td>...</td>\n",
              "      <td>REOALC-GADMANTA01-21-2668-2022-04-30T12:21:31....</td>\n",
              "      <td>5151471-REOALC-GADMANTA01-21</td>\n",
              "      <td>NaN</td>\n",
              "      <td>268000.00</td>\n",
              "      <td>USD</td>\n",
              "      <td>REOALC-GADMANTA01-21-2668-2022-04-30T12:21:31....</td>\n",
              "      <td>CONTRATACIÓN DEL SERVICIO DE ORGANIZACIÓN, PRO...</td>\n",
              "      <td>530205</td>\n",
              "      <td>268000.00</td>\n",
              "      <td>USD</td>\n",
              "    </tr>\n",
              "    <tr>\n",
              "      <th>26808793</th>\n",
              "      <td>ocds-5wno2w-MCBS-DNA-005-2021-178618</td>\n",
              "      <td>MCBS-DNA-005-2021-178618-2022-05-04T11:43:12.1...</td>\n",
              "      <td>tender</td>\n",
              "      <td>EC-RUC-1768040760001-178618</td>\n",
              "      <td>DIRECCION NACIONAL DE ANTINARCOTICOS</td>\n",
              "      <td>es</td>\n",
              "      <td>2022-05-04T06:51:47-05:00</td>\n",
              "      <td>[\"planning\",\"tender\",\"award\",\"contract\"]</td>\n",
              "      <td>MCBS-DNA-005-2021-178618-2022-05-04T11:43:12.1...</td>\n",
              "      <td>MCBS-DNA-005-2021-178618</td>\n",
              "      <td>...</td>\n",
              "      <td>MCBS-DNA-005-2021-178618-2022-05-04T11:43:12.1...</td>\n",
              "      <td>4862272-MCBS-DNA-005-2021</td>\n",
              "      <td>NaN</td>\n",
              "      <td>28823.77</td>\n",
              "      <td>USD</td>\n",
              "      <td>MCBS-DNA-005-2021-178618-2022-05-04T11:43:12.1...</td>\n",
              "      <td>SERVICIO DE MANTENIMIENTO PREVENTIVO Y CORRECT...</td>\n",
              "      <td>2021.052.0003.0000.01.00.000.001.000.1701.5304...</td>\n",
              "      <td>28823.77</td>\n",
              "      <td>USD</td>\n",
              "    </tr>\n",
              "    <tr>\n",
              "      <th>26808794</th>\n",
              "      <td>ocds-5wno2w-MCS-CCFFAA-002-ABR21-2539</td>\n",
              "      <td>MCS-CCFFAA-002-ABR21-2539-2022-05-04T11:36:54....</td>\n",
              "      <td>tender</td>\n",
              "      <td>EC-RUC-1768012630001-2539</td>\n",
              "      <td>COMANDO CONJUNTO</td>\n",
              "      <td>es</td>\n",
              "      <td>2022-05-04T06:51:48-05:00</td>\n",
              "      <td>[\"planning\",\"tender\",\"award\",\"contract\",\"imple...</td>\n",
              "      <td>MCS-CCFFAA-002-ABR21-2539-2022-05-04T11:36:54....</td>\n",
              "      <td>MCS-CCFFAA-002-ABR21-2539</td>\n",
              "      <td>...</td>\n",
              "      <td>MCS-CCFFAA-002-ABR21-2539-2022-05-04T11:36:54....</td>\n",
              "      <td>4744578-MCS-CCFFAA-002-ABR21</td>\n",
              "      <td>NaN</td>\n",
              "      <td>7589.29</td>\n",
              "      <td>USD</td>\n",
              "      <td>MCS-CCFFAA-002-ABR21-2539-2022-05-04T11:36:54....</td>\n",
              "      <td>CONTRATACIÓN DE UNA AGENCIA DE VIAJES PARA LA ...</td>\n",
              "      <td>2021.070.4999.0000.01.00.000.001.000.1701.5303...</td>\n",
              "      <td>7589.29</td>\n",
              "      <td>USD</td>\n",
              "    </tr>\n",
              "    <tr>\n",
              "      <th>26808795</th>\n",
              "      <td>ocds-5wno2w-RE-GADMCN-17-21-LRG-67188</td>\n",
              "      <td>RE-GADMCN-17-21-LRG-67188-2022-05-04T11:48:52....</td>\n",
              "      <td>tender</td>\n",
              "      <td>EC-RUC-0968532700001-67188</td>\n",
              "      <td>GOBIERNO AUTONOMO DESCENTRALIZADO MUNICIPAL DE...</td>\n",
              "      <td>es</td>\n",
              "      <td>2022-05-04T06:51:48-05:00</td>\n",
              "      <td>[\"planning\",\"tender\",\"award\",\"contract\"]</td>\n",
              "      <td>RE-GADMCN-17-21-LRG-67188-2022-05-04T11:48:52....</td>\n",
              "      <td>RE-GADMCN-17-21-LRG-67188</td>\n",
              "      <td>...</td>\n",
              "      <td>RE-GADMCN-17-21-LRG-67188-2022-05-04T11:48:52....</td>\n",
              "      <td>5302403-RE-GADMCN-17-21-LRG</td>\n",
              "      <td>NaN</td>\n",
              "      <td>30590.89</td>\n",
              "      <td>USD</td>\n",
              "      <td>RE-GADMCN-17-21-LRG-67188-2022-05-04T11:48:52....</td>\n",
              "      <td>PRESTACIÓN DE SERVICIOS DE INSPECCIÓN Y MANTEN...</td>\n",
              "      <td>730404.3613</td>\n",
              "      <td>30590.89</td>\n",
              "      <td>USD</td>\n",
              "    </tr>\n",
              "    <tr>\n",
              "      <th>26808796</th>\n",
              "      <td>ocds-5wno2w-RE-HGADPCH-039-2021-2583</td>\n",
              "      <td>RE-HGADPCH-039-2021-2583-2022-05-04T11:39:57.9...</td>\n",
              "      <td>tender</td>\n",
              "      <td>EC-RUC-0660000280001-2583</td>\n",
              "      <td>HONORABLE GOBIERNO AUTONOMO DESCENTRALIZADO DE...</td>\n",
              "      <td>es</td>\n",
              "      <td>2022-05-04T06:51:48-05:00</td>\n",
              "      <td>[\"planning\",\"tender\",\"award\",\"contract\",\"imple...</td>\n",
              "      <td>RE-HGADPCH-039-2021-2583-2022-05-04T11:39:57.9...</td>\n",
              "      <td>RE-HGADPCH-039-2021-2583</td>\n",
              "      <td>...</td>\n",
              "      <td>RE-HGADPCH-039-2021-2583-2022-05-04T11:39:57.9...</td>\n",
              "      <td>5099697-RE-HGADPCH-039-2021</td>\n",
              "      <td>NaN</td>\n",
              "      <td>148474.03</td>\n",
              "      <td>USD</td>\n",
              "      <td>RE-HGADPCH-039-2021-2583-2022-05-04T11:39:57.9...</td>\n",
              "      <td>CONTRATACIÓN DEL SERVICIO DE DIFUSIÓN, ELABORA...</td>\n",
              "      <td>730207</td>\n",
              "      <td>148474.03</td>\n",
              "      <td>USD</td>\n",
              "    </tr>\n",
              "  </tbody>\n",
              "</table>\n",
              "<p>26808797 rows × 37 columns</p>\n",
              "</div>"
            ],
            "text/plain": [
              "                                            ocid  \\\n",
              "0           ocds-5wno2w-MCBS-DNA-003-2021-178618   \n",
              "1              ocds-5wno2w-MCO-GADPP-7-2021-2426   \n",
              "2            ocds-5wno2w-LCC-GADMQ-001-2021-2453   \n",
              "3         ocds-5wno2w-MCO-GADMCJS-029-2021-40430   \n",
              "4           ocds-5wno2w-CDC-GADMP-2021-008-45119   \n",
              "...                                          ...   \n",
              "26808792   ocds-5wno2w-REOALC-GADMANTA01-21-2668   \n",
              "26808793    ocds-5wno2w-MCBS-DNA-005-2021-178618   \n",
              "26808794   ocds-5wno2w-MCS-CCFFAA-002-ABR21-2539   \n",
              "26808795   ocds-5wno2w-RE-GADMCN-17-21-LRG-67188   \n",
              "26808796    ocds-5wno2w-RE-HGADPCH-039-2021-2583   \n",
              "\n",
              "                                                         id initiationType  \\\n",
              "0         MCBS-DNA-003-2021-178618-2022-05-04T11:41:39.8...         tender   \n",
              "1                                                       NaN            NaN   \n",
              "2         LCC-GADMQ-001-2021-2453-2022-05-05T11:49:59.83...         tender   \n",
              "3                                                       NaN            NaN   \n",
              "4         CDC-GADMP-2021-008-45119-2022-05-07T11:59:26.4...         tender   \n",
              "...                                                     ...            ...   \n",
              "26808792  REOALC-GADMANTA01-21-2668-2022-04-30T12:21:31....         tender   \n",
              "26808793  MCBS-DNA-005-2021-178618-2022-05-04T11:43:12.1...         tender   \n",
              "26808794  MCS-CCFFAA-002-ABR21-2539-2022-05-04T11:36:54....         tender   \n",
              "26808795  RE-GADMCN-17-21-LRG-67188-2022-05-04T11:48:52....         tender   \n",
              "26808796  RE-HGADPCH-039-2021-2583-2022-05-04T11:39:57.9...         tender   \n",
              "\n",
              "                             buyer_id  \\\n",
              "0         EC-RUC-1768040760001-178618   \n",
              "1                                 NaN   \n",
              "2           EC-RUC-1260000650001-2453   \n",
              "3                                 NaN   \n",
              "4          EC-RUC-0560000460001-45119   \n",
              "...                               ...   \n",
              "26808792    EC-RUC-1360000980001-2668   \n",
              "26808793  EC-RUC-1768040760001-178618   \n",
              "26808794    EC-RUC-1768012630001-2539   \n",
              "26808795   EC-RUC-0968532700001-67188   \n",
              "26808796    EC-RUC-0660000280001-2583   \n",
              "\n",
              "                                                 buyer_name language  \\\n",
              "0                      DIRECCION NACIONAL DE ANTINARCOTICOS       es   \n",
              "1                                                       NaN      NaN   \n",
              "2         GOBIERNO AUTONOMO DESCENTRALIZADO MUNICIPAL DE...       es   \n",
              "3                                                       NaN      NaN   \n",
              "4                               Municipio del Canton Pangua       es   \n",
              "...                                                     ...      ...   \n",
              "26808792  GOBIERNO AUTONOMO DESCENTRALIZADO MUNICIPAL DE...       es   \n",
              "26808793               DIRECCION NACIONAL DE ANTINARCOTICOS       es   \n",
              "26808794                                   COMANDO CONJUNTO       es   \n",
              "26808795  GOBIERNO AUTONOMO DESCENTRALIZADO MUNICIPAL DE...       es   \n",
              "26808796  HONORABLE GOBIERNO AUTONOMO DESCENTRALIZADO DE...       es   \n",
              "\n",
              "                               date  \\\n",
              "0         2022-05-04T06:51:47-05:00   \n",
              "1                               NaN   \n",
              "2         2022-05-05T06:56:50-05:00   \n",
              "3                               NaN   \n",
              "4         2022-05-07T07:11:03-05:00   \n",
              "...                             ...   \n",
              "26808792  2022-04-30T07:28:18-05:00   \n",
              "26808793  2022-05-04T06:51:47-05:00   \n",
              "26808794  2022-05-04T06:51:48-05:00   \n",
              "26808795  2022-05-04T06:51:48-05:00   \n",
              "26808796  2022-05-04T06:51:48-05:00   \n",
              "\n",
              "                                                        tag  \\\n",
              "0                  [\"planning\",\"tender\",\"award\",\"contract\"]   \n",
              "1                                                       NaN   \n",
              "2                  [\"planning\",\"tender\",\"award\",\"contract\"]   \n",
              "3                                                       NaN   \n",
              "4         [\"planning\",\"tender\",\"award\",\"contract\",\"imple...   \n",
              "...                                                     ...   \n",
              "26808792           [\"planning\",\"tender\",\"award\",\"contract\"]   \n",
              "26808793           [\"planning\",\"tender\",\"award\",\"contract\"]   \n",
              "26808794  [\"planning\",\"tender\",\"award\",\"contract\",\"imple...   \n",
              "26808795           [\"planning\",\"tender\",\"award\",\"contract\"]   \n",
              "26808796  [\"planning\",\"tender\",\"award\",\"contract\",\"imple...   \n",
              "\n",
              "                                                 release_id  \\\n",
              "0         MCBS-DNA-003-2021-178618-2022-05-04T11:41:39.8...   \n",
              "1                                                       NaN   \n",
              "2         LCC-GADMQ-001-2021-2453-2022-05-05T11:49:59.83...   \n",
              "3                                                       NaN   \n",
              "4         CDC-GADMP-2021-008-45119-2022-05-07T11:59:26.4...   \n",
              "...                                                     ...   \n",
              "26808792  REOALC-GADMANTA01-21-2668-2022-04-30T12:21:31....   \n",
              "26808793  MCBS-DNA-005-2021-178618-2022-05-04T11:43:12.1...   \n",
              "26808794  MCS-CCFFAA-002-ABR21-2539-2022-05-04T11:36:54....   \n",
              "26808795  RE-GADMCN-17-21-LRG-67188-2022-05-04T11:48:52....   \n",
              "26808796  RE-HGADPCH-039-2021-2583-2022-05-04T11:39:57.9...   \n",
              "\n",
              "                          id_tender  ...  \\\n",
              "0          MCBS-DNA-003-2021-178618  ...   \n",
              "1                               NaN  ...   \n",
              "2           LCC-GADMQ-001-2021-2453  ...   \n",
              "3                               NaN  ...   \n",
              "4          CDC-GADMP-2021-008-45119  ...   \n",
              "...                             ...  ...   \n",
              "26808792  REOALC-GADMANTA01-21-2668  ...   \n",
              "26808793   MCBS-DNA-005-2021-178618  ...   \n",
              "26808794  MCS-CCFFAA-002-ABR21-2539  ...   \n",
              "26808795  RE-GADMCN-17-21-LRG-67188  ...   \n",
              "26808796   RE-HGADPCH-039-2021-2583  ...   \n",
              "\n",
              "                                          release_id_awards  \\\n",
              "0         MCBS-DNA-003-2021-178618-2022-05-04T11:41:39.8...   \n",
              "1         MCO-GADPP-7-2021-2426-2022-05-19T11:58:55.147Z...   \n",
              "2         LCC-GADMQ-001-2021-2453-2022-05-05T11:49:59.83...   \n",
              "3         MCO-GADMCJS-029-2021-40430-2022-05-05T11:53:55...   \n",
              "4         CDC-GADMP-2021-008-45119-2022-05-07T11:59:26.4...   \n",
              "...                                                     ...   \n",
              "26808792  REOALC-GADMANTA01-21-2668-2022-04-30T12:21:31....   \n",
              "26808793  MCBS-DNA-005-2021-178618-2022-05-04T11:43:12.1...   \n",
              "26808794  MCS-CCFFAA-002-ABR21-2539-2022-05-04T11:36:54....   \n",
              "26808795  RE-GADMCN-17-21-LRG-67188-2022-05-04T11:48:52....   \n",
              "26808796  RE-HGADPCH-039-2021-2583-2022-05-04T11:39:57.9...   \n",
              "\n",
              "                             id_awards status_awards     amount currency  \\\n",
              "0            4726509-MCBS-DNA-003-2021           NaN   24706.08      USD   \n",
              "1             5159820-MCO-GADPP-7-2021           NaN  147135.85      USD   \n",
              "2           5031904-LCC-GADMQ-001-2021           NaN  258933.74      USD   \n",
              "3         5310384-MCO-GADMCJS-029-2021           NaN   73664.04      USD   \n",
              "4           5101416-CDC-GADMP-2021-008           NaN    2694.00      USD   \n",
              "...                                ...           ...        ...      ...   \n",
              "26808792  5151471-REOALC-GADMANTA01-21           NaN  268000.00      USD   \n",
              "26808793     4862272-MCBS-DNA-005-2021           NaN   28823.77      USD   \n",
              "26808794  4744578-MCS-CCFFAA-002-ABR21           NaN    7589.29      USD   \n",
              "26808795   5302403-RE-GADMCN-17-21-LRG           NaN   30590.89      USD   \n",
              "26808796   5099697-RE-HGADPCH-039-2021           NaN  148474.03      USD   \n",
              "\n",
              "                                                id_planning  \\\n",
              "0         MCBS-DNA-003-2021-178618-2022-05-04T11:41:39.8...   \n",
              "1         MCO-GADPP-7-2021-2426-2022-05-19T11:58:55.147Z...   \n",
              "2         LCC-GADMQ-001-2021-2453-2022-05-05T11:49:59.83...   \n",
              "3         MCO-GADMCJS-029-2021-40430-2022-05-05T11:53:55...   \n",
              "4         CDC-GADMP-2021-008-45119-2022-05-07T11:59:26.4...   \n",
              "...                                                     ...   \n",
              "26808792  REOALC-GADMANTA01-21-2668-2022-04-30T12:21:31....   \n",
              "26808793  MCBS-DNA-005-2021-178618-2022-05-04T11:43:12.1...   \n",
              "26808794  MCS-CCFFAA-002-ABR21-2539-2022-05-04T11:36:54....   \n",
              "26808795  RE-GADMCN-17-21-LRG-67188-2022-05-04T11:48:52....   \n",
              "26808796  RE-HGADPCH-039-2021-2583-2022-05-04T11:39:57.9...   \n",
              "\n",
              "                                                  rationale  \\\n",
              "0         SERVICIO DE MANTENIMIENTO PREVENTIVO Y CORRECT...   \n",
              "1         Construcción de Bordillo - Cuneta, para el mej...   \n",
              "2         FISCALIZACION DE LA CONSTRUCCION DEL PUENTE CA...   \n",
              "3         CONSTRUCCIÓN DE UNIDADES BÁSICAS SANITARIAS UN...   \n",
              "4         CONSULTORÍA PARA EL DIAGNÓSTICO, EVALUACIÓN DE...   \n",
              "...                                                     ...   \n",
              "26808792  CONTRATACIÓN DEL SERVICIO DE ORGANIZACIÓN, PRO...   \n",
              "26808793  SERVICIO DE MANTENIMIENTO PREVENTIVO Y CORRECT...   \n",
              "26808794  CONTRATACIÓN DE UNA AGENCIA DE VIAJES PARA LA ...   \n",
              "26808795  PRESTACIÓN DE SERVICIOS DE INSPECCIÓN Y MANTEN...   \n",
              "26808796  CONTRATACIÓN DEL SERVICIO DE DIFUSIÓN, ELABORA...   \n",
              "\n",
              "                                                  budget_id budget_amount  \\\n",
              "0         2021.052.0003.0000.01.00.000.001.000.1701.5304...      24706.08   \n",
              "1         03.22.06.044.002.2021.750105.002.17.01.78.D51....     147135.85   \n",
              "2                                   310750105A0000000000021     264218.10   \n",
              "3                                        3.3.1.7.5.01.01.38      73664.04   \n",
              "4                                        3.2.0.7.3.06.01.33       2700.00   \n",
              "...                                                     ...           ...   \n",
              "26808792                                             530205     268000.00   \n",
              "26808793  2021.052.0003.0000.01.00.000.001.000.1701.5304...      28823.77   \n",
              "26808794  2021.070.4999.0000.01.00.000.001.000.1701.5303...       7589.29   \n",
              "26808795                                        730404.3613      30590.89   \n",
              "26808796                                             730207     148474.03   \n",
              "\n",
              "         budget_currency  \n",
              "0                    USD  \n",
              "1                    USD  \n",
              "2                    USD  \n",
              "3                    USD  \n",
              "4                    USD  \n",
              "...                  ...  \n",
              "26808792             USD  \n",
              "26808793             USD  \n",
              "26808794             USD  \n",
              "26808795             USD  \n",
              "26808796             USD  \n",
              "\n",
              "[26808797 rows x 37 columns]"
            ]
          },
          "execution_count": 16,
          "metadata": {},
          "output_type": "execute_result"
        }
      ],
      "source": [
        "df = unir(df_releases, df_tender, \"_tender\")\n",
        "df = unir(df, df_suppliers, \"_supplier\")\n",
        "df = unir(df, df_contracts, \"_contracts\")\n",
        "df = unir(df, df_awards, \"_awards\")\n",
        "df = unir(df, df_planning, \"_planning\")\n",
        "df"
      ]
    },
    {
      "cell_type": "code",
      "execution_count": 17,
      "metadata": {
        "gather": {
          "logged": 1657408719862
        },
        "jupyter": {
          "outputs_hidden": false,
          "source_hidden": false
        },
        "nteract": {
          "transient": {
            "deleting": false
          }
        }
      },
      "outputs": [],
      "source": [
        "df.drop(columns=[\"release_id\", \"release_id_awards\", \"release_id_supplier\", \"release_id_contracts\", \"release_id_awards\", \"id_planning\", \"budget_currency\", \"budget_amount\", \"budget_currency\", \"id_planning\", \"awardID\", \"award_id\", \"id_tender\", \"rationale\", \"buyer_id\", \"buyer_name\"], inplace=True)"
      ]
    },
    {
      "cell_type": "code",
      "execution_count": 18,
      "metadata": {
        "gather": {
          "logged": 1657408739929
        },
        "jupyter": {
          "outputs_hidden": false,
          "source_hidden": false
        },
        "nteract": {
          "transient": {
            "deleting": false
          }
        }
      },
      "outputs": [
        {
          "data": {
            "text/plain": [
              "ocid                               0\n",
              "id                              9226\n",
              "initiationType                  9226\n",
              "language                        9226\n",
              "date                            9226\n",
              "tag                             9226\n",
              "title                           9226\n",
              "description                     9226\n",
              "status                          9226\n",
              "procuringEntity_id              9226\n",
              "procuringEntity_name            9226\n",
              "value_amount                    9226\n",
              "value_currency                  9226\n",
              "procurementMethod               9226\n",
              "procurementMethodDetails        9226\n",
              "id_supplier                     9226\n",
              "name                            9226\n",
              "id_contracts                    9226\n",
              "status_contracts                9226\n",
              "id_awards                       1014\n",
              "status_awards               26808797\n",
              "amount                          1014\n",
              "currency                        1014\n",
              "budget_id                          0\n",
              "dtype: int64"
            ]
          },
          "execution_count": 18,
          "metadata": {},
          "output_type": "execute_result"
        }
      ],
      "source": [
        "df.isnull().sum()"
      ]
    },
    {
      "cell_type": "code",
      "execution_count": 19,
      "metadata": {
        "gather": {
          "logged": 1657408779378
        }
      },
      "outputs": [
        {
          "data": {
            "text/plain": [
              "26644140"
            ]
          },
          "execution_count": 19,
          "metadata": {},
          "output_type": "execute_result"
        }
      ],
      "source": [
        "df.duplicated().sum()"
      ]
    },
    {
      "cell_type": "code",
      "execution_count": 20,
      "metadata": {
        "gather": {
          "logged": 1657408779667
        }
      },
      "outputs": [
        {
          "data": {
            "text/plain": [
              "ocid                         object\n",
              "id                           object\n",
              "initiationType               object\n",
              "language                     object\n",
              "date                         object\n",
              "tag                          object\n",
              "title                        object\n",
              "description                  object\n",
              "status                       object\n",
              "procuringEntity_id           object\n",
              "procuringEntity_name         object\n",
              "value_amount                float64\n",
              "value_currency               object\n",
              "procurementMethod            object\n",
              "procurementMethodDetails     object\n",
              "id_supplier                  object\n",
              "name                         object\n",
              "id_contracts                 object\n",
              "status_contracts             object\n",
              "id_awards                    object\n",
              "status_awards                object\n",
              "amount                      float64\n",
              "currency                     object\n",
              "budget_id                    object\n",
              "dtype: object"
            ]
          },
          "execution_count": 20,
          "metadata": {},
          "output_type": "execute_result"
        }
      ],
      "source": [
        "df.dtypes"
      ]
    },
    {
      "cell_type": "code",
      "execution_count": 21,
      "metadata": {
        "gather": {
          "logged": 1657408781470
        }
      },
      "outputs": [
        {
          "data": {
            "text/plain": [
              "USD    26799571\n",
              "Name: value_currency, dtype: int64"
            ]
          },
          "execution_count": 21,
          "metadata": {},
          "output_type": "execute_result"
        }
      ],
      "source": [
        "df[\"value_currency\"].value_counts()"
      ]
    },
    {
      "cell_type": "code",
      "execution_count": 22,
      "metadata": {
        "gather": {
          "logged": 1657408782451
        }
      },
      "outputs": [],
      "source": [
        "df[\"value_currency\"].fillna(\"USD\",inplace= True)"
      ]
    },
    {
      "cell_type": "code",
      "execution_count": 23,
      "metadata": {
        "gather": {
          "logged": 1657408782637
        }
      },
      "outputs": [],
      "source": [
        "df[\"value_amount\"].fillna(df[\"value_amount\"].mean(),inplace= True)\n"
      ]
    },
    {
      "cell_type": "code",
      "execution_count": 24,
      "metadata": {
        "gather": {
          "logged": 1657408802470
        }
      },
      "outputs": [
        {
          "data": {
            "text/plain": [
              "ocid                               0\n",
              "id                              9226\n",
              "initiationType                  9226\n",
              "language                        9226\n",
              "date                            9226\n",
              "tag                             9226\n",
              "title                           9226\n",
              "description                     9226\n",
              "status                          9226\n",
              "procuringEntity_id              9226\n",
              "procuringEntity_name            9226\n",
              "value_amount                       0\n",
              "value_currency                     0\n",
              "procurementMethod               9226\n",
              "procurementMethodDetails        9226\n",
              "id_supplier                     9226\n",
              "name                            9226\n",
              "id_contracts                    9226\n",
              "status_contracts                9226\n",
              "id_awards                       1014\n",
              "status_awards               26808797\n",
              "amount                          1014\n",
              "currency                        1014\n",
              "budget_id                          0\n",
              "dtype: int64"
            ]
          },
          "execution_count": 24,
          "metadata": {},
          "output_type": "execute_result"
        }
      ],
      "source": [
        "df.isnull().sum()"
      ]
    },
    {
      "cell_type": "code",
      "execution_count": 25,
      "metadata": {
        "gather": {
          "logged": 1657408835077
        }
      },
      "outputs": [],
      "source": [
        "df.drop(columns=[\"status_awards\"], inplace=True)\n",
        "df.dropna(inplace=True)"
      ]
    },
    {
      "cell_type": "code",
      "execution_count": 26,
      "metadata": {
        "gather": {
          "logged": 1657408854145
        }
      },
      "outputs": [
        {
          "data": {
            "text/plain": [
              "ocid                        0\n",
              "id                          0\n",
              "initiationType              0\n",
              "language                    0\n",
              "date                        0\n",
              "tag                         0\n",
              "title                       0\n",
              "description                 0\n",
              "status                      0\n",
              "procuringEntity_id          0\n",
              "procuringEntity_name        0\n",
              "value_amount                0\n",
              "value_currency              0\n",
              "procurementMethod           0\n",
              "procurementMethodDetails    0\n",
              "id_supplier                 0\n",
              "name                        0\n",
              "id_contracts                0\n",
              "status_contracts            0\n",
              "id_awards                   0\n",
              "amount                      0\n",
              "currency                    0\n",
              "budget_id                   0\n",
              "dtype: int64"
            ]
          },
          "execution_count": 26,
          "metadata": {},
          "output_type": "execute_result"
        }
      ],
      "source": [
        "df.isnull().sum()"
      ]
    },
    {
      "cell_type": "code",
      "execution_count": 27,
      "metadata": {
        "gather": {
          "logged": 1657408903866
        },
        "jupyter": {
          "outputs_hidden": false,
          "source_hidden": false
        },
        "nteract": {
          "transient": {
            "deleting": false
          }
        }
      },
      "outputs": [],
      "source": [
        "df.drop_duplicates(inplace=True)"
      ]
    },
    {
      "cell_type": "code",
      "execution_count": 28,
      "metadata": {
        "gather": {
          "logged": 1657408904146
        },
        "jupyter": {
          "outputs_hidden": false,
          "source_hidden": false
        },
        "nteract": {
          "transient": {
            "deleting": false
          }
        }
      },
      "outputs": [
        {
          "data": {
            "text/plain": [
              "(155431, 23)"
            ]
          },
          "execution_count": 28,
          "metadata": {},
          "output_type": "execute_result"
        }
      ],
      "source": [
        "df.shape"
      ]
    },
    {
      "cell_type": "code",
      "execution_count": null,
      "metadata": {},
      "outputs": [],
      "source": [
        "provincias = pd.read_csv(\"../data/provinciasRUC.csv\")\n",
        "provincias"
      ]
    },
    {
      "cell_type": "code",
      "execution_count": null,
      "metadata": {},
      "outputs": [],
      "source": [
        "df['ruc']=df['id_supplier'].str.split('-').str[2]\n",
        "df['codigoProvincia']=df['ruc'].str[:2].astype(int)\n",
        "df = df.merge(provincias,left_on = \"codigoProvincia\", right_on=\"Codigo\", how=\"left\")\n",
        "#Si puedes elimina las columnas de codigoProvincia y Codigo.\n",
        "df"
      ]
    },
    {
      "cell_type": "code",
      "execution_count": 30,
      "metadata": {
        "gather": {
          "logged": 1657408921670
        },
        "jupyter": {
          "outputs_hidden": false,
          "source_hidden": false
        },
        "nteract": {
          "transient": {
            "deleting": false
          }
        }
      },
      "outputs": [],
      "source": [
        "df.to_csv(\"../data/dataset.csv\")"
      ]
    }
  ],
  "metadata": {
    "kernel_info": {
      "name": "python3"
    },
    "kernelspec": {
      "display_name": "Python 3 (ipykernel)",
      "language": "python",
      "name": "python3"
    },
    "language_info": {
      "codemirror_mode": {
        "name": "ipython",
        "version": 3
      },
      "file_extension": ".py",
      "mimetype": "text/x-python",
      "name": "python",
      "nbconvert_exporter": "python",
      "pygments_lexer": "ipython3",
      "version": "3.8.5"
    },
    "microsoft": {
      "host": {
        "AzureML": {
          "notebookHasBeenCompleted": true
        }
      }
    },
    "nteract": {
      "version": "nteract-front-end@1.0.0"
    },
    "vscode": {
      "interpreter": {
        "hash": "b95bd45029f467f5ffdb04a0dca108fe317981093d378cd9f566d3ace075d8db"
      }
    }
  },
  "nbformat": 4,
  "nbformat_minor": 2
}

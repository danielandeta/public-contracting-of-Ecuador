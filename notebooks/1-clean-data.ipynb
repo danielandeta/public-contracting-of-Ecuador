{
  "cells": [
    {
      "cell_type": "code",
      "source": [
        "import pandas as pd"
      ],
      "outputs": [],
      "execution_count": 1,
      "metadata": {
        "gather": {
          "logged": 1657408622488
        }
      }
    },
    {
      "cell_type": "code",
      "source": [
        "df_awards = pd.read_csv(\"../data/awards_2021.csv\")\n",
        "df_awards.head()\n",
        "df_awards.isnull().sum()"
      ],
      "outputs": [
        {
          "output_type": "stream",
          "name": "stderr",
          "text": "/anaconda/envs/azureml_py38/lib/python3.8/site-packages/IPython/core/interactiveshell.py:3134: DtypeWarning: Columns (4,6,13,14) have mixed types.Specify dtype option on import or set low_memory=False.\n  has_raised = await self.run_ast_nodes(code_ast.body, cell_name,\n"
        },
        {
          "output_type": "execute_result",
          "execution_count": 2,
          "data": {
            "text/plain": "ocid                                  0\nrelease_id                            0\nid                                    0\ntitle                            161869\ndescription                      123757\nstatus                            48559\ndate                             131407\namount                                3\ncurrency                              3\ncorrectedValue_amount            161869\ncorrectedValue_currency          161869\nenteredValue_amount              161869\nenteredValue_currency            161869\ncontractPeriod_startDate         155762\ncontractPeriod_endDate           155762\ncontractPeriod_maxExtentDate     161869\ncontractPeriod_durationInDays    155764\ndtype: int64"
          },
          "metadata": {}
        }
      ],
      "execution_count": 2,
      "metadata": {
        "gather": {
          "logged": 1657408624143
        }
      }
    },
    {
      "cell_type": "code",
      "source": [
        "df_awards.drop(columns=[\"title\", \"description\", \"date\", \"correctedValue_amount\", \"correctedValue_currency\", \"enteredValue_amount\", \"enteredValue_currency\", \"contractPeriod_startDate\", \"contractPeriod_endDate\", \"contractPeriod_maxExtentDate\", \"contractPeriod_durationInDays\"], inplace=True)\n",
        "df_awards.isnull().sum()"
      ],
      "outputs": [
        {
          "output_type": "execute_result",
          "execution_count": 3,
          "data": {
            "text/plain": "ocid              0\nrelease_id        0\nid                0\nstatus        48559\namount            3\ncurrency          3\ndtype: int64"
          },
          "metadata": {}
        }
      ],
      "execution_count": 3,
      "metadata": {
        "gather": {
          "logged": 1657408624340
        },
        "jupyter": {
          "outputs_hidden": false,
          "source_hidden": false
        },
        "nteract": {
          "transient": {
            "deleting": false
          }
        }
      }
    },
    {
      "cell_type": "code",
      "source": [
        "df_contracts = pd.read_csv(\"../data/contracts_2021.csv\")\n",
        "df_contracts.head()\n",
        "df_contracts.isnull().sum()\n"
      ],
      "outputs": [
        {
          "output_type": "execute_result",
          "execution_count": 4,
          "data": {
            "text/plain": "ocid                                  0\nrelease_id                            0\nid                                    0\nawardID                               0\ntitle                            151586\ndescription                      151586\nstatus                                0\ncontractPeriod_startDate         123757\ncontractPeriod_endDate           123757\ncontractPeriod_maxExtentDate     151586\ncontractPeriod_durationInDays    123761\namount                           123757\ncurrency                         123757\ndateSigned                       123757\ndtype: int64"
          },
          "metadata": {}
        }
      ],
      "execution_count": 4,
      "metadata": {
        "gather": {
          "logged": 1657408625956
        }
      }
    },
    {
      "cell_type": "code",
      "source": [
        "df_contracts.drop(columns=[\"title\", \"description\", \"contractPeriod_startDate\", \"contractPeriod_endDate\", \"contractPeriod_maxExtentDate\", \"contractPeriod_durationInDays\", \"amount\", \"currency\", \"dateSigned\"], inplace=True)\n",
        "df_contracts.isnull().sum()"
      ],
      "outputs": [
        {
          "output_type": "execute_result",
          "execution_count": 5,
          "data": {
            "text/plain": "ocid          0\nrelease_id    0\nid            0\nawardID       0\nstatus        0\ndtype: int64"
          },
          "metadata": {}
        }
      ],
      "execution_count": 5,
      "metadata": {
        "gather": {
          "logged": 1657408626317
        },
        "jupyter": {
          "outputs_hidden": false,
          "source_hidden": false
        },
        "nteract": {
          "transient": {
            "deleting": false
          }
        }
      }
    },
    {
      "cell_type": "code",
      "source": [
        "df_extensions = pd.read_csv(\"../data/extensions_2021.csv\")\n",
        "df_extensions.head()"
      ],
      "outputs": [
        {
          "output_type": "execute_result",
          "execution_count": 6,
          "data": {
            "text/plain": "                                           extension\n0  https://raw.githubusercontent.com/open-contrac...\n1  https://raw.githubusercontent.com/open-contrac...\n2  https://raw.githubusercontent.com/open-contrac...\n3  https://raw.githubusercontent.com/GobiernoFaci...\n4  https://gitlab.com/dncp-opendata/ocds_auctions...",
            "text/html": "<div>\n<style scoped>\n    .dataframe tbody tr th:only-of-type {\n        vertical-align: middle;\n    }\n\n    .dataframe tbody tr th {\n        vertical-align: top;\n    }\n\n    .dataframe thead th {\n        text-align: right;\n    }\n</style>\n<table border=\"1\" class=\"dataframe\">\n  <thead>\n    <tr style=\"text-align: right;\">\n      <th></th>\n      <th>extension</th>\n    </tr>\n  </thead>\n  <tbody>\n    <tr>\n      <th>0</th>\n      <td>https://raw.githubusercontent.com/open-contrac...</td>\n    </tr>\n    <tr>\n      <th>1</th>\n      <td>https://raw.githubusercontent.com/open-contrac...</td>\n    </tr>\n    <tr>\n      <th>2</th>\n      <td>https://raw.githubusercontent.com/open-contrac...</td>\n    </tr>\n    <tr>\n      <th>3</th>\n      <td>https://raw.githubusercontent.com/GobiernoFaci...</td>\n    </tr>\n    <tr>\n      <th>4</th>\n      <td>https://gitlab.com/dncp-opendata/ocds_auctions...</td>\n    </tr>\n  </tbody>\n</table>\n</div>"
          },
          "metadata": {}
        }
      ],
      "execution_count": 6,
      "metadata": {
        "gather": {
          "logged": 1657408627445
        }
      }
    },
    {
      "cell_type": "code",
      "source": [
        "df_metadata = pd.read_csv(\"../data/metadata_2021.csv\")\n",
        "df_metadata.head()"
      ],
      "outputs": [
        {
          "output_type": "execute_result",
          "execution_count": 7,
          "data": {
            "text/plain": "                                                 Uri  Version  \\\n0  https://portal.compraspublicas.gob.ec/sercop/d...      1.1   \n\n                                       PublisherName PublisherScheme  \\\n0  Servicio Nacional de Contratación Pública (SER...            OCDS   \n\n  PublisherUid                        PublisherUri  \\\n0  ocds-5wno2w  https://www.compraspublicas.gob.ec   \n\n                                           License  \\\n0  https://creativecommons.org/licenses/by/3.0/ec/   \n\n                                   PublicationPolicy             PublishedDate  \n0  https://datosabiertos.compraspublicas.gob.ec/P...  2022-06-22T12:48:52.215Z  ",
            "text/html": "<div>\n<style scoped>\n    .dataframe tbody tr th:only-of-type {\n        vertical-align: middle;\n    }\n\n    .dataframe tbody tr th {\n        vertical-align: top;\n    }\n\n    .dataframe thead th {\n        text-align: right;\n    }\n</style>\n<table border=\"1\" class=\"dataframe\">\n  <thead>\n    <tr style=\"text-align: right;\">\n      <th></th>\n      <th>Uri</th>\n      <th>Version</th>\n      <th>PublisherName</th>\n      <th>PublisherScheme</th>\n      <th>PublisherUid</th>\n      <th>PublisherUri</th>\n      <th>License</th>\n      <th>PublicationPolicy</th>\n      <th>PublishedDate</th>\n    </tr>\n  </thead>\n  <tbody>\n    <tr>\n      <th>0</th>\n      <td>https://portal.compraspublicas.gob.ec/sercop/d...</td>\n      <td>1.1</td>\n      <td>Servicio Nacional de Contratación Pública (SER...</td>\n      <td>OCDS</td>\n      <td>ocds-5wno2w</td>\n      <td>https://www.compraspublicas.gob.ec</td>\n      <td>https://creativecommons.org/licenses/by/3.0/ec/</td>\n      <td>https://datosabiertos.compraspublicas.gob.ec/P...</td>\n      <td>2022-06-22T12:48:52.215Z</td>\n    </tr>\n  </tbody>\n</table>\n</div>"
          },
          "metadata": {}
        }
      ],
      "execution_count": 7,
      "metadata": {
        "gather": {
          "logged": 1657408628281
        }
      }
    },
    {
      "cell_type": "code",
      "source": [
        "df_planning = pd.read_csv(\"../data/planning_2021.csv\")\n",
        "df_planning.head()\n",
        "df_planning.isnull().sum()"
      ],
      "outputs": [
        {
          "output_type": "execute_result",
          "execution_count": 8,
          "data": {
            "text/plain": "ocid                      0\nid                        0\nrationale                 1\nbudget_id                 0\nbudget_description    38202\nbudget_amount         19740\nbudget_currency       19740\ndtype: int64"
          },
          "metadata": {}
        }
      ],
      "execution_count": 8,
      "metadata": {
        "gather": {
          "logged": 1657408629506
        }
      }
    },
    {
      "cell_type": "code",
      "source": [
        "df_planning.drop(columns=[\"budget_description\"], inplace=True)\n",
        "df_planning.dropna(subset=[\"budget_amount\", \"budget_currency\"], how=\"all\", inplace=True)\n",
        "df_planning.isnull().sum()"
      ],
      "outputs": [
        {
          "output_type": "execute_result",
          "execution_count": 9,
          "data": {
            "text/plain": "ocid               0\nid                 0\nrationale          0\nbudget_id          0\nbudget_amount      0\nbudget_currency    0\ndtype: int64"
          },
          "metadata": {}
        }
      ],
      "execution_count": 9,
      "metadata": {
        "gather": {
          "logged": 1657408630239
        },
        "jupyter": {
          "outputs_hidden": false,
          "source_hidden": false
        },
        "nteract": {
          "transient": {
            "deleting": false
          }
        }
      }
    },
    {
      "cell_type": "code",
      "source": [
        "df_releases = pd.read_csv(\"../data/releases_2021.csv\")\n",
        "df_releases.head()\n",
        "df_releases.isnull().sum()"
      ],
      "outputs": [
        {
          "output_type": "execute_result",
          "execution_count": 10,
          "data": {
            "text/plain": "ocid              0\nid                0\ninitiationType    0\nbuyer_id          0\nbuyer_name        0\nlanguage          0\ndate              0\ntag               0\ndtype: int64"
          },
          "metadata": {}
        }
      ],
      "execution_count": 10,
      "metadata": {
        "gather": {
          "logged": 1657408632010
        }
      }
    },
    {
      "cell_type": "code",
      "source": [
        "df_suppliers = pd.read_csv(\"../data/suppliers_2021.csv\")\n",
        "df_suppliers.head()\n",
        "df_suppliers.isnull().sum()"
      ],
      "outputs": [
        {
          "output_type": "execute_result",
          "execution_count": 11,
          "data": {
            "text/plain": "ocid           0\nrelease_id     0\naward_id       0\nid             0\nname          16\ndtype: int64"
          },
          "metadata": {}
        }
      ],
      "execution_count": 11,
      "metadata": {
        "gather": {
          "logged": 1657408633085
        }
      }
    },
    {
      "cell_type": "code",
      "source": [
        "df_suppliers.dropna(inplace=True)\n",
        "df_suppliers.isnull().sum()"
      ],
      "outputs": [
        {
          "output_type": "execute_result",
          "execution_count": 12,
          "data": {
            "text/plain": "ocid          0\nrelease_id    0\naward_id      0\nid            0\nname          0\ndtype: int64"
          },
          "metadata": {}
        }
      ],
      "execution_count": 12,
      "metadata": {
        "gather": {
          "logged": 1657408633415
        },
        "jupyter": {
          "outputs_hidden": false,
          "source_hidden": false
        },
        "nteract": {
          "transient": {
            "deleting": false
          }
        }
      }
    },
    {
      "cell_type": "code",
      "source": [
        "df_tender = pd.read_csv(\"../data/tender_2021.csv\")\n",
        "df_tender.head()\n",
        "df_tender.isnull().sum()"
      ],
      "outputs": [
        {
          "output_type": "stream",
          "name": "stderr",
          "text": "/anaconda/envs/azureml_py38/lib/python3.8/site-packages/IPython/core/interactiveshell.py:3134: DtypeWarning: Columns (12,13,14,15,16,18,19,20,22,23,24,25,26) have mixed types.Specify dtype option on import or set low_memory=False.\n  has_raised = await self.run_ast_nodes(code_ast.body, cell_name,\n"
        },
        {
          "output_type": "execute_result",
          "execution_count": 13,
          "data": {
            "text/plain": "ocid                                 0\nrelease_id                           0\nid                                   0\ntitle                                0\ndescription                          1\nstatus                               0\nprocuringEntity_id                  54\nprocuringEntity_name                54\nvalue_amount                     19048\nvalue_currency                   19048\nprocurementMethod                    0\nprocurementMethodDetails             0\nmainProcurementCategory         123757\nawardCriteria                   123757\ntenderPeriod_startDate          123757\ntenderPeriod_endDate            145778\ntenderPeriod_maxExtentDate      145778\ntenderPeriod_durationInDays     146107\nenquiryPeriod_startDate         123757\nenquiryPeriod_endDate           129772\nenquiryPeriod_maxExtentDate     129772\nenquiryPeriod_durationInDays    130583\nhasEnquiries                    136645\neligibilityCriteria             142805\nawardPeriod_startDate           141465\nawardPeriod_endDate             123757\nawardPeriod_maxExtentDate       123757\nawardPeriod_durationInDays      142361\nnumberOfTenderers               124031\ndtype: int64"
          },
          "metadata": {}
        }
      ],
      "execution_count": 13,
      "metadata": {
        "gather": {
          "logged": 1657408636360
        }
      }
    },
    {
      "cell_type": "code",
      "source": [
        "df_tender = df_tender[[\"ocid\", \"release_id\", \"id\", \"title\", \"description\", \"status\", \"procuringEntity_id\", \"procuringEntity_name\", \"value_amount\", \"value_currency\", \"procurementMethod\", \"procurementMethodDetails\"]]\n",
        "df_tender.isnull().sum()"
      ],
      "outputs": [
        {
          "output_type": "execute_result",
          "execution_count": 14,
          "data": {
            "text/plain": "ocid                            0\nrelease_id                      0\nid                              0\ntitle                           0\ndescription                     1\nstatus                          0\nprocuringEntity_id             54\nprocuringEntity_name           54\nvalue_amount                19048\nvalue_currency              19048\nprocurementMethod               0\nprocurementMethodDetails        0\ndtype: int64"
          },
          "metadata": {}
        }
      ],
      "execution_count": 14,
      "metadata": {
        "gather": {
          "logged": 1657408636567
        },
        "jupyter": {
          "outputs_hidden": false,
          "source_hidden": false
        },
        "nteract": {
          "transient": {
            "deleting": false
          }
        }
      }
    },
    {
      "cell_type": "code",
      "source": [
        "def unir(df_general, df_unir, r_sufix):\n",
        "    return df_general.merge(df_unir, how=\"right\", left_on=\"ocid\", right_on=\"ocid\", suffixes=(\"\", r_sufix))"
      ],
      "outputs": [],
      "execution_count": 15,
      "metadata": {
        "gather": {
          "logged": 1657408636758
        }
      }
    },
    {
      "cell_type": "code",
      "source": [
        "df = unir(df_releases, df_tender, \"_tender\")\n",
        "df = unir(df, df_suppliers, \"_supplier\")\n",
        "df = unir(df, df_contracts, \"_contracts\")\n",
        "df = unir(df, df_awards, \"_awards\")\n",
        "df = unir(df, df_planning, \"_planning\")\n",
        "df"
      ],
      "outputs": [
        {
          "output_type": "execute_result",
          "execution_count": 16,
          "data": {
            "text/plain": "                                            ocid  \\\n0           ocds-5wno2w-MCBS-DNA-003-2021-178618   \n1              ocds-5wno2w-MCO-GADPP-7-2021-2426   \n2            ocds-5wno2w-LCC-GADMQ-001-2021-2453   \n3         ocds-5wno2w-MCO-GADMCJS-029-2021-40430   \n4           ocds-5wno2w-CDC-GADMP-2021-008-45119   \n...                                          ...   \n26808792   ocds-5wno2w-REOALC-GADMANTA01-21-2668   \n26808793    ocds-5wno2w-MCBS-DNA-005-2021-178618   \n26808794   ocds-5wno2w-MCS-CCFFAA-002-ABR21-2539   \n26808795   ocds-5wno2w-RE-GADMCN-17-21-LRG-67188   \n26808796    ocds-5wno2w-RE-HGADPCH-039-2021-2583   \n\n                                                         id initiationType  \\\n0         MCBS-DNA-003-2021-178618-2022-05-04T11:41:39.8...         tender   \n1                                                       NaN            NaN   \n2         LCC-GADMQ-001-2021-2453-2022-05-05T11:49:59.83...         tender   \n3                                                       NaN            NaN   \n4         CDC-GADMP-2021-008-45119-2022-05-07T11:59:26.4...         tender   \n...                                                     ...            ...   \n26808792  REOALC-GADMANTA01-21-2668-2022-04-30T12:21:31....         tender   \n26808793  MCBS-DNA-005-2021-178618-2022-05-04T11:43:12.1...         tender   \n26808794  MCS-CCFFAA-002-ABR21-2539-2022-05-04T11:36:54....         tender   \n26808795  RE-GADMCN-17-21-LRG-67188-2022-05-04T11:48:52....         tender   \n26808796  RE-HGADPCH-039-2021-2583-2022-05-04T11:39:57.9...         tender   \n\n                             buyer_id  \\\n0         EC-RUC-1768040760001-178618   \n1                                 NaN   \n2           EC-RUC-1260000650001-2453   \n3                                 NaN   \n4          EC-RUC-0560000460001-45119   \n...                               ...   \n26808792    EC-RUC-1360000980001-2668   \n26808793  EC-RUC-1768040760001-178618   \n26808794    EC-RUC-1768012630001-2539   \n26808795   EC-RUC-0968532700001-67188   \n26808796    EC-RUC-0660000280001-2583   \n\n                                                 buyer_name language  \\\n0                      DIRECCION NACIONAL DE ANTINARCOTICOS       es   \n1                                                       NaN      NaN   \n2         GOBIERNO AUTONOMO DESCENTRALIZADO MUNICIPAL DE...       es   \n3                                                       NaN      NaN   \n4                               Municipio del Canton Pangua       es   \n...                                                     ...      ...   \n26808792  GOBIERNO AUTONOMO DESCENTRALIZADO MUNICIPAL DE...       es   \n26808793               DIRECCION NACIONAL DE ANTINARCOTICOS       es   \n26808794                                   COMANDO CONJUNTO       es   \n26808795  GOBIERNO AUTONOMO DESCENTRALIZADO MUNICIPAL DE...       es   \n26808796  HONORABLE GOBIERNO AUTONOMO DESCENTRALIZADO DE...       es   \n\n                               date  \\\n0         2022-05-04T06:51:47-05:00   \n1                               NaN   \n2         2022-05-05T06:56:50-05:00   \n3                               NaN   \n4         2022-05-07T07:11:03-05:00   \n...                             ...   \n26808792  2022-04-30T07:28:18-05:00   \n26808793  2022-05-04T06:51:47-05:00   \n26808794  2022-05-04T06:51:48-05:00   \n26808795  2022-05-04T06:51:48-05:00   \n26808796  2022-05-04T06:51:48-05:00   \n\n                                                        tag  \\\n0                  [\"planning\",\"tender\",\"award\",\"contract\"]   \n1                                                       NaN   \n2                  [\"planning\",\"tender\",\"award\",\"contract\"]   \n3                                                       NaN   \n4         [\"planning\",\"tender\",\"award\",\"contract\",\"imple...   \n...                                                     ...   \n26808792           [\"planning\",\"tender\",\"award\",\"contract\"]   \n26808793           [\"planning\",\"tender\",\"award\",\"contract\"]   \n26808794  [\"planning\",\"tender\",\"award\",\"contract\",\"imple...   \n26808795           [\"planning\",\"tender\",\"award\",\"contract\"]   \n26808796  [\"planning\",\"tender\",\"award\",\"contract\",\"imple...   \n\n                                                 release_id  \\\n0         MCBS-DNA-003-2021-178618-2022-05-04T11:41:39.8...   \n1                                                       NaN   \n2         LCC-GADMQ-001-2021-2453-2022-05-05T11:49:59.83...   \n3                                                       NaN   \n4         CDC-GADMP-2021-008-45119-2022-05-07T11:59:26.4...   \n...                                                     ...   \n26808792  REOALC-GADMANTA01-21-2668-2022-04-30T12:21:31....   \n26808793  MCBS-DNA-005-2021-178618-2022-05-04T11:43:12.1...   \n26808794  MCS-CCFFAA-002-ABR21-2539-2022-05-04T11:36:54....   \n26808795  RE-GADMCN-17-21-LRG-67188-2022-05-04T11:48:52....   \n26808796  RE-HGADPCH-039-2021-2583-2022-05-04T11:39:57.9...   \n\n                          id_tender  ...  \\\n0          MCBS-DNA-003-2021-178618  ...   \n1                               NaN  ...   \n2           LCC-GADMQ-001-2021-2453  ...   \n3                               NaN  ...   \n4          CDC-GADMP-2021-008-45119  ...   \n...                             ...  ...   \n26808792  REOALC-GADMANTA01-21-2668  ...   \n26808793   MCBS-DNA-005-2021-178618  ...   \n26808794  MCS-CCFFAA-002-ABR21-2539  ...   \n26808795  RE-GADMCN-17-21-LRG-67188  ...   \n26808796   RE-HGADPCH-039-2021-2583  ...   \n\n                                          release_id_awards  \\\n0         MCBS-DNA-003-2021-178618-2022-05-04T11:41:39.8...   \n1         MCO-GADPP-7-2021-2426-2022-05-19T11:58:55.147Z...   \n2         LCC-GADMQ-001-2021-2453-2022-05-05T11:49:59.83...   \n3         MCO-GADMCJS-029-2021-40430-2022-05-05T11:53:55...   \n4         CDC-GADMP-2021-008-45119-2022-05-07T11:59:26.4...   \n...                                                     ...   \n26808792  REOALC-GADMANTA01-21-2668-2022-04-30T12:21:31....   \n26808793  MCBS-DNA-005-2021-178618-2022-05-04T11:43:12.1...   \n26808794  MCS-CCFFAA-002-ABR21-2539-2022-05-04T11:36:54....   \n26808795  RE-GADMCN-17-21-LRG-67188-2022-05-04T11:48:52....   \n26808796  RE-HGADPCH-039-2021-2583-2022-05-04T11:39:57.9...   \n\n                             id_awards status_awards     amount currency  \\\n0            4726509-MCBS-DNA-003-2021           NaN   24706.08      USD   \n1             5159820-MCO-GADPP-7-2021           NaN  147135.85      USD   \n2           5031904-LCC-GADMQ-001-2021           NaN  258933.74      USD   \n3         5310384-MCO-GADMCJS-029-2021           NaN   73664.04      USD   \n4           5101416-CDC-GADMP-2021-008           NaN    2694.00      USD   \n...                                ...           ...        ...      ...   \n26808792  5151471-REOALC-GADMANTA01-21           NaN  268000.00      USD   \n26808793     4862272-MCBS-DNA-005-2021           NaN   28823.77      USD   \n26808794  4744578-MCS-CCFFAA-002-ABR21           NaN    7589.29      USD   \n26808795   5302403-RE-GADMCN-17-21-LRG           NaN   30590.89      USD   \n26808796   5099697-RE-HGADPCH-039-2021           NaN  148474.03      USD   \n\n                                                id_planning  \\\n0         MCBS-DNA-003-2021-178618-2022-05-04T11:41:39.8...   \n1         MCO-GADPP-7-2021-2426-2022-05-19T11:58:55.147Z...   \n2         LCC-GADMQ-001-2021-2453-2022-05-05T11:49:59.83...   \n3         MCO-GADMCJS-029-2021-40430-2022-05-05T11:53:55...   \n4         CDC-GADMP-2021-008-45119-2022-05-07T11:59:26.4...   \n...                                                     ...   \n26808792  REOALC-GADMANTA01-21-2668-2022-04-30T12:21:31....   \n26808793  MCBS-DNA-005-2021-178618-2022-05-04T11:43:12.1...   \n26808794  MCS-CCFFAA-002-ABR21-2539-2022-05-04T11:36:54....   \n26808795  RE-GADMCN-17-21-LRG-67188-2022-05-04T11:48:52....   \n26808796  RE-HGADPCH-039-2021-2583-2022-05-04T11:39:57.9...   \n\n                                                  rationale  \\\n0         SERVICIO DE MANTENIMIENTO PREVENTIVO Y CORRECT...   \n1         Construcción de Bordillo - Cuneta, para el mej...   \n2         FISCALIZACION DE LA CONSTRUCCION DEL PUENTE CA...   \n3         CONSTRUCCIÓN DE UNIDADES BÁSICAS SANITARIAS UN...   \n4         CONSULTORÍA PARA EL DIAGNÓSTICO, EVALUACIÓN DE...   \n...                                                     ...   \n26808792  CONTRATACIÓN DEL SERVICIO DE ORGANIZACIÓN, PRO...   \n26808793  SERVICIO DE MANTENIMIENTO PREVENTIVO Y CORRECT...   \n26808794  CONTRATACIÓN DE UNA AGENCIA DE VIAJES PARA LA ...   \n26808795  PRESTACIÓN DE SERVICIOS DE INSPECCIÓN Y MANTEN...   \n26808796  CONTRATACIÓN DEL SERVICIO DE DIFUSIÓN, ELABORA...   \n\n                                                  budget_id budget_amount  \\\n0         2021.052.0003.0000.01.00.000.001.000.1701.5304...      24706.08   \n1         03.22.06.044.002.2021.750105.002.17.01.78.D51....     147135.85   \n2                                   310750105A0000000000021     264218.10   \n3                                        3.3.1.7.5.01.01.38      73664.04   \n4                                        3.2.0.7.3.06.01.33       2700.00   \n...                                                     ...           ...   \n26808792                                             530205     268000.00   \n26808793  2021.052.0003.0000.01.00.000.001.000.1701.5304...      28823.77   \n26808794  2021.070.4999.0000.01.00.000.001.000.1701.5303...       7589.29   \n26808795                                        730404.3613      30590.89   \n26808796                                             730207     148474.03   \n\n         budget_currency  \n0                    USD  \n1                    USD  \n2                    USD  \n3                    USD  \n4                    USD  \n...                  ...  \n26808792             USD  \n26808793             USD  \n26808794             USD  \n26808795             USD  \n26808796             USD  \n\n[26808797 rows x 37 columns]",
            "text/html": "<div>\n<style scoped>\n    .dataframe tbody tr th:only-of-type {\n        vertical-align: middle;\n    }\n\n    .dataframe tbody tr th {\n        vertical-align: top;\n    }\n\n    .dataframe thead th {\n        text-align: right;\n    }\n</style>\n<table border=\"1\" class=\"dataframe\">\n  <thead>\n    <tr style=\"text-align: right;\">\n      <th></th>\n      <th>ocid</th>\n      <th>id</th>\n      <th>initiationType</th>\n      <th>buyer_id</th>\n      <th>buyer_name</th>\n      <th>language</th>\n      <th>date</th>\n      <th>tag</th>\n      <th>release_id</th>\n      <th>id_tender</th>\n      <th>...</th>\n      <th>release_id_awards</th>\n      <th>id_awards</th>\n      <th>status_awards</th>\n      <th>amount</th>\n      <th>currency</th>\n      <th>id_planning</th>\n      <th>rationale</th>\n      <th>budget_id</th>\n      <th>budget_amount</th>\n      <th>budget_currency</th>\n    </tr>\n  </thead>\n  <tbody>\n    <tr>\n      <th>0</th>\n      <td>ocds-5wno2w-MCBS-DNA-003-2021-178618</td>\n      <td>MCBS-DNA-003-2021-178618-2022-05-04T11:41:39.8...</td>\n      <td>tender</td>\n      <td>EC-RUC-1768040760001-178618</td>\n      <td>DIRECCION NACIONAL DE ANTINARCOTICOS</td>\n      <td>es</td>\n      <td>2022-05-04T06:51:47-05:00</td>\n      <td>[\"planning\",\"tender\",\"award\",\"contract\"]</td>\n      <td>MCBS-DNA-003-2021-178618-2022-05-04T11:41:39.8...</td>\n      <td>MCBS-DNA-003-2021-178618</td>\n      <td>...</td>\n      <td>MCBS-DNA-003-2021-178618-2022-05-04T11:41:39.8...</td>\n      <td>4726509-MCBS-DNA-003-2021</td>\n      <td>NaN</td>\n      <td>24706.08</td>\n      <td>USD</td>\n      <td>MCBS-DNA-003-2021-178618-2022-05-04T11:41:39.8...</td>\n      <td>SERVICIO DE MANTENIMIENTO PREVENTIVO Y CORRECT...</td>\n      <td>2021.052.0003.0000.01.00.000.001.000.1701.5304...</td>\n      <td>24706.08</td>\n      <td>USD</td>\n    </tr>\n    <tr>\n      <th>1</th>\n      <td>ocds-5wno2w-MCO-GADPP-7-2021-2426</td>\n      <td>NaN</td>\n      <td>NaN</td>\n      <td>NaN</td>\n      <td>NaN</td>\n      <td>NaN</td>\n      <td>NaN</td>\n      <td>NaN</td>\n      <td>NaN</td>\n      <td>NaN</td>\n      <td>...</td>\n      <td>MCO-GADPP-7-2021-2426-2022-05-19T11:58:55.147Z...</td>\n      <td>5159820-MCO-GADPP-7-2021</td>\n      <td>NaN</td>\n      <td>147135.85</td>\n      <td>USD</td>\n      <td>MCO-GADPP-7-2021-2426-2022-05-19T11:58:55.147Z...</td>\n      <td>Construcción de Bordillo - Cuneta, para el mej...</td>\n      <td>03.22.06.044.002.2021.750105.002.17.01.78.D51....</td>\n      <td>147135.85</td>\n      <td>USD</td>\n    </tr>\n    <tr>\n      <th>2</th>\n      <td>ocds-5wno2w-LCC-GADMQ-001-2021-2453</td>\n      <td>LCC-GADMQ-001-2021-2453-2022-05-05T11:49:59.83...</td>\n      <td>tender</td>\n      <td>EC-RUC-1260000650001-2453</td>\n      <td>GOBIERNO AUTONOMO DESCENTRALIZADO MUNICIPAL DE...</td>\n      <td>es</td>\n      <td>2022-05-05T06:56:50-05:00</td>\n      <td>[\"planning\",\"tender\",\"award\",\"contract\"]</td>\n      <td>LCC-GADMQ-001-2021-2453-2022-05-05T11:49:59.83...</td>\n      <td>LCC-GADMQ-001-2021-2453</td>\n      <td>...</td>\n      <td>LCC-GADMQ-001-2021-2453-2022-05-05T11:49:59.83...</td>\n      <td>5031904-LCC-GADMQ-001-2021</td>\n      <td>NaN</td>\n      <td>258933.74</td>\n      <td>USD</td>\n      <td>LCC-GADMQ-001-2021-2453-2022-05-05T11:49:59.83...</td>\n      <td>FISCALIZACION DE LA CONSTRUCCION DEL PUENTE CA...</td>\n      <td>310750105A0000000000021</td>\n      <td>264218.10</td>\n      <td>USD</td>\n    </tr>\n    <tr>\n      <th>3</th>\n      <td>ocds-5wno2w-MCO-GADMCJS-029-2021-40430</td>\n      <td>NaN</td>\n      <td>NaN</td>\n      <td>NaN</td>\n      <td>NaN</td>\n      <td>NaN</td>\n      <td>NaN</td>\n      <td>NaN</td>\n      <td>NaN</td>\n      <td>NaN</td>\n      <td>...</td>\n      <td>MCO-GADMCJS-029-2021-40430-2022-05-05T11:53:55...</td>\n      <td>5310384-MCO-GADMCJS-029-2021</td>\n      <td>NaN</td>\n      <td>73664.04</td>\n      <td>USD</td>\n      <td>MCO-GADMCJS-029-2021-40430-2022-05-05T11:53:55...</td>\n      <td>CONSTRUCCIÓN DE UNIDADES BÁSICAS SANITARIAS UN...</td>\n      <td>3.3.1.7.5.01.01.38</td>\n      <td>73664.04</td>\n      <td>USD</td>\n    </tr>\n    <tr>\n      <th>4</th>\n      <td>ocds-5wno2w-CDC-GADMP-2021-008-45119</td>\n      <td>CDC-GADMP-2021-008-45119-2022-05-07T11:59:26.4...</td>\n      <td>tender</td>\n      <td>EC-RUC-0560000460001-45119</td>\n      <td>Municipio del Canton Pangua</td>\n      <td>es</td>\n      <td>2022-05-07T07:11:03-05:00</td>\n      <td>[\"planning\",\"tender\",\"award\",\"contract\",\"imple...</td>\n      <td>CDC-GADMP-2021-008-45119-2022-05-07T11:59:26.4...</td>\n      <td>CDC-GADMP-2021-008-45119</td>\n      <td>...</td>\n      <td>CDC-GADMP-2021-008-45119-2022-05-07T11:59:26.4...</td>\n      <td>5101416-CDC-GADMP-2021-008</td>\n      <td>NaN</td>\n      <td>2694.00</td>\n      <td>USD</td>\n      <td>CDC-GADMP-2021-008-45119-2022-05-07T11:59:26.4...</td>\n      <td>CONSULTORÍA PARA EL DIAGNÓSTICO, EVALUACIÓN DE...</td>\n      <td>3.2.0.7.3.06.01.33</td>\n      <td>2700.00</td>\n      <td>USD</td>\n    </tr>\n    <tr>\n      <th>...</th>\n      <td>...</td>\n      <td>...</td>\n      <td>...</td>\n      <td>...</td>\n      <td>...</td>\n      <td>...</td>\n      <td>...</td>\n      <td>...</td>\n      <td>...</td>\n      <td>...</td>\n      <td>...</td>\n      <td>...</td>\n      <td>...</td>\n      <td>...</td>\n      <td>...</td>\n      <td>...</td>\n      <td>...</td>\n      <td>...</td>\n      <td>...</td>\n      <td>...</td>\n      <td>...</td>\n    </tr>\n    <tr>\n      <th>26808792</th>\n      <td>ocds-5wno2w-REOALC-GADMANTA01-21-2668</td>\n      <td>REOALC-GADMANTA01-21-2668-2022-04-30T12:21:31....</td>\n      <td>tender</td>\n      <td>EC-RUC-1360000980001-2668</td>\n      <td>GOBIERNO AUTONOMO DESCENTRALIZADO MUNICIPAL DE...</td>\n      <td>es</td>\n      <td>2022-04-30T07:28:18-05:00</td>\n      <td>[\"planning\",\"tender\",\"award\",\"contract\"]</td>\n      <td>REOALC-GADMANTA01-21-2668-2022-04-30T12:21:31....</td>\n      <td>REOALC-GADMANTA01-21-2668</td>\n      <td>...</td>\n      <td>REOALC-GADMANTA01-21-2668-2022-04-30T12:21:31....</td>\n      <td>5151471-REOALC-GADMANTA01-21</td>\n      <td>NaN</td>\n      <td>268000.00</td>\n      <td>USD</td>\n      <td>REOALC-GADMANTA01-21-2668-2022-04-30T12:21:31....</td>\n      <td>CONTRATACIÓN DEL SERVICIO DE ORGANIZACIÓN, PRO...</td>\n      <td>530205</td>\n      <td>268000.00</td>\n      <td>USD</td>\n    </tr>\n    <tr>\n      <th>26808793</th>\n      <td>ocds-5wno2w-MCBS-DNA-005-2021-178618</td>\n      <td>MCBS-DNA-005-2021-178618-2022-05-04T11:43:12.1...</td>\n      <td>tender</td>\n      <td>EC-RUC-1768040760001-178618</td>\n      <td>DIRECCION NACIONAL DE ANTINARCOTICOS</td>\n      <td>es</td>\n      <td>2022-05-04T06:51:47-05:00</td>\n      <td>[\"planning\",\"tender\",\"award\",\"contract\"]</td>\n      <td>MCBS-DNA-005-2021-178618-2022-05-04T11:43:12.1...</td>\n      <td>MCBS-DNA-005-2021-178618</td>\n      <td>...</td>\n      <td>MCBS-DNA-005-2021-178618-2022-05-04T11:43:12.1...</td>\n      <td>4862272-MCBS-DNA-005-2021</td>\n      <td>NaN</td>\n      <td>28823.77</td>\n      <td>USD</td>\n      <td>MCBS-DNA-005-2021-178618-2022-05-04T11:43:12.1...</td>\n      <td>SERVICIO DE MANTENIMIENTO PREVENTIVO Y CORRECT...</td>\n      <td>2021.052.0003.0000.01.00.000.001.000.1701.5304...</td>\n      <td>28823.77</td>\n      <td>USD</td>\n    </tr>\n    <tr>\n      <th>26808794</th>\n      <td>ocds-5wno2w-MCS-CCFFAA-002-ABR21-2539</td>\n      <td>MCS-CCFFAA-002-ABR21-2539-2022-05-04T11:36:54....</td>\n      <td>tender</td>\n      <td>EC-RUC-1768012630001-2539</td>\n      <td>COMANDO CONJUNTO</td>\n      <td>es</td>\n      <td>2022-05-04T06:51:48-05:00</td>\n      <td>[\"planning\",\"tender\",\"award\",\"contract\",\"imple...</td>\n      <td>MCS-CCFFAA-002-ABR21-2539-2022-05-04T11:36:54....</td>\n      <td>MCS-CCFFAA-002-ABR21-2539</td>\n      <td>...</td>\n      <td>MCS-CCFFAA-002-ABR21-2539-2022-05-04T11:36:54....</td>\n      <td>4744578-MCS-CCFFAA-002-ABR21</td>\n      <td>NaN</td>\n      <td>7589.29</td>\n      <td>USD</td>\n      <td>MCS-CCFFAA-002-ABR21-2539-2022-05-04T11:36:54....</td>\n      <td>CONTRATACIÓN DE UNA AGENCIA DE VIAJES PARA LA ...</td>\n      <td>2021.070.4999.0000.01.00.000.001.000.1701.5303...</td>\n      <td>7589.29</td>\n      <td>USD</td>\n    </tr>\n    <tr>\n      <th>26808795</th>\n      <td>ocds-5wno2w-RE-GADMCN-17-21-LRG-67188</td>\n      <td>RE-GADMCN-17-21-LRG-67188-2022-05-04T11:48:52....</td>\n      <td>tender</td>\n      <td>EC-RUC-0968532700001-67188</td>\n      <td>GOBIERNO AUTONOMO DESCENTRALIZADO MUNICIPAL DE...</td>\n      <td>es</td>\n      <td>2022-05-04T06:51:48-05:00</td>\n      <td>[\"planning\",\"tender\",\"award\",\"contract\"]</td>\n      <td>RE-GADMCN-17-21-LRG-67188-2022-05-04T11:48:52....</td>\n      <td>RE-GADMCN-17-21-LRG-67188</td>\n      <td>...</td>\n      <td>RE-GADMCN-17-21-LRG-67188-2022-05-04T11:48:52....</td>\n      <td>5302403-RE-GADMCN-17-21-LRG</td>\n      <td>NaN</td>\n      <td>30590.89</td>\n      <td>USD</td>\n      <td>RE-GADMCN-17-21-LRG-67188-2022-05-04T11:48:52....</td>\n      <td>PRESTACIÓN DE SERVICIOS DE INSPECCIÓN Y MANTEN...</td>\n      <td>730404.3613</td>\n      <td>30590.89</td>\n      <td>USD</td>\n    </tr>\n    <tr>\n      <th>26808796</th>\n      <td>ocds-5wno2w-RE-HGADPCH-039-2021-2583</td>\n      <td>RE-HGADPCH-039-2021-2583-2022-05-04T11:39:57.9...</td>\n      <td>tender</td>\n      <td>EC-RUC-0660000280001-2583</td>\n      <td>HONORABLE GOBIERNO AUTONOMO DESCENTRALIZADO DE...</td>\n      <td>es</td>\n      <td>2022-05-04T06:51:48-05:00</td>\n      <td>[\"planning\",\"tender\",\"award\",\"contract\",\"imple...</td>\n      <td>RE-HGADPCH-039-2021-2583-2022-05-04T11:39:57.9...</td>\n      <td>RE-HGADPCH-039-2021-2583</td>\n      <td>...</td>\n      <td>RE-HGADPCH-039-2021-2583-2022-05-04T11:39:57.9...</td>\n      <td>5099697-RE-HGADPCH-039-2021</td>\n      <td>NaN</td>\n      <td>148474.03</td>\n      <td>USD</td>\n      <td>RE-HGADPCH-039-2021-2583-2022-05-04T11:39:57.9...</td>\n      <td>CONTRATACIÓN DEL SERVICIO DE DIFUSIÓN, ELABORA...</td>\n      <td>730207</td>\n      <td>148474.03</td>\n      <td>USD</td>\n    </tr>\n  </tbody>\n</table>\n<p>26808797 rows × 37 columns</p>\n</div>"
          },
          "metadata": {}
        }
      ],
      "execution_count": 16,
      "metadata": {
        "gather": {
          "logged": 1657408700576
        }
      }
    },
    {
      "cell_type": "code",
      "source": [
        "df.drop(columns=[\"release_id\", \"release_id_awards\", \"release_id_supplier\", \"release_id_contracts\", \"release_id_awards\", \"id_planning\", \"budget_currency\", \"budget_amount\", \"budget_currency\", \"id_planning\", \"awardID\", \"award_id\", \"id_tender\", \"rationale\", \"buyer_id\", \"buyer_name\"], inplace=True)"
      ],
      "outputs": [],
      "execution_count": 17,
      "metadata": {
        "jupyter": {
          "source_hidden": false,
          "outputs_hidden": false
        },
        "nteract": {
          "transient": {
            "deleting": false
          }
        },
        "gather": {
          "logged": 1657408719862
        }
      }
    },
    {
      "cell_type": "code",
      "source": [
        "df.isnull().sum()"
      ],
      "outputs": [
        {
          "output_type": "execute_result",
          "execution_count": 18,
          "data": {
            "text/plain": "ocid                               0\nid                              9226\ninitiationType                  9226\nlanguage                        9226\ndate                            9226\ntag                             9226\ntitle                           9226\ndescription                     9226\nstatus                          9226\nprocuringEntity_id              9226\nprocuringEntity_name            9226\nvalue_amount                    9226\nvalue_currency                  9226\nprocurementMethod               9226\nprocurementMethodDetails        9226\nid_supplier                     9226\nname                            9226\nid_contracts                    9226\nstatus_contracts                9226\nid_awards                       1014\nstatus_awards               26808797\namount                          1014\ncurrency                        1014\nbudget_id                          0\ndtype: int64"
          },
          "metadata": {}
        }
      ],
      "execution_count": 18,
      "metadata": {
        "gather": {
          "logged": 1657408739929
        },
        "jupyter": {
          "outputs_hidden": false,
          "source_hidden": false
        },
        "nteract": {
          "transient": {
            "deleting": false
          }
        }
      }
    },
    {
      "cell_type": "code",
      "source": [
        "df.duplicated().sum()"
      ],
      "outputs": [
        {
          "output_type": "execute_result",
          "execution_count": 19,
          "data": {
            "text/plain": "26644140"
          },
          "metadata": {}
        }
      ],
      "execution_count": 19,
      "metadata": {
        "gather": {
          "logged": 1657408779378
        }
      }
    },
    {
      "cell_type": "code",
      "source": [
        "df.dtypes"
      ],
      "outputs": [
        {
          "output_type": "execute_result",
          "execution_count": 20,
          "data": {
            "text/plain": "ocid                         object\nid                           object\ninitiationType               object\nlanguage                     object\ndate                         object\ntag                          object\ntitle                        object\ndescription                  object\nstatus                       object\nprocuringEntity_id           object\nprocuringEntity_name         object\nvalue_amount                float64\nvalue_currency               object\nprocurementMethod            object\nprocurementMethodDetails     object\nid_supplier                  object\nname                         object\nid_contracts                 object\nstatus_contracts             object\nid_awards                    object\nstatus_awards                object\namount                      float64\ncurrency                     object\nbudget_id                    object\ndtype: object"
          },
          "metadata": {}
        }
      ],
      "execution_count": 20,
      "metadata": {
        "gather": {
          "logged": 1657408779667
        }
      }
    },
    {
      "cell_type": "code",
      "source": [
        "df[\"value_currency\"].value_counts()"
      ],
      "outputs": [
        {
          "output_type": "execute_result",
          "execution_count": 21,
          "data": {
            "text/plain": "USD    26799571\nName: value_currency, dtype: int64"
          },
          "metadata": {}
        }
      ],
      "execution_count": 21,
      "metadata": {
        "gather": {
          "logged": 1657408781470
        }
      }
    },
    {
      "cell_type": "code",
      "source": [
        "df[\"value_currency\"].fillna(\"USD\",inplace= True)"
      ],
      "outputs": [],
      "execution_count": 22,
      "metadata": {
        "gather": {
          "logged": 1657408782451
        }
      }
    },
    {
      "cell_type": "code",
      "source": [
        "df[\"value_amount\"].fillna(df[\"value_amount\"].mean(),inplace= True)\n"
      ],
      "outputs": [],
      "execution_count": 23,
      "metadata": {
        "gather": {
          "logged": 1657408782637
        }
      }
    },
    {
      "cell_type": "code",
      "source": [
        "df.isnull().sum()"
      ],
      "outputs": [
        {
          "output_type": "execute_result",
          "execution_count": 24,
          "data": {
            "text/plain": "ocid                               0\nid                              9226\ninitiationType                  9226\nlanguage                        9226\ndate                            9226\ntag                             9226\ntitle                           9226\ndescription                     9226\nstatus                          9226\nprocuringEntity_id              9226\nprocuringEntity_name            9226\nvalue_amount                       0\nvalue_currency                     0\nprocurementMethod               9226\nprocurementMethodDetails        9226\nid_supplier                     9226\nname                            9226\nid_contracts                    9226\nstatus_contracts                9226\nid_awards                       1014\nstatus_awards               26808797\namount                          1014\ncurrency                        1014\nbudget_id                          0\ndtype: int64"
          },
          "metadata": {}
        }
      ],
      "execution_count": 24,
      "metadata": {
        "gather": {
          "logged": 1657408802470
        }
      }
    },
    {
      "cell_type": "code",
      "source": [
        "df.drop(columns=[\"status_awards\"], inplace=True)\n",
        "df.dropna(inplace=True)"
      ],
      "outputs": [],
      "execution_count": 25,
      "metadata": {
        "gather": {
          "logged": 1657408835077
        }
      }
    },
    {
      "cell_type": "code",
      "source": [
        "df.isnull().sum()"
      ],
      "outputs": [
        {
          "output_type": "execute_result",
          "execution_count": 26,
          "data": {
            "text/plain": "ocid                        0\nid                          0\ninitiationType              0\nlanguage                    0\ndate                        0\ntag                         0\ntitle                       0\ndescription                 0\nstatus                      0\nprocuringEntity_id          0\nprocuringEntity_name        0\nvalue_amount                0\nvalue_currency              0\nprocurementMethod           0\nprocurementMethodDetails    0\nid_supplier                 0\nname                        0\nid_contracts                0\nstatus_contracts            0\nid_awards                   0\namount                      0\ncurrency                    0\nbudget_id                   0\ndtype: int64"
          },
          "metadata": {}
        }
      ],
      "execution_count": 26,
      "metadata": {
        "gather": {
          "logged": 1657408854145
        }
      }
    },
    {
      "cell_type": "code",
      "source": [
        "df.drop_duplicates(inplace=True)"
      ],
      "outputs": [],
      "execution_count": 27,
      "metadata": {
        "jupyter": {
          "source_hidden": false,
          "outputs_hidden": false
        },
        "nteract": {
          "transient": {
            "deleting": false
          }
        },
        "gather": {
          "logged": 1657408903866
        }
      }
    },
    {
      "cell_type": "code",
      "source": [
        "df.shape"
      ],
      "outputs": [
        {
          "output_type": "execute_result",
          "execution_count": 28,
          "data": {
            "text/plain": "(155431, 23)"
          },
          "metadata": {}
        }
      ],
      "execution_count": 28,
      "metadata": {
        "jupyter": {
          "source_hidden": false,
          "outputs_hidden": false
        },
        "nteract": {
          "transient": {
            "deleting": false
          }
        },
        "gather": {
          "logged": 1657408904146
        }
      }
    },
    {
      "cell_type": "code",
      "source": [
        "df.to_csv(\"../data/dataset.csv\")"
      ],
      "outputs": [],
      "execution_count": 30,
      "metadata": {
        "jupyter": {
          "source_hidden": false,
          "outputs_hidden": false
        },
        "nteract": {
          "transient": {
            "deleting": false
          }
        },
        "gather": {
          "logged": 1657408921670
        }
      }
    }
  ],
  "metadata": {
    "kernel_info": {
      "name": "python3"
    },
    "kernelspec": {
      "name": "python3",
      "language": "python",
      "display_name": "Python 3 (ipykernel)"
    },
    "language_info": {
      "name": "python",
      "version": "3.8.5",
      "mimetype": "text/x-python",
      "codemirror_mode": {
        "name": "ipython",
        "version": 3
      },
      "pygments_lexer": "ipython3",
      "nbconvert_exporter": "python",
      "file_extension": ".py"
    },
    "microsoft": {
      "host": {
        "AzureML": {
          "notebookHasBeenCompleted": true
        }
      }
    },
    "nteract": {
      "version": "nteract-front-end@1.0.0"
    },
    "vscode": {
      "interpreter": {
        "hash": "b95bd45029f467f5ffdb04a0dca108fe317981093d378cd9f566d3ace075d8db"
      }
    }
  },
  "nbformat": 4,
  "nbformat_minor": 2
}
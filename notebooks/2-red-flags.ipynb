{
 "cells": [
  {
   "cell_type": "code",
   "execution_count": 1,
   "metadata": {
    "gather": {
     "logged": 1657500088308
    }
   },
   "outputs": [],
   "source": [
    "import pandas as pd"
   ]
  },
  {
   "cell_type": "code",
   "execution_count": 2,
   "metadata": {
    "gather": {
     "logged": 1657500093798
    }
   },
   "outputs": [
    {
     "name": "stderr",
     "output_type": "stream",
     "text": [
      "/anaconda/envs/azureml_py38/lib/python3.8/site-packages/IPython/core/interactiveshell.py:3134: DtypeWarning: Columns (4,6,13,14) have mixed types.Specify dtype option on import or set low_memory=False.\n",
      "  has_raised = await self.run_ast_nodes(code_ast.body, cell_name,\n"
     ]
    },
    {
     "data": {
      "text/plain": [
       "ocid                                  0\n",
       "release_id                            0\n",
       "id                                    0\n",
       "title                            161869\n",
       "description                      123757\n",
       "status                            48559\n",
       "date                             131407\n",
       "amount                                3\n",
       "currency                              3\n",
       "correctedValue_amount            161869\n",
       "correctedValue_currency          161869\n",
       "enteredValue_amount              161869\n",
       "enteredValue_currency            161869\n",
       "contractPeriod_startDate         155762\n",
       "contractPeriod_endDate           155762\n",
       "contractPeriod_maxExtentDate     161869\n",
       "contractPeriod_durationInDays    155764\n",
       "dtype: int64"
      ]
     },
     "execution_count": 2,
     "metadata": {},
     "output_type": "execute_result"
    }
   ],
   "source": [
    "df_awards = pd.read_csv(\"awards_2021.csv\")\n",
    "df_awards.head()\n",
    "df_awards.isnull().sum()"
   ]
  },
  {
   "cell_type": "code",
   "execution_count": 3,
   "metadata": {
    "gather": {
     "logged": 1657500097585
    },
    "jupyter": {
     "outputs_hidden": false,
     "source_hidden": false
    },
    "nteract": {
     "transient": {
      "deleting": false
     }
    }
   },
   "outputs": [
    {
     "data": {
      "text/plain": [
       "ocid               0\n",
       "release_id         0\n",
       "id                 0\n",
       "status         48559\n",
       "date          131407\n",
       "amount             3\n",
       "currency           3\n",
       "dtype: int64"
      ]
     },
     "execution_count": 3,
     "metadata": {},
     "output_type": "execute_result"
    }
   ],
   "source": [
    "df_awards.drop(columns=[\"title\", \"description\",\"correctedValue_amount\", \"correctedValue_currency\", \"enteredValue_amount\", \"enteredValue_currency\", \"contractPeriod_startDate\", \"contractPeriod_endDate\", \"contractPeriod_maxExtentDate\", \"contractPeriod_durationInDays\"], inplace=True)\n",
    "df_awards.isnull().sum()"
   ]
  },
  {
   "cell_type": "code",
   "execution_count": 4,
   "metadata": {
    "gather": {
     "logged": 1657500101729
    }
   },
   "outputs": [
    {
     "data": {
      "text/plain": [
       "ocid                                  0\n",
       "release_id                            0\n",
       "id                                    0\n",
       "awardID                               0\n",
       "title                            151586\n",
       "description                      151586\n",
       "status                                0\n",
       "contractPeriod_startDate         123757\n",
       "contractPeriod_endDate           123757\n",
       "contractPeriod_maxExtentDate     151586\n",
       "contractPeriod_durationInDays    123761\n",
       "amount                           123757\n",
       "currency                         123757\n",
       "dateSigned                       123757\n",
       "dtype: int64"
      ]
     },
     "execution_count": 4,
     "metadata": {},
     "output_type": "execute_result"
    }
   ],
   "source": [
    "df_contracts = pd.read_csv(\"contracts_2021.csv\")\n",
    "df_contracts.head()\n",
    "df_contracts.isnull().sum()\n"
   ]
  },
  {
   "cell_type": "code",
   "execution_count": 5,
   "metadata": {
    "gather": {
     "logged": 1657500105344
    },
    "jupyter": {
     "outputs_hidden": false,
     "source_hidden": false
    },
    "nteract": {
     "transient": {
      "deleting": false
     }
    }
   },
   "outputs": [
    {
     "data": {
      "text/plain": [
       "ocid                                  0\n",
       "release_id                            0\n",
       "id                                    0\n",
       "awardID                               0\n",
       "status                                0\n",
       "contractPeriod_durationInDays    123761\n",
       "amount                           123757\n",
       "dateSigned                       123757\n",
       "dtype: int64"
      ]
     },
     "execution_count": 5,
     "metadata": {},
     "output_type": "execute_result"
    }
   ],
   "source": [
    "df_contracts.drop(columns=[\"title\", \"description\", \"contractPeriod_startDate\", \"contractPeriod_endDate\", \"contractPeriod_maxExtentDate\", \"currency\"], inplace=True)\n",
    "df_contracts.isnull().sum()"
   ]
  },
  {
   "cell_type": "code",
   "execution_count": 6,
   "metadata": {
    "gather": {
     "logged": 1657500109505
    }
   },
   "outputs": [
    {
     "data": {
      "text/plain": [
       "ocid                      0\n",
       "id                        0\n",
       "rationale                 1\n",
       "budget_id                 0\n",
       "budget_description    38202\n",
       "budget_amount         19740\n",
       "budget_currency       19740\n",
       "dtype: int64"
      ]
     },
     "execution_count": 6,
     "metadata": {},
     "output_type": "execute_result"
    }
   ],
   "source": [
    "df_planning = pd.read_csv(\"planning_2021.csv\")\n",
    "df_planning.head()\n",
    "df_planning.isnull().sum()"
   ]
  },
  {
   "cell_type": "code",
   "execution_count": 7,
   "metadata": {
    "gather": {
     "logged": 1657500112438
    },
    "jupyter": {
     "outputs_hidden": false,
     "source_hidden": false
    },
    "nteract": {
     "transient": {
      "deleting": false
     }
    }
   },
   "outputs": [
    {
     "data": {
      "text/plain": [
       "ocid               0\n",
       "id                 0\n",
       "rationale          0\n",
       "budget_id          0\n",
       "budget_amount      0\n",
       "budget_currency    0\n",
       "dtype: int64"
      ]
     },
     "execution_count": 7,
     "metadata": {},
     "output_type": "execute_result"
    }
   ],
   "source": [
    "df_planning.drop(columns=[\"budget_description\"], inplace=True)\n",
    "df_planning.dropna(subset=[\"budget_amount\", \"budget_currency\"], how=\"all\", inplace=True)\n",
    "df_planning.isnull().sum()"
   ]
  },
  {
   "cell_type": "code",
   "execution_count": 8,
   "metadata": {
    "gather": {
     "logged": 1657500116780
    }
   },
   "outputs": [
    {
     "data": {
      "text/plain": [
       "ocid              0\n",
       "id                0\n",
       "initiationType    0\n",
       "buyer_id          0\n",
       "buyer_name        0\n",
       "language          0\n",
       "date              0\n",
       "tag               0\n",
       "dtype: int64"
      ]
     },
     "execution_count": 8,
     "metadata": {},
     "output_type": "execute_result"
    }
   ],
   "source": [
    "df_releases = pd.read_csv(\"releases_2021.csv\")\n",
    "df_releases.head()\n",
    "df_releases.isnull().sum()"
   ]
  },
  {
   "cell_type": "code",
   "execution_count": 9,
   "metadata": {
    "gather": {
     "logged": 1657500120348
    }
   },
   "outputs": [
    {
     "data": {
      "text/plain": [
       "ocid           0\n",
       "release_id     0\n",
       "award_id       0\n",
       "id             0\n",
       "name          16\n",
       "dtype: int64"
      ]
     },
     "execution_count": 9,
     "metadata": {},
     "output_type": "execute_result"
    }
   ],
   "source": [
    "df_suppliers = pd.read_csv(\"suppliers_2021.csv\")\n",
    "df_suppliers.head()\n",
    "df_suppliers.isnull().sum()"
   ]
  },
  {
   "cell_type": "code",
   "execution_count": 10,
   "metadata": {
    "gather": {
     "logged": 1657500123863
    },
    "jupyter": {
     "outputs_hidden": false,
     "source_hidden": false
    },
    "nteract": {
     "transient": {
      "deleting": false
     }
    }
   },
   "outputs": [
    {
     "data": {
      "text/plain": [
       "ocid          0\n",
       "release_id    0\n",
       "award_id      0\n",
       "id            0\n",
       "name          0\n",
       "dtype: int64"
      ]
     },
     "execution_count": 10,
     "metadata": {},
     "output_type": "execute_result"
    }
   ],
   "source": [
    "df_suppliers.dropna(inplace=True)\n",
    "df_suppliers.isnull().sum()"
   ]
  },
  {
   "cell_type": "code",
   "execution_count": 11,
   "metadata": {
    "gather": {
     "logged": 1657500132342
    }
   },
   "outputs": [
    {
     "name": "stderr",
     "output_type": "stream",
     "text": [
      "/anaconda/envs/azureml_py38/lib/python3.8/site-packages/IPython/core/interactiveshell.py:3134: DtypeWarning: Columns (12,13,14,15,16,18,19,20,22,23,24,25,26) have mixed types.Specify dtype option on import or set low_memory=False.\n",
      "  has_raised = await self.run_ast_nodes(code_ast.body, cell_name,\n"
     ]
    },
    {
     "data": {
      "text/plain": [
       "ocid                                 0\n",
       "release_id                           0\n",
       "id                                   0\n",
       "title                                0\n",
       "description                          1\n",
       "status                               0\n",
       "procuringEntity_id                  54\n",
       "procuringEntity_name                54\n",
       "value_amount                     19048\n",
       "value_currency                   19048\n",
       "procurementMethod                    0\n",
       "procurementMethodDetails             0\n",
       "mainProcurementCategory         123757\n",
       "awardCriteria                   123757\n",
       "tenderPeriod_startDate          123757\n",
       "tenderPeriod_endDate            145778\n",
       "tenderPeriod_maxExtentDate      145778\n",
       "tenderPeriod_durationInDays     146107\n",
       "enquiryPeriod_startDate         123757\n",
       "enquiryPeriod_endDate           129772\n",
       "enquiryPeriod_maxExtentDate     129772\n",
       "enquiryPeriod_durationInDays    130583\n",
       "hasEnquiries                    136645\n",
       "eligibilityCriteria             142805\n",
       "awardPeriod_startDate           141465\n",
       "awardPeriod_endDate             123757\n",
       "awardPeriod_maxExtentDate       123757\n",
       "awardPeriod_durationInDays      142361\n",
       "numberOfTenderers               124031\n",
       "dtype: int64"
      ]
     },
     "execution_count": 11,
     "metadata": {},
     "output_type": "execute_result"
    }
   ],
   "source": [
    "df_tender = pd.read_csv(\"tender_2021.csv\")\n",
    "df_tender.head()\n",
    "df_tender.isnull().sum()"
   ]
  },
  {
   "cell_type": "code",
   "execution_count": 12,
   "metadata": {
    "gather": {
     "logged": 1657500138902
    },
    "jupyter": {
     "outputs_hidden": false,
     "source_hidden": false
    },
    "nteract": {
     "transient": {
      "deleting": false
     }
    }
   },
   "outputs": [
    {
     "data": {
      "text/plain": [
       "ocid                                 0\n",
       "release_id                           0\n",
       "id                                   0\n",
       "title                                0\n",
       "description                          1\n",
       "status                               0\n",
       "procuringEntity_id                  54\n",
       "procuringEntity_name                54\n",
       "value_amount                     19048\n",
       "value_currency                   19048\n",
       "procurementMethod                    0\n",
       "procurementMethodDetails             0\n",
       "numberOfTenderers               124031\n",
       "enquiryPeriod_durationInDays    130583\n",
       "tenderPeriod_durationInDays     146107\n",
       "dtype: int64"
      ]
     },
     "execution_count": 12,
     "metadata": {},
     "output_type": "execute_result"
    }
   ],
   "source": [
    "df_tender = df_tender[[\"ocid\", \"release_id\", \"id\", \"title\", \"description\", \"status\", \"procuringEntity_id\", \"procuringEntity_name\", \"value_amount\", \"value_currency\", \"procurementMethod\", \"procurementMethodDetails\", \"numberOfTenderers\", \"enquiryPeriod_durationInDays\", \"tenderPeriod_durationInDays\"]]\n",
    "df_tender.isnull().sum()"
   ]
  },
  {
   "cell_type": "code",
   "execution_count": 13,
   "metadata": {
    "gather": {
     "logged": 1657500142246
    }
   },
   "outputs": [],
   "source": [
    "def unir(df_general, df_unir, r_sufix):\n",
    "    return df_general.merge(df_unir, how=\"right\", left_on=\"ocid\", right_on=\"ocid\", suffixes=(\"\", r_sufix))"
   ]
  },
  {
   "cell_type": "code",
   "execution_count": 14,
   "metadata": {
    "gather": {
     "logged": 1657500291020
    }
   },
   "outputs": [
    {
     "data": {
      "text/html": [
       "<div>\n",
       "<style scoped>\n",
       "    .dataframe tbody tr th:only-of-type {\n",
       "        vertical-align: middle;\n",
       "    }\n",
       "\n",
       "    .dataframe tbody tr th {\n",
       "        vertical-align: top;\n",
       "    }\n",
       "\n",
       "    .dataframe thead th {\n",
       "        text-align: right;\n",
       "    }\n",
       "</style>\n",
       "<table border=\"1\" class=\"dataframe\">\n",
       "  <thead>\n",
       "    <tr style=\"text-align: right;\">\n",
       "      <th></th>\n",
       "      <th>ocid</th>\n",
       "      <th>id</th>\n",
       "      <th>initiationType</th>\n",
       "      <th>buyer_id</th>\n",
       "      <th>buyer_name</th>\n",
       "      <th>language</th>\n",
       "      <th>date</th>\n",
       "      <th>tag</th>\n",
       "      <th>release_id</th>\n",
       "      <th>id_tender</th>\n",
       "      <th>...</th>\n",
       "      <th>id_awards</th>\n",
       "      <th>status_awards</th>\n",
       "      <th>date_awards</th>\n",
       "      <th>amount_awards</th>\n",
       "      <th>currency</th>\n",
       "      <th>id_planning</th>\n",
       "      <th>rationale</th>\n",
       "      <th>budget_id</th>\n",
       "      <th>budget_amount</th>\n",
       "      <th>budget_currency</th>\n",
       "    </tr>\n",
       "  </thead>\n",
       "  <tbody>\n",
       "    <tr>\n",
       "      <th>0</th>\n",
       "      <td>ocds-5wno2w-MCBS-DNA-003-2021-178618</td>\n",
       "      <td>MCBS-DNA-003-2021-178618-2022-05-04T11:41:39.8...</td>\n",
       "      <td>tender</td>\n",
       "      <td>EC-RUC-1768040760001-178618</td>\n",
       "      <td>DIRECCION NACIONAL DE ANTINARCOTICOS</td>\n",
       "      <td>es</td>\n",
       "      <td>2022-05-04T06:51:47-05:00</td>\n",
       "      <td>[\"planning\",\"tender\",\"award\",\"contract\"]</td>\n",
       "      <td>MCBS-DNA-003-2021-178618-2022-05-04T11:41:39.8...</td>\n",
       "      <td>MCBS-DNA-003-2021-178618</td>\n",
       "      <td>...</td>\n",
       "      <td>4726509-MCBS-DNA-003-2021</td>\n",
       "      <td>NaN</td>\n",
       "      <td>NaN</td>\n",
       "      <td>24706.08</td>\n",
       "      <td>USD</td>\n",
       "      <td>MCBS-DNA-003-2021-178618-2022-05-04T11:41:39.8...</td>\n",
       "      <td>SERVICIO DE MANTENIMIENTO PREVENTIVO Y CORRECT...</td>\n",
       "      <td>2021.052.0003.0000.01.00.000.001.000.1701.5304...</td>\n",
       "      <td>24706.08</td>\n",
       "      <td>USD</td>\n",
       "    </tr>\n",
       "    <tr>\n",
       "      <th>1</th>\n",
       "      <td>ocds-5wno2w-MCO-GADPP-7-2021-2426</td>\n",
       "      <td>NaN</td>\n",
       "      <td>NaN</td>\n",
       "      <td>NaN</td>\n",
       "      <td>NaN</td>\n",
       "      <td>NaN</td>\n",
       "      <td>NaN</td>\n",
       "      <td>NaN</td>\n",
       "      <td>NaN</td>\n",
       "      <td>NaN</td>\n",
       "      <td>...</td>\n",
       "      <td>5159820-MCO-GADPP-7-2021</td>\n",
       "      <td>NaN</td>\n",
       "      <td>NaN</td>\n",
       "      <td>147135.85</td>\n",
       "      <td>USD</td>\n",
       "      <td>MCO-GADPP-7-2021-2426-2022-05-19T11:58:55.147Z...</td>\n",
       "      <td>Construcción de Bordillo - Cuneta, para el mej...</td>\n",
       "      <td>03.22.06.044.002.2021.750105.002.17.01.78.D51....</td>\n",
       "      <td>147135.85</td>\n",
       "      <td>USD</td>\n",
       "    </tr>\n",
       "    <tr>\n",
       "      <th>2</th>\n",
       "      <td>ocds-5wno2w-LCC-GADMQ-001-2021-2453</td>\n",
       "      <td>LCC-GADMQ-001-2021-2453-2022-05-05T11:49:59.83...</td>\n",
       "      <td>tender</td>\n",
       "      <td>EC-RUC-1260000650001-2453</td>\n",
       "      <td>GOBIERNO AUTONOMO DESCENTRALIZADO MUNICIPAL DE...</td>\n",
       "      <td>es</td>\n",
       "      <td>2022-05-05T06:56:50-05:00</td>\n",
       "      <td>[\"planning\",\"tender\",\"award\",\"contract\"]</td>\n",
       "      <td>LCC-GADMQ-001-2021-2453-2022-05-05T11:49:59.83...</td>\n",
       "      <td>LCC-GADMQ-001-2021-2453</td>\n",
       "      <td>...</td>\n",
       "      <td>5031904-LCC-GADMQ-001-2021</td>\n",
       "      <td>NaN</td>\n",
       "      <td>2021-09-15T18:28:23-05:00</td>\n",
       "      <td>258933.74</td>\n",
       "      <td>USD</td>\n",
       "      <td>LCC-GADMQ-001-2021-2453-2022-05-05T11:49:59.83...</td>\n",
       "      <td>FISCALIZACION DE LA CONSTRUCCION DEL PUENTE CA...</td>\n",
       "      <td>310750105A0000000000021</td>\n",
       "      <td>264218.10</td>\n",
       "      <td>USD</td>\n",
       "    </tr>\n",
       "    <tr>\n",
       "      <th>3</th>\n",
       "      <td>ocds-5wno2w-MCO-GADMCJS-029-2021-40430</td>\n",
       "      <td>NaN</td>\n",
       "      <td>NaN</td>\n",
       "      <td>NaN</td>\n",
       "      <td>NaN</td>\n",
       "      <td>NaN</td>\n",
       "      <td>NaN</td>\n",
       "      <td>NaN</td>\n",
       "      <td>NaN</td>\n",
       "      <td>NaN</td>\n",
       "      <td>...</td>\n",
       "      <td>5310384-MCO-GADMCJS-029-2021</td>\n",
       "      <td>NaN</td>\n",
       "      <td>NaN</td>\n",
       "      <td>73664.04</td>\n",
       "      <td>USD</td>\n",
       "      <td>MCO-GADMCJS-029-2021-40430-2022-05-05T11:53:55...</td>\n",
       "      <td>CONSTRUCCIÓN DE UNIDADES BÁSICAS SANITARIAS UN...</td>\n",
       "      <td>3.3.1.7.5.01.01.38</td>\n",
       "      <td>73664.04</td>\n",
       "      <td>USD</td>\n",
       "    </tr>\n",
       "    <tr>\n",
       "      <th>4</th>\n",
       "      <td>ocds-5wno2w-CDC-GADMP-2021-008-45119</td>\n",
       "      <td>CDC-GADMP-2021-008-45119-2022-05-07T11:59:26.4...</td>\n",
       "      <td>tender</td>\n",
       "      <td>EC-RUC-0560000460001-45119</td>\n",
       "      <td>Municipio del Canton Pangua</td>\n",
       "      <td>es</td>\n",
       "      <td>2022-05-07T07:11:03-05:00</td>\n",
       "      <td>[\"planning\",\"tender\",\"award\",\"contract\",\"imple...</td>\n",
       "      <td>CDC-GADMP-2021-008-45119-2022-05-07T11:59:26.4...</td>\n",
       "      <td>CDC-GADMP-2021-008-45119</td>\n",
       "      <td>...</td>\n",
       "      <td>5101416-CDC-GADMP-2021-008</td>\n",
       "      <td>NaN</td>\n",
       "      <td>2021-10-13T10:27:12-05:00</td>\n",
       "      <td>2694.00</td>\n",
       "      <td>USD</td>\n",
       "      <td>CDC-GADMP-2021-008-45119-2022-05-07T11:59:26.4...</td>\n",
       "      <td>CONSULTORÍA PARA EL DIAGNÓSTICO, EVALUACIÓN DE...</td>\n",
       "      <td>3.2.0.7.3.06.01.33</td>\n",
       "      <td>2700.00</td>\n",
       "      <td>USD</td>\n",
       "    </tr>\n",
       "    <tr>\n",
       "      <th>...</th>\n",
       "      <td>...</td>\n",
       "      <td>...</td>\n",
       "      <td>...</td>\n",
       "      <td>...</td>\n",
       "      <td>...</td>\n",
       "      <td>...</td>\n",
       "      <td>...</td>\n",
       "      <td>...</td>\n",
       "      <td>...</td>\n",
       "      <td>...</td>\n",
       "      <td>...</td>\n",
       "      <td>...</td>\n",
       "      <td>...</td>\n",
       "      <td>...</td>\n",
       "      <td>...</td>\n",
       "      <td>...</td>\n",
       "      <td>...</td>\n",
       "      <td>...</td>\n",
       "      <td>...</td>\n",
       "      <td>...</td>\n",
       "      <td>...</td>\n",
       "    </tr>\n",
       "    <tr>\n",
       "      <th>26808792</th>\n",
       "      <td>ocds-5wno2w-REOALC-GADMANTA01-21-2668</td>\n",
       "      <td>REOALC-GADMANTA01-21-2668-2022-04-30T12:21:31....</td>\n",
       "      <td>tender</td>\n",
       "      <td>EC-RUC-1360000980001-2668</td>\n",
       "      <td>GOBIERNO AUTONOMO DESCENTRALIZADO MUNICIPAL DE...</td>\n",
       "      <td>es</td>\n",
       "      <td>2022-04-30T07:28:18-05:00</td>\n",
       "      <td>[\"planning\",\"tender\",\"award\",\"contract\"]</td>\n",
       "      <td>REOALC-GADMANTA01-21-2668-2022-04-30T12:21:31....</td>\n",
       "      <td>REOALC-GADMANTA01-21-2668</td>\n",
       "      <td>...</td>\n",
       "      <td>5151471-REOALC-GADMANTA01-21</td>\n",
       "      <td>NaN</td>\n",
       "      <td>2021-10-28T16:50:25-05:00</td>\n",
       "      <td>268000.00</td>\n",
       "      <td>USD</td>\n",
       "      <td>REOALC-GADMANTA01-21-2668-2022-04-30T12:21:31....</td>\n",
       "      <td>CONTRATACIÓN DEL SERVICIO DE ORGANIZACIÓN, PRO...</td>\n",
       "      <td>530205</td>\n",
       "      <td>268000.00</td>\n",
       "      <td>USD</td>\n",
       "    </tr>\n",
       "    <tr>\n",
       "      <th>26808793</th>\n",
       "      <td>ocds-5wno2w-MCBS-DNA-005-2021-178618</td>\n",
       "      <td>MCBS-DNA-005-2021-178618-2022-05-04T11:43:12.1...</td>\n",
       "      <td>tender</td>\n",
       "      <td>EC-RUC-1768040760001-178618</td>\n",
       "      <td>DIRECCION NACIONAL DE ANTINARCOTICOS</td>\n",
       "      <td>es</td>\n",
       "      <td>2022-05-04T06:51:47-05:00</td>\n",
       "      <td>[\"planning\",\"tender\",\"award\",\"contract\"]</td>\n",
       "      <td>MCBS-DNA-005-2021-178618-2022-05-04T11:43:12.1...</td>\n",
       "      <td>MCBS-DNA-005-2021-178618</td>\n",
       "      <td>...</td>\n",
       "      <td>4862272-MCBS-DNA-005-2021</td>\n",
       "      <td>NaN</td>\n",
       "      <td>NaN</td>\n",
       "      <td>28823.77</td>\n",
       "      <td>USD</td>\n",
       "      <td>MCBS-DNA-005-2021-178618-2022-05-04T11:43:12.1...</td>\n",
       "      <td>SERVICIO DE MANTENIMIENTO PREVENTIVO Y CORRECT...</td>\n",
       "      <td>2021.052.0003.0000.01.00.000.001.000.1701.5304...</td>\n",
       "      <td>28823.77</td>\n",
       "      <td>USD</td>\n",
       "    </tr>\n",
       "    <tr>\n",
       "      <th>26808794</th>\n",
       "      <td>ocds-5wno2w-MCS-CCFFAA-002-ABR21-2539</td>\n",
       "      <td>MCS-CCFFAA-002-ABR21-2539-2022-05-04T11:36:54....</td>\n",
       "      <td>tender</td>\n",
       "      <td>EC-RUC-1768012630001-2539</td>\n",
       "      <td>COMANDO CONJUNTO</td>\n",
       "      <td>es</td>\n",
       "      <td>2022-05-04T06:51:48-05:00</td>\n",
       "      <td>[\"planning\",\"tender\",\"award\",\"contract\",\"imple...</td>\n",
       "      <td>MCS-CCFFAA-002-ABR21-2539-2022-05-04T11:36:54....</td>\n",
       "      <td>MCS-CCFFAA-002-ABR21-2539</td>\n",
       "      <td>...</td>\n",
       "      <td>4744578-MCS-CCFFAA-002-ABR21</td>\n",
       "      <td>NaN</td>\n",
       "      <td>NaN</td>\n",
       "      <td>7589.29</td>\n",
       "      <td>USD</td>\n",
       "      <td>MCS-CCFFAA-002-ABR21-2539-2022-05-04T11:36:54....</td>\n",
       "      <td>CONTRATACIÓN DE UNA AGENCIA DE VIAJES PARA LA ...</td>\n",
       "      <td>2021.070.4999.0000.01.00.000.001.000.1701.5303...</td>\n",
       "      <td>7589.29</td>\n",
       "      <td>USD</td>\n",
       "    </tr>\n",
       "    <tr>\n",
       "      <th>26808795</th>\n",
       "      <td>ocds-5wno2w-RE-GADMCN-17-21-LRG-67188</td>\n",
       "      <td>RE-GADMCN-17-21-LRG-67188-2022-05-04T11:48:52....</td>\n",
       "      <td>tender</td>\n",
       "      <td>EC-RUC-0968532700001-67188</td>\n",
       "      <td>GOBIERNO AUTONOMO DESCENTRALIZADO MUNICIPAL DE...</td>\n",
       "      <td>es</td>\n",
       "      <td>2022-05-04T06:51:48-05:00</td>\n",
       "      <td>[\"planning\",\"tender\",\"award\",\"contract\"]</td>\n",
       "      <td>RE-GADMCN-17-21-LRG-67188-2022-05-04T11:48:52....</td>\n",
       "      <td>RE-GADMCN-17-21-LRG-67188</td>\n",
       "      <td>...</td>\n",
       "      <td>5302403-RE-GADMCN-17-21-LRG</td>\n",
       "      <td>NaN</td>\n",
       "      <td>2022-01-24T17:04:47-05:00</td>\n",
       "      <td>30590.89</td>\n",
       "      <td>USD</td>\n",
       "      <td>RE-GADMCN-17-21-LRG-67188-2022-05-04T11:48:52....</td>\n",
       "      <td>PRESTACIÓN DE SERVICIOS DE INSPECCIÓN Y MANTEN...</td>\n",
       "      <td>730404.3613</td>\n",
       "      <td>30590.89</td>\n",
       "      <td>USD</td>\n",
       "    </tr>\n",
       "    <tr>\n",
       "      <th>26808796</th>\n",
       "      <td>ocds-5wno2w-RE-HGADPCH-039-2021-2583</td>\n",
       "      <td>RE-HGADPCH-039-2021-2583-2022-05-04T11:39:57.9...</td>\n",
       "      <td>tender</td>\n",
       "      <td>EC-RUC-0660000280001-2583</td>\n",
       "      <td>HONORABLE GOBIERNO AUTONOMO DESCENTRALIZADO DE...</td>\n",
       "      <td>es</td>\n",
       "      <td>2022-05-04T06:51:48-05:00</td>\n",
       "      <td>[\"planning\",\"tender\",\"award\",\"contract\",\"imple...</td>\n",
       "      <td>RE-HGADPCH-039-2021-2583-2022-05-04T11:39:57.9...</td>\n",
       "      <td>RE-HGADPCH-039-2021-2583</td>\n",
       "      <td>...</td>\n",
       "      <td>5099697-RE-HGADPCH-039-2021</td>\n",
       "      <td>NaN</td>\n",
       "      <td>2021-10-11T15:17:54-05:00</td>\n",
       "      <td>148474.03</td>\n",
       "      <td>USD</td>\n",
       "      <td>RE-HGADPCH-039-2021-2583-2022-05-04T11:39:57.9...</td>\n",
       "      <td>CONTRATACIÓN DEL SERVICIO DE DIFUSIÓN, ELABORA...</td>\n",
       "      <td>730207</td>\n",
       "      <td>148474.03</td>\n",
       "      <td>USD</td>\n",
       "    </tr>\n",
       "  </tbody>\n",
       "</table>\n",
       "<p>26808797 rows × 44 columns</p>\n",
       "</div>"
      ],
      "text/plain": [
       "                                            ocid  \\\n",
       "0           ocds-5wno2w-MCBS-DNA-003-2021-178618   \n",
       "1              ocds-5wno2w-MCO-GADPP-7-2021-2426   \n",
       "2            ocds-5wno2w-LCC-GADMQ-001-2021-2453   \n",
       "3         ocds-5wno2w-MCO-GADMCJS-029-2021-40430   \n",
       "4           ocds-5wno2w-CDC-GADMP-2021-008-45119   \n",
       "...                                          ...   \n",
       "26808792   ocds-5wno2w-REOALC-GADMANTA01-21-2668   \n",
       "26808793    ocds-5wno2w-MCBS-DNA-005-2021-178618   \n",
       "26808794   ocds-5wno2w-MCS-CCFFAA-002-ABR21-2539   \n",
       "26808795   ocds-5wno2w-RE-GADMCN-17-21-LRG-67188   \n",
       "26808796    ocds-5wno2w-RE-HGADPCH-039-2021-2583   \n",
       "\n",
       "                                                         id initiationType  \\\n",
       "0         MCBS-DNA-003-2021-178618-2022-05-04T11:41:39.8...         tender   \n",
       "1                                                       NaN            NaN   \n",
       "2         LCC-GADMQ-001-2021-2453-2022-05-05T11:49:59.83...         tender   \n",
       "3                                                       NaN            NaN   \n",
       "4         CDC-GADMP-2021-008-45119-2022-05-07T11:59:26.4...         tender   \n",
       "...                                                     ...            ...   \n",
       "26808792  REOALC-GADMANTA01-21-2668-2022-04-30T12:21:31....         tender   \n",
       "26808793  MCBS-DNA-005-2021-178618-2022-05-04T11:43:12.1...         tender   \n",
       "26808794  MCS-CCFFAA-002-ABR21-2539-2022-05-04T11:36:54....         tender   \n",
       "26808795  RE-GADMCN-17-21-LRG-67188-2022-05-04T11:48:52....         tender   \n",
       "26808796  RE-HGADPCH-039-2021-2583-2022-05-04T11:39:57.9...         tender   \n",
       "\n",
       "                             buyer_id  \\\n",
       "0         EC-RUC-1768040760001-178618   \n",
       "1                                 NaN   \n",
       "2           EC-RUC-1260000650001-2453   \n",
       "3                                 NaN   \n",
       "4          EC-RUC-0560000460001-45119   \n",
       "...                               ...   \n",
       "26808792    EC-RUC-1360000980001-2668   \n",
       "26808793  EC-RUC-1768040760001-178618   \n",
       "26808794    EC-RUC-1768012630001-2539   \n",
       "26808795   EC-RUC-0968532700001-67188   \n",
       "26808796    EC-RUC-0660000280001-2583   \n",
       "\n",
       "                                                 buyer_name language  \\\n",
       "0                      DIRECCION NACIONAL DE ANTINARCOTICOS       es   \n",
       "1                                                       NaN      NaN   \n",
       "2         GOBIERNO AUTONOMO DESCENTRALIZADO MUNICIPAL DE...       es   \n",
       "3                                                       NaN      NaN   \n",
       "4                               Municipio del Canton Pangua       es   \n",
       "...                                                     ...      ...   \n",
       "26808792  GOBIERNO AUTONOMO DESCENTRALIZADO MUNICIPAL DE...       es   \n",
       "26808793               DIRECCION NACIONAL DE ANTINARCOTICOS       es   \n",
       "26808794                                   COMANDO CONJUNTO       es   \n",
       "26808795  GOBIERNO AUTONOMO DESCENTRALIZADO MUNICIPAL DE...       es   \n",
       "26808796  HONORABLE GOBIERNO AUTONOMO DESCENTRALIZADO DE...       es   \n",
       "\n",
       "                               date  \\\n",
       "0         2022-05-04T06:51:47-05:00   \n",
       "1                               NaN   \n",
       "2         2022-05-05T06:56:50-05:00   \n",
       "3                               NaN   \n",
       "4         2022-05-07T07:11:03-05:00   \n",
       "...                             ...   \n",
       "26808792  2022-04-30T07:28:18-05:00   \n",
       "26808793  2022-05-04T06:51:47-05:00   \n",
       "26808794  2022-05-04T06:51:48-05:00   \n",
       "26808795  2022-05-04T06:51:48-05:00   \n",
       "26808796  2022-05-04T06:51:48-05:00   \n",
       "\n",
       "                                                        tag  \\\n",
       "0                  [\"planning\",\"tender\",\"award\",\"contract\"]   \n",
       "1                                                       NaN   \n",
       "2                  [\"planning\",\"tender\",\"award\",\"contract\"]   \n",
       "3                                                       NaN   \n",
       "4         [\"planning\",\"tender\",\"award\",\"contract\",\"imple...   \n",
       "...                                                     ...   \n",
       "26808792           [\"planning\",\"tender\",\"award\",\"contract\"]   \n",
       "26808793           [\"planning\",\"tender\",\"award\",\"contract\"]   \n",
       "26808794  [\"planning\",\"tender\",\"award\",\"contract\",\"imple...   \n",
       "26808795           [\"planning\",\"tender\",\"award\",\"contract\"]   \n",
       "26808796  [\"planning\",\"tender\",\"award\",\"contract\",\"imple...   \n",
       "\n",
       "                                                 release_id  \\\n",
       "0         MCBS-DNA-003-2021-178618-2022-05-04T11:41:39.8...   \n",
       "1                                                       NaN   \n",
       "2         LCC-GADMQ-001-2021-2453-2022-05-05T11:49:59.83...   \n",
       "3                                                       NaN   \n",
       "4         CDC-GADMP-2021-008-45119-2022-05-07T11:59:26.4...   \n",
       "...                                                     ...   \n",
       "26808792  REOALC-GADMANTA01-21-2668-2022-04-30T12:21:31....   \n",
       "26808793  MCBS-DNA-005-2021-178618-2022-05-04T11:43:12.1...   \n",
       "26808794  MCS-CCFFAA-002-ABR21-2539-2022-05-04T11:36:54....   \n",
       "26808795  RE-GADMCN-17-21-LRG-67188-2022-05-04T11:48:52....   \n",
       "26808796  RE-HGADPCH-039-2021-2583-2022-05-04T11:39:57.9...   \n",
       "\n",
       "                          id_tender  ...                     id_awards  \\\n",
       "0          MCBS-DNA-003-2021-178618  ...     4726509-MCBS-DNA-003-2021   \n",
       "1                               NaN  ...      5159820-MCO-GADPP-7-2021   \n",
       "2           LCC-GADMQ-001-2021-2453  ...    5031904-LCC-GADMQ-001-2021   \n",
       "3                               NaN  ...  5310384-MCO-GADMCJS-029-2021   \n",
       "4          CDC-GADMP-2021-008-45119  ...    5101416-CDC-GADMP-2021-008   \n",
       "...                             ...  ...                           ...   \n",
       "26808792  REOALC-GADMANTA01-21-2668  ...  5151471-REOALC-GADMANTA01-21   \n",
       "26808793   MCBS-DNA-005-2021-178618  ...     4862272-MCBS-DNA-005-2021   \n",
       "26808794  MCS-CCFFAA-002-ABR21-2539  ...  4744578-MCS-CCFFAA-002-ABR21   \n",
       "26808795  RE-GADMCN-17-21-LRG-67188  ...   5302403-RE-GADMCN-17-21-LRG   \n",
       "26808796   RE-HGADPCH-039-2021-2583  ...   5099697-RE-HGADPCH-039-2021   \n",
       "\n",
       "         status_awards                date_awards amount_awards currency  \\\n",
       "0                  NaN                        NaN      24706.08      USD   \n",
       "1                  NaN                        NaN     147135.85      USD   \n",
       "2                  NaN  2021-09-15T18:28:23-05:00     258933.74      USD   \n",
       "3                  NaN                        NaN      73664.04      USD   \n",
       "4                  NaN  2021-10-13T10:27:12-05:00       2694.00      USD   \n",
       "...                ...                        ...           ...      ...   \n",
       "26808792           NaN  2021-10-28T16:50:25-05:00     268000.00      USD   \n",
       "26808793           NaN                        NaN      28823.77      USD   \n",
       "26808794           NaN                        NaN       7589.29      USD   \n",
       "26808795           NaN  2022-01-24T17:04:47-05:00      30590.89      USD   \n",
       "26808796           NaN  2021-10-11T15:17:54-05:00     148474.03      USD   \n",
       "\n",
       "                                                id_planning  \\\n",
       "0         MCBS-DNA-003-2021-178618-2022-05-04T11:41:39.8...   \n",
       "1         MCO-GADPP-7-2021-2426-2022-05-19T11:58:55.147Z...   \n",
       "2         LCC-GADMQ-001-2021-2453-2022-05-05T11:49:59.83...   \n",
       "3         MCO-GADMCJS-029-2021-40430-2022-05-05T11:53:55...   \n",
       "4         CDC-GADMP-2021-008-45119-2022-05-07T11:59:26.4...   \n",
       "...                                                     ...   \n",
       "26808792  REOALC-GADMANTA01-21-2668-2022-04-30T12:21:31....   \n",
       "26808793  MCBS-DNA-005-2021-178618-2022-05-04T11:43:12.1...   \n",
       "26808794  MCS-CCFFAA-002-ABR21-2539-2022-05-04T11:36:54....   \n",
       "26808795  RE-GADMCN-17-21-LRG-67188-2022-05-04T11:48:52....   \n",
       "26808796  RE-HGADPCH-039-2021-2583-2022-05-04T11:39:57.9...   \n",
       "\n",
       "                                                  rationale  \\\n",
       "0         SERVICIO DE MANTENIMIENTO PREVENTIVO Y CORRECT...   \n",
       "1         Construcción de Bordillo - Cuneta, para el mej...   \n",
       "2         FISCALIZACION DE LA CONSTRUCCION DEL PUENTE CA...   \n",
       "3         CONSTRUCCIÓN DE UNIDADES BÁSICAS SANITARIAS UN...   \n",
       "4         CONSULTORÍA PARA EL DIAGNÓSTICO, EVALUACIÓN DE...   \n",
       "...                                                     ...   \n",
       "26808792  CONTRATACIÓN DEL SERVICIO DE ORGANIZACIÓN, PRO...   \n",
       "26808793  SERVICIO DE MANTENIMIENTO PREVENTIVO Y CORRECT...   \n",
       "26808794  CONTRATACIÓN DE UNA AGENCIA DE VIAJES PARA LA ...   \n",
       "26808795  PRESTACIÓN DE SERVICIOS DE INSPECCIÓN Y MANTEN...   \n",
       "26808796  CONTRATACIÓN DEL SERVICIO DE DIFUSIÓN, ELABORA...   \n",
       "\n",
       "                                                  budget_id budget_amount  \\\n",
       "0         2021.052.0003.0000.01.00.000.001.000.1701.5304...      24706.08   \n",
       "1         03.22.06.044.002.2021.750105.002.17.01.78.D51....     147135.85   \n",
       "2                                   310750105A0000000000021     264218.10   \n",
       "3                                        3.3.1.7.5.01.01.38      73664.04   \n",
       "4                                        3.2.0.7.3.06.01.33       2700.00   \n",
       "...                                                     ...           ...   \n",
       "26808792                                             530205     268000.00   \n",
       "26808793  2021.052.0003.0000.01.00.000.001.000.1701.5304...      28823.77   \n",
       "26808794  2021.070.4999.0000.01.00.000.001.000.1701.5303...       7589.29   \n",
       "26808795                                        730404.3613      30590.89   \n",
       "26808796                                             730207     148474.03   \n",
       "\n",
       "          budget_currency  \n",
       "0                     USD  \n",
       "1                     USD  \n",
       "2                     USD  \n",
       "3                     USD  \n",
       "4                     USD  \n",
       "...                   ...  \n",
       "26808792              USD  \n",
       "26808793              USD  \n",
       "26808794              USD  \n",
       "26808795              USD  \n",
       "26808796              USD  \n",
       "\n",
       "[26808797 rows x 44 columns]"
      ]
     },
     "execution_count": 14,
     "metadata": {},
     "output_type": "execute_result"
    }
   ],
   "source": [
    "df = unir(df_releases, df_tender, \"_tender\")\n",
    "df = unir(df, df_suppliers, \"_supplier\")\n",
    "df = unir(df, df_contracts, \"_contracts\")\n",
    "df = unir(df, df_awards, \"_awards\")\n",
    "df = unir(df, df_planning, \"_planning\")\n",
    "df"
   ]
  },
  {
   "cell_type": "code",
   "execution_count": 15,
   "metadata": {
    "gather": {
     "logged": 1657500615205
    },
    "jupyter": {
     "outputs_hidden": false,
     "source_hidden": false
    },
    "nteract": {
     "transient": {
      "deleting": false
     }
    }
   },
   "outputs": [],
   "source": [
    "df.drop(columns=[\"release_id\", \"release_id_awards\", \"release_id_supplier\", \"release_id_contracts\", \"release_id_awards\", \"id_planning\", \"budget_currency\", \"id_planning\", \"awardID\", \"award_id\", \"id_tender\", \"rationale\", \"buyer_id\", \"buyer_name\", \"enquiryPeriod_durationInDays\"], inplace=True)"
   ]
  },
  {
   "cell_type": "code",
   "execution_count": 16,
   "metadata": {
    "gather": {
     "logged": 1657500643338
    },
    "jupyter": {
     "outputs_hidden": false,
     "source_hidden": false
    },
    "nteract": {
     "transient": {
      "deleting": false
     }
    }
   },
   "outputs": [
    {
     "data": {
      "text/plain": [
       "ocid                                    0\n",
       "id                                   9226\n",
       "initiationType                       9226\n",
       "language                             9226\n",
       "date                                 9226\n",
       "tag                                  9226\n",
       "title                                9226\n",
       "description                          9226\n",
       "status                               9226\n",
       "procuringEntity_id                   9226\n",
       "procuringEntity_name                 9226\n",
       "value_amount                         9226\n",
       "value_currency                       9226\n",
       "procurementMethod                    9226\n",
       "procurementMethodDetails             9226\n",
       "numberOfTenderers                    9226\n",
       "tenderPeriod_durationInDays         11805\n",
       "id_supplier                          9226\n",
       "name                                 9226\n",
       "id_contracts                         9226\n",
       "status_contracts                     9226\n",
       "contractPeriod_durationInDays        9229\n",
       "amount                               9226\n",
       "dateSigned                           9226\n",
       "id_awards                            1014\n",
       "status_awards                    26808797\n",
       "date_awards                       7374266\n",
       "amount_awards                        1014\n",
       "currency                             1014\n",
       "budget_id                               0\n",
       "budget_amount                           0\n",
       "dtype: int64"
      ]
     },
     "execution_count": 16,
     "metadata": {},
     "output_type": "execute_result"
    }
   ],
   "source": [
    "df.isnull().sum()"
   ]
  },
  {
   "cell_type": "code",
   "execution_count": 17,
   "metadata": {
    "gather": {
     "logged": 1657500705456
    }
   },
   "outputs": [
    {
     "data": {
      "text/plain": [
       "26644140"
      ]
     },
     "execution_count": 17,
     "metadata": {},
     "output_type": "execute_result"
    }
   ],
   "source": [
    "df.duplicated().sum()"
   ]
  },
  {
   "cell_type": "code",
   "execution_count": 18,
   "metadata": {
    "gather": {
     "logged": 1657500709211
    }
   },
   "outputs": [
    {
     "data": {
      "text/plain": [
       "ocid                              object\n",
       "id                                object\n",
       "initiationType                    object\n",
       "language                          object\n",
       "date                              object\n",
       "tag                               object\n",
       "title                             object\n",
       "description                       object\n",
       "status                            object\n",
       "procuringEntity_id                object\n",
       "procuringEntity_name              object\n",
       "value_amount                     float64\n",
       "value_currency                    object\n",
       "procurementMethod                 object\n",
       "procurementMethodDetails          object\n",
       "numberOfTenderers                float64\n",
       "tenderPeriod_durationInDays      float64\n",
       "id_supplier                       object\n",
       "name                              object\n",
       "id_contracts                      object\n",
       "status_contracts                  object\n",
       "contractPeriod_durationInDays    float64\n",
       "amount                           float64\n",
       "dateSigned                        object\n",
       "id_awards                         object\n",
       "status_awards                     object\n",
       "date_awards                       object\n",
       "amount_awards                    float64\n",
       "currency                          object\n",
       "budget_id                         object\n",
       "budget_amount                    float64\n",
       "dtype: object"
      ]
     },
     "execution_count": 18,
     "metadata": {},
     "output_type": "execute_result"
    }
   ],
   "source": [
    "df.dtypes"
   ]
  },
  {
   "cell_type": "code",
   "execution_count": 19,
   "metadata": {
    "gather": {
     "logged": 1657500716994
    }
   },
   "outputs": [
    {
     "data": {
      "text/plain": [
       "USD    26799571\n",
       "Name: value_currency, dtype: int64"
      ]
     },
     "execution_count": 19,
     "metadata": {},
     "output_type": "execute_result"
    }
   ],
   "source": [
    "df[\"value_currency\"].value_counts()"
   ]
  },
  {
   "cell_type": "code",
   "execution_count": 20,
   "metadata": {
    "gather": {
     "logged": 1657500720771
    }
   },
   "outputs": [],
   "source": [
    "df[\"value_currency\"].fillna(\"USD\",inplace= True)"
   ]
  },
  {
   "cell_type": "code",
   "execution_count": 21,
   "metadata": {
    "gather": {
     "logged": 1657500770010
    }
   },
   "outputs": [
    {
     "data": {
      "text/plain": [
       "ocid                                    0\n",
       "id                                   9226\n",
       "initiationType                       9226\n",
       "language                             9226\n",
       "date                                 9226\n",
       "tag                                  9226\n",
       "title                                9226\n",
       "description                          9226\n",
       "status                               9226\n",
       "procuringEntity_id                   9226\n",
       "procuringEntity_name                 9226\n",
       "value_amount                         9226\n",
       "value_currency                          0\n",
       "procurementMethod                    9226\n",
       "procurementMethodDetails             9226\n",
       "numberOfTenderers                    9226\n",
       "tenderPeriod_durationInDays         11805\n",
       "id_supplier                          9226\n",
       "name                                 9226\n",
       "id_contracts                         9226\n",
       "status_contracts                     9226\n",
       "contractPeriod_durationInDays        9229\n",
       "amount                               9226\n",
       "dateSigned                           9226\n",
       "id_awards                            1014\n",
       "status_awards                    26808797\n",
       "date_awards                       7374266\n",
       "amount_awards                        1014\n",
       "currency                             1014\n",
       "budget_id                               0\n",
       "budget_amount                           0\n",
       "dtype: int64"
      ]
     },
     "execution_count": 21,
     "metadata": {},
     "output_type": "execute_result"
    }
   ],
   "source": [
    "df.isnull().sum()"
   ]
  },
  {
   "cell_type": "code",
   "execution_count": 22,
   "metadata": {
    "gather": {
     "logged": 1657500810677
    }
   },
   "outputs": [],
   "source": [
    "df.drop(columns=[\"status_awards\"], inplace=True)\n",
    "df.dropna(inplace=True)"
   ]
  },
  {
   "cell_type": "code",
   "execution_count": 23,
   "metadata": {
    "gather": {
     "logged": 1657500829567
    }
   },
   "outputs": [
    {
     "data": {
      "text/plain": [
       "ocid                             0\n",
       "id                               0\n",
       "initiationType                   0\n",
       "language                         0\n",
       "date                             0\n",
       "tag                              0\n",
       "title                            0\n",
       "description                      0\n",
       "status                           0\n",
       "procuringEntity_id               0\n",
       "procuringEntity_name             0\n",
       "value_amount                     0\n",
       "value_currency                   0\n",
       "procurementMethod                0\n",
       "procurementMethodDetails         0\n",
       "numberOfTenderers                0\n",
       "tenderPeriod_durationInDays      0\n",
       "id_supplier                      0\n",
       "name                             0\n",
       "id_contracts                     0\n",
       "status_contracts                 0\n",
       "contractPeriod_durationInDays    0\n",
       "amount                           0\n",
       "dateSigned                       0\n",
       "id_awards                        0\n",
       "date_awards                      0\n",
       "amount_awards                    0\n",
       "currency                         0\n",
       "budget_id                        0\n",
       "budget_amount                    0\n",
       "dtype: int64"
      ]
     },
     "execution_count": 23,
     "metadata": {},
     "output_type": "execute_result"
    }
   ],
   "source": [
    "df.isnull().sum()"
   ]
  },
  {
   "cell_type": "code",
   "execution_count": 24,
   "metadata": {
    "gather": {
     "logged": 1657500866480
    },
    "jupyter": {
     "outputs_hidden": false,
     "source_hidden": false
    },
    "nteract": {
     "transient": {
      "deleting": false
     }
    }
   },
   "outputs": [],
   "source": [
    "df.drop_duplicates(inplace=True)"
   ]
  },
  {
   "cell_type": "code",
   "execution_count": 25,
   "metadata": {
    "gather": {
     "logged": 1657500873995
    },
    "jupyter": {
     "outputs_hidden": false,
     "source_hidden": false
    },
    "nteract": {
     "transient": {
      "deleting": false
     }
    }
   },
   "outputs": [
    {
     "data": {
      "text/plain": [
       "(84701, 30)"
      ]
     },
     "execution_count": 25,
     "metadata": {},
     "output_type": "execute_result"
    }
   ],
   "source": [
    "df.shape"
   ]
  },
  {
   "cell_type": "code",
   "execution_count": 26,
   "metadata": {
    "gather": {
     "logged": 1657500879296
    },
    "jupyter": {
     "outputs_hidden": false,
     "source_hidden": false
    },
    "nteract": {
     "transient": {
      "deleting": false
     }
    }
   },
   "outputs": [],
   "source": [
    "df['ruc']=df['procuringEntity_id'].str.split('-').str[2]"
   ]
  },
  {
   "cell_type": "code",
   "execution_count": 27,
   "metadata": {
    "gather": {
     "logged": 1657500882002
    },
    "jupyter": {
     "outputs_hidden": false,
     "source_hidden": false
    },
    "nteract": {
     "transient": {
      "deleting": false
     }
    }
   },
   "outputs": [
    {
     "data": {
      "text/html": [
       "<div>\n",
       "<style scoped>\n",
       "    .dataframe tbody tr th:only-of-type {\n",
       "        vertical-align: middle;\n",
       "    }\n",
       "\n",
       "    .dataframe tbody tr th {\n",
       "        vertical-align: top;\n",
       "    }\n",
       "\n",
       "    .dataframe thead th {\n",
       "        text-align: right;\n",
       "    }\n",
       "</style>\n",
       "<table border=\"1\" class=\"dataframe\">\n",
       "  <thead>\n",
       "    <tr style=\"text-align: right;\">\n",
       "      <th></th>\n",
       "      <th>Codigo</th>\n",
       "      <th>Provincia</th>\n",
       "    </tr>\n",
       "  </thead>\n",
       "  <tbody>\n",
       "    <tr>\n",
       "      <th>0</th>\n",
       "      <td>1</td>\n",
       "      <td>Azuay</td>\n",
       "    </tr>\n",
       "    <tr>\n",
       "      <th>1</th>\n",
       "      <td>2</td>\n",
       "      <td>Bolivar</td>\n",
       "    </tr>\n",
       "    <tr>\n",
       "      <th>2</th>\n",
       "      <td>3</td>\n",
       "      <td>Cañar</td>\n",
       "    </tr>\n",
       "    <tr>\n",
       "      <th>3</th>\n",
       "      <td>4</td>\n",
       "      <td>Carchi</td>\n",
       "    </tr>\n",
       "    <tr>\n",
       "      <th>4</th>\n",
       "      <td>5</td>\n",
       "      <td>Cotopaxi</td>\n",
       "    </tr>\n",
       "    <tr>\n",
       "      <th>5</th>\n",
       "      <td>6</td>\n",
       "      <td>Chimborazo</td>\n",
       "    </tr>\n",
       "    <tr>\n",
       "      <th>6</th>\n",
       "      <td>7</td>\n",
       "      <td>El Oro</td>\n",
       "    </tr>\n",
       "    <tr>\n",
       "      <th>7</th>\n",
       "      <td>8</td>\n",
       "      <td>Esmeraldas</td>\n",
       "    </tr>\n",
       "    <tr>\n",
       "      <th>8</th>\n",
       "      <td>9</td>\n",
       "      <td>Guayas</td>\n",
       "    </tr>\n",
       "    <tr>\n",
       "      <th>9</th>\n",
       "      <td>10</td>\n",
       "      <td>Imbabura</td>\n",
       "    </tr>\n",
       "    <tr>\n",
       "      <th>10</th>\n",
       "      <td>11</td>\n",
       "      <td>Loja</td>\n",
       "    </tr>\n",
       "    <tr>\n",
       "      <th>11</th>\n",
       "      <td>12</td>\n",
       "      <td>Los Rios</td>\n",
       "    </tr>\n",
       "    <tr>\n",
       "      <th>12</th>\n",
       "      <td>13</td>\n",
       "      <td>Manabi</td>\n",
       "    </tr>\n",
       "    <tr>\n",
       "      <th>13</th>\n",
       "      <td>14</td>\n",
       "      <td>Morona Santiago</td>\n",
       "    </tr>\n",
       "    <tr>\n",
       "      <th>14</th>\n",
       "      <td>15</td>\n",
       "      <td>Napo</td>\n",
       "    </tr>\n",
       "    <tr>\n",
       "      <th>15</th>\n",
       "      <td>16</td>\n",
       "      <td>Pastaza</td>\n",
       "    </tr>\n",
       "    <tr>\n",
       "      <th>16</th>\n",
       "      <td>17</td>\n",
       "      <td>Pichincha</td>\n",
       "    </tr>\n",
       "    <tr>\n",
       "      <th>17</th>\n",
       "      <td>18</td>\n",
       "      <td>Tungurahua</td>\n",
       "    </tr>\n",
       "    <tr>\n",
       "      <th>18</th>\n",
       "      <td>19</td>\n",
       "      <td>Zamora Chinchipe</td>\n",
       "    </tr>\n",
       "    <tr>\n",
       "      <th>19</th>\n",
       "      <td>20</td>\n",
       "      <td>Galapagos</td>\n",
       "    </tr>\n",
       "    <tr>\n",
       "      <th>20</th>\n",
       "      <td>21</td>\n",
       "      <td>Sucumbios</td>\n",
       "    </tr>\n",
       "    <tr>\n",
       "      <th>21</th>\n",
       "      <td>22</td>\n",
       "      <td>Orellana</td>\n",
       "    </tr>\n",
       "    <tr>\n",
       "      <th>22</th>\n",
       "      <td>23</td>\n",
       "      <td>Santo Domingo de los Tsachilas</td>\n",
       "    </tr>\n",
       "    <tr>\n",
       "      <th>23</th>\n",
       "      <td>24</td>\n",
       "      <td>Santa Elena</td>\n",
       "    </tr>\n",
       "  </tbody>\n",
       "</table>\n",
       "</div>"
      ],
      "text/plain": [
       "    Codigo                       Provincia\n",
       "0        1                           Azuay\n",
       "1        2                         Bolivar\n",
       "2        3                           Cañar\n",
       "3        4                          Carchi\n",
       "4        5                        Cotopaxi\n",
       "5        6                      Chimborazo\n",
       "6        7                          El Oro\n",
       "7        8                      Esmeraldas\n",
       "8        9                          Guayas\n",
       "9       10                        Imbabura\n",
       "10      11                            Loja\n",
       "11      12                        Los Rios\n",
       "12      13                          Manabi\n",
       "13      14                 Morona Santiago\n",
       "14      15                            Napo\n",
       "15      16                         Pastaza\n",
       "16      17                       Pichincha\n",
       "17      18                      Tungurahua\n",
       "18      19                Zamora Chinchipe\n",
       "19      20                       Galapagos\n",
       "20      21                       Sucumbios\n",
       "21      22                        Orellana\n",
       "22      23  Santo Domingo de los Tsachilas\n",
       "23      24                     Santa Elena"
      ]
     },
     "execution_count": 27,
     "metadata": {},
     "output_type": "execute_result"
    }
   ],
   "source": [
    "provincias = pd.read_csv(\"provinciasRUC.csv\")\n",
    "provincias"
   ]
  },
  {
   "cell_type": "code",
   "execution_count": 28,
   "metadata": {
    "gather": {
     "logged": 1657500885778
    },
    "jupyter": {
     "outputs_hidden": false,
     "source_hidden": false
    },
    "nteract": {
     "transient": {
      "deleting": false
     }
    }
   },
   "outputs": [
    {
     "data": {
      "text/html": [
       "<div>\n",
       "<style scoped>\n",
       "    .dataframe tbody tr th:only-of-type {\n",
       "        vertical-align: middle;\n",
       "    }\n",
       "\n",
       "    .dataframe tbody tr th {\n",
       "        vertical-align: top;\n",
       "    }\n",
       "\n",
       "    .dataframe thead th {\n",
       "        text-align: right;\n",
       "    }\n",
       "</style>\n",
       "<table border=\"1\" class=\"dataframe\">\n",
       "  <thead>\n",
       "    <tr style=\"text-align: right;\">\n",
       "      <th></th>\n",
       "      <th>ocid</th>\n",
       "      <th>id</th>\n",
       "      <th>initiationType</th>\n",
       "      <th>language</th>\n",
       "      <th>date</th>\n",
       "      <th>tag</th>\n",
       "      <th>title</th>\n",
       "      <th>description</th>\n",
       "      <th>status</th>\n",
       "      <th>procuringEntity_id</th>\n",
       "      <th>...</th>\n",
       "      <th>id_awards</th>\n",
       "      <th>date_awards</th>\n",
       "      <th>amount_awards</th>\n",
       "      <th>currency</th>\n",
       "      <th>budget_id</th>\n",
       "      <th>budget_amount</th>\n",
       "      <th>ruc</th>\n",
       "      <th>codigoProvincia</th>\n",
       "      <th>Codigo</th>\n",
       "      <th>Provincia</th>\n",
       "    </tr>\n",
       "  </thead>\n",
       "  <tbody>\n",
       "    <tr>\n",
       "      <th>0</th>\n",
       "      <td>ocds-5wno2w-REGES-MPORTO-2021-13-2332</td>\n",
       "      <td>REGES-MPORTO-2021-13-2332-2022-05-07T11:56:24....</td>\n",
       "      <td>tender</td>\n",
       "      <td>es</td>\n",
       "      <td>2022-05-07T07:11:05-05:00</td>\n",
       "      <td>[\"planning\",\"tender\",\"award\",\"contract\",\"imple...</td>\n",
       "      <td>REGES-MPORTO-2021-13-2332</td>\n",
       "      <td>ESPACIOS DE DIFUSIÓN MASIVA A TRAVÉS DE VALLAS...</td>\n",
       "      <td>complete</td>\n",
       "      <td>EC-RUC-1360000200001-2332</td>\n",
       "      <td>...</td>\n",
       "      <td>4748528-REGES-MPORTO-2021-13</td>\n",
       "      <td>2021-05-07T14:21:51-05:00</td>\n",
       "      <td>13392.86</td>\n",
       "      <td>USD</td>\n",
       "      <td>2021.19.01.A100.150.530207.000.13.01.000.0.000</td>\n",
       "      <td>13392.86</td>\n",
       "      <td>1360000200001</td>\n",
       "      <td>13</td>\n",
       "      <td>13</td>\n",
       "      <td>Manabi</td>\n",
       "    </tr>\n",
       "    <tr>\n",
       "      <th>1</th>\n",
       "      <td>ocds-5wno2w-RE-EEASA-142-2021-3233</td>\n",
       "      <td>RE-EEASA-142-2021-3233-2022-05-10T11:35:00.178...</td>\n",
       "      <td>tender</td>\n",
       "      <td>es</td>\n",
       "      <td>2022-05-10T06:46:51-05:00</td>\n",
       "      <td>[\"planning\",\"tender\",\"award\",\"contract\",\"imple...</td>\n",
       "      <td>RE-EEASA-142-2021-3233</td>\n",
       "      <td>?SERVICIO DE PAUTAJE EN EL MEDIO DE COMUNICACI...</td>\n",
       "      <td>complete</td>\n",
       "      <td>EC-RUC-1890001439001-3233</td>\n",
       "      <td>...</td>\n",
       "      <td>5104157-RE-EEASA-142-2021</td>\n",
       "      <td>2021-10-15T08:28:28-05:00</td>\n",
       "      <td>7000.00</td>\n",
       "      <td>USD</td>\n",
       "      <td>52202030102120128</td>\n",
       "      <td>7000.00</td>\n",
       "      <td>1890001439001</td>\n",
       "      <td>18</td>\n",
       "      <td>18</td>\n",
       "      <td>Tungurahua</td>\n",
       "    </tr>\n",
       "    <tr>\n",
       "      <th>2</th>\n",
       "      <td>ocds-5wno2w-LICS-UNEMI-013-2021-43664</td>\n",
       "      <td>LICS-UNEMI-013-2021-43664-2022-05-11T11:32:30....</td>\n",
       "      <td>tender</td>\n",
       "      <td>es</td>\n",
       "      <td>2022-05-11T06:48:06-05:00</td>\n",
       "      <td>[\"planning\",\"tender\",\"award\",\"contract\",\"imple...</td>\n",
       "      <td>LICS-UNEMI-013-2021-43664</td>\n",
       "      <td>CONTRATACION DE POLIZAS DE SEGUROMULTIRIESGO: ...</td>\n",
       "      <td>complete</td>\n",
       "      <td>EC-RUC-0968533430001-43664</td>\n",
       "      <td>...</td>\n",
       "      <td>4720310-LICS-UNEMI-013-2021</td>\n",
       "      <td>2021-04-23T10:25:08-05:00</td>\n",
       "      <td>59510.25</td>\n",
       "      <td>USD</td>\n",
       "      <td>2021.181.0000.0000.82.00.000.002.000.0910.5303...</td>\n",
       "      <td>70005.18</td>\n",
       "      <td>0968533430001</td>\n",
       "      <td>9</td>\n",
       "      <td>9</td>\n",
       "      <td>Guayas</td>\n",
       "    </tr>\n",
       "    <tr>\n",
       "      <th>3</th>\n",
       "      <td>ocds-5wno2w-RE-EP-GMJ-DGF-1-2021-102953</td>\n",
       "      <td>RE-EP-GMJ-DGF-1-2021-102953-2022-05-11T11:34:5...</td>\n",
       "      <td>tender</td>\n",
       "      <td>es</td>\n",
       "      <td>2022-05-11T06:48:07-05:00</td>\n",
       "      <td>[\"planning\",\"tender\",\"award\",\"contract\",\"imple...</td>\n",
       "      <td>RE-EP-GMJ-DGF-1-2021-102953</td>\n",
       "      <td>Elaboración y Adquisición de especiesvaloradas...</td>\n",
       "      <td>complete</td>\n",
       "      <td>EC-RUC-1360000630001-102953</td>\n",
       "      <td>...</td>\n",
       "      <td>4930830-RE-EP-GMJ-DGF-1-2021</td>\n",
       "      <td>2021-07-20T13:49:50-05:00</td>\n",
       "      <td>1700.00</td>\n",
       "      <td>USD</td>\n",
       "      <td>5.3.08.07</td>\n",
       "      <td>1700.00</td>\n",
       "      <td>1360000630001</td>\n",
       "      <td>13</td>\n",
       "      <td>13</td>\n",
       "      <td>Manabi</td>\n",
       "    </tr>\n",
       "    <tr>\n",
       "      <th>4</th>\n",
       "      <td>ocds-5wno2w-LIC-EPFLP-01-2021-404551</td>\n",
       "      <td>LIC-EPFLP-01-2021-404551-2022-05-14T12:25:47.8...</td>\n",
       "      <td>tender</td>\n",
       "      <td>es</td>\n",
       "      <td>2022-05-14T07:33:35-05:00</td>\n",
       "      <td>[\"planning\",\"tender\",\"award\",\"contract\"]</td>\n",
       "      <td>LIC-EPFLP-01-2021-404551</td>\n",
       "      <td>CONTRATACIÓN DE LA PÓLIZA DE SEGUROS MARÍTIMOS...</td>\n",
       "      <td>complete</td>\n",
       "      <td>EC-RUC-1768164300001-404551</td>\n",
       "      <td>...</td>\n",
       "      <td>4980937-LIC-EPFLP-01-2021</td>\n",
       "      <td>2021-08-30T08:43:16-05:00</td>\n",
       "      <td>749885.00</td>\n",
       "      <td>USD</td>\n",
       "      <td>5.1.2.02.01</td>\n",
       "      <td>910648.25</td>\n",
       "      <td>1768164300001</td>\n",
       "      <td>17</td>\n",
       "      <td>17</td>\n",
       "      <td>Pichincha</td>\n",
       "    </tr>\n",
       "    <tr>\n",
       "      <th>...</th>\n",
       "      <td>...</td>\n",
       "      <td>...</td>\n",
       "      <td>...</td>\n",
       "      <td>...</td>\n",
       "      <td>...</td>\n",
       "      <td>...</td>\n",
       "      <td>...</td>\n",
       "      <td>...</td>\n",
       "      <td>...</td>\n",
       "      <td>...</td>\n",
       "      <td>...</td>\n",
       "      <td>...</td>\n",
       "      <td>...</td>\n",
       "      <td>...</td>\n",
       "      <td>...</td>\n",
       "      <td>...</td>\n",
       "      <td>...</td>\n",
       "      <td>...</td>\n",
       "      <td>...</td>\n",
       "      <td>...</td>\n",
       "      <td>...</td>\n",
       "    </tr>\n",
       "    <tr>\n",
       "      <th>84696</th>\n",
       "      <td>ocds-5wno2w-RE-EPMAPAS-001-2021-279324</td>\n",
       "      <td>RE-EPMAPAS-001-2021-279324-2022-04-28T11:33:29...</td>\n",
       "      <td>tender</td>\n",
       "      <td>es</td>\n",
       "      <td>2022-04-28T06:45:59-05:00</td>\n",
       "      <td>[\"planning\",\"tender\",\"award\",\"contract\",\"imple...</td>\n",
       "      <td>RE-EPMAPAS-001-2021-279324</td>\n",
       "      <td>CONTRATACION DE PAUTAS COMERCIALES EN EL PROGR...</td>\n",
       "      <td>complete</td>\n",
       "      <td>EC-RUC-0968586470001-279324</td>\n",
       "      <td>...</td>\n",
       "      <td>4992062-RE-EPMAPAS-001-2021</td>\n",
       "      <td>2021-08-18T10:04:49-05:00</td>\n",
       "      <td>2400.00</td>\n",
       "      <td>USD</td>\n",
       "      <td>6.3.02.07</td>\n",
       "      <td>2400.00</td>\n",
       "      <td>0968586470001</td>\n",
       "      <td>9</td>\n",
       "      <td>9</td>\n",
       "      <td>Guayas</td>\n",
       "    </tr>\n",
       "    <tr>\n",
       "      <th>84697</th>\n",
       "      <td>ocds-5wno2w-RE-SC-MDMQ-08-2021-41357</td>\n",
       "      <td>RE-SC-MDMQ-08-2021-41357-2022-04-28T11:30:12.1...</td>\n",
       "      <td>tender</td>\n",
       "      <td>es</td>\n",
       "      <td>2022-04-28T06:45:59-05:00</td>\n",
       "      <td>[\"planning\",\"tender\",\"award\",\"contract\",\"imple...</td>\n",
       "      <td>RE-SC-MDMQ-08-2021-41357</td>\n",
       "      <td>CONTRATACIÓN DEL SERVICIO COORDINACIÓN Y LOCUC...</td>\n",
       "      <td>complete</td>\n",
       "      <td>EC-RUC-1760003410001-41357</td>\n",
       "      <td>...</td>\n",
       "      <td>4661462-RE-SC-MDMQ-08-2021</td>\n",
       "      <td>2021-02-10T11:27:11-05:00</td>\n",
       "      <td>15.60</td>\n",
       "      <td>USD</td>\n",
       "      <td>730222</td>\n",
       "      <td>15.60</td>\n",
       "      <td>1760003410001</td>\n",
       "      <td>17</td>\n",
       "      <td>17</td>\n",
       "      <td>Pichincha</td>\n",
       "    </tr>\n",
       "    <tr>\n",
       "      <th>84698</th>\n",
       "      <td>ocds-5wno2w-REOALC-GADMANTA01-21-2668</td>\n",
       "      <td>REOALC-GADMANTA01-21-2668-2022-04-30T12:21:31....</td>\n",
       "      <td>tender</td>\n",
       "      <td>es</td>\n",
       "      <td>2022-04-30T07:28:18-05:00</td>\n",
       "      <td>[\"planning\",\"tender\",\"award\",\"contract\"]</td>\n",
       "      <td>REOALC-GADMANTA01-21-2668</td>\n",
       "      <td>CONTRATACIÓN DEL SERVICIO DE ORGANIZACIÓN, PRO...</td>\n",
       "      <td>complete</td>\n",
       "      <td>EC-RUC-1360000980001-2668</td>\n",
       "      <td>...</td>\n",
       "      <td>5151471-REOALC-GADMANTA01-21</td>\n",
       "      <td>2021-10-28T16:50:25-05:00</td>\n",
       "      <td>268000.00</td>\n",
       "      <td>USD</td>\n",
       "      <td>530205</td>\n",
       "      <td>268000.00</td>\n",
       "      <td>1360000980001</td>\n",
       "      <td>13</td>\n",
       "      <td>13</td>\n",
       "      <td>Manabi</td>\n",
       "    </tr>\n",
       "    <tr>\n",
       "      <th>84699</th>\n",
       "      <td>ocds-5wno2w-RE-GADMCN-17-21-LRG-67188</td>\n",
       "      <td>RE-GADMCN-17-21-LRG-67188-2022-05-04T11:48:52....</td>\n",
       "      <td>tender</td>\n",
       "      <td>es</td>\n",
       "      <td>2022-05-04T06:51:48-05:00</td>\n",
       "      <td>[\"planning\",\"tender\",\"award\",\"contract\"]</td>\n",
       "      <td>RE-GADMCN-17-21-LRG-67188</td>\n",
       "      <td>PRESTACIÓN DE SERVICIOS DE INSPECCIÓN Y MANTEN...</td>\n",
       "      <td>active</td>\n",
       "      <td>EC-RUC-0968532700001-67188</td>\n",
       "      <td>...</td>\n",
       "      <td>5302403-RE-GADMCN-17-21-LRG</td>\n",
       "      <td>2022-01-24T17:04:47-05:00</td>\n",
       "      <td>30590.89</td>\n",
       "      <td>USD</td>\n",
       "      <td>730404.3613</td>\n",
       "      <td>30590.89</td>\n",
       "      <td>0968532700001</td>\n",
       "      <td>9</td>\n",
       "      <td>9</td>\n",
       "      <td>Guayas</td>\n",
       "    </tr>\n",
       "    <tr>\n",
       "      <th>84700</th>\n",
       "      <td>ocds-5wno2w-RE-HGADPCH-039-2021-2583</td>\n",
       "      <td>RE-HGADPCH-039-2021-2583-2022-05-04T11:39:57.9...</td>\n",
       "      <td>tender</td>\n",
       "      <td>es</td>\n",
       "      <td>2022-05-04T06:51:48-05:00</td>\n",
       "      <td>[\"planning\",\"tender\",\"award\",\"contract\",\"imple...</td>\n",
       "      <td>RE-HGADPCH-039-2021-2583</td>\n",
       "      <td>CONTRATACIÓN DEL SERVICIO DE DIFUSIÓN, ELABORA...</td>\n",
       "      <td>complete</td>\n",
       "      <td>EC-RUC-0660000280001-2583</td>\n",
       "      <td>...</td>\n",
       "      <td>5099697-RE-HGADPCH-039-2021</td>\n",
       "      <td>2021-10-11T15:17:54-05:00</td>\n",
       "      <td>148474.03</td>\n",
       "      <td>USD</td>\n",
       "      <td>730207</td>\n",
       "      <td>148474.03</td>\n",
       "      <td>0660000280001</td>\n",
       "      <td>6</td>\n",
       "      <td>6</td>\n",
       "      <td>Chimborazo</td>\n",
       "    </tr>\n",
       "  </tbody>\n",
       "</table>\n",
       "<p>84701 rows × 34 columns</p>\n",
       "</div>"
      ],
      "text/plain": [
       "                                          ocid  \\\n",
       "0        ocds-5wno2w-REGES-MPORTO-2021-13-2332   \n",
       "1           ocds-5wno2w-RE-EEASA-142-2021-3233   \n",
       "2        ocds-5wno2w-LICS-UNEMI-013-2021-43664   \n",
       "3      ocds-5wno2w-RE-EP-GMJ-DGF-1-2021-102953   \n",
       "4         ocds-5wno2w-LIC-EPFLP-01-2021-404551   \n",
       "...                                        ...   \n",
       "84696   ocds-5wno2w-RE-EPMAPAS-001-2021-279324   \n",
       "84697     ocds-5wno2w-RE-SC-MDMQ-08-2021-41357   \n",
       "84698    ocds-5wno2w-REOALC-GADMANTA01-21-2668   \n",
       "84699    ocds-5wno2w-RE-GADMCN-17-21-LRG-67188   \n",
       "84700     ocds-5wno2w-RE-HGADPCH-039-2021-2583   \n",
       "\n",
       "                                                      id initiationType  \\\n",
       "0      REGES-MPORTO-2021-13-2332-2022-05-07T11:56:24....         tender   \n",
       "1      RE-EEASA-142-2021-3233-2022-05-10T11:35:00.178...         tender   \n",
       "2      LICS-UNEMI-013-2021-43664-2022-05-11T11:32:30....         tender   \n",
       "3      RE-EP-GMJ-DGF-1-2021-102953-2022-05-11T11:34:5...         tender   \n",
       "4      LIC-EPFLP-01-2021-404551-2022-05-14T12:25:47.8...         tender   \n",
       "...                                                  ...            ...   \n",
       "84696  RE-EPMAPAS-001-2021-279324-2022-04-28T11:33:29...         tender   \n",
       "84697  RE-SC-MDMQ-08-2021-41357-2022-04-28T11:30:12.1...         tender   \n",
       "84698  REOALC-GADMANTA01-21-2668-2022-04-30T12:21:31....         tender   \n",
       "84699  RE-GADMCN-17-21-LRG-67188-2022-05-04T11:48:52....         tender   \n",
       "84700  RE-HGADPCH-039-2021-2583-2022-05-04T11:39:57.9...         tender   \n",
       "\n",
       "      language                       date  \\\n",
       "0           es  2022-05-07T07:11:05-05:00   \n",
       "1           es  2022-05-10T06:46:51-05:00   \n",
       "2           es  2022-05-11T06:48:06-05:00   \n",
       "3           es  2022-05-11T06:48:07-05:00   \n",
       "4           es  2022-05-14T07:33:35-05:00   \n",
       "...        ...                        ...   \n",
       "84696       es  2022-04-28T06:45:59-05:00   \n",
       "84697       es  2022-04-28T06:45:59-05:00   \n",
       "84698       es  2022-04-30T07:28:18-05:00   \n",
       "84699       es  2022-05-04T06:51:48-05:00   \n",
       "84700       es  2022-05-04T06:51:48-05:00   \n",
       "\n",
       "                                                     tag  \\\n",
       "0      [\"planning\",\"tender\",\"award\",\"contract\",\"imple...   \n",
       "1      [\"planning\",\"tender\",\"award\",\"contract\",\"imple...   \n",
       "2      [\"planning\",\"tender\",\"award\",\"contract\",\"imple...   \n",
       "3      [\"planning\",\"tender\",\"award\",\"contract\",\"imple...   \n",
       "4               [\"planning\",\"tender\",\"award\",\"contract\"]   \n",
       "...                                                  ...   \n",
       "84696  [\"planning\",\"tender\",\"award\",\"contract\",\"imple...   \n",
       "84697  [\"planning\",\"tender\",\"award\",\"contract\",\"imple...   \n",
       "84698           [\"planning\",\"tender\",\"award\",\"contract\"]   \n",
       "84699           [\"planning\",\"tender\",\"award\",\"contract\"]   \n",
       "84700  [\"planning\",\"tender\",\"award\",\"contract\",\"imple...   \n",
       "\n",
       "                             title  \\\n",
       "0        REGES-MPORTO-2021-13-2332   \n",
       "1           RE-EEASA-142-2021-3233   \n",
       "2        LICS-UNEMI-013-2021-43664   \n",
       "3      RE-EP-GMJ-DGF-1-2021-102953   \n",
       "4         LIC-EPFLP-01-2021-404551   \n",
       "...                            ...   \n",
       "84696   RE-EPMAPAS-001-2021-279324   \n",
       "84697     RE-SC-MDMQ-08-2021-41357   \n",
       "84698    REOALC-GADMANTA01-21-2668   \n",
       "84699    RE-GADMCN-17-21-LRG-67188   \n",
       "84700     RE-HGADPCH-039-2021-2583   \n",
       "\n",
       "                                             description    status  \\\n",
       "0      ESPACIOS DE DIFUSIÓN MASIVA A TRAVÉS DE VALLAS...  complete   \n",
       "1      ?SERVICIO DE PAUTAJE EN EL MEDIO DE COMUNICACI...  complete   \n",
       "2      CONTRATACION DE POLIZAS DE SEGUROMULTIRIESGO: ...  complete   \n",
       "3      Elaboración y Adquisición de especiesvaloradas...  complete   \n",
       "4      CONTRATACIÓN DE LA PÓLIZA DE SEGUROS MARÍTIMOS...  complete   \n",
       "...                                                  ...       ...   \n",
       "84696  CONTRATACION DE PAUTAS COMERCIALES EN EL PROGR...  complete   \n",
       "84697  CONTRATACIÓN DEL SERVICIO COORDINACIÓN Y LOCUC...  complete   \n",
       "84698  CONTRATACIÓN DEL SERVICIO DE ORGANIZACIÓN, PRO...  complete   \n",
       "84699  PRESTACIÓN DE SERVICIOS DE INSPECCIÓN Y MANTEN...    active   \n",
       "84700  CONTRATACIÓN DEL SERVICIO DE DIFUSIÓN, ELABORA...  complete   \n",
       "\n",
       "                procuringEntity_id  ...                     id_awards  \\\n",
       "0        EC-RUC-1360000200001-2332  ...  4748528-REGES-MPORTO-2021-13   \n",
       "1        EC-RUC-1890001439001-3233  ...     5104157-RE-EEASA-142-2021   \n",
       "2       EC-RUC-0968533430001-43664  ...   4720310-LICS-UNEMI-013-2021   \n",
       "3      EC-RUC-1360000630001-102953  ...  4930830-RE-EP-GMJ-DGF-1-2021   \n",
       "4      EC-RUC-1768164300001-404551  ...     4980937-LIC-EPFLP-01-2021   \n",
       "...                            ...  ...                           ...   \n",
       "84696  EC-RUC-0968586470001-279324  ...   4992062-RE-EPMAPAS-001-2021   \n",
       "84697   EC-RUC-1760003410001-41357  ...    4661462-RE-SC-MDMQ-08-2021   \n",
       "84698    EC-RUC-1360000980001-2668  ...  5151471-REOALC-GADMANTA01-21   \n",
       "84699   EC-RUC-0968532700001-67188  ...   5302403-RE-GADMCN-17-21-LRG   \n",
       "84700    EC-RUC-0660000280001-2583  ...   5099697-RE-HGADPCH-039-2021   \n",
       "\n",
       "                     date_awards amount_awards currency  \\\n",
       "0      2021-05-07T14:21:51-05:00      13392.86      USD   \n",
       "1      2021-10-15T08:28:28-05:00       7000.00      USD   \n",
       "2      2021-04-23T10:25:08-05:00      59510.25      USD   \n",
       "3      2021-07-20T13:49:50-05:00       1700.00      USD   \n",
       "4      2021-08-30T08:43:16-05:00     749885.00      USD   \n",
       "...                          ...           ...      ...   \n",
       "84696  2021-08-18T10:04:49-05:00       2400.00      USD   \n",
       "84697  2021-02-10T11:27:11-05:00         15.60      USD   \n",
       "84698  2021-10-28T16:50:25-05:00     268000.00      USD   \n",
       "84699  2022-01-24T17:04:47-05:00      30590.89      USD   \n",
       "84700  2021-10-11T15:17:54-05:00     148474.03      USD   \n",
       "\n",
       "                                               budget_id  budget_amount  \\\n",
       "0         2021.19.01.A100.150.530207.000.13.01.000.0.000       13392.86   \n",
       "1                                      52202030102120128        7000.00   \n",
       "2      2021.181.0000.0000.82.00.000.002.000.0910.5303...       70005.18   \n",
       "3                                              5.3.08.07        1700.00   \n",
       "4                                            5.1.2.02.01      910648.25   \n",
       "...                                                  ...            ...   \n",
       "84696                                          6.3.02.07        2400.00   \n",
       "84697                                             730222          15.60   \n",
       "84698                                             530205      268000.00   \n",
       "84699                                        730404.3613       30590.89   \n",
       "84700                                             730207      148474.03   \n",
       "\n",
       "                 ruc codigoProvincia Codigo   Provincia  \n",
       "0      1360000200001              13     13      Manabi  \n",
       "1      1890001439001              18     18  Tungurahua  \n",
       "2      0968533430001               9      9      Guayas  \n",
       "3      1360000630001              13     13      Manabi  \n",
       "4      1768164300001              17     17   Pichincha  \n",
       "...              ...             ...    ...         ...  \n",
       "84696  0968586470001               9      9      Guayas  \n",
       "84697  1760003410001              17     17   Pichincha  \n",
       "84698  1360000980001              13     13      Manabi  \n",
       "84699  0968532700001               9      9      Guayas  \n",
       "84700  0660000280001               6      6  Chimborazo  \n",
       "\n",
       "[84701 rows x 34 columns]"
      ]
     },
     "execution_count": 28,
     "metadata": {},
     "output_type": "execute_result"
    }
   ],
   "source": [
    "df['codigoProvincia']=df['ruc'].str[:2].astype(int)\n",
    "df = df.merge(provincias,left_on = \"codigoProvincia\", right_on=\"Codigo\", how=\"left\")\n",
    "\n",
    "df"
   ]
  },
  {
   "cell_type": "code",
   "execution_count": 29,
   "metadata": {
    "gather": {
     "logged": 1657500899042
    },
    "jupyter": {
     "outputs_hidden": false,
     "source_hidden": false
    },
    "nteract": {
     "transient": {
      "deleting": false
     }
    }
   },
   "outputs": [
    {
     "data": {
      "text/html": [
       "<div>\n",
       "<style scoped>\n",
       "    .dataframe tbody tr th:only-of-type {\n",
       "        vertical-align: middle;\n",
       "    }\n",
       "\n",
       "    .dataframe tbody tr th {\n",
       "        vertical-align: top;\n",
       "    }\n",
       "\n",
       "    .dataframe thead th {\n",
       "        text-align: right;\n",
       "    }\n",
       "</style>\n",
       "<table border=\"1\" class=\"dataframe\">\n",
       "  <thead>\n",
       "    <tr style=\"text-align: right;\">\n",
       "      <th></th>\n",
       "      <th>ocid</th>\n",
       "      <th>id</th>\n",
       "      <th>initiationType</th>\n",
       "      <th>language</th>\n",
       "      <th>date</th>\n",
       "      <th>tag</th>\n",
       "      <th>title</th>\n",
       "      <th>description</th>\n",
       "      <th>status</th>\n",
       "      <th>procuringEntity_id</th>\n",
       "      <th>...</th>\n",
       "      <th>amount</th>\n",
       "      <th>dateSigned</th>\n",
       "      <th>id_awards</th>\n",
       "      <th>date_awards</th>\n",
       "      <th>amount_awards</th>\n",
       "      <th>currency</th>\n",
       "      <th>budget_id</th>\n",
       "      <th>budget_amount</th>\n",
       "      <th>ruc</th>\n",
       "      <th>Provincia</th>\n",
       "    </tr>\n",
       "  </thead>\n",
       "  <tbody>\n",
       "    <tr>\n",
       "      <th>0</th>\n",
       "      <td>ocds-5wno2w-REGES-MPORTO-2021-13-2332</td>\n",
       "      <td>REGES-MPORTO-2021-13-2332-2022-05-07T11:56:24....</td>\n",
       "      <td>tender</td>\n",
       "      <td>es</td>\n",
       "      <td>2022-05-07T07:11:05-05:00</td>\n",
       "      <td>[\"planning\",\"tender\",\"award\",\"contract\",\"imple...</td>\n",
       "      <td>REGES-MPORTO-2021-13-2332</td>\n",
       "      <td>ESPACIOS DE DIFUSIÓN MASIVA A TRAVÉS DE VALLAS...</td>\n",
       "      <td>complete</td>\n",
       "      <td>EC-RUC-1360000200001-2332</td>\n",
       "      <td>...</td>\n",
       "      <td>13392.86</td>\n",
       "      <td>2021-05-31T00:00:00-05:00</td>\n",
       "      <td>4748528-REGES-MPORTO-2021-13</td>\n",
       "      <td>2021-05-07T14:21:51-05:00</td>\n",
       "      <td>13392.86</td>\n",
       "      <td>USD</td>\n",
       "      <td>2021.19.01.A100.150.530207.000.13.01.000.0.000</td>\n",
       "      <td>13392.86</td>\n",
       "      <td>1360000200001</td>\n",
       "      <td>Manabi</td>\n",
       "    </tr>\n",
       "    <tr>\n",
       "      <th>1</th>\n",
       "      <td>ocds-5wno2w-RE-EEASA-142-2021-3233</td>\n",
       "      <td>RE-EEASA-142-2021-3233-2022-05-10T11:35:00.178...</td>\n",
       "      <td>tender</td>\n",
       "      <td>es</td>\n",
       "      <td>2022-05-10T06:46:51-05:00</td>\n",
       "      <td>[\"planning\",\"tender\",\"award\",\"contract\",\"imple...</td>\n",
       "      <td>RE-EEASA-142-2021-3233</td>\n",
       "      <td>?SERVICIO DE PAUTAJE EN EL MEDIO DE COMUNICACI...</td>\n",
       "      <td>complete</td>\n",
       "      <td>EC-RUC-1890001439001-3233</td>\n",
       "      <td>...</td>\n",
       "      <td>7000.00</td>\n",
       "      <td>2021-10-20T00:00:00-05:00</td>\n",
       "      <td>5104157-RE-EEASA-142-2021</td>\n",
       "      <td>2021-10-15T08:28:28-05:00</td>\n",
       "      <td>7000.00</td>\n",
       "      <td>USD</td>\n",
       "      <td>52202030102120128</td>\n",
       "      <td>7000.00</td>\n",
       "      <td>1890001439001</td>\n",
       "      <td>Tungurahua</td>\n",
       "    </tr>\n",
       "    <tr>\n",
       "      <th>2</th>\n",
       "      <td>ocds-5wno2w-LICS-UNEMI-013-2021-43664</td>\n",
       "      <td>LICS-UNEMI-013-2021-43664-2022-05-11T11:32:30....</td>\n",
       "      <td>tender</td>\n",
       "      <td>es</td>\n",
       "      <td>2022-05-11T06:48:06-05:00</td>\n",
       "      <td>[\"planning\",\"tender\",\"award\",\"contract\",\"imple...</td>\n",
       "      <td>LICS-UNEMI-013-2021-43664</td>\n",
       "      <td>CONTRATACION DE POLIZAS DE SEGUROMULTIRIESGO: ...</td>\n",
       "      <td>complete</td>\n",
       "      <td>EC-RUC-0968533430001-43664</td>\n",
       "      <td>...</td>\n",
       "      <td>59510.25</td>\n",
       "      <td>2021-06-23T00:00:00-05:00</td>\n",
       "      <td>4720310-LICS-UNEMI-013-2021</td>\n",
       "      <td>2021-04-23T10:25:08-05:00</td>\n",
       "      <td>59510.25</td>\n",
       "      <td>USD</td>\n",
       "      <td>2021.181.0000.0000.82.00.000.002.000.0910.5303...</td>\n",
       "      <td>70005.18</td>\n",
       "      <td>0968533430001</td>\n",
       "      <td>Guayas</td>\n",
       "    </tr>\n",
       "    <tr>\n",
       "      <th>3</th>\n",
       "      <td>ocds-5wno2w-RE-EP-GMJ-DGF-1-2021-102953</td>\n",
       "      <td>RE-EP-GMJ-DGF-1-2021-102953-2022-05-11T11:34:5...</td>\n",
       "      <td>tender</td>\n",
       "      <td>es</td>\n",
       "      <td>2022-05-11T06:48:07-05:00</td>\n",
       "      <td>[\"planning\",\"tender\",\"award\",\"contract\",\"imple...</td>\n",
       "      <td>RE-EP-GMJ-DGF-1-2021-102953</td>\n",
       "      <td>Elaboración y Adquisición de especiesvaloradas...</td>\n",
       "      <td>complete</td>\n",
       "      <td>EC-RUC-1360000630001-102953</td>\n",
       "      <td>...</td>\n",
       "      <td>1700.00</td>\n",
       "      <td>2021-08-02T00:00:00-05:00</td>\n",
       "      <td>4930830-RE-EP-GMJ-DGF-1-2021</td>\n",
       "      <td>2021-07-20T13:49:50-05:00</td>\n",
       "      <td>1700.00</td>\n",
       "      <td>USD</td>\n",
       "      <td>5.3.08.07</td>\n",
       "      <td>1700.00</td>\n",
       "      <td>1360000630001</td>\n",
       "      <td>Manabi</td>\n",
       "    </tr>\n",
       "    <tr>\n",
       "      <th>4</th>\n",
       "      <td>ocds-5wno2w-LIC-EPFLP-01-2021-404551</td>\n",
       "      <td>LIC-EPFLP-01-2021-404551-2022-05-14T12:25:47.8...</td>\n",
       "      <td>tender</td>\n",
       "      <td>es</td>\n",
       "      <td>2022-05-14T07:33:35-05:00</td>\n",
       "      <td>[\"planning\",\"tender\",\"award\",\"contract\"]</td>\n",
       "      <td>LIC-EPFLP-01-2021-404551</td>\n",
       "      <td>CONTRATACIÓN DE LA PÓLIZA DE SEGUROS MARÍTIMOS...</td>\n",
       "      <td>complete</td>\n",
       "      <td>EC-RUC-1768164300001-404551</td>\n",
       "      <td>...</td>\n",
       "      <td>749885.00</td>\n",
       "      <td>2021-09-15T00:00:00-05:00</td>\n",
       "      <td>4980937-LIC-EPFLP-01-2021</td>\n",
       "      <td>2021-08-30T08:43:16-05:00</td>\n",
       "      <td>749885.00</td>\n",
       "      <td>USD</td>\n",
       "      <td>5.1.2.02.01</td>\n",
       "      <td>910648.25</td>\n",
       "      <td>1768164300001</td>\n",
       "      <td>Pichincha</td>\n",
       "    </tr>\n",
       "    <tr>\n",
       "      <th>...</th>\n",
       "      <td>...</td>\n",
       "      <td>...</td>\n",
       "      <td>...</td>\n",
       "      <td>...</td>\n",
       "      <td>...</td>\n",
       "      <td>...</td>\n",
       "      <td>...</td>\n",
       "      <td>...</td>\n",
       "      <td>...</td>\n",
       "      <td>...</td>\n",
       "      <td>...</td>\n",
       "      <td>...</td>\n",
       "      <td>...</td>\n",
       "      <td>...</td>\n",
       "      <td>...</td>\n",
       "      <td>...</td>\n",
       "      <td>...</td>\n",
       "      <td>...</td>\n",
       "      <td>...</td>\n",
       "      <td>...</td>\n",
       "      <td>...</td>\n",
       "    </tr>\n",
       "    <tr>\n",
       "      <th>84696</th>\n",
       "      <td>ocds-5wno2w-RE-EPMAPAS-001-2021-279324</td>\n",
       "      <td>RE-EPMAPAS-001-2021-279324-2022-04-28T11:33:29...</td>\n",
       "      <td>tender</td>\n",
       "      <td>es</td>\n",
       "      <td>2022-04-28T06:45:59-05:00</td>\n",
       "      <td>[\"planning\",\"tender\",\"award\",\"contract\",\"imple...</td>\n",
       "      <td>RE-EPMAPAS-001-2021-279324</td>\n",
       "      <td>CONTRATACION DE PAUTAS COMERCIALES EN EL PROGR...</td>\n",
       "      <td>complete</td>\n",
       "      <td>EC-RUC-0968586470001-279324</td>\n",
       "      <td>...</td>\n",
       "      <td>2400.00</td>\n",
       "      <td>2021-08-23T00:00:00-05:00</td>\n",
       "      <td>4992062-RE-EPMAPAS-001-2021</td>\n",
       "      <td>2021-08-18T10:04:49-05:00</td>\n",
       "      <td>2400.00</td>\n",
       "      <td>USD</td>\n",
       "      <td>6.3.02.07</td>\n",
       "      <td>2400.00</td>\n",
       "      <td>0968586470001</td>\n",
       "      <td>Guayas</td>\n",
       "    </tr>\n",
       "    <tr>\n",
       "      <th>84697</th>\n",
       "      <td>ocds-5wno2w-RE-SC-MDMQ-08-2021-41357</td>\n",
       "      <td>RE-SC-MDMQ-08-2021-41357-2022-04-28T11:30:12.1...</td>\n",
       "      <td>tender</td>\n",
       "      <td>es</td>\n",
       "      <td>2022-04-28T06:45:59-05:00</td>\n",
       "      <td>[\"planning\",\"tender\",\"award\",\"contract\",\"imple...</td>\n",
       "      <td>RE-SC-MDMQ-08-2021-41357</td>\n",
       "      <td>CONTRATACIÓN DEL SERVICIO COORDINACIÓN Y LOCUC...</td>\n",
       "      <td>complete</td>\n",
       "      <td>EC-RUC-1760003410001-41357</td>\n",
       "      <td>...</td>\n",
       "      <td>15600.00</td>\n",
       "      <td>2021-02-18T00:00:00-05:00</td>\n",
       "      <td>4661462-RE-SC-MDMQ-08-2021</td>\n",
       "      <td>2021-02-10T11:27:11-05:00</td>\n",
       "      <td>15.60</td>\n",
       "      <td>USD</td>\n",
       "      <td>730222</td>\n",
       "      <td>15.60</td>\n",
       "      <td>1760003410001</td>\n",
       "      <td>Pichincha</td>\n",
       "    </tr>\n",
       "    <tr>\n",
       "      <th>84698</th>\n",
       "      <td>ocds-5wno2w-REOALC-GADMANTA01-21-2668</td>\n",
       "      <td>REOALC-GADMANTA01-21-2668-2022-04-30T12:21:31....</td>\n",
       "      <td>tender</td>\n",
       "      <td>es</td>\n",
       "      <td>2022-04-30T07:28:18-05:00</td>\n",
       "      <td>[\"planning\",\"tender\",\"award\",\"contract\"]</td>\n",
       "      <td>REOALC-GADMANTA01-21-2668</td>\n",
       "      <td>CONTRATACIÓN DEL SERVICIO DE ORGANIZACIÓN, PRO...</td>\n",
       "      <td>complete</td>\n",
       "      <td>EC-RUC-1360000980001-2668</td>\n",
       "      <td>...</td>\n",
       "      <td>268000.00</td>\n",
       "      <td>2021-12-22T00:00:00-05:00</td>\n",
       "      <td>5151471-REOALC-GADMANTA01-21</td>\n",
       "      <td>2021-10-28T16:50:25-05:00</td>\n",
       "      <td>268000.00</td>\n",
       "      <td>USD</td>\n",
       "      <td>530205</td>\n",
       "      <td>268000.00</td>\n",
       "      <td>1360000980001</td>\n",
       "      <td>Manabi</td>\n",
       "    </tr>\n",
       "    <tr>\n",
       "      <th>84699</th>\n",
       "      <td>ocds-5wno2w-RE-GADMCN-17-21-LRG-67188</td>\n",
       "      <td>RE-GADMCN-17-21-LRG-67188-2022-05-04T11:48:52....</td>\n",
       "      <td>tender</td>\n",
       "      <td>es</td>\n",
       "      <td>2022-05-04T06:51:48-05:00</td>\n",
       "      <td>[\"planning\",\"tender\",\"award\",\"contract\"]</td>\n",
       "      <td>RE-GADMCN-17-21-LRG-67188</td>\n",
       "      <td>PRESTACIÓN DE SERVICIOS DE INSPECCIÓN Y MANTEN...</td>\n",
       "      <td>active</td>\n",
       "      <td>EC-RUC-0968532700001-67188</td>\n",
       "      <td>...</td>\n",
       "      <td>30590.89</td>\n",
       "      <td>2022-02-11T00:00:00-05:00</td>\n",
       "      <td>5302403-RE-GADMCN-17-21-LRG</td>\n",
       "      <td>2022-01-24T17:04:47-05:00</td>\n",
       "      <td>30590.89</td>\n",
       "      <td>USD</td>\n",
       "      <td>730404.3613</td>\n",
       "      <td>30590.89</td>\n",
       "      <td>0968532700001</td>\n",
       "      <td>Guayas</td>\n",
       "    </tr>\n",
       "    <tr>\n",
       "      <th>84700</th>\n",
       "      <td>ocds-5wno2w-RE-HGADPCH-039-2021-2583</td>\n",
       "      <td>RE-HGADPCH-039-2021-2583-2022-05-04T11:39:57.9...</td>\n",
       "      <td>tender</td>\n",
       "      <td>es</td>\n",
       "      <td>2022-05-04T06:51:48-05:00</td>\n",
       "      <td>[\"planning\",\"tender\",\"award\",\"contract\",\"imple...</td>\n",
       "      <td>RE-HGADPCH-039-2021-2583</td>\n",
       "      <td>CONTRATACIÓN DEL SERVICIO DE DIFUSIÓN, ELABORA...</td>\n",
       "      <td>complete</td>\n",
       "      <td>EC-RUC-0660000280001-2583</td>\n",
       "      <td>...</td>\n",
       "      <td>148474.03</td>\n",
       "      <td>2021-10-14T00:00:00-05:00</td>\n",
       "      <td>5099697-RE-HGADPCH-039-2021</td>\n",
       "      <td>2021-10-11T15:17:54-05:00</td>\n",
       "      <td>148474.03</td>\n",
       "      <td>USD</td>\n",
       "      <td>730207</td>\n",
       "      <td>148474.03</td>\n",
       "      <td>0660000280001</td>\n",
       "      <td>Chimborazo</td>\n",
       "    </tr>\n",
       "  </tbody>\n",
       "</table>\n",
       "<p>84701 rows × 32 columns</p>\n",
       "</div>"
      ],
      "text/plain": [
       "                                          ocid  \\\n",
       "0        ocds-5wno2w-REGES-MPORTO-2021-13-2332   \n",
       "1           ocds-5wno2w-RE-EEASA-142-2021-3233   \n",
       "2        ocds-5wno2w-LICS-UNEMI-013-2021-43664   \n",
       "3      ocds-5wno2w-RE-EP-GMJ-DGF-1-2021-102953   \n",
       "4         ocds-5wno2w-LIC-EPFLP-01-2021-404551   \n",
       "...                                        ...   \n",
       "84696   ocds-5wno2w-RE-EPMAPAS-001-2021-279324   \n",
       "84697     ocds-5wno2w-RE-SC-MDMQ-08-2021-41357   \n",
       "84698    ocds-5wno2w-REOALC-GADMANTA01-21-2668   \n",
       "84699    ocds-5wno2w-RE-GADMCN-17-21-LRG-67188   \n",
       "84700     ocds-5wno2w-RE-HGADPCH-039-2021-2583   \n",
       "\n",
       "                                                      id initiationType  \\\n",
       "0      REGES-MPORTO-2021-13-2332-2022-05-07T11:56:24....         tender   \n",
       "1      RE-EEASA-142-2021-3233-2022-05-10T11:35:00.178...         tender   \n",
       "2      LICS-UNEMI-013-2021-43664-2022-05-11T11:32:30....         tender   \n",
       "3      RE-EP-GMJ-DGF-1-2021-102953-2022-05-11T11:34:5...         tender   \n",
       "4      LIC-EPFLP-01-2021-404551-2022-05-14T12:25:47.8...         tender   \n",
       "...                                                  ...            ...   \n",
       "84696  RE-EPMAPAS-001-2021-279324-2022-04-28T11:33:29...         tender   \n",
       "84697  RE-SC-MDMQ-08-2021-41357-2022-04-28T11:30:12.1...         tender   \n",
       "84698  REOALC-GADMANTA01-21-2668-2022-04-30T12:21:31....         tender   \n",
       "84699  RE-GADMCN-17-21-LRG-67188-2022-05-04T11:48:52....         tender   \n",
       "84700  RE-HGADPCH-039-2021-2583-2022-05-04T11:39:57.9...         tender   \n",
       "\n",
       "      language                       date  \\\n",
       "0           es  2022-05-07T07:11:05-05:00   \n",
       "1           es  2022-05-10T06:46:51-05:00   \n",
       "2           es  2022-05-11T06:48:06-05:00   \n",
       "3           es  2022-05-11T06:48:07-05:00   \n",
       "4           es  2022-05-14T07:33:35-05:00   \n",
       "...        ...                        ...   \n",
       "84696       es  2022-04-28T06:45:59-05:00   \n",
       "84697       es  2022-04-28T06:45:59-05:00   \n",
       "84698       es  2022-04-30T07:28:18-05:00   \n",
       "84699       es  2022-05-04T06:51:48-05:00   \n",
       "84700       es  2022-05-04T06:51:48-05:00   \n",
       "\n",
       "                                                     tag  \\\n",
       "0      [\"planning\",\"tender\",\"award\",\"contract\",\"imple...   \n",
       "1      [\"planning\",\"tender\",\"award\",\"contract\",\"imple...   \n",
       "2      [\"planning\",\"tender\",\"award\",\"contract\",\"imple...   \n",
       "3      [\"planning\",\"tender\",\"award\",\"contract\",\"imple...   \n",
       "4               [\"planning\",\"tender\",\"award\",\"contract\"]   \n",
       "...                                                  ...   \n",
       "84696  [\"planning\",\"tender\",\"award\",\"contract\",\"imple...   \n",
       "84697  [\"planning\",\"tender\",\"award\",\"contract\",\"imple...   \n",
       "84698           [\"planning\",\"tender\",\"award\",\"contract\"]   \n",
       "84699           [\"planning\",\"tender\",\"award\",\"contract\"]   \n",
       "84700  [\"planning\",\"tender\",\"award\",\"contract\",\"imple...   \n",
       "\n",
       "                             title  \\\n",
       "0        REGES-MPORTO-2021-13-2332   \n",
       "1           RE-EEASA-142-2021-3233   \n",
       "2        LICS-UNEMI-013-2021-43664   \n",
       "3      RE-EP-GMJ-DGF-1-2021-102953   \n",
       "4         LIC-EPFLP-01-2021-404551   \n",
       "...                            ...   \n",
       "84696   RE-EPMAPAS-001-2021-279324   \n",
       "84697     RE-SC-MDMQ-08-2021-41357   \n",
       "84698    REOALC-GADMANTA01-21-2668   \n",
       "84699    RE-GADMCN-17-21-LRG-67188   \n",
       "84700     RE-HGADPCH-039-2021-2583   \n",
       "\n",
       "                                             description    status  \\\n",
       "0      ESPACIOS DE DIFUSIÓN MASIVA A TRAVÉS DE VALLAS...  complete   \n",
       "1      ?SERVICIO DE PAUTAJE EN EL MEDIO DE COMUNICACI...  complete   \n",
       "2      CONTRATACION DE POLIZAS DE SEGUROMULTIRIESGO: ...  complete   \n",
       "3      Elaboración y Adquisición de especiesvaloradas...  complete   \n",
       "4      CONTRATACIÓN DE LA PÓLIZA DE SEGUROS MARÍTIMOS...  complete   \n",
       "...                                                  ...       ...   \n",
       "84696  CONTRATACION DE PAUTAS COMERCIALES EN EL PROGR...  complete   \n",
       "84697  CONTRATACIÓN DEL SERVICIO COORDINACIÓN Y LOCUC...  complete   \n",
       "84698  CONTRATACIÓN DEL SERVICIO DE ORGANIZACIÓN, PRO...  complete   \n",
       "84699  PRESTACIÓN DE SERVICIOS DE INSPECCIÓN Y MANTEN...    active   \n",
       "84700  CONTRATACIÓN DEL SERVICIO DE DIFUSIÓN, ELABORA...  complete   \n",
       "\n",
       "                procuringEntity_id  ...     amount                 dateSigned  \\\n",
       "0        EC-RUC-1360000200001-2332  ...   13392.86  2021-05-31T00:00:00-05:00   \n",
       "1        EC-RUC-1890001439001-3233  ...    7000.00  2021-10-20T00:00:00-05:00   \n",
       "2       EC-RUC-0968533430001-43664  ...   59510.25  2021-06-23T00:00:00-05:00   \n",
       "3      EC-RUC-1360000630001-102953  ...    1700.00  2021-08-02T00:00:00-05:00   \n",
       "4      EC-RUC-1768164300001-404551  ...  749885.00  2021-09-15T00:00:00-05:00   \n",
       "...                            ...  ...        ...                        ...   \n",
       "84696  EC-RUC-0968586470001-279324  ...    2400.00  2021-08-23T00:00:00-05:00   \n",
       "84697   EC-RUC-1760003410001-41357  ...   15600.00  2021-02-18T00:00:00-05:00   \n",
       "84698    EC-RUC-1360000980001-2668  ...  268000.00  2021-12-22T00:00:00-05:00   \n",
       "84699   EC-RUC-0968532700001-67188  ...   30590.89  2022-02-11T00:00:00-05:00   \n",
       "84700    EC-RUC-0660000280001-2583  ...  148474.03  2021-10-14T00:00:00-05:00   \n",
       "\n",
       "                          id_awards                date_awards amount_awards  \\\n",
       "0      4748528-REGES-MPORTO-2021-13  2021-05-07T14:21:51-05:00      13392.86   \n",
       "1         5104157-RE-EEASA-142-2021  2021-10-15T08:28:28-05:00       7000.00   \n",
       "2       4720310-LICS-UNEMI-013-2021  2021-04-23T10:25:08-05:00      59510.25   \n",
       "3      4930830-RE-EP-GMJ-DGF-1-2021  2021-07-20T13:49:50-05:00       1700.00   \n",
       "4         4980937-LIC-EPFLP-01-2021  2021-08-30T08:43:16-05:00     749885.00   \n",
       "...                             ...                        ...           ...   \n",
       "84696   4992062-RE-EPMAPAS-001-2021  2021-08-18T10:04:49-05:00       2400.00   \n",
       "84697    4661462-RE-SC-MDMQ-08-2021  2021-02-10T11:27:11-05:00         15.60   \n",
       "84698  5151471-REOALC-GADMANTA01-21  2021-10-28T16:50:25-05:00     268000.00   \n",
       "84699   5302403-RE-GADMCN-17-21-LRG  2022-01-24T17:04:47-05:00      30590.89   \n",
       "84700   5099697-RE-HGADPCH-039-2021  2021-10-11T15:17:54-05:00     148474.03   \n",
       "\n",
       "       currency                                          budget_id  \\\n",
       "0           USD     2021.19.01.A100.150.530207.000.13.01.000.0.000   \n",
       "1           USD                                  52202030102120128   \n",
       "2           USD  2021.181.0000.0000.82.00.000.002.000.0910.5303...   \n",
       "3           USD                                          5.3.08.07   \n",
       "4           USD                                        5.1.2.02.01   \n",
       "...         ...                                                ...   \n",
       "84696       USD                                          6.3.02.07   \n",
       "84697       USD                                             730222   \n",
       "84698       USD                                             530205   \n",
       "84699       USD                                        730404.3613   \n",
       "84700       USD                                             730207   \n",
       "\n",
       "      budget_amount            ruc   Provincia  \n",
       "0          13392.86  1360000200001      Manabi  \n",
       "1           7000.00  1890001439001  Tungurahua  \n",
       "2          70005.18  0968533430001      Guayas  \n",
       "3           1700.00  1360000630001      Manabi  \n",
       "4         910648.25  1768164300001   Pichincha  \n",
       "...             ...            ...         ...  \n",
       "84696       2400.00  0968586470001      Guayas  \n",
       "84697         15.60  1760003410001   Pichincha  \n",
       "84698     268000.00  1360000980001      Manabi  \n",
       "84699      30590.89  0968532700001      Guayas  \n",
       "84700     148474.03  0660000280001  Chimborazo  \n",
       "\n",
       "[84701 rows x 32 columns]"
      ]
     },
     "execution_count": 29,
     "metadata": {},
     "output_type": "execute_result"
    }
   ],
   "source": [
    "df.drop(columns=[\"codigoProvincia\",\"Codigo\"], inplace=True)\n",
    "df"
   ]
  },
  {
   "cell_type": "code",
   "execution_count": 31,
   "metadata": {
    "gather": {
     "logged": 1657500916300
    },
    "jupyter": {
     "outputs_hidden": false,
     "source_hidden": false
    },
    "nteract": {
     "transient": {
      "deleting": false
     }
    }
   },
   "outputs": [],
   "source": [
    "df.to_csv(\"dataset-RedFlags.csv\")"
   ]
  }
 ],
 "metadata": {
  "kernel_info": {
   "name": "python3"
  },
  "kernelspec": {
   "display_name": "Python 3 (ipykernel)",
   "language": "python",
   "name": "python3"
  },
  "language_info": {
   "codemirror_mode": {
    "name": "ipython",
    "version": 3
   },
   "file_extension": ".py",
   "mimetype": "text/x-python",
   "name": "python",
   "nbconvert_exporter": "python",
   "pygments_lexer": "ipython3",
   "version": "3.8.10"
  },
  "microsoft": {
   "host": {
    "AzureML": {
     "notebookHasBeenCompleted": true
    }
   }
  },
  "nteract": {
   "version": "nteract-front-end@1.0.0"
  },
  "vscode": {
   "interpreter": {
    "hash": "b95bd45029f467f5ffdb04a0dca108fe317981093d378cd9f566d3ace075d8db"
   }
  }
 },
 "nbformat": 4,
 "nbformat_minor": 2
}

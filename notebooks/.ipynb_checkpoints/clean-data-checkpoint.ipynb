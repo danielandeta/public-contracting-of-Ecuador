{
 "cells": [
  {
   "cell_type": "code",
   "execution_count": 1,
   "metadata": {
    "gather": {
     "logged": 1655961464779
    }
   },
   "outputs": [],
   "source": [
    "import pandas as pd"
   ]
  },
  {
   "cell_type": "code",
   "execution_count": 2,
   "metadata": {
    "gather": {
     "logged": 1655961465770
    }
   },
   "outputs": [
    {
     "name": "stderr",
     "output_type": "stream",
     "text": [
      "/home/itscitlalli/.local/lib/python3.9/site-packages/IPython/core/interactiveshell.py:3397: DtypeWarning: Columns (4,6,13,14) have mixed types.Specify dtype option on import or set low_memory=False.\n",
      "  exec(code_obj, self.user_global_ns, self.user_ns)\n"
     ]
    },
    {
     "data": {
      "text/plain": [
       "ocid                                  0\n",
       "release_id                            0\n",
       "id                                    0\n",
       "title                            161869\n",
       "description                      123757\n",
       "status                            48559\n",
       "date                             131407\n",
       "amount                                3\n",
       "currency                              3\n",
       "correctedValue_amount            161869\n",
       "correctedValue_currency          161869\n",
       "enteredValue_amount              161869\n",
       "enteredValue_currency            161869\n",
       "contractPeriod_startDate         155762\n",
       "contractPeriod_endDate           155762\n",
       "contractPeriod_maxExtentDate     161869\n",
       "contractPeriod_durationInDays    155764\n",
       "dtype: int64"
      ]
     },
     "execution_count": 2,
     "metadata": {},
     "output_type": "execute_result"
    }
   ],
   "source": [
    "df_awards = pd.read_csv(\"../data/awards_2021.csv\")\n",
    "df_awards.head()\n",
    "df_awards.isnull().sum()"
   ]
  },
  {
   "cell_type": "code",
   "execution_count": 3,
   "metadata": {
    "gather": {
     "logged": 1655961466011
    },
    "jupyter": {
     "outputs_hidden": false,
     "source_hidden": false
    },
    "nteract": {
     "transient": {
      "deleting": false
     }
    }
   },
   "outputs": [
    {
     "data": {
      "text/plain": [
       "ocid              0\n",
       "release_id        0\n",
       "id                0\n",
       "status        48559\n",
       "amount            3\n",
       "currency          3\n",
       "dtype: int64"
      ]
     },
     "execution_count": 3,
     "metadata": {},
     "output_type": "execute_result"
    }
   ],
   "source": [
    "df_awards.drop(columns=[\"title\", \"description\", \"date\", \"correctedValue_amount\", \"correctedValue_currency\", \"enteredValue_amount\", \"enteredValue_currency\", \"contractPeriod_startDate\", \"contractPeriod_endDate\", \"contractPeriod_maxExtentDate\", \"contractPeriod_durationInDays\"], inplace=True)\n",
    "df_awards.isnull().sum()"
   ]
  },
  {
   "cell_type": "code",
   "execution_count": 4,
   "metadata": {
    "gather": {
     "logged": 1655961466588
    }
   },
   "outputs": [
    {
     "data": {
      "text/plain": [
       "ocid                                  0\n",
       "release_id                            0\n",
       "id                                    0\n",
       "awardID                               0\n",
       "title                            151586\n",
       "description                      151586\n",
       "status                                0\n",
       "contractPeriod_startDate         123757\n",
       "contractPeriod_endDate           123757\n",
       "contractPeriod_maxExtentDate     151586\n",
       "contractPeriod_durationInDays    123761\n",
       "amount                           123757\n",
       "currency                         123757\n",
       "dateSigned                       123757\n",
       "dtype: int64"
      ]
     },
     "execution_count": 4,
     "metadata": {},
     "output_type": "execute_result"
    }
   ],
   "source": [
    "df_contracts = pd.read_csv(\"../data/contracts_2021.csv\")\n",
    "df_contracts.head()\n",
    "df_contracts.isnull().sum()\n"
   ]
  },
  {
   "cell_type": "code",
   "execution_count": 5,
   "metadata": {
    "gather": {
     "logged": 1655961466906
    },
    "jupyter": {
     "outputs_hidden": false,
     "source_hidden": false
    },
    "nteract": {
     "transient": {
      "deleting": false
     }
    }
   },
   "outputs": [
    {
     "data": {
      "text/plain": [
       "ocid          0\n",
       "release_id    0\n",
       "id            0\n",
       "awardID       0\n",
       "status        0\n",
       "dtype: int64"
      ]
     },
     "execution_count": 5,
     "metadata": {},
     "output_type": "execute_result"
    }
   ],
   "source": [
    "df_contracts.drop(columns=[\"title\", \"description\", \"contractPeriod_startDate\", \"contractPeriod_endDate\", \"contractPeriod_maxExtentDate\", \"contractPeriod_durationInDays\", \"amount\", \"currency\", \"dateSigned\"], inplace=True)\n",
    "df_contracts.isnull().sum()"
   ]
  },
  {
   "cell_type": "code",
   "execution_count": 6,
   "metadata": {
    "gather": {
     "logged": 1655961467141
    }
   },
   "outputs": [
    {
     "data": {
      "text/html": [
       "<div>\n",
       "<style scoped>\n",
       "    .dataframe tbody tr th:only-of-type {\n",
       "        vertical-align: middle;\n",
       "    }\n",
       "\n",
       "    .dataframe tbody tr th {\n",
       "        vertical-align: top;\n",
       "    }\n",
       "\n",
       "    .dataframe thead th {\n",
       "        text-align: right;\n",
       "    }\n",
       "</style>\n",
       "<table border=\"1\" class=\"dataframe\">\n",
       "  <thead>\n",
       "    <tr style=\"text-align: right;\">\n",
       "      <th></th>\n",
       "      <th>extension</th>\n",
       "    </tr>\n",
       "  </thead>\n",
       "  <tbody>\n",
       "    <tr>\n",
       "      <th>0</th>\n",
       "      <td>https://raw.githubusercontent.com/open-contrac...</td>\n",
       "    </tr>\n",
       "    <tr>\n",
       "      <th>1</th>\n",
       "      <td>https://raw.githubusercontent.com/open-contrac...</td>\n",
       "    </tr>\n",
       "    <tr>\n",
       "      <th>2</th>\n",
       "      <td>https://raw.githubusercontent.com/open-contrac...</td>\n",
       "    </tr>\n",
       "    <tr>\n",
       "      <th>3</th>\n",
       "      <td>https://raw.githubusercontent.com/GobiernoFaci...</td>\n",
       "    </tr>\n",
       "    <tr>\n",
       "      <th>4</th>\n",
       "      <td>https://gitlab.com/dncp-opendata/ocds_auctions...</td>\n",
       "    </tr>\n",
       "  </tbody>\n",
       "</table>\n",
       "</div>"
      ],
      "text/plain": [
       "                                           extension\n",
       "0  https://raw.githubusercontent.com/open-contrac...\n",
       "1  https://raw.githubusercontent.com/open-contrac...\n",
       "2  https://raw.githubusercontent.com/open-contrac...\n",
       "3  https://raw.githubusercontent.com/GobiernoFaci...\n",
       "4  https://gitlab.com/dncp-opendata/ocds_auctions..."
      ]
     },
     "execution_count": 6,
     "metadata": {},
     "output_type": "execute_result"
    }
   ],
   "source": [
    "df_extensions = pd.read_csv(\"../data/extensions_2021.csv\")\n",
    "df_extensions.head()"
   ]
  },
  {
   "cell_type": "code",
   "execution_count": 7,
   "metadata": {
    "gather": {
     "logged": 1655961467427
    }
   },
   "outputs": [
    {
     "data": {
      "text/html": [
       "<div>\n",
       "<style scoped>\n",
       "    .dataframe tbody tr th:only-of-type {\n",
       "        vertical-align: middle;\n",
       "    }\n",
       "\n",
       "    .dataframe tbody tr th {\n",
       "        vertical-align: top;\n",
       "    }\n",
       "\n",
       "    .dataframe thead th {\n",
       "        text-align: right;\n",
       "    }\n",
       "</style>\n",
       "<table border=\"1\" class=\"dataframe\">\n",
       "  <thead>\n",
       "    <tr style=\"text-align: right;\">\n",
       "      <th></th>\n",
       "      <th>Uri</th>\n",
       "      <th>Version</th>\n",
       "      <th>PublisherName</th>\n",
       "      <th>PublisherScheme</th>\n",
       "      <th>PublisherUid</th>\n",
       "      <th>PublisherUri</th>\n",
       "      <th>License</th>\n",
       "      <th>PublicationPolicy</th>\n",
       "      <th>PublishedDate</th>\n",
       "    </tr>\n",
       "  </thead>\n",
       "  <tbody>\n",
       "    <tr>\n",
       "      <th>0</th>\n",
       "      <td>https://portal.compraspublicas.gob.ec/sercop/d...</td>\n",
       "      <td>1.1</td>\n",
       "      <td>Servicio Nacional de Contratación Pública (SER...</td>\n",
       "      <td>OCDS</td>\n",
       "      <td>ocds-5wno2w</td>\n",
       "      <td>https://www.compraspublicas.gob.ec</td>\n",
       "      <td>https://creativecommons.org/licenses/by/3.0/ec/</td>\n",
       "      <td>https://datosabiertos.compraspublicas.gob.ec/P...</td>\n",
       "      <td>2022-06-22T12:48:52.215Z</td>\n",
       "    </tr>\n",
       "  </tbody>\n",
       "</table>\n",
       "</div>"
      ],
      "text/plain": [
       "                                                 Uri  Version  \\\n",
       "0  https://portal.compraspublicas.gob.ec/sercop/d...      1.1   \n",
       "\n",
       "                                       PublisherName PublisherScheme  \\\n",
       "0  Servicio Nacional de Contratación Pública (SER...            OCDS   \n",
       "\n",
       "  PublisherUid                        PublisherUri  \\\n",
       "0  ocds-5wno2w  https://www.compraspublicas.gob.ec   \n",
       "\n",
       "                                           License  \\\n",
       "0  https://creativecommons.org/licenses/by/3.0/ec/   \n",
       "\n",
       "                                   PublicationPolicy             PublishedDate  \n",
       "0  https://datosabiertos.compraspublicas.gob.ec/P...  2022-06-22T12:48:52.215Z  "
      ]
     },
     "execution_count": 7,
     "metadata": {},
     "output_type": "execute_result"
    }
   ],
   "source": [
    "df_metadata = pd.read_csv(\"../data/metadata_2021.csv\")\n",
    "df_metadata.head()"
   ]
  },
  {
   "cell_type": "code",
   "execution_count": 8,
   "metadata": {
    "gather": {
     "logged": 1655961467732
    }
   },
   "outputs": [
    {
     "data": {
      "text/plain": [
       "ocid                      0\n",
       "id                        0\n",
       "rationale                 1\n",
       "budget_id                 0\n",
       "budget_description    38202\n",
       "budget_amount         19740\n",
       "budget_currency       19740\n",
       "dtype: int64"
      ]
     },
     "execution_count": 8,
     "metadata": {},
     "output_type": "execute_result"
    }
   ],
   "source": [
    "df_planning = pd.read_csv(\"../data/planning_2021.csv\")\n",
    "df_planning.head()\n",
    "df_planning.isnull().sum()"
   ]
  },
  {
   "cell_type": "code",
   "execution_count": 9,
   "metadata": {
    "gather": {
     "logged": 1655961468074
    },
    "jupyter": {
     "outputs_hidden": false,
     "source_hidden": false
    },
    "nteract": {
     "transient": {
      "deleting": false
     }
    }
   },
   "outputs": [
    {
     "data": {
      "text/plain": [
       "ocid               0\n",
       "id                 0\n",
       "rationale          0\n",
       "budget_id          0\n",
       "budget_amount      0\n",
       "budget_currency    0\n",
       "dtype: int64"
      ]
     },
     "execution_count": 9,
     "metadata": {},
     "output_type": "execute_result"
    }
   ],
   "source": [
    "df_planning.drop(columns=[\"budget_description\"], inplace=True)\n",
    "df_planning.dropna(subset=[\"budget_amount\", \"budget_currency\"], how=\"all\", inplace=True)\n",
    "df_planning.isnull().sum()"
   ]
  },
  {
   "cell_type": "code",
   "execution_count": 10,
   "metadata": {
    "gather": {
     "logged": 1655961468444
    }
   },
   "outputs": [
    {
     "data": {
      "text/plain": [
       "ocid              0\n",
       "id                0\n",
       "initiationType    0\n",
       "buyer_id          0\n",
       "buyer_name        0\n",
       "language          0\n",
       "date              0\n",
       "tag               0\n",
       "dtype: int64"
      ]
     },
     "execution_count": 10,
     "metadata": {},
     "output_type": "execute_result"
    }
   ],
   "source": [
    "df_releases = pd.read_csv(\"../data/releases_2021.csv\")\n",
    "df_releases.head()\n",
    "df_releases.isnull().sum()"
   ]
  },
  {
   "cell_type": "code",
   "execution_count": 11,
   "metadata": {
    "gather": {
     "logged": 1655961469250
    }
   },
   "outputs": [
    {
     "data": {
      "text/plain": [
       "ocid           0\n",
       "release_id     0\n",
       "award_id       0\n",
       "id             0\n",
       "name          16\n",
       "dtype: int64"
      ]
     },
     "execution_count": 11,
     "metadata": {},
     "output_type": "execute_result"
    }
   ],
   "source": [
    "df_suppliers = pd.read_csv(\"../data/suppliers_2021.csv\")\n",
    "df_suppliers.head()\n",
    "df_suppliers.isnull().sum()"
   ]
  },
  {
   "cell_type": "code",
   "execution_count": 12,
   "metadata": {
    "gather": {
     "logged": 1655961469517
    },
    "jupyter": {
     "outputs_hidden": false,
     "source_hidden": false
    },
    "nteract": {
     "transient": {
      "deleting": false
     }
    }
   },
   "outputs": [
    {
     "data": {
      "text/plain": [
       "ocid          0\n",
       "release_id    0\n",
       "award_id      0\n",
       "id            0\n",
       "name          0\n",
       "dtype: int64"
      ]
     },
     "execution_count": 12,
     "metadata": {},
     "output_type": "execute_result"
    }
   ],
   "source": [
    "df_suppliers.dropna(inplace=True)\n",
    "df_suppliers.isnull().sum()"
   ]
  },
  {
   "cell_type": "code",
   "execution_count": 13,
   "metadata": {
    "gather": {
     "logged": 1655961471644
    }
   },
   "outputs": [
    {
     "name": "stderr",
     "output_type": "stream",
     "text": [
      "/home/itscitlalli/.local/lib/python3.9/site-packages/IPython/core/interactiveshell.py:3397: DtypeWarning: Columns (12,13,14,15,16,18,19,20,22,23,24,25,26) have mixed types.Specify dtype option on import or set low_memory=False.\n",
      "  exec(code_obj, self.user_global_ns, self.user_ns)\n"
     ]
    },
    {
     "data": {
      "text/plain": [
       "ocid                                 0\n",
       "release_id                           0\n",
       "id                                   0\n",
       "title                                0\n",
       "description                          1\n",
       "status                               0\n",
       "procuringEntity_id                  54\n",
       "procuringEntity_name                54\n",
       "value_amount                     19048\n",
       "value_currency                   19048\n",
       "procurementMethod                    0\n",
       "procurementMethodDetails             0\n",
       "mainProcurementCategory         123757\n",
       "awardCriteria                   123757\n",
       "tenderPeriod_startDate          123757\n",
       "tenderPeriod_endDate            145778\n",
       "tenderPeriod_maxExtentDate      145778\n",
       "tenderPeriod_durationInDays     146107\n",
       "enquiryPeriod_startDate         123757\n",
       "enquiryPeriod_endDate           129772\n",
       "enquiryPeriod_maxExtentDate     129772\n",
       "enquiryPeriod_durationInDays    130583\n",
       "hasEnquiries                    136645\n",
       "eligibilityCriteria             142805\n",
       "awardPeriod_startDate           141465\n",
       "awardPeriod_endDate             123757\n",
       "awardPeriod_maxExtentDate       123757\n",
       "awardPeriod_durationInDays      142361\n",
       "numberOfTenderers               124031\n",
       "dtype: int64"
      ]
     },
     "execution_count": 13,
     "metadata": {},
     "output_type": "execute_result"
    }
   ],
   "source": [
    "df_tender = pd.read_csv(\"../data/tender_2021.csv\")\n",
    "df_tender.head()\n",
    "df_tender.isnull().sum()"
   ]
  },
  {
   "cell_type": "code",
   "execution_count": 14,
   "metadata": {
    "gather": {
     "logged": 1655961471900
    },
    "jupyter": {
     "outputs_hidden": false,
     "source_hidden": false
    },
    "nteract": {
     "transient": {
      "deleting": false
     }
    }
   },
   "outputs": [
    {
     "data": {
      "text/plain": [
       "ocid                            0\n",
       "release_id                      0\n",
       "id                              0\n",
       "title                           0\n",
       "description                     1\n",
       "status                          0\n",
       "procuringEntity_id             54\n",
       "procuringEntity_name           54\n",
       "value_amount                19048\n",
       "value_currency              19048\n",
       "procurementMethod               0\n",
       "procurementMethodDetails        0\n",
       "dtype: int64"
      ]
     },
     "execution_count": 14,
     "metadata": {},
     "output_type": "execute_result"
    }
   ],
   "source": [
    "df_tender = df_tender[[\"ocid\", \"release_id\", \"id\", \"title\", \"description\", \"status\", \"procuringEntity_id\", \"procuringEntity_name\", \"value_amount\", \"value_currency\", \"procurementMethod\", \"procurementMethodDetails\"]]\n",
    "df_tender.isnull().sum()"
   ]
  },
  {
   "cell_type": "code",
   "execution_count": 15,
   "metadata": {
    "gather": {
     "logged": 1655961710402
    }
   },
   "outputs": [],
   "source": [
    "def unir(df_general, df_unir, r_sufix):\n",
    "    return df_general.merge(df_unir, how=\"right\", left_on=\"id\", right_on=\"release_id\", suffixes=(\"\", r_sufix))"
   ]
  },
  {
   "cell_type": "code",
   "execution_count": 16,
   "metadata": {
    "gather": {
     "logged": 1655961773883
    }
   },
   "outputs": [
    {
     "data": {
      "text/html": [
       "<div>\n",
       "<style scoped>\n",
       "    .dataframe tbody tr th:only-of-type {\n",
       "        vertical-align: middle;\n",
       "    }\n",
       "\n",
       "    .dataframe tbody tr th {\n",
       "        vertical-align: top;\n",
       "    }\n",
       "\n",
       "    .dataframe thead th {\n",
       "        text-align: right;\n",
       "    }\n",
       "</style>\n",
       "<table border=\"1\" class=\"dataframe\">\n",
       "  <thead>\n",
       "    <tr style=\"text-align: right;\">\n",
       "      <th></th>\n",
       "      <th>ocid</th>\n",
       "      <th>id</th>\n",
       "      <th>initiationType</th>\n",
       "      <th>buyer_id</th>\n",
       "      <th>buyer_name</th>\n",
       "      <th>language</th>\n",
       "      <th>date</th>\n",
       "      <th>tag</th>\n",
       "      <th>ocid_tender</th>\n",
       "      <th>release_id</th>\n",
       "      <th>...</th>\n",
       "      <th>ocid_supplier</th>\n",
       "      <th>release_id_supplier</th>\n",
       "      <th>award_id</th>\n",
       "      <th>id_supplier</th>\n",
       "      <th>name</th>\n",
       "      <th>ocid_contracts</th>\n",
       "      <th>release_id_contracts</th>\n",
       "      <th>id_contracts</th>\n",
       "      <th>awardID</th>\n",
       "      <th>status_contracts</th>\n",
       "    </tr>\n",
       "  </thead>\n",
       "  <tbody>\n",
       "    <tr>\n",
       "      <th>0</th>\n",
       "      <td>ocds-5wno2w-MCBS-DNA-003-2021-178618</td>\n",
       "      <td>MCBS-DNA-003-2021-178618-2022-05-04T11:41:39.8...</td>\n",
       "      <td>tender</td>\n",
       "      <td>EC-RUC-1768040760001-178618</td>\n",
       "      <td>DIRECCION NACIONAL DE ANTINARCOTICOS</td>\n",
       "      <td>es</td>\n",
       "      <td>2022-05-04T06:51:47-05:00</td>\n",
       "      <td>[\"planning\",\"tender\",\"award\",\"contract\"]</td>\n",
       "      <td>ocds-5wno2w-MCBS-DNA-003-2021-178618</td>\n",
       "      <td>MCBS-DNA-003-2021-178618-2022-05-04T11:41:39.8...</td>\n",
       "      <td>...</td>\n",
       "      <td>ocds-5wno2w-MCBS-DNA-003-2021-178618</td>\n",
       "      <td>MCBS-DNA-003-2021-178618-2022-05-04T11:41:39.8...</td>\n",
       "      <td>4726509-MCBS-DNA-003-2021</td>\n",
       "      <td>EC-RUC-1801768969001-886562</td>\n",
       "      <td>SANTAMARIA MARFETAN JORGE VICENTE</td>\n",
       "      <td>ocds-5wno2w-MCBS-DNA-003-2021-178618</td>\n",
       "      <td>MCBS-DNA-003-2021-178618-2022-05-04T11:41:39.8...</td>\n",
       "      <td>2115897-MCBS-DNA-003-2021</td>\n",
       "      <td>4726509-MCBS-DNA-003-2021</td>\n",
       "      <td>terminated</td>\n",
       "    </tr>\n",
       "    <tr>\n",
       "      <th>1</th>\n",
       "      <td>ocds-5wno2w-CE-20210001957608-68478</td>\n",
       "      <td>CE-20210001957608-68478-2022-05-05T05:42:35.921Z</td>\n",
       "      <td>tender</td>\n",
       "      <td>EC-RUC-1960000110001</td>\n",
       "      <td>GOBIERNO AUTONOMO DESCENTRALIZADO PROVINCIAL D...</td>\n",
       "      <td>es</td>\n",
       "      <td>2021-02-09T00:00:00-05:00</td>\n",
       "      <td>[\"tender\",\"award\",\"contract\"]</td>\n",
       "      <td>ocds-5wno2w-CE-20210001957608-68478</td>\n",
       "      <td>CE-20210001957608-68478-2022-05-05T05:42:35.921Z</td>\n",
       "      <td>...</td>\n",
       "      <td>ocds-5wno2w-CE-20210001957608-68478</td>\n",
       "      <td>CE-20210001957608-68478-2022-05-05T05:42:35.921Z</td>\n",
       "      <td>CE-20210001957608</td>\n",
       "      <td>EC-RUC-0190433315001-816615</td>\n",
       "      <td>CORPORACION \"M&amp;M\" \"MEGASEO\" CIA.LTDA.</td>\n",
       "      <td>ocds-5wno2w-CE-20210001957608-68478</td>\n",
       "      <td>CE-20210001957608-68478-2022-05-05T05:42:35.921Z</td>\n",
       "      <td>CE-20210001957608-contract</td>\n",
       "      <td>CE-20210001957608</td>\n",
       "      <td>terminated</td>\n",
       "    </tr>\n",
       "    <tr>\n",
       "      <th>2</th>\n",
       "      <td>ocds-5wno2w-CE-20210001957610-68478</td>\n",
       "      <td>CE-20210001957610-68478-2022-05-05T05:42:36.127Z</td>\n",
       "      <td>tender</td>\n",
       "      <td>EC-RUC-1960000110001</td>\n",
       "      <td>GOBIERNO AUTONOMO DESCENTRALIZADO PROVINCIAL D...</td>\n",
       "      <td>es</td>\n",
       "      <td>2021-02-09T00:00:00-05:00</td>\n",
       "      <td>[\"tender\",\"award\",\"contract\"]</td>\n",
       "      <td>ocds-5wno2w-CE-20210001957610-68478</td>\n",
       "      <td>CE-20210001957610-68478-2022-05-05T05:42:36.127Z</td>\n",
       "      <td>...</td>\n",
       "      <td>ocds-5wno2w-CE-20210001957610-68478</td>\n",
       "      <td>CE-20210001957610-68478-2022-05-05T05:42:36.127Z</td>\n",
       "      <td>CE-20210001957610</td>\n",
       "      <td>EC-RUC-0190433315001-816615</td>\n",
       "      <td>CORPORACION \"M&amp;M\" \"MEGASEO\" CIA.LTDA.</td>\n",
       "      <td>ocds-5wno2w-CE-20210001957610-68478</td>\n",
       "      <td>CE-20210001957610-68478-2022-05-05T05:42:36.127Z</td>\n",
       "      <td>CE-20210001957610-contract</td>\n",
       "      <td>CE-20210001957610</td>\n",
       "      <td>terminated</td>\n",
       "    </tr>\n",
       "    <tr>\n",
       "      <th>3</th>\n",
       "      <td>ocds-5wno2w-CE-20210001988613-129424</td>\n",
       "      <td>CE-20210001988613-129424-2022-05-05T06:51:33.253Z</td>\n",
       "      <td>tender</td>\n",
       "      <td>EC-RUC-1260005880001</td>\n",
       "      <td>DIRECCION DISTRITAL 12D04 - QUINSALOMA - VENTA...</td>\n",
       "      <td>es</td>\n",
       "      <td>2021-03-29T00:00:00-05:00</td>\n",
       "      <td>[\"tender\",\"award\",\"contract\"]</td>\n",
       "      <td>ocds-5wno2w-CE-20210001988613-129424</td>\n",
       "      <td>CE-20210001988613-129424-2022-05-05T06:51:33.253Z</td>\n",
       "      <td>...</td>\n",
       "      <td>ocds-5wno2w-CE-20210001988613-129424</td>\n",
       "      <td>CE-20210001988613-129424-2022-05-05T06:51:33.253Z</td>\n",
       "      <td>CE-20210001988613</td>\n",
       "      <td>EC-RUC-1790732657001-2854</td>\n",
       "      <td>COMPAÑIA GENERAL DE COMERCIO COGECOMSA S. A.</td>\n",
       "      <td>ocds-5wno2w-CE-20210001988613-129424</td>\n",
       "      <td>CE-20210001988613-129424-2022-05-05T06:51:33.253Z</td>\n",
       "      <td>CE-20210001988613-contract</td>\n",
       "      <td>CE-20210001988613</td>\n",
       "      <td>terminated</td>\n",
       "    </tr>\n",
       "    <tr>\n",
       "      <th>4</th>\n",
       "      <td>ocds-5wno2w-CE-20210002013013-68478</td>\n",
       "      <td>CE-20210002013013-68478-2022-05-05T07:42:28.539Z</td>\n",
       "      <td>tender</td>\n",
       "      <td>EC-RUC-1960000110001</td>\n",
       "      <td>GOBIERNO AUTONOMO DESCENTRALIZADO PROVINCIAL D...</td>\n",
       "      <td>es</td>\n",
       "      <td>2021-05-10T00:00:00-05:00</td>\n",
       "      <td>[\"tender\",\"award\",\"contract\"]</td>\n",
       "      <td>ocds-5wno2w-CE-20210002013013-68478</td>\n",
       "      <td>CE-20210002013013-68478-2022-05-05T07:42:28.539Z</td>\n",
       "      <td>...</td>\n",
       "      <td>ocds-5wno2w-CE-20210002013013-68478</td>\n",
       "      <td>CE-20210002013013-68478-2022-05-05T07:42:28.539Z</td>\n",
       "      <td>CE-20210002013013</td>\n",
       "      <td>EC-RUC-1790732657001-2854</td>\n",
       "      <td>COMPAÑIA GENERAL DE COMERCIO COGECOMSA S. A.</td>\n",
       "      <td>ocds-5wno2w-CE-20210002013013-68478</td>\n",
       "      <td>CE-20210002013013-68478-2022-05-05T07:42:28.539Z</td>\n",
       "      <td>CE-20210002013013-contract</td>\n",
       "      <td>CE-20210002013013</td>\n",
       "      <td>terminated</td>\n",
       "    </tr>\n",
       "    <tr>\n",
       "      <th>...</th>\n",
       "      <td>...</td>\n",
       "      <td>...</td>\n",
       "      <td>...</td>\n",
       "      <td>...</td>\n",
       "      <td>...</td>\n",
       "      <td>...</td>\n",
       "      <td>...</td>\n",
       "      <td>...</td>\n",
       "      <td>...</td>\n",
       "      <td>...</td>\n",
       "      <td>...</td>\n",
       "      <td>...</td>\n",
       "      <td>...</td>\n",
       "      <td>...</td>\n",
       "      <td>...</td>\n",
       "      <td>...</td>\n",
       "      <td>...</td>\n",
       "      <td>...</td>\n",
       "      <td>...</td>\n",
       "      <td>...</td>\n",
       "      <td>...</td>\n",
       "    </tr>\n",
       "    <tr>\n",
       "      <th>294999</th>\n",
       "      <td>ocds-5wno2w-CE-20210002114419-2541</td>\n",
       "      <td>CE-20210002114419-2541-2022-05-04T11:08:49.220Z</td>\n",
       "      <td>tender</td>\n",
       "      <td>EC-RUC-1760001470001</td>\n",
       "      <td>MINISTERIO DE AGRICULTURA Y GANADERÍA</td>\n",
       "      <td>es</td>\n",
       "      <td>2021-12-02T00:00:00-05:00</td>\n",
       "      <td>[\"tender\",\"award\",\"contract\"]</td>\n",
       "      <td>ocds-5wno2w-CE-20210002114419-2541</td>\n",
       "      <td>CE-20210002114419-2541-2022-05-04T11:08:49.220Z</td>\n",
       "      <td>...</td>\n",
       "      <td>ocds-5wno2w-CE-20210002114419-2541</td>\n",
       "      <td>CE-20210002114419-2541-2022-05-04T11:08:49.220Z</td>\n",
       "      <td>CE-20210002114419</td>\n",
       "      <td>EC-RUC-1790732657001-2854</td>\n",
       "      <td>COMPAÑIA GENERAL DE COMERCIO COGECOMSA S. A.</td>\n",
       "      <td>ocds-5wno2w-CE-20210002114419-2541</td>\n",
       "      <td>CE-20210002114419-2541-2022-05-04T11:08:49.220Z</td>\n",
       "      <td>CE-20210002114419-contract</td>\n",
       "      <td>CE-20210002114419</td>\n",
       "      <td>terminated</td>\n",
       "    </tr>\n",
       "    <tr>\n",
       "      <th>295000</th>\n",
       "      <td>ocds-5wno2w-MCBS-DNA-005-2021-178618</td>\n",
       "      <td>MCBS-DNA-005-2021-178618-2022-05-04T11:43:12.1...</td>\n",
       "      <td>tender</td>\n",
       "      <td>EC-RUC-1768040760001-178618</td>\n",
       "      <td>DIRECCION NACIONAL DE ANTINARCOTICOS</td>\n",
       "      <td>es</td>\n",
       "      <td>2022-05-04T06:51:47-05:00</td>\n",
       "      <td>[\"planning\",\"tender\",\"award\",\"contract\"]</td>\n",
       "      <td>ocds-5wno2w-MCBS-DNA-005-2021-178618</td>\n",
       "      <td>MCBS-DNA-005-2021-178618-2022-05-04T11:43:12.1...</td>\n",
       "      <td>...</td>\n",
       "      <td>ocds-5wno2w-MCBS-DNA-005-2021-178618</td>\n",
       "      <td>MCBS-DNA-005-2021-178618-2022-05-04T11:43:12.1...</td>\n",
       "      <td>4862272-MCBS-DNA-005-2021</td>\n",
       "      <td>EC-RUC-0104042445001-559281</td>\n",
       "      <td>NARVAEZ BAHAMONDE JORGE ENRIQUE</td>\n",
       "      <td>ocds-5wno2w-MCBS-DNA-005-2021-178618</td>\n",
       "      <td>MCBS-DNA-005-2021-178618-2022-05-04T11:43:12.1...</td>\n",
       "      <td>2115899-MCBS-DNA-005-2021</td>\n",
       "      <td>4862272-MCBS-DNA-005-2021</td>\n",
       "      <td>terminated</td>\n",
       "    </tr>\n",
       "    <tr>\n",
       "      <th>295001</th>\n",
       "      <td>ocds-5wno2w-MCS-CCFFAA-002-ABR21-2539</td>\n",
       "      <td>MCS-CCFFAA-002-ABR21-2539-2022-05-04T11:36:54....</td>\n",
       "      <td>tender</td>\n",
       "      <td>EC-RUC-1768012630001-2539</td>\n",
       "      <td>COMANDO CONJUNTO</td>\n",
       "      <td>es</td>\n",
       "      <td>2022-05-04T06:51:48-05:00</td>\n",
       "      <td>[\"planning\",\"tender\",\"award\",\"contract\",\"imple...</td>\n",
       "      <td>ocds-5wno2w-MCS-CCFFAA-002-ABR21-2539</td>\n",
       "      <td>MCS-CCFFAA-002-ABR21-2539-2022-05-04T11:36:54....</td>\n",
       "      <td>...</td>\n",
       "      <td>ocds-5wno2w-MCS-CCFFAA-002-ABR21-2539</td>\n",
       "      <td>MCS-CCFFAA-002-ABR21-2539-2022-05-04T11:36:54....</td>\n",
       "      <td>4744578-MCS-CCFFAA-002-ABR21</td>\n",
       "      <td>EC-RUC-1792370027001-408010</td>\n",
       "      <td>SUMAKTOUR TRAVEL &amp; TOURS CIA. LTDA.</td>\n",
       "      <td>ocds-5wno2w-MCS-CCFFAA-002-ABR21-2539</td>\n",
       "      <td>MCS-CCFFAA-002-ABR21-2539-2022-05-04T11:36:54....</td>\n",
       "      <td>2072552-MCS-CCFFAA-002-ABR21</td>\n",
       "      <td>4744578-MCS-CCFFAA-002-ABR21</td>\n",
       "      <td>terminated</td>\n",
       "    </tr>\n",
       "    <tr>\n",
       "      <th>295002</th>\n",
       "      <td>ocds-5wno2w-RE-GADMCN-17-21-LRG-67188</td>\n",
       "      <td>RE-GADMCN-17-21-LRG-67188-2022-05-04T11:48:52....</td>\n",
       "      <td>tender</td>\n",
       "      <td>EC-RUC-0968532700001-67188</td>\n",
       "      <td>GOBIERNO AUTONOMO DESCENTRALIZADO MUNICIPAL DE...</td>\n",
       "      <td>es</td>\n",
       "      <td>2022-05-04T06:51:48-05:00</td>\n",
       "      <td>[\"planning\",\"tender\",\"award\",\"contract\"]</td>\n",
       "      <td>ocds-5wno2w-RE-GADMCN-17-21-LRG-67188</td>\n",
       "      <td>RE-GADMCN-17-21-LRG-67188-2022-05-04T11:48:52....</td>\n",
       "      <td>...</td>\n",
       "      <td>ocds-5wno2w-RE-GADMCN-17-21-LRG-67188</td>\n",
       "      <td>RE-GADMCN-17-21-LRG-67188-2022-05-04T11:48:52....</td>\n",
       "      <td>5302403-RE-GADMCN-17-21-LRG</td>\n",
       "      <td>EC-RUC-0990011117001-16323</td>\n",
       "      <td>IASA-SERVICIO S.A.</td>\n",
       "      <td>ocds-5wno2w-RE-GADMCN-17-21-LRG-67188</td>\n",
       "      <td>RE-GADMCN-17-21-LRG-67188-2022-05-04T11:48:52....</td>\n",
       "      <td>2115789-RE-GADMCN-17-21-LRG</td>\n",
       "      <td>5302403-RE-GADMCN-17-21-LRG</td>\n",
       "      <td>terminated</td>\n",
       "    </tr>\n",
       "    <tr>\n",
       "      <th>295003</th>\n",
       "      <td>ocds-5wno2w-RE-HGADPCH-039-2021-2583</td>\n",
       "      <td>RE-HGADPCH-039-2021-2583-2022-05-04T11:39:57.9...</td>\n",
       "      <td>tender</td>\n",
       "      <td>EC-RUC-0660000280001-2583</td>\n",
       "      <td>HONORABLE GOBIERNO AUTONOMO DESCENTRALIZADO DE...</td>\n",
       "      <td>es</td>\n",
       "      <td>2022-05-04T06:51:48-05:00</td>\n",
       "      <td>[\"planning\",\"tender\",\"award\",\"contract\",\"imple...</td>\n",
       "      <td>ocds-5wno2w-RE-HGADPCH-039-2021-2583</td>\n",
       "      <td>RE-HGADPCH-039-2021-2583-2022-05-04T11:39:57.9...</td>\n",
       "      <td>...</td>\n",
       "      <td>ocds-5wno2w-RE-HGADPCH-039-2021-2583</td>\n",
       "      <td>RE-HGADPCH-039-2021-2583-2022-05-04T11:39:57.9...</td>\n",
       "      <td>5099697-RE-HGADPCH-039-2021</td>\n",
       "      <td>EC-RUC-0604464065001-720245</td>\n",
       "      <td>Cabezas Ramos Daniel Alejandro</td>\n",
       "      <td>ocds-5wno2w-RE-HGADPCH-039-2021-2583</td>\n",
       "      <td>RE-HGADPCH-039-2021-2583-2022-05-04T11:39:57.9...</td>\n",
       "      <td>2108207-RE-HGADPCH-039-2021</td>\n",
       "      <td>5099697-RE-HGADPCH-039-2021</td>\n",
       "      <td>terminated</td>\n",
       "    </tr>\n",
       "  </tbody>\n",
       "</table>\n",
       "<p>295004 rows × 30 columns</p>\n",
       "</div>"
      ],
      "text/plain": [
       "                                         ocid  \\\n",
       "0        ocds-5wno2w-MCBS-DNA-003-2021-178618   \n",
       "1         ocds-5wno2w-CE-20210001957608-68478   \n",
       "2         ocds-5wno2w-CE-20210001957610-68478   \n",
       "3        ocds-5wno2w-CE-20210001988613-129424   \n",
       "4         ocds-5wno2w-CE-20210002013013-68478   \n",
       "...                                       ...   \n",
       "294999     ocds-5wno2w-CE-20210002114419-2541   \n",
       "295000   ocds-5wno2w-MCBS-DNA-005-2021-178618   \n",
       "295001  ocds-5wno2w-MCS-CCFFAA-002-ABR21-2539   \n",
       "295002  ocds-5wno2w-RE-GADMCN-17-21-LRG-67188   \n",
       "295003   ocds-5wno2w-RE-HGADPCH-039-2021-2583   \n",
       "\n",
       "                                                       id initiationType  \\\n",
       "0       MCBS-DNA-003-2021-178618-2022-05-04T11:41:39.8...         tender   \n",
       "1        CE-20210001957608-68478-2022-05-05T05:42:35.921Z         tender   \n",
       "2        CE-20210001957610-68478-2022-05-05T05:42:36.127Z         tender   \n",
       "3       CE-20210001988613-129424-2022-05-05T06:51:33.253Z         tender   \n",
       "4        CE-20210002013013-68478-2022-05-05T07:42:28.539Z         tender   \n",
       "...                                                   ...            ...   \n",
       "294999    CE-20210002114419-2541-2022-05-04T11:08:49.220Z         tender   \n",
       "295000  MCBS-DNA-005-2021-178618-2022-05-04T11:43:12.1...         tender   \n",
       "295001  MCS-CCFFAA-002-ABR21-2539-2022-05-04T11:36:54....         tender   \n",
       "295002  RE-GADMCN-17-21-LRG-67188-2022-05-04T11:48:52....         tender   \n",
       "295003  RE-HGADPCH-039-2021-2583-2022-05-04T11:39:57.9...         tender   \n",
       "\n",
       "                           buyer_id  \\\n",
       "0       EC-RUC-1768040760001-178618   \n",
       "1              EC-RUC-1960000110001   \n",
       "2              EC-RUC-1960000110001   \n",
       "3              EC-RUC-1260005880001   \n",
       "4              EC-RUC-1960000110001   \n",
       "...                             ...   \n",
       "294999         EC-RUC-1760001470001   \n",
       "295000  EC-RUC-1768040760001-178618   \n",
       "295001    EC-RUC-1768012630001-2539   \n",
       "295002   EC-RUC-0968532700001-67188   \n",
       "295003    EC-RUC-0660000280001-2583   \n",
       "\n",
       "                                               buyer_name language  \\\n",
       "0                    DIRECCION NACIONAL DE ANTINARCOTICOS       es   \n",
       "1       GOBIERNO AUTONOMO DESCENTRALIZADO PROVINCIAL D...       es   \n",
       "2       GOBIERNO AUTONOMO DESCENTRALIZADO PROVINCIAL D...       es   \n",
       "3       DIRECCION DISTRITAL 12D04 - QUINSALOMA - VENTA...       es   \n",
       "4       GOBIERNO AUTONOMO DESCENTRALIZADO PROVINCIAL D...       es   \n",
       "...                                                   ...      ...   \n",
       "294999             MINISTERIO DE AGRICULTURA Y GANADERÍA        es   \n",
       "295000               DIRECCION NACIONAL DE ANTINARCOTICOS       es   \n",
       "295001                                   COMANDO CONJUNTO       es   \n",
       "295002  GOBIERNO AUTONOMO DESCENTRALIZADO MUNICIPAL DE...       es   \n",
       "295003  HONORABLE GOBIERNO AUTONOMO DESCENTRALIZADO DE...       es   \n",
       "\n",
       "                             date  \\\n",
       "0       2022-05-04T06:51:47-05:00   \n",
       "1       2021-02-09T00:00:00-05:00   \n",
       "2       2021-02-09T00:00:00-05:00   \n",
       "3       2021-03-29T00:00:00-05:00   \n",
       "4       2021-05-10T00:00:00-05:00   \n",
       "...                           ...   \n",
       "294999  2021-12-02T00:00:00-05:00   \n",
       "295000  2022-05-04T06:51:47-05:00   \n",
       "295001  2022-05-04T06:51:48-05:00   \n",
       "295002  2022-05-04T06:51:48-05:00   \n",
       "295003  2022-05-04T06:51:48-05:00   \n",
       "\n",
       "                                                      tag  \\\n",
       "0                [\"planning\",\"tender\",\"award\",\"contract\"]   \n",
       "1                           [\"tender\",\"award\",\"contract\"]   \n",
       "2                           [\"tender\",\"award\",\"contract\"]   \n",
       "3                           [\"tender\",\"award\",\"contract\"]   \n",
       "4                           [\"tender\",\"award\",\"contract\"]   \n",
       "...                                                   ...   \n",
       "294999                      [\"tender\",\"award\",\"contract\"]   \n",
       "295000           [\"planning\",\"tender\",\"award\",\"contract\"]   \n",
       "295001  [\"planning\",\"tender\",\"award\",\"contract\",\"imple...   \n",
       "295002           [\"planning\",\"tender\",\"award\",\"contract\"]   \n",
       "295003  [\"planning\",\"tender\",\"award\",\"contract\",\"imple...   \n",
       "\n",
       "                                  ocid_tender  \\\n",
       "0        ocds-5wno2w-MCBS-DNA-003-2021-178618   \n",
       "1         ocds-5wno2w-CE-20210001957608-68478   \n",
       "2         ocds-5wno2w-CE-20210001957610-68478   \n",
       "3        ocds-5wno2w-CE-20210001988613-129424   \n",
       "4         ocds-5wno2w-CE-20210002013013-68478   \n",
       "...                                       ...   \n",
       "294999     ocds-5wno2w-CE-20210002114419-2541   \n",
       "295000   ocds-5wno2w-MCBS-DNA-005-2021-178618   \n",
       "295001  ocds-5wno2w-MCS-CCFFAA-002-ABR21-2539   \n",
       "295002  ocds-5wno2w-RE-GADMCN-17-21-LRG-67188   \n",
       "295003   ocds-5wno2w-RE-HGADPCH-039-2021-2583   \n",
       "\n",
       "                                               release_id  ...  \\\n",
       "0       MCBS-DNA-003-2021-178618-2022-05-04T11:41:39.8...  ...   \n",
       "1        CE-20210001957608-68478-2022-05-05T05:42:35.921Z  ...   \n",
       "2        CE-20210001957610-68478-2022-05-05T05:42:36.127Z  ...   \n",
       "3       CE-20210001988613-129424-2022-05-05T06:51:33.253Z  ...   \n",
       "4        CE-20210002013013-68478-2022-05-05T07:42:28.539Z  ...   \n",
       "...                                                   ...  ...   \n",
       "294999    CE-20210002114419-2541-2022-05-04T11:08:49.220Z  ...   \n",
       "295000  MCBS-DNA-005-2021-178618-2022-05-04T11:43:12.1...  ...   \n",
       "295001  MCS-CCFFAA-002-ABR21-2539-2022-05-04T11:36:54....  ...   \n",
       "295002  RE-GADMCN-17-21-LRG-67188-2022-05-04T11:48:52....  ...   \n",
       "295003  RE-HGADPCH-039-2021-2583-2022-05-04T11:39:57.9...  ...   \n",
       "\n",
       "                                ocid_supplier  \\\n",
       "0        ocds-5wno2w-MCBS-DNA-003-2021-178618   \n",
       "1         ocds-5wno2w-CE-20210001957608-68478   \n",
       "2         ocds-5wno2w-CE-20210001957610-68478   \n",
       "3        ocds-5wno2w-CE-20210001988613-129424   \n",
       "4         ocds-5wno2w-CE-20210002013013-68478   \n",
       "...                                       ...   \n",
       "294999     ocds-5wno2w-CE-20210002114419-2541   \n",
       "295000   ocds-5wno2w-MCBS-DNA-005-2021-178618   \n",
       "295001  ocds-5wno2w-MCS-CCFFAA-002-ABR21-2539   \n",
       "295002  ocds-5wno2w-RE-GADMCN-17-21-LRG-67188   \n",
       "295003   ocds-5wno2w-RE-HGADPCH-039-2021-2583   \n",
       "\n",
       "                                      release_id_supplier  \\\n",
       "0       MCBS-DNA-003-2021-178618-2022-05-04T11:41:39.8...   \n",
       "1        CE-20210001957608-68478-2022-05-05T05:42:35.921Z   \n",
       "2        CE-20210001957610-68478-2022-05-05T05:42:36.127Z   \n",
       "3       CE-20210001988613-129424-2022-05-05T06:51:33.253Z   \n",
       "4        CE-20210002013013-68478-2022-05-05T07:42:28.539Z   \n",
       "...                                                   ...   \n",
       "294999    CE-20210002114419-2541-2022-05-04T11:08:49.220Z   \n",
       "295000  MCBS-DNA-005-2021-178618-2022-05-04T11:43:12.1...   \n",
       "295001  MCS-CCFFAA-002-ABR21-2539-2022-05-04T11:36:54....   \n",
       "295002  RE-GADMCN-17-21-LRG-67188-2022-05-04T11:48:52....   \n",
       "295003  RE-HGADPCH-039-2021-2583-2022-05-04T11:39:57.9...   \n",
       "\n",
       "                            award_id                  id_supplier  \\\n",
       "0          4726509-MCBS-DNA-003-2021  EC-RUC-1801768969001-886562   \n",
       "1                  CE-20210001957608  EC-RUC-0190433315001-816615   \n",
       "2                  CE-20210001957610  EC-RUC-0190433315001-816615   \n",
       "3                  CE-20210001988613    EC-RUC-1790732657001-2854   \n",
       "4                  CE-20210002013013    EC-RUC-1790732657001-2854   \n",
       "...                              ...                          ...   \n",
       "294999             CE-20210002114419    EC-RUC-1790732657001-2854   \n",
       "295000     4862272-MCBS-DNA-005-2021  EC-RUC-0104042445001-559281   \n",
       "295001  4744578-MCS-CCFFAA-002-ABR21  EC-RUC-1792370027001-408010   \n",
       "295002   5302403-RE-GADMCN-17-21-LRG   EC-RUC-0990011117001-16323   \n",
       "295003   5099697-RE-HGADPCH-039-2021  EC-RUC-0604464065001-720245   \n",
       "\n",
       "                                                name  \\\n",
       "0                  SANTAMARIA MARFETAN JORGE VICENTE   \n",
       "1              CORPORACION \"M&M\" \"MEGASEO\" CIA.LTDA.   \n",
       "2              CORPORACION \"M&M\" \"MEGASEO\" CIA.LTDA.   \n",
       "3       COMPAÑIA GENERAL DE COMERCIO COGECOMSA S. A.   \n",
       "4       COMPAÑIA GENERAL DE COMERCIO COGECOMSA S. A.   \n",
       "...                                              ...   \n",
       "294999  COMPAÑIA GENERAL DE COMERCIO COGECOMSA S. A.   \n",
       "295000               NARVAEZ BAHAMONDE JORGE ENRIQUE   \n",
       "295001           SUMAKTOUR TRAVEL & TOURS CIA. LTDA.   \n",
       "295002                            IASA-SERVICIO S.A.   \n",
       "295003                Cabezas Ramos Daniel Alejandro   \n",
       "\n",
       "                               ocid_contracts  \\\n",
       "0        ocds-5wno2w-MCBS-DNA-003-2021-178618   \n",
       "1         ocds-5wno2w-CE-20210001957608-68478   \n",
       "2         ocds-5wno2w-CE-20210001957610-68478   \n",
       "3        ocds-5wno2w-CE-20210001988613-129424   \n",
       "4         ocds-5wno2w-CE-20210002013013-68478   \n",
       "...                                       ...   \n",
       "294999     ocds-5wno2w-CE-20210002114419-2541   \n",
       "295000   ocds-5wno2w-MCBS-DNA-005-2021-178618   \n",
       "295001  ocds-5wno2w-MCS-CCFFAA-002-ABR21-2539   \n",
       "295002  ocds-5wno2w-RE-GADMCN-17-21-LRG-67188   \n",
       "295003   ocds-5wno2w-RE-HGADPCH-039-2021-2583   \n",
       "\n",
       "                                     release_id_contracts  \\\n",
       "0       MCBS-DNA-003-2021-178618-2022-05-04T11:41:39.8...   \n",
       "1        CE-20210001957608-68478-2022-05-05T05:42:35.921Z   \n",
       "2        CE-20210001957610-68478-2022-05-05T05:42:36.127Z   \n",
       "3       CE-20210001988613-129424-2022-05-05T06:51:33.253Z   \n",
       "4        CE-20210002013013-68478-2022-05-05T07:42:28.539Z   \n",
       "...                                                   ...   \n",
       "294999    CE-20210002114419-2541-2022-05-04T11:08:49.220Z   \n",
       "295000  MCBS-DNA-005-2021-178618-2022-05-04T11:43:12.1...   \n",
       "295001  MCS-CCFFAA-002-ABR21-2539-2022-05-04T11:36:54....   \n",
       "295002  RE-GADMCN-17-21-LRG-67188-2022-05-04T11:48:52....   \n",
       "295003  RE-HGADPCH-039-2021-2583-2022-05-04T11:39:57.9...   \n",
       "\n",
       "                        id_contracts                       awardID  \\\n",
       "0          2115897-MCBS-DNA-003-2021     4726509-MCBS-DNA-003-2021   \n",
       "1         CE-20210001957608-contract             CE-20210001957608   \n",
       "2         CE-20210001957610-contract             CE-20210001957610   \n",
       "3         CE-20210001988613-contract             CE-20210001988613   \n",
       "4         CE-20210002013013-contract             CE-20210002013013   \n",
       "...                              ...                           ...   \n",
       "294999    CE-20210002114419-contract             CE-20210002114419   \n",
       "295000     2115899-MCBS-DNA-005-2021     4862272-MCBS-DNA-005-2021   \n",
       "295001  2072552-MCS-CCFFAA-002-ABR21  4744578-MCS-CCFFAA-002-ABR21   \n",
       "295002   2115789-RE-GADMCN-17-21-LRG   5302403-RE-GADMCN-17-21-LRG   \n",
       "295003   2108207-RE-HGADPCH-039-2021   5099697-RE-HGADPCH-039-2021   \n",
       "\n",
       "       status_contracts  \n",
       "0            terminated  \n",
       "1            terminated  \n",
       "2            terminated  \n",
       "3            terminated  \n",
       "4            terminated  \n",
       "...                 ...  \n",
       "294999       terminated  \n",
       "295000       terminated  \n",
       "295001       terminated  \n",
       "295002       terminated  \n",
       "295003       terminated  \n",
       "\n",
       "[295004 rows x 30 columns]"
      ]
     },
     "execution_count": 16,
     "metadata": {},
     "output_type": "execute_result"
    }
   ],
   "source": [
    "df = unir(df_releases, df_tender, \"_tender\")\n",
    "df = unir(df, df_suppliers, \"_supplier\")\n",
    "df = unir(df, df_contracts, \"_contracts\")\n",
    "#df = unir(df, df_awards, \"_awards\")\n",
    "df"
   ]
  },
  {
   "cell_type": "code",
   "execution_count": 17,
   "metadata": {
    "gather": {
     "logged": 1655961549008
    },
    "jupyter": {
     "outputs_hidden": false,
     "source_hidden": false
    },
    "nteract": {
     "transient": {
      "deleting": false
     }
    }
   },
   "outputs": [
    {
     "data": {
      "text/plain": [
       "ocid                           10\n",
       "id                             10\n",
       "initiationType                 10\n",
       "buyer_id                       10\n",
       "buyer_name                     10\n",
       "language                       10\n",
       "date                           10\n",
       "tag                            10\n",
       "ocid_tender                    10\n",
       "release_id                     10\n",
       "id_tender                      10\n",
       "title                          10\n",
       "description                    10\n",
       "status                         10\n",
       "procuringEntity_id             64\n",
       "procuringEntity_name           64\n",
       "value_amount                15877\n",
       "value_currency              15877\n",
       "procurementMethod              10\n",
       "procurementMethodDetails       10\n",
       "ocid_supplier                  10\n",
       "release_id_supplier            10\n",
       "award_id                       10\n",
       "id_supplier                    10\n",
       "name                           10\n",
       "ocid_contracts                  0\n",
       "release_id_contracts            0\n",
       "id_contracts                    0\n",
       "awardID                         0\n",
       "status_contracts                0\n",
       "dtype: int64"
      ]
     },
     "execution_count": 17,
     "metadata": {},
     "output_type": "execute_result"
    }
   ],
   "source": [
    "df.isnull().sum()"
   ]
  },
  {
   "cell_type": "code",
   "execution_count": 18,
   "metadata": {},
   "outputs": [
    {
     "data": {
      "text/plain": [
       "0"
      ]
     },
     "execution_count": 18,
     "metadata": {},
     "output_type": "execute_result"
    }
   ],
   "source": [
    "df.duplicated().sum()\n"
   ]
  },
  {
   "cell_type": "code",
   "execution_count": 20,
   "metadata": {},
   "outputs": [
    {
     "data": {
      "text/plain": [
       "ocid                         object\n",
       "id                           object\n",
       "initiationType               object\n",
       "buyer_id                     object\n",
       "buyer_name                   object\n",
       "language                     object\n",
       "date                         object\n",
       "tag                          object\n",
       "ocid_tender                  object\n",
       "release_id                   object\n",
       "id_tender                    object\n",
       "title                        object\n",
       "description                  object\n",
       "status                       object\n",
       "procuringEntity_id           object\n",
       "procuringEntity_name         object\n",
       "value_amount                float64\n",
       "value_currency               object\n",
       "procurementMethod            object\n",
       "procurementMethodDetails     object\n",
       "ocid_supplier                object\n",
       "release_id_supplier          object\n",
       "award_id                     object\n",
       "id_supplier                  object\n",
       "name                         object\n",
       "ocid_contracts               object\n",
       "release_id_contracts         object\n",
       "id_contracts                 object\n",
       "awardID                      object\n",
       "status_contracts             object\n",
       "dtype: object"
      ]
     },
     "execution_count": 20,
     "metadata": {},
     "output_type": "execute_result"
    }
   ],
   "source": [
    "df.dtypes"
   ]
  },
  {
   "cell_type": "code",
   "execution_count": 22,
   "metadata": {},
   "outputs": [
    {
     "data": {
      "text/plain": [
       "array(['USD', nan], dtype=object)"
      ]
     },
     "execution_count": 22,
     "metadata": {},
     "output_type": "execute_result"
    }
   ],
   "source": [
    "df[\"value_currency\"].unique()"
   ]
  },
  {
   "cell_type": "code",
   "execution_count": 23,
   "metadata": {},
   "outputs": [],
   "source": [
    "df[\"value_currency\"].fillna(\"USD\",inplace= True)"
   ]
  },
  {
   "cell_type": "code",
   "execution_count": 24,
   "metadata": {},
   "outputs": [],
   "source": [
    "df[\"value_amount\"].fillna(df[\"value_amount\"].mean(),inplace= True)\n"
   ]
  },
  {
   "cell_type": "code",
   "execution_count": 25,
   "metadata": {},
   "outputs": [
    {
     "data": {
      "text/plain": [
       "ocid                        10\n",
       "id                          10\n",
       "initiationType              10\n",
       "buyer_id                    10\n",
       "buyer_name                  10\n",
       "language                    10\n",
       "date                        10\n",
       "tag                         10\n",
       "ocid_tender                 10\n",
       "release_id                  10\n",
       "id_tender                   10\n",
       "title                       10\n",
       "description                 10\n",
       "status                      10\n",
       "procuringEntity_id          64\n",
       "procuringEntity_name        64\n",
       "value_amount                 0\n",
       "value_currency               0\n",
       "procurementMethod           10\n",
       "procurementMethodDetails    10\n",
       "ocid_supplier               10\n",
       "release_id_supplier         10\n",
       "award_id                    10\n",
       "id_supplier                 10\n",
       "name                        10\n",
       "ocid_contracts               0\n",
       "release_id_contracts         0\n",
       "id_contracts                 0\n",
       "awardID                      0\n",
       "status_contracts             0\n",
       "dtype: int64"
      ]
     },
     "execution_count": 25,
     "metadata": {},
     "output_type": "execute_result"
    }
   ],
   "source": [
    "df.isnull().sum()"
   ]
  },
  {
   "cell_type": "code",
   "execution_count": 29,
   "metadata": {},
   "outputs": [],
   "source": [
    "df=df.dropna()\n"
   ]
  },
  {
   "cell_type": "code",
   "execution_count": 30,
   "metadata": {},
   "outputs": [
    {
     "data": {
      "text/plain": [
       "ocid                        0\n",
       "id                          0\n",
       "initiationType              0\n",
       "buyer_id                    0\n",
       "buyer_name                  0\n",
       "language                    0\n",
       "date                        0\n",
       "tag                         0\n",
       "ocid_tender                 0\n",
       "release_id                  0\n",
       "id_tender                   0\n",
       "title                       0\n",
       "description                 0\n",
       "status                      0\n",
       "procuringEntity_id          0\n",
       "procuringEntity_name        0\n",
       "value_amount                0\n",
       "value_currency              0\n",
       "procurementMethod           0\n",
       "procurementMethodDetails    0\n",
       "ocid_supplier               0\n",
       "release_id_supplier         0\n",
       "award_id                    0\n",
       "id_supplier                 0\n",
       "name                        0\n",
       "ocid_contracts              0\n",
       "release_id_contracts        0\n",
       "id_contracts                0\n",
       "awardID                     0\n",
       "status_contracts            0\n",
       "dtype: int64"
      ]
     },
     "execution_count": 30,
     "metadata": {},
     "output_type": "execute_result"
    }
   ],
   "source": [
    "df.isnull().sum()"
   ]
  },
  {
   "cell_type": "code",
   "execution_count": null,
   "metadata": {},
   "outputs": [],
   "source": [
    "#df = unir(df, df_awards, \"_awards\")"
   ]
  }
 ],
 "metadata": {
  "kernel_info": {
   "name": "python3"
  },
  "kernelspec": {
   "display_name": "Python 3 (ipykernel)",
   "language": "python",
   "name": "python3"
  },
  "language_info": {
   "codemirror_mode": {
    "name": "ipython",
    "version": 3
   },
   "file_extension": ".py",
   "mimetype": "text/x-python",
   "name": "python",
   "nbconvert_exporter": "python",
   "pygments_lexer": "ipython3",
   "version": "3.9.7"
  },
  "microsoft": {
   "host": {
    "AzureML": {
     "notebookHasBeenCompleted": true
    }
   }
  },
  "nteract": {
   "version": "nteract-front-end@1.0.0"
  },
  "vscode": {
   "interpreter": {
    "hash": "b95bd45029f467f5ffdb04a0dca108fe317981093d378cd9f566d3ace075d8db"
   }
  }
 },
 "nbformat": 4,
 "nbformat_minor": 2
}

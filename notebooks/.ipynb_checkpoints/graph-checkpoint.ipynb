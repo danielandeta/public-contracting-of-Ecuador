{
 "cells": [
  {
   "cell_type": "code",
   "execution_count": 1,
   "id": "08369901",
   "metadata": {},
   "outputs": [],
   "source": [
    "import pandas as pd\n",
    "import numpy as np\n",
    "from sklearn.preprocessing import StandardScaler\n",
    "from sklearn.cluster import KMeans\n",
    "import seaborn as sns\n",
    "import matplotlib.pyplot as plt\n",
    "from scipy import stats"
   ]
  },
  {
   "cell_type": "code",
   "execution_count": 2,
   "id": "f38ca234",
   "metadata": {},
   "outputs": [],
   "source": [
    "pd.options.display.float_format = '{:.2f}'.format"
   ]
  },
  {
   "cell_type": "code",
   "execution_count": 3,
   "id": "e888881a",
   "metadata": {},
   "outputs": [],
   "source": [
    "#df_release_2018 = pd.read_csv(\"../data/releases_2018/releases_2018.csv\")\n",
    "df_release_2019 = pd.read_csv(\"../data/releases_2019/releases_2019.csv\")\n",
    "#df_release_2020 = pd.read_csv(\"../data/releases_2020/releases_2020.csv\")\n",
    "df_release_2021 = pd.read_csv(\"../data/releases_2021/releases_2021.csv\")\n",
    "#df_release = pd.concat([df_release_2021, df_release_2019], axis=0)"
   ]
  },
  {
   "cell_type": "code",
   "execution_count": 4,
   "id": "b022853d",
   "metadata": {},
   "outputs": [
    {
     "name": "stderr",
     "output_type": "stream",
     "text": [
      "/home/citlalli/.local/lib/python3.8/site-packages/IPython/core/interactiveshell.py:3172: DtypeWarning: Columns (12,13,14,15,16,18,19,20,22,23,24,25,26) have mixed types. Specify dtype option on import or set low_memory=False.\n",
      "  has_raised = await self.run_ast_nodes(code_ast.body, cell_name,\n"
     ]
    }
   ],
   "source": [
    "#df_tender_2018 = pd.read_csv(\"../data/releases_2018/tender_2018.csv\")\n",
    "df_tender_2019 = pd.read_csv(\"../data/releases_2019/tender_2019.csv\")\n",
    "#df_tender_2020 = pd.read_csv(\"../data/releases_2020/tender_2020.csv\")\n",
    "df_tender_2021 = pd.read_csv(\"../data/releases_2021/tender_2021.csv\")\n",
    "#df_tender = pd.concat([df_tender_2021, df_tender_2019], axis=0)"
   ]
  },
  {
   "cell_type": "code",
   "execution_count": 5,
   "id": "d387cc6e",
   "metadata": {},
   "outputs": [
    {
     "name": "stderr",
     "output_type": "stream",
     "text": [
      "/home/citlalli/.local/lib/python3.8/site-packages/IPython/core/interactiveshell.py:3172: DtypeWarning: Columns (4,6,13,14) have mixed types. Specify dtype option on import or set low_memory=False.\n",
      "  has_raised = await self.run_ast_nodes(code_ast.body, cell_name,\n"
     ]
    }
   ],
   "source": [
    "#df_award_2018 = pd.read_csv(\"../data/releases_2018/awards_2018.csv\")\n",
    "df_award_2019 = pd.read_csv(\"../data/releases_2019/awards_2019.csv\")\n",
    "#df_award_2020 = pd.read_csv(\"../data/releases_2020/awards_2020.csv\")\n",
    "df_award_2021 = pd.read_csv(\"../data/releases_2021/awards_2021.csv\")\n",
    "#df_award = pd.concat([df_award_2021, df_award_2019], axis=0)"
   ]
  },
  {
   "cell_type": "code",
   "execution_count": 6,
   "id": "9eb65560",
   "metadata": {},
   "outputs": [
    {
     "name": "stderr",
     "output_type": "stream",
     "text": [
      "/home/citlalli/.local/lib/python3.8/site-packages/IPython/core/interactiveshell.py:3172: DtypeWarning: Columns (7,8,12,13) have mixed types. Specify dtype option on import or set low_memory=False.\n",
      "  has_raised = await self.run_ast_nodes(code_ast.body, cell_name,\n"
     ]
    }
   ],
   "source": [
    "#df_contract_2018 = pd.read_csv(\"../data/releases_2018/contracts_2018.csv\")\n",
    "df_contract_2019 = pd.read_csv(\"../data/releases_2019/contracts_2019.csv\")\n",
    "#df_contract_2020 = pd.read_csv(\"../data/releases_2020/contracts_2020.csv\")\n",
    "df_contract_2021 = pd.read_csv(\"../data/releases_2021/contracts_2021.csv\")\n",
    "#df_contract = pd.concat([df_contract_2021, df_contract_2019], axis=0)"
   ]
  },
  {
   "cell_type": "code",
   "execution_count": 7,
   "id": "56c441ba",
   "metadata": {},
   "outputs": [],
   "source": [
    "#df_supplier_2018 = pd.read_csv(\"../data/releases_2018/suppliers_2018.csv\")\n",
    "df_supplier_2019 = pd.read_csv(\"../data/releases_2019/suppliers_2019.csv\")\n",
    "#df_supplier_2020 = pd.read_csv(\"../data/releases_2020/suppliers_2020.csv\")\n",
    "df_supplier_2021 = pd.read_csv(\"../data/releases_2021/suppliers_2021.csv\")\n",
    "#df_supplier = pd.concat([df_supplier_2021, df_supplier_2019], axis=0)"
   ]
  },
  {
   "cell_type": "markdown",
   "id": "baef51b4",
   "metadata": {},
   "source": [
    "Alta concentración de mercado\n",
    "- tender/procurementMethod\n",
    "- awards/suppliers/id\n",
    "- awards/suppliers/name\n",
    "- awards/value/amount\n",
    "- awards/value/currency\n",
    "- awards/items/classification/id\n",
    "- awards/items/classification/scheme\n",
    "- awards/date\n",
    "- awards/status"
   ]
  },
  {
   "cell_type": "code",
   "execution_count": 8,
   "id": "9f569456",
   "metadata": {},
   "outputs": [],
   "source": [
    "def merge_data(df_tender,df_award, df_release, df_contract, df_supplier):\n",
    "    feature1_tender = df_tender[[\"ocid\", \"procurementMethod\", \"procuringEntity_id\", \"procuringEntity_name\"]]\n",
    "    feature1_award = df_award[[\"ocid\", \"id\", \"amount\", \"currency\", \"date\"]]\n",
    "    feature1_release =  df_release[[\"ocid\", \"id\", \"buyer_id\", \"buyer_name\"]]\n",
    "    feature1_contract = df_contract[[\"ocid\", \"id\", \"amount\"]]\n",
    "    feature1_supplier = df_supplier[[\"award_id\", \"id\", \"name\"]]\n",
    "    main_df = feature1_award.merge(feature1_contract, left_on=\"ocid\", right_on=\"ocid\", how=\"left\", suffixes=(\"_aw\", \"_ctr\"))\n",
    "    main_df = main_df.merge(feature1_tender, left_on=\"ocid\", right_on=\"ocid\", how=\"left\")\n",
    "    main_df = main_df.merge(feature1_supplier, left_on=\"id_aw\", right_on=\"award_id\", how=\"left\")\n",
    "    main_df.rename(columns = {'id':'id_spl', 'name':'name_spl'}, inplace = True)\n",
    "    main_df = main_df.merge(feature1_release, left_on= \"ocid\", right_on= \"ocid\", how=\"left\")\n",
    "    main_df.rename(columns = {'id':'id_rls'}, inplace = True)\n",
    "    return main_df"
   ]
  },
  {
   "cell_type": "code",
   "execution_count": 9,
   "id": "62e8a625",
   "metadata": {},
   "outputs": [],
   "source": [
    "main_df_2019 = merge_data(df_tender_2019, df_award_2019, df_release_2019, df_contract_2019, df_supplier_2019)\n",
    "main_df_2021 = merge_data(df_tender_2021, df_award_2021, df_release_2021, df_contract_2021, df_supplier_2021)"
   ]
  },
  {
   "cell_type": "code",
   "execution_count": 10,
   "id": "1906e30d",
   "metadata": {},
   "outputs": [
    {
     "data": {
      "text/html": [
       "<div>\n",
       "<style scoped>\n",
       "    .dataframe tbody tr th:only-of-type {\n",
       "        vertical-align: middle;\n",
       "    }\n",
       "\n",
       "    .dataframe tbody tr th {\n",
       "        vertical-align: top;\n",
       "    }\n",
       "\n",
       "    .dataframe thead th {\n",
       "        text-align: right;\n",
       "    }\n",
       "</style>\n",
       "<table border=\"1\" class=\"dataframe\">\n",
       "  <thead>\n",
       "    <tr style=\"text-align: right;\">\n",
       "      <th></th>\n",
       "      <th>ocid</th>\n",
       "      <th>id_aw</th>\n",
       "      <th>amount_aw</th>\n",
       "      <th>currency</th>\n",
       "      <th>date</th>\n",
       "      <th>id_ctr</th>\n",
       "      <th>amount_ctr</th>\n",
       "      <th>procurementMethod</th>\n",
       "      <th>procuringEntity_id</th>\n",
       "      <th>procuringEntity_name</th>\n",
       "      <th>award_id</th>\n",
       "      <th>id_spl</th>\n",
       "      <th>name_spl</th>\n",
       "      <th>id_rls</th>\n",
       "      <th>buyer_id</th>\n",
       "      <th>buyer_name</th>\n",
       "    </tr>\n",
       "  </thead>\n",
       "  <tbody>\n",
       "    <tr>\n",
       "      <th>0</th>\n",
       "      <td>ocds-5wno2w-CDC-EMUCEEP-005-2019-289014</td>\n",
       "      <td>3869164-CDC-EMUCEEP-005-2019</td>\n",
       "      <td>6800.00</td>\n",
       "      <td>USD</td>\n",
       "      <td>2019-08-29T10:24:49-05:00</td>\n",
       "      <td>624365-CDC-EMUCEEP-005-2019</td>\n",
       "      <td>6800.00</td>\n",
       "      <td>direct</td>\n",
       "      <td>EC-RUC-0160048040001-289014</td>\n",
       "      <td>EMPRESA PUBLICA CEMENTERIOS CUENCA</td>\n",
       "      <td>3869164-CDC-EMUCEEP-005-2019</td>\n",
       "      <td>EC-RUC-0190342387001-38806</td>\n",
       "      <td>ALTIOR CIA. LTDA.</td>\n",
       "      <td>CDC-EMUCEEP-005-2019-289014-2021-12-01T04:09:2...</td>\n",
       "      <td>EC-RUC-0160048040001-289014</td>\n",
       "      <td>EMPRESA PUBLICA CEMENTERIOS CUENCA</td>\n",
       "    </tr>\n",
       "    <tr>\n",
       "      <th>1</th>\n",
       "      <td>ocds-5wno2w-CE-20190001488077-224957</td>\n",
       "      <td>CE-20190001488077</td>\n",
       "      <td>761.60</td>\n",
       "      <td>USD</td>\n",
       "      <td>NaN</td>\n",
       "      <td>CE-20190001488077-contract</td>\n",
       "      <td>nan</td>\n",
       "      <td>selective</td>\n",
       "      <td>EC-RUC-0760005810001-224957</td>\n",
       "      <td>HOSPITAL BASICO MARIA LORENA SERRANO</td>\n",
       "      <td>CE-20190001488077</td>\n",
       "      <td>EC-RUC-1791775643001-3526</td>\n",
       "      <td>CODYXOPAPER CIA. LTDA.</td>\n",
       "      <td>CE-20190001488077-224957-2021-11-29T23:13:04.385Z</td>\n",
       "      <td>EC-RUC-0760005810001</td>\n",
       "      <td>HOSPITAL MARIA LORENA SERRANO</td>\n",
       "    </tr>\n",
       "    <tr>\n",
       "      <th>2</th>\n",
       "      <td>ocds-5wno2w-CE-20190001515826-224957</td>\n",
       "      <td>CE-20190001515826</td>\n",
       "      <td>470.40</td>\n",
       "      <td>USD</td>\n",
       "      <td>NaN</td>\n",
       "      <td>CE-20190001515826-contract</td>\n",
       "      <td>nan</td>\n",
       "      <td>selective</td>\n",
       "      <td>EC-RUC-0760005810001-224957</td>\n",
       "      <td>HOSPITAL BASICO MARIA LORENA SERRANO</td>\n",
       "      <td>CE-20190001515826</td>\n",
       "      <td>EC-RUC-0190433315001-816615</td>\n",
       "      <td>CORPORACION \"M&amp;M\" \"MEGASEO\" CIA.LTDA.</td>\n",
       "      <td>CE-20190001515826-224957-2021-11-29T23:38:29.506Z</td>\n",
       "      <td>EC-RUC-0760005810001</td>\n",
       "      <td>HOSPITAL MARIA LORENA SERRANO</td>\n",
       "    </tr>\n",
       "    <tr>\n",
       "      <th>3</th>\n",
       "      <td>ocds-5wno2w-CE-20190001515827-224957</td>\n",
       "      <td>CE-20190001515827</td>\n",
       "      <td>154.56</td>\n",
       "      <td>USD</td>\n",
       "      <td>NaN</td>\n",
       "      <td>CE-20190001515827-contract</td>\n",
       "      <td>nan</td>\n",
       "      <td>selective</td>\n",
       "      <td>EC-RUC-0760005810001-224957</td>\n",
       "      <td>HOSPITAL BASICO MARIA LORENA SERRANO</td>\n",
       "      <td>CE-20190001515827</td>\n",
       "      <td>EC-RUC-0190433315001-816615</td>\n",
       "      <td>CORPORACION \"M&amp;M\" \"MEGASEO\" CIA.LTDA.</td>\n",
       "      <td>CE-20190001515827-224957-2021-11-29T23:38:29.533Z</td>\n",
       "      <td>EC-RUC-0760005810001</td>\n",
       "      <td>HOSPITAL MARIA LORENA SERRANO</td>\n",
       "    </tr>\n",
       "    <tr>\n",
       "      <th>4</th>\n",
       "      <td>ocds-5wno2w-CE-20190001515829-224957</td>\n",
       "      <td>CE-20190001515829</td>\n",
       "      <td>1740.48</td>\n",
       "      <td>USD</td>\n",
       "      <td>NaN</td>\n",
       "      <td>CE-20190001515829-contract</td>\n",
       "      <td>nan</td>\n",
       "      <td>selective</td>\n",
       "      <td>EC-RUC-0760005810001-224957</td>\n",
       "      <td>HOSPITAL BASICO MARIA LORENA SERRANO</td>\n",
       "      <td>CE-20190001515829</td>\n",
       "      <td>EC-RUC-1790732657001-2854</td>\n",
       "      <td>COMPAÑIA GENERAL DE COMERCIO COGECOMSA S. A.</td>\n",
       "      <td>CE-20190001515829-224957-2021-11-29T23:38:29.550Z</td>\n",
       "      <td>EC-RUC-0760005810001</td>\n",
       "      <td>HOSPITAL MARIA LORENA SERRANO</td>\n",
       "    </tr>\n",
       "  </tbody>\n",
       "</table>\n",
       "</div>"
      ],
      "text/plain": [
       "                                      ocid                         id_aw  \\\n",
       "0  ocds-5wno2w-CDC-EMUCEEP-005-2019-289014  3869164-CDC-EMUCEEP-005-2019   \n",
       "1     ocds-5wno2w-CE-20190001488077-224957             CE-20190001488077   \n",
       "2     ocds-5wno2w-CE-20190001515826-224957             CE-20190001515826   \n",
       "3     ocds-5wno2w-CE-20190001515827-224957             CE-20190001515827   \n",
       "4     ocds-5wno2w-CE-20190001515829-224957             CE-20190001515829   \n",
       "\n",
       "   amount_aw currency                       date                       id_ctr  \\\n",
       "0    6800.00      USD  2019-08-29T10:24:49-05:00  624365-CDC-EMUCEEP-005-2019   \n",
       "1     761.60      USD                        NaN   CE-20190001488077-contract   \n",
       "2     470.40      USD                        NaN   CE-20190001515826-contract   \n",
       "3     154.56      USD                        NaN   CE-20190001515827-contract   \n",
       "4    1740.48      USD                        NaN   CE-20190001515829-contract   \n",
       "\n",
       "   amount_ctr procurementMethod           procuringEntity_id  \\\n",
       "0     6800.00            direct  EC-RUC-0160048040001-289014   \n",
       "1         nan         selective  EC-RUC-0760005810001-224957   \n",
       "2         nan         selective  EC-RUC-0760005810001-224957   \n",
       "3         nan         selective  EC-RUC-0760005810001-224957   \n",
       "4         nan         selective  EC-RUC-0760005810001-224957   \n",
       "\n",
       "                   procuringEntity_name                      award_id  \\\n",
       "0    EMPRESA PUBLICA CEMENTERIOS CUENCA  3869164-CDC-EMUCEEP-005-2019   \n",
       "1  HOSPITAL BASICO MARIA LORENA SERRANO             CE-20190001488077   \n",
       "2  HOSPITAL BASICO MARIA LORENA SERRANO             CE-20190001515826   \n",
       "3  HOSPITAL BASICO MARIA LORENA SERRANO             CE-20190001515827   \n",
       "4  HOSPITAL BASICO MARIA LORENA SERRANO             CE-20190001515829   \n",
       "\n",
       "                        id_spl                                      name_spl  \\\n",
       "0   EC-RUC-0190342387001-38806                             ALTIOR CIA. LTDA.   \n",
       "1    EC-RUC-1791775643001-3526                        CODYXOPAPER CIA. LTDA.   \n",
       "2  EC-RUC-0190433315001-816615         CORPORACION \"M&M\" \"MEGASEO\" CIA.LTDA.   \n",
       "3  EC-RUC-0190433315001-816615         CORPORACION \"M&M\" \"MEGASEO\" CIA.LTDA.   \n",
       "4    EC-RUC-1790732657001-2854  COMPAÑIA GENERAL DE COMERCIO COGECOMSA S. A.   \n",
       "\n",
       "                                              id_rls  \\\n",
       "0  CDC-EMUCEEP-005-2019-289014-2021-12-01T04:09:2...   \n",
       "1  CE-20190001488077-224957-2021-11-29T23:13:04.385Z   \n",
       "2  CE-20190001515826-224957-2021-11-29T23:38:29.506Z   \n",
       "3  CE-20190001515827-224957-2021-11-29T23:38:29.533Z   \n",
       "4  CE-20190001515829-224957-2021-11-29T23:38:29.550Z   \n",
       "\n",
       "                      buyer_id                          buyer_name  \n",
       "0  EC-RUC-0160048040001-289014  EMPRESA PUBLICA CEMENTERIOS CUENCA  \n",
       "1         EC-RUC-0760005810001       HOSPITAL MARIA LORENA SERRANO  \n",
       "2         EC-RUC-0760005810001       HOSPITAL MARIA LORENA SERRANO  \n",
       "3         EC-RUC-0760005810001       HOSPITAL MARIA LORENA SERRANO  \n",
       "4         EC-RUC-0760005810001       HOSPITAL MARIA LORENA SERRANO  "
      ]
     },
     "execution_count": 10,
     "metadata": {},
     "output_type": "execute_result"
    }
   ],
   "source": [
    "main_df_2019.head()"
   ]
  },
  {
   "cell_type": "code",
   "execution_count": 11,
   "id": "85b8110f",
   "metadata": {},
   "outputs": [
    {
     "data": {
      "text/plain": [
       "ocid                         0\n",
       "id_aw                        0\n",
       "amount_aw                    2\n",
       "currency                     1\n",
       "date                    257026\n",
       "id_ctr                    8805\n",
       "amount_ctr              245204\n",
       "procurementMethod            0\n",
       "procuringEntity_id           0\n",
       "procuringEntity_name         0\n",
       "award_id                     0\n",
       "id_spl                       0\n",
       "name_spl                     6\n",
       "id_rls                       0\n",
       "buyer_id                     0\n",
       "buyer_name                   0\n",
       "dtype: int64"
      ]
     },
     "execution_count": 11,
     "metadata": {},
     "output_type": "execute_result"
    }
   ],
   "source": [
    "main_df_2019.isna().sum()"
   ]
  },
  {
   "cell_type": "code",
   "execution_count": 12,
   "id": "f892914a",
   "metadata": {},
   "outputs": [],
   "source": [
    "filtro1 = ~(main_df_2019[\"amount_ctr\"].isnull()) & ~(main_df_2019[\"amount_aw\"].isnull())\n",
    "main_df_2019 = main_df_2019[filtro1]"
   ]
  },
  {
   "cell_type": "code",
   "execution_count": 13,
   "id": "eae0dd0b",
   "metadata": {},
   "outputs": [],
   "source": [
    "filtro2 = ~(main_df_2019[\"date\"].isnull()) & ~(main_df_2019[\"name_spl\"].isnull())\n",
    "main_df_2019 = main_df_2019[filtro2]"
   ]
  },
  {
   "cell_type": "code",
   "execution_count": 14,
   "id": "e076c2df",
   "metadata": {},
   "outputs": [
    {
     "data": {
      "text/plain": [
       "ocid                    0\n",
       "id_aw                   0\n",
       "amount_aw               0\n",
       "currency                0\n",
       "date                    0\n",
       "id_ctr                  0\n",
       "amount_ctr              0\n",
       "procurementMethod       0\n",
       "procuringEntity_id      0\n",
       "procuringEntity_name    0\n",
       "award_id                0\n",
       "id_spl                  0\n",
       "name_spl                0\n",
       "id_rls                  0\n",
       "buyer_id                0\n",
       "buyer_name              0\n",
       "dtype: int64"
      ]
     },
     "execution_count": 14,
     "metadata": {},
     "output_type": "execute_result"
    }
   ],
   "source": [
    "main_df_2019.isna().sum()"
   ]
  },
  {
   "cell_type": "code",
   "execution_count": 15,
   "id": "1804ed1a",
   "metadata": {},
   "outputs": [],
   "source": [
    "main_df_2019[\"date\"] = pd.to_datetime(main_df_2019[\"date\"])"
   ]
  },
  {
   "cell_type": "code",
   "execution_count": 16,
   "id": "f607532a",
   "metadata": {},
   "outputs": [
    {
     "data": {
      "text/plain": [
       "ocid                                                    object\n",
       "id_aw                                                   object\n",
       "amount_aw                                              float64\n",
       "currency                                                object\n",
       "date                    datetime64[ns, pytz.FixedOffset(-300)]\n",
       "id_ctr                                                  object\n",
       "amount_ctr                                             float64\n",
       "procurementMethod                                       object\n",
       "procuringEntity_id                                      object\n",
       "procuringEntity_name                                    object\n",
       "award_id                                                object\n",
       "id_spl                                                  object\n",
       "name_spl                                                object\n",
       "id_rls                                                  object\n",
       "buyer_id                                                object\n",
       "buyer_name                                              object\n",
       "dtype: object"
      ]
     },
     "execution_count": 16,
     "metadata": {},
     "output_type": "execute_result"
    }
   ],
   "source": [
    "main_df_2019.dtypes"
   ]
  },
  {
   "cell_type": "code",
   "execution_count": 17,
   "id": "90477538",
   "metadata": {},
   "outputs": [],
   "source": [
    "main_df_2019[\"month\"] = main_df_2019[\"date\"].apply(lambda x: x.month_name())"
   ]
  },
  {
   "cell_type": "code",
   "execution_count": 18,
   "id": "7801a0b7",
   "metadata": {},
   "outputs": [
    {
     "data": {
      "text/html": [
       "<div>\n",
       "<style scoped>\n",
       "    .dataframe tbody tr th:only-of-type {\n",
       "        vertical-align: middle;\n",
       "    }\n",
       "\n",
       "    .dataframe tbody tr th {\n",
       "        vertical-align: top;\n",
       "    }\n",
       "\n",
       "    .dataframe thead th {\n",
       "        text-align: right;\n",
       "    }\n",
       "</style>\n",
       "<table border=\"1\" class=\"dataframe\">\n",
       "  <thead>\n",
       "    <tr style=\"text-align: right;\">\n",
       "      <th></th>\n",
       "      <th>ocid</th>\n",
       "      <th>id_aw</th>\n",
       "      <th>amount_aw</th>\n",
       "      <th>currency</th>\n",
       "      <th>date</th>\n",
       "      <th>id_ctr</th>\n",
       "      <th>amount_ctr</th>\n",
       "      <th>procurementMethod</th>\n",
       "      <th>procuringEntity_id</th>\n",
       "      <th>procuringEntity_name</th>\n",
       "      <th>award_id</th>\n",
       "      <th>id_spl</th>\n",
       "      <th>name_spl</th>\n",
       "      <th>id_rls</th>\n",
       "      <th>buyer_id</th>\n",
       "      <th>buyer_name</th>\n",
       "      <th>month</th>\n",
       "    </tr>\n",
       "  </thead>\n",
       "  <tbody>\n",
       "    <tr>\n",
       "      <th>0</th>\n",
       "      <td>ocds-5wno2w-CDC-EMUCEEP-005-2019-289014</td>\n",
       "      <td>3869164-CDC-EMUCEEP-005-2019</td>\n",
       "      <td>6800.00</td>\n",
       "      <td>USD</td>\n",
       "      <td>2019-08-29 10:24:49-05:00</td>\n",
       "      <td>624365-CDC-EMUCEEP-005-2019</td>\n",
       "      <td>6800.00</td>\n",
       "      <td>direct</td>\n",
       "      <td>EC-RUC-0160048040001-289014</td>\n",
       "      <td>EMPRESA PUBLICA CEMENTERIOS CUENCA</td>\n",
       "      <td>3869164-CDC-EMUCEEP-005-2019</td>\n",
       "      <td>EC-RUC-0190342387001-38806</td>\n",
       "      <td>ALTIOR CIA. LTDA.</td>\n",
       "      <td>CDC-EMUCEEP-005-2019-289014-2021-12-01T04:09:2...</td>\n",
       "      <td>EC-RUC-0160048040001-289014</td>\n",
       "      <td>EMPRESA PUBLICA CEMENTERIOS CUENCA</td>\n",
       "      <td>August</td>\n",
       "    </tr>\n",
       "    <tr>\n",
       "      <th>54</th>\n",
       "      <td>ocds-5wno2w-RE-EECS-DF-011-2019-56835</td>\n",
       "      <td>3799416-RE-EECS-DF-011-2019</td>\n",
       "      <td>22000.00</td>\n",
       "      <td>USD</td>\n",
       "      <td>2019-07-16 09:27:48-05:00</td>\n",
       "      <td>618575-RE-EECS-DF-011-2019</td>\n",
       "      <td>22000.00</td>\n",
       "      <td>direct</td>\n",
       "      <td>EC-RUC-0190003809001-56835</td>\n",
       "      <td>EMPRESA ELECTRICA REGIONAL CENTROSUR C.A.</td>\n",
       "      <td>3799416-RE-EECS-DF-011-2019</td>\n",
       "      <td>EC-RUC-0190438058001-841650</td>\n",
       "      <td>AUTOSDELSUR S.A.</td>\n",
       "      <td>RE-EECS-DF-011-2019-56835-2021-12-01T03:53:01....</td>\n",
       "      <td>EC-RUC-0190003809001-56835</td>\n",
       "      <td>EMPRESA ELECTRICA REGIONAL CENTROSUR C.A.</td>\n",
       "      <td>July</td>\n",
       "    </tr>\n",
       "    <tr>\n",
       "      <th>55</th>\n",
       "      <td>ocds-5wno2w-RE-EENORTE-017-2019-3243</td>\n",
       "      <td>3758331-RE-EENORTE-017-2019</td>\n",
       "      <td>44642.85</td>\n",
       "      <td>USD</td>\n",
       "      <td>2019-07-04 09:18:03-05:00</td>\n",
       "      <td>617001-RE-EENORTE-017-2019</td>\n",
       "      <td>44642.85</td>\n",
       "      <td>direct</td>\n",
       "      <td>EC-RUC-1090051721001-3243</td>\n",
       "      <td>EMPRESA ELECTRICA REGIONAL NORTE S.A.</td>\n",
       "      <td>3758331-RE-EENORTE-017-2019</td>\n",
       "      <td>EC-RUC-1791150198001-11224</td>\n",
       "      <td>ECUACARBONES CIA. LTDA.</td>\n",
       "      <td>RE-EENORTE-017-2019-3243-2021-12-01T05:39:26.018Z</td>\n",
       "      <td>EC-RUC-1090051721001-3243</td>\n",
       "      <td>EMPRESA ELECTRICA REGIONAL NORTE S.A.</td>\n",
       "      <td>July</td>\n",
       "    </tr>\n",
       "    <tr>\n",
       "      <th>56</th>\n",
       "      <td>ocds-5wno2w-CDC-EMUCEEP-006-2019-289014</td>\n",
       "      <td>3869244-CDC-EMUCEEP-006-2019</td>\n",
       "      <td>4950.00</td>\n",
       "      <td>USD</td>\n",
       "      <td>2019-08-29 10:42:39-05:00</td>\n",
       "      <td>624367-CDC-EMUCEEP-006-2019</td>\n",
       "      <td>4950.00</td>\n",
       "      <td>direct</td>\n",
       "      <td>EC-RUC-0160048040001-289014</td>\n",
       "      <td>EMPRESA PUBLICA CEMENTERIOS CUENCA</td>\n",
       "      <td>3869244-CDC-EMUCEEP-006-2019</td>\n",
       "      <td>EC-RUC-0190342387001-38806</td>\n",
       "      <td>ALTIOR CIA. LTDA.</td>\n",
       "      <td>CDC-EMUCEEP-006-2019-289014-2021-12-01T04:09:2...</td>\n",
       "      <td>EC-RUC-0160048040001-289014</td>\n",
       "      <td>EMPRESA PUBLICA CEMENTERIOS CUENCA</td>\n",
       "      <td>August</td>\n",
       "    </tr>\n",
       "    <tr>\n",
       "      <th>58</th>\n",
       "      <td>ocds-5wno2w-LICSEG-BIESS-01-2019-278089</td>\n",
       "      <td>4060604-LICSEG-BIESS-01-2019</td>\n",
       "      <td>53428.80</td>\n",
       "      <td>USD</td>\n",
       "      <td>2019-12-13 19:06:03-05:00</td>\n",
       "      <td>2025894-LICSEG-BIESS-01-2019</td>\n",
       "      <td>53428.80</td>\n",
       "      <td>open</td>\n",
       "      <td>EC-RUC-1768156470001-278089</td>\n",
       "      <td>BANCO DEL INSTITUTO ECUATORIANO DE SEGURIDAD S...</td>\n",
       "      <td>4060604-LICSEG-BIESS-01-2019</td>\n",
       "      <td>EC-RUC-1790551350001-4135</td>\n",
       "      <td>SEGUROS ALIANZA S A</td>\n",
       "      <td>LICSEG-BIESS-01-2019-278089-2021-12-01T06:10:2...</td>\n",
       "      <td>EC-RUC-1768156470001-278089</td>\n",
       "      <td>BANCO DEL INSTITUTO ECUATORIANO DE SEGURIDAD S...</td>\n",
       "      <td>December</td>\n",
       "    </tr>\n",
       "  </tbody>\n",
       "</table>\n",
       "</div>"
      ],
      "text/plain": [
       "                                       ocid                         id_aw  \\\n",
       "0   ocds-5wno2w-CDC-EMUCEEP-005-2019-289014  3869164-CDC-EMUCEEP-005-2019   \n",
       "54    ocds-5wno2w-RE-EECS-DF-011-2019-56835   3799416-RE-EECS-DF-011-2019   \n",
       "55     ocds-5wno2w-RE-EENORTE-017-2019-3243   3758331-RE-EENORTE-017-2019   \n",
       "56  ocds-5wno2w-CDC-EMUCEEP-006-2019-289014  3869244-CDC-EMUCEEP-006-2019   \n",
       "58  ocds-5wno2w-LICSEG-BIESS-01-2019-278089  4060604-LICSEG-BIESS-01-2019   \n",
       "\n",
       "    amount_aw currency                      date  \\\n",
       "0     6800.00      USD 2019-08-29 10:24:49-05:00   \n",
       "54   22000.00      USD 2019-07-16 09:27:48-05:00   \n",
       "55   44642.85      USD 2019-07-04 09:18:03-05:00   \n",
       "56    4950.00      USD 2019-08-29 10:42:39-05:00   \n",
       "58   53428.80      USD 2019-12-13 19:06:03-05:00   \n",
       "\n",
       "                          id_ctr  amount_ctr procurementMethod  \\\n",
       "0    624365-CDC-EMUCEEP-005-2019     6800.00            direct   \n",
       "54    618575-RE-EECS-DF-011-2019    22000.00            direct   \n",
       "55    617001-RE-EENORTE-017-2019    44642.85            direct   \n",
       "56   624367-CDC-EMUCEEP-006-2019     4950.00            direct   \n",
       "58  2025894-LICSEG-BIESS-01-2019    53428.80              open   \n",
       "\n",
       "             procuringEntity_id  \\\n",
       "0   EC-RUC-0160048040001-289014   \n",
       "54   EC-RUC-0190003809001-56835   \n",
       "55    EC-RUC-1090051721001-3243   \n",
       "56  EC-RUC-0160048040001-289014   \n",
       "58  EC-RUC-1768156470001-278089   \n",
       "\n",
       "                                 procuringEntity_name  \\\n",
       "0                  EMPRESA PUBLICA CEMENTERIOS CUENCA   \n",
       "54          EMPRESA ELECTRICA REGIONAL CENTROSUR C.A.   \n",
       "55              EMPRESA ELECTRICA REGIONAL NORTE S.A.   \n",
       "56                 EMPRESA PUBLICA CEMENTERIOS CUENCA   \n",
       "58  BANCO DEL INSTITUTO ECUATORIANO DE SEGURIDAD S...   \n",
       "\n",
       "                        award_id                       id_spl  \\\n",
       "0   3869164-CDC-EMUCEEP-005-2019   EC-RUC-0190342387001-38806   \n",
       "54   3799416-RE-EECS-DF-011-2019  EC-RUC-0190438058001-841650   \n",
       "55   3758331-RE-EENORTE-017-2019   EC-RUC-1791150198001-11224   \n",
       "56  3869244-CDC-EMUCEEP-006-2019   EC-RUC-0190342387001-38806   \n",
       "58  4060604-LICSEG-BIESS-01-2019    EC-RUC-1790551350001-4135   \n",
       "\n",
       "                   name_spl  \\\n",
       "0         ALTIOR CIA. LTDA.   \n",
       "54         AUTOSDELSUR S.A.   \n",
       "55  ECUACARBONES CIA. LTDA.   \n",
       "56        ALTIOR CIA. LTDA.   \n",
       "58      SEGUROS ALIANZA S A   \n",
       "\n",
       "                                               id_rls  \\\n",
       "0   CDC-EMUCEEP-005-2019-289014-2021-12-01T04:09:2...   \n",
       "54  RE-EECS-DF-011-2019-56835-2021-12-01T03:53:01....   \n",
       "55  RE-EENORTE-017-2019-3243-2021-12-01T05:39:26.018Z   \n",
       "56  CDC-EMUCEEP-006-2019-289014-2021-12-01T04:09:2...   \n",
       "58  LICSEG-BIESS-01-2019-278089-2021-12-01T06:10:2...   \n",
       "\n",
       "                       buyer_id  \\\n",
       "0   EC-RUC-0160048040001-289014   \n",
       "54   EC-RUC-0190003809001-56835   \n",
       "55    EC-RUC-1090051721001-3243   \n",
       "56  EC-RUC-0160048040001-289014   \n",
       "58  EC-RUC-1768156470001-278089   \n",
       "\n",
       "                                           buyer_name     month  \n",
       "0                  EMPRESA PUBLICA CEMENTERIOS CUENCA    August  \n",
       "54          EMPRESA ELECTRICA REGIONAL CENTROSUR C.A.      July  \n",
       "55              EMPRESA ELECTRICA REGIONAL NORTE S.A.      July  \n",
       "56                 EMPRESA PUBLICA CEMENTERIOS CUENCA    August  \n",
       "58  BANCO DEL INSTITUTO ECUATORIANO DE SEGURIDAD S...  December  "
      ]
     },
     "execution_count": 18,
     "metadata": {},
     "output_type": "execute_result"
    }
   ],
   "source": [
    "main_df_2019.head()"
   ]
  },
  {
   "cell_type": "code",
   "execution_count": 19,
   "id": "2c1ba734",
   "metadata": {},
   "outputs": [
    {
     "data": {
      "text/plain": [
       "(364639, 17)"
      ]
     },
     "execution_count": 19,
     "metadata": {},
     "output_type": "execute_result"
    }
   ],
   "source": [
    "main_df_2019.shape"
   ]
  },
  {
   "cell_type": "code",
   "execution_count": 20,
   "id": "2501ea80",
   "metadata": {},
   "outputs": [
    {
     "data": {
      "text/plain": [
       "0"
      ]
     },
     "execution_count": 20,
     "metadata": {},
     "output_type": "execute_result"
    }
   ],
   "source": [
    "main_df_2019.duplicated().sum()"
   ]
  },
  {
   "cell_type": "code",
   "execution_count": 21,
   "id": "6a0af437",
   "metadata": {},
   "outputs": [
    {
     "data": {
      "text/html": [
       "<div>\n",
       "<style scoped>\n",
       "    .dataframe tbody tr th:only-of-type {\n",
       "        vertical-align: middle;\n",
       "    }\n",
       "\n",
       "    .dataframe tbody tr th {\n",
       "        vertical-align: top;\n",
       "    }\n",
       "\n",
       "    .dataframe thead th {\n",
       "        text-align: right;\n",
       "    }\n",
       "</style>\n",
       "<table border=\"1\" class=\"dataframe\">\n",
       "  <thead>\n",
       "    <tr style=\"text-align: right;\">\n",
       "      <th></th>\n",
       "      <th>ocid</th>\n",
       "      <th>id_aw</th>\n",
       "      <th>amount_aw</th>\n",
       "      <th>currency</th>\n",
       "      <th>date</th>\n",
       "      <th>id_ctr</th>\n",
       "      <th>amount_ctr</th>\n",
       "      <th>procurementMethod</th>\n",
       "      <th>procuringEntity_id</th>\n",
       "      <th>procuringEntity_name</th>\n",
       "      <th>award_id</th>\n",
       "      <th>id_spl</th>\n",
       "      <th>name_spl</th>\n",
       "      <th>id_rls</th>\n",
       "      <th>buyer_id</th>\n",
       "      <th>buyer_name</th>\n",
       "    </tr>\n",
       "  </thead>\n",
       "  <tbody>\n",
       "    <tr>\n",
       "      <th>0</th>\n",
       "      <td>ocds-5wno2w-CDC-001-GADPSLA-21-107643</td>\n",
       "      <td>5016338-CDC-001-GADPSLA-21</td>\n",
       "      <td>1964.29</td>\n",
       "      <td>USD</td>\n",
       "      <td>2021-09-06T11:12:07-05:00</td>\n",
       "      <td>2087426-CDC-001-GADPSLA-21</td>\n",
       "      <td>1964.29</td>\n",
       "      <td>direct</td>\n",
       "      <td>EC-RUC-1460017180001-107643</td>\n",
       "      <td>JUNTA PARROQUIAL DE SAN LUIS DEL ACHO</td>\n",
       "      <td>5016338-CDC-001-GADPSLA-21</td>\n",
       "      <td>EC-RUC-1400624514001-1026865</td>\n",
       "      <td>MEJIA MONTENEGRO PATRICIA JAQUELINE</td>\n",
       "      <td>CDC-001-GADPSLA-21-107643-2021-11-29T11:13:03....</td>\n",
       "      <td>EC-RUC-1460017180001-107643</td>\n",
       "      <td>JUNTA PARROQUIAL DE SAN LUIS DEL ACHO</td>\n",
       "    </tr>\n",
       "    <tr>\n",
       "      <th>1</th>\n",
       "      <td>ocds-5wno2w-001-2021-UTELVT-75445</td>\n",
       "      <td>5139026-001-2021-UTELVT</td>\n",
       "      <td>8928.57</td>\n",
       "      <td>USD</td>\n",
       "      <td>2021-11-16T10:26:12-05:00</td>\n",
       "      <td>NaN</td>\n",
       "      <td>nan</td>\n",
       "      <td>direct</td>\n",
       "      <td>EC-RUC-0860000830001-75445</td>\n",
       "      <td>Universidad Técnica Luis Vargas Torres</td>\n",
       "      <td>5139026-001-2021-UTELVT</td>\n",
       "      <td>EC-RUC-0803602044001-554280</td>\n",
       "      <td>CHAVEZ RODRIGUEZ NATHALY FRANSHESKA</td>\n",
       "      <td>001-2021-UTELVT-75445-2021-11-29T11:41:43.484Z</td>\n",
       "      <td>EC-RUC-0860000830001-75445</td>\n",
       "      <td>Universidad Técnica Luis Vargas Torres</td>\n",
       "    </tr>\n",
       "    <tr>\n",
       "      <th>2</th>\n",
       "      <td>ocds-5wno2w-001-COTO-GPLR-2021-2805</td>\n",
       "      <td>5010756-001-COTO-GPLR-2021</td>\n",
       "      <td>551875.99</td>\n",
       "      <td>USD</td>\n",
       "      <td>2021-09-23T11:12:10-05:00</td>\n",
       "      <td>NaN</td>\n",
       "      <td>nan</td>\n",
       "      <td>open</td>\n",
       "      <td>EC-RUC-1260000140001-2805</td>\n",
       "      <td>GOBIERNO PROVINCIAL DE LOS RIOS</td>\n",
       "      <td>5010756-001-COTO-GPLR-2021</td>\n",
       "      <td>EC-RUC-1204095978001-52298</td>\n",
       "      <td>ESCOBAR YPERTI CARLOS ARMANDO</td>\n",
       "      <td>001-COTO-GPLR-2021-2805-2021-11-29T11:32:40.721Z</td>\n",
       "      <td>EC-RUC-1260000140001-2805</td>\n",
       "      <td>GOBIERNO PROVINCIAL DE LOS RIOS</td>\n",
       "    </tr>\n",
       "    <tr>\n",
       "      <th>3</th>\n",
       "      <td>ocds-5wno2w-001-CDC-GADMB-2021-20973</td>\n",
       "      <td>4711114-001-CDC-GADMB-2021</td>\n",
       "      <td>8696.00</td>\n",
       "      <td>USD</td>\n",
       "      <td>2021-04-19T08:24:14-05:00</td>\n",
       "      <td>2104785-001-CDC-GADMB-2021</td>\n",
       "      <td>8696.00</td>\n",
       "      <td>direct</td>\n",
       "      <td>EC-RUC-1260000220001-20973</td>\n",
       "      <td>GOBIERNO AUTONOMO DESCENTRALIZADO MUNICIPAL DE...</td>\n",
       "      <td>4711114-001-CDC-GADMB-2021</td>\n",
       "      <td>EC-RUC-0913230207001-849238</td>\n",
       "      <td>PIGUAVE TORRES ANTONIO MIGUEL</td>\n",
       "      <td>001-CDC-GADMB-2021-20973-2022-02-08T09:45:18.2...</td>\n",
       "      <td>EC-RUC-1260000220001-20973</td>\n",
       "      <td>GOBIERNO AUTONOMO DESCENTRALIZADO MUNICIPAL DE...</td>\n",
       "    </tr>\n",
       "    <tr>\n",
       "      <th>4</th>\n",
       "      <td>ocds-5wno2w-001-LCC-GADMB-2021-20973</td>\n",
       "      <td>5038399-001-LCC-GADMB-2021</td>\n",
       "      <td>84000.00</td>\n",
       "      <td>USD</td>\n",
       "      <td>2021-09-22T09:05:21-05:00</td>\n",
       "      <td>2104053-001-LCC-GADMB-2021</td>\n",
       "      <td>84000.00</td>\n",
       "      <td>limited</td>\n",
       "      <td>EC-RUC-1260000220001-20973</td>\n",
       "      <td>GOBIERNO AUTONOMO DESCENTRALIZADO MUNICIPAL DE...</td>\n",
       "      <td>5038399-001-LCC-GADMB-2021</td>\n",
       "      <td>EC-RUC-1705290128001-36464</td>\n",
       "      <td>VALLADARES CARRILLO ALVARO MANUEL</td>\n",
       "      <td>001-LCC-GADMB-2021-20973-2022-02-08T09:49:13.2...</td>\n",
       "      <td>EC-RUC-1260000220001-20973</td>\n",
       "      <td>GOBIERNO AUTONOMO DESCENTRALIZADO MUNICIPAL DE...</td>\n",
       "    </tr>\n",
       "  </tbody>\n",
       "</table>\n",
       "</div>"
      ],
      "text/plain": [
       "                                    ocid                       id_aw  \\\n",
       "0  ocds-5wno2w-CDC-001-GADPSLA-21-107643  5016338-CDC-001-GADPSLA-21   \n",
       "1      ocds-5wno2w-001-2021-UTELVT-75445     5139026-001-2021-UTELVT   \n",
       "2    ocds-5wno2w-001-COTO-GPLR-2021-2805  5010756-001-COTO-GPLR-2021   \n",
       "3   ocds-5wno2w-001-CDC-GADMB-2021-20973  4711114-001-CDC-GADMB-2021   \n",
       "4   ocds-5wno2w-001-LCC-GADMB-2021-20973  5038399-001-LCC-GADMB-2021   \n",
       "\n",
       "   amount_aw currency                       date                      id_ctr  \\\n",
       "0    1964.29      USD  2021-09-06T11:12:07-05:00  2087426-CDC-001-GADPSLA-21   \n",
       "1    8928.57      USD  2021-11-16T10:26:12-05:00                         NaN   \n",
       "2  551875.99      USD  2021-09-23T11:12:10-05:00                         NaN   \n",
       "3    8696.00      USD  2021-04-19T08:24:14-05:00  2104785-001-CDC-GADMB-2021   \n",
       "4   84000.00      USD  2021-09-22T09:05:21-05:00  2104053-001-LCC-GADMB-2021   \n",
       "\n",
       "   amount_ctr procurementMethod           procuringEntity_id  \\\n",
       "0     1964.29            direct  EC-RUC-1460017180001-107643   \n",
       "1         nan            direct   EC-RUC-0860000830001-75445   \n",
       "2         nan              open    EC-RUC-1260000140001-2805   \n",
       "3     8696.00            direct   EC-RUC-1260000220001-20973   \n",
       "4    84000.00           limited   EC-RUC-1260000220001-20973   \n",
       "\n",
       "                                procuringEntity_name  \\\n",
       "0              JUNTA PARROQUIAL DE SAN LUIS DEL ACHO   \n",
       "1             Universidad Técnica Luis Vargas Torres   \n",
       "2                    GOBIERNO PROVINCIAL DE LOS RIOS   \n",
       "3  GOBIERNO AUTONOMO DESCENTRALIZADO MUNICIPAL DE...   \n",
       "4  GOBIERNO AUTONOMO DESCENTRALIZADO MUNICIPAL DE...   \n",
       "\n",
       "                     award_id                        id_spl  \\\n",
       "0  5016338-CDC-001-GADPSLA-21  EC-RUC-1400624514001-1026865   \n",
       "1     5139026-001-2021-UTELVT   EC-RUC-0803602044001-554280   \n",
       "2  5010756-001-COTO-GPLR-2021    EC-RUC-1204095978001-52298   \n",
       "3  4711114-001-CDC-GADMB-2021   EC-RUC-0913230207001-849238   \n",
       "4  5038399-001-LCC-GADMB-2021    EC-RUC-1705290128001-36464   \n",
       "\n",
       "                              name_spl  \\\n",
       "0  MEJIA MONTENEGRO PATRICIA JAQUELINE   \n",
       "1  CHAVEZ RODRIGUEZ NATHALY FRANSHESKA   \n",
       "2        ESCOBAR YPERTI CARLOS ARMANDO   \n",
       "3        PIGUAVE TORRES ANTONIO MIGUEL   \n",
       "4    VALLADARES CARRILLO ALVARO MANUEL   \n",
       "\n",
       "                                              id_rls  \\\n",
       "0  CDC-001-GADPSLA-21-107643-2021-11-29T11:13:03....   \n",
       "1     001-2021-UTELVT-75445-2021-11-29T11:41:43.484Z   \n",
       "2   001-COTO-GPLR-2021-2805-2021-11-29T11:32:40.721Z   \n",
       "3  001-CDC-GADMB-2021-20973-2022-02-08T09:45:18.2...   \n",
       "4  001-LCC-GADMB-2021-20973-2022-02-08T09:49:13.2...   \n",
       "\n",
       "                      buyer_id  \\\n",
       "0  EC-RUC-1460017180001-107643   \n",
       "1   EC-RUC-0860000830001-75445   \n",
       "2    EC-RUC-1260000140001-2805   \n",
       "3   EC-RUC-1260000220001-20973   \n",
       "4   EC-RUC-1260000220001-20973   \n",
       "\n",
       "                                          buyer_name  \n",
       "0              JUNTA PARROQUIAL DE SAN LUIS DEL ACHO  \n",
       "1             Universidad Técnica Luis Vargas Torres  \n",
       "2                    GOBIERNO PROVINCIAL DE LOS RIOS  \n",
       "3  GOBIERNO AUTONOMO DESCENTRALIZADO MUNICIPAL DE...  \n",
       "4  GOBIERNO AUTONOMO DESCENTRALIZADO MUNICIPAL DE...  "
      ]
     },
     "execution_count": 21,
     "metadata": {},
     "output_type": "execute_result"
    }
   ],
   "source": [
    "main_df_2021.head()"
   ]
  },
  {
   "cell_type": "code",
   "execution_count": 22,
   "id": "43b8dacb",
   "metadata": {},
   "outputs": [
    {
     "data": {
      "text/plain": [
       "ocid                         0\n",
       "id_aw                        0\n",
       "amount_aw                    3\n",
       "currency                     3\n",
       "date                    203621\n",
       "id_ctr                    9706\n",
       "amount_ctr              135776\n",
       "procurementMethod            0\n",
       "procuringEntity_id         149\n",
       "procuringEntity_name       149\n",
       "award_id                     0\n",
       "id_spl                       0\n",
       "name_spl                    16\n",
       "id_rls                       0\n",
       "buyer_id                     0\n",
       "buyer_name                   0\n",
       "dtype: int64"
      ]
     },
     "execution_count": 22,
     "metadata": {},
     "output_type": "execute_result"
    }
   ],
   "source": [
    "main_df_2021.isna().sum()"
   ]
  },
  {
   "cell_type": "code",
   "execution_count": 23,
   "id": "c8292fce",
   "metadata": {},
   "outputs": [],
   "source": [
    "filtro3 = ~(main_df_2021[\"amount_ctr\"].isnull()) & ~(main_df_2021[\"amount_aw\"].isnull())\n",
    "main_df_2021 = main_df_2021[filtro3]\n",
    "filtro4 = ~(main_df_2021[\"date\"].isnull()) & ~(main_df_2021[\"name_spl\"].isnull())\n",
    "main_df_2021 = main_df_2021[filtro4]"
   ]
  },
  {
   "cell_type": "code",
   "execution_count": 24,
   "id": "b0bb34d0",
   "metadata": {},
   "outputs": [
    {
     "data": {
      "text/plain": [
       "ocid                    0\n",
       "id_aw                   0\n",
       "amount_aw               0\n",
       "currency                0\n",
       "date                    0\n",
       "id_ctr                  0\n",
       "amount_ctr              0\n",
       "procurementMethod       0\n",
       "procuringEntity_id      0\n",
       "procuringEntity_name    0\n",
       "award_id                0\n",
       "id_spl                  0\n",
       "name_spl                0\n",
       "id_rls                  0\n",
       "buyer_id                0\n",
       "buyer_name              0\n",
       "dtype: int64"
      ]
     },
     "execution_count": 24,
     "metadata": {},
     "output_type": "execute_result"
    }
   ],
   "source": [
    "main_df_2021.isna().sum()"
   ]
  },
  {
   "cell_type": "code",
   "execution_count": 25,
   "id": "d0d58519",
   "metadata": {},
   "outputs": [],
   "source": [
    "main_df_2021[\"date\"] = pd.to_datetime(main_df_2021[\"date\"])"
   ]
  },
  {
   "cell_type": "code",
   "execution_count": 26,
   "id": "192b60eb",
   "metadata": {},
   "outputs": [
    {
     "data": {
      "text/plain": [
       "ocid                                                    object\n",
       "id_aw                                                   object\n",
       "amount_aw                                              float64\n",
       "currency                                                object\n",
       "date                    datetime64[ns, pytz.FixedOffset(-300)]\n",
       "id_ctr                                                  object\n",
       "amount_ctr                                             float64\n",
       "procurementMethod                                       object\n",
       "procuringEntity_id                                      object\n",
       "procuringEntity_name                                    object\n",
       "award_id                                                object\n",
       "id_spl                                                  object\n",
       "name_spl                                                object\n",
       "id_rls                                                  object\n",
       "buyer_id                                                object\n",
       "buyer_name                                              object\n",
       "dtype: object"
      ]
     },
     "execution_count": 26,
     "metadata": {},
     "output_type": "execute_result"
    }
   ],
   "source": [
    "main_df_2021.dtypes"
   ]
  },
  {
   "cell_type": "code",
   "execution_count": 27,
   "id": "ad35ee72",
   "metadata": {},
   "outputs": [],
   "source": [
    "main_df_2021[\"month\"] = main_df_2021[\"date\"].apply(lambda x: x.month_name())"
   ]
  },
  {
   "cell_type": "code",
   "execution_count": 28,
   "id": "180efbe0",
   "metadata": {},
   "outputs": [
    {
     "data": {
      "text/html": [
       "<div>\n",
       "<style scoped>\n",
       "    .dataframe tbody tr th:only-of-type {\n",
       "        vertical-align: middle;\n",
       "    }\n",
       "\n",
       "    .dataframe tbody tr th {\n",
       "        vertical-align: top;\n",
       "    }\n",
       "\n",
       "    .dataframe thead th {\n",
       "        text-align: right;\n",
       "    }\n",
       "</style>\n",
       "<table border=\"1\" class=\"dataframe\">\n",
       "  <thead>\n",
       "    <tr style=\"text-align: right;\">\n",
       "      <th></th>\n",
       "      <th>ocid</th>\n",
       "      <th>id_aw</th>\n",
       "      <th>amount_aw</th>\n",
       "      <th>currency</th>\n",
       "      <th>date</th>\n",
       "      <th>id_ctr</th>\n",
       "      <th>amount_ctr</th>\n",
       "      <th>procurementMethod</th>\n",
       "      <th>procuringEntity_id</th>\n",
       "      <th>procuringEntity_name</th>\n",
       "      <th>award_id</th>\n",
       "      <th>id_spl</th>\n",
       "      <th>name_spl</th>\n",
       "      <th>id_rls</th>\n",
       "      <th>buyer_id</th>\n",
       "      <th>buyer_name</th>\n",
       "      <th>month</th>\n",
       "    </tr>\n",
       "  </thead>\n",
       "  <tbody>\n",
       "    <tr>\n",
       "      <th>0</th>\n",
       "      <td>ocds-5wno2w-CDC-001-GADPSLA-21-107643</td>\n",
       "      <td>5016338-CDC-001-GADPSLA-21</td>\n",
       "      <td>1964.29</td>\n",
       "      <td>USD</td>\n",
       "      <td>2021-09-06 11:12:07-05:00</td>\n",
       "      <td>2087426-CDC-001-GADPSLA-21</td>\n",
       "      <td>1964.29</td>\n",
       "      <td>direct</td>\n",
       "      <td>EC-RUC-1460017180001-107643</td>\n",
       "      <td>JUNTA PARROQUIAL DE SAN LUIS DEL ACHO</td>\n",
       "      <td>5016338-CDC-001-GADPSLA-21</td>\n",
       "      <td>EC-RUC-1400624514001-1026865</td>\n",
       "      <td>MEJIA MONTENEGRO PATRICIA JAQUELINE</td>\n",
       "      <td>CDC-001-GADPSLA-21-107643-2021-11-29T11:13:03....</td>\n",
       "      <td>EC-RUC-1460017180001-107643</td>\n",
       "      <td>JUNTA PARROQUIAL DE SAN LUIS DEL ACHO</td>\n",
       "      <td>September</td>\n",
       "    </tr>\n",
       "    <tr>\n",
       "      <th>3</th>\n",
       "      <td>ocds-5wno2w-001-CDC-GADMB-2021-20973</td>\n",
       "      <td>4711114-001-CDC-GADMB-2021</td>\n",
       "      <td>8696.00</td>\n",
       "      <td>USD</td>\n",
       "      <td>2021-04-19 08:24:14-05:00</td>\n",
       "      <td>2104785-001-CDC-GADMB-2021</td>\n",
       "      <td>8696.00</td>\n",
       "      <td>direct</td>\n",
       "      <td>EC-RUC-1260000220001-20973</td>\n",
       "      <td>GOBIERNO AUTONOMO DESCENTRALIZADO MUNICIPAL DE...</td>\n",
       "      <td>4711114-001-CDC-GADMB-2021</td>\n",
       "      <td>EC-RUC-0913230207001-849238</td>\n",
       "      <td>PIGUAVE TORRES ANTONIO MIGUEL</td>\n",
       "      <td>001-CDC-GADMB-2021-20973-2022-02-08T09:45:18.2...</td>\n",
       "      <td>EC-RUC-1260000220001-20973</td>\n",
       "      <td>GOBIERNO AUTONOMO DESCENTRALIZADO MUNICIPAL DE...</td>\n",
       "      <td>April</td>\n",
       "    </tr>\n",
       "    <tr>\n",
       "      <th>4</th>\n",
       "      <td>ocds-5wno2w-001-LCC-GADMB-2021-20973</td>\n",
       "      <td>5038399-001-LCC-GADMB-2021</td>\n",
       "      <td>84000.00</td>\n",
       "      <td>USD</td>\n",
       "      <td>2021-09-22 09:05:21-05:00</td>\n",
       "      <td>2104053-001-LCC-GADMB-2021</td>\n",
       "      <td>84000.00</td>\n",
       "      <td>limited</td>\n",
       "      <td>EC-RUC-1260000220001-20973</td>\n",
       "      <td>GOBIERNO AUTONOMO DESCENTRALIZADO MUNICIPAL DE...</td>\n",
       "      <td>5038399-001-LCC-GADMB-2021</td>\n",
       "      <td>EC-RUC-1705290128001-36464</td>\n",
       "      <td>VALLADARES CARRILLO ALVARO MANUEL</td>\n",
       "      <td>001-LCC-GADMB-2021-20973-2022-02-08T09:49:13.2...</td>\n",
       "      <td>EC-RUC-1260000220001-20973</td>\n",
       "      <td>GOBIERNO AUTONOMO DESCENTRALIZADO MUNICIPAL DE...</td>\n",
       "      <td>September</td>\n",
       "    </tr>\n",
       "    <tr>\n",
       "      <th>6</th>\n",
       "      <td>ocds-5wno2w-001-COTBS-GADMB-2021-20973</td>\n",
       "      <td>4954592-001-COTBS-GADMB-2021</td>\n",
       "      <td>174077.40</td>\n",
       "      <td>USD</td>\n",
       "      <td>2021-08-04 14:52:28-05:00</td>\n",
       "      <td>2090705-001-COTBS-GADMB-2021</td>\n",
       "      <td>174077.40</td>\n",
       "      <td>open</td>\n",
       "      <td>EC-RUC-1260000220001-20973</td>\n",
       "      <td>GOBIERNO AUTONOMO DESCENTRALIZADO MUNICIPAL DE...</td>\n",
       "      <td>4954592-001-COTBS-GADMB-2021</td>\n",
       "      <td>EC-RUC-1291762669001-959241</td>\n",
       "      <td>CONSTRUCTORA LEDESMA &amp; LEDESMA CONSTRUCCLED S.A.</td>\n",
       "      <td>001-COTBS-GADMB-2021-20973-2022-07-19T13:05:50...</td>\n",
       "      <td>EC-RUC-1260000220001-20973</td>\n",
       "      <td>GOBIERNO AUTONOMO DESCENTRALIZADO MUNICIPAL DE...</td>\n",
       "      <td>August</td>\n",
       "    </tr>\n",
       "    <tr>\n",
       "      <th>7</th>\n",
       "      <td>ocds-5wno2w-001-LCC-GPLR-2021-2805</td>\n",
       "      <td>4886242-001-LCC-GPLR-2021</td>\n",
       "      <td>296915.85</td>\n",
       "      <td>USD</td>\n",
       "      <td>2021-07-07 16:26:24-05:00</td>\n",
       "      <td>2084399-001-LCC-GPLR-2021</td>\n",
       "      <td>296915.85</td>\n",
       "      <td>limited</td>\n",
       "      <td>EC-RUC-1260000140001-2805</td>\n",
       "      <td>GOBIERNO PROVINCIAL DE LOS RIOS</td>\n",
       "      <td>4886242-001-LCC-GPLR-2021</td>\n",
       "      <td>EC-RUC-1792026571001-6631</td>\n",
       "      <td>GEOINT CIA. LTDA.</td>\n",
       "      <td>001-LCC-GPLR-2021-2805-2021-11-29T11:01:03.998Z</td>\n",
       "      <td>EC-RUC-1260000140001-2805</td>\n",
       "      <td>GOBIERNO PROVINCIAL DE LOS RIOS</td>\n",
       "      <td>July</td>\n",
       "    </tr>\n",
       "  </tbody>\n",
       "</table>\n",
       "</div>"
      ],
      "text/plain": [
       "                                     ocid                         id_aw  \\\n",
       "0   ocds-5wno2w-CDC-001-GADPSLA-21-107643    5016338-CDC-001-GADPSLA-21   \n",
       "3    ocds-5wno2w-001-CDC-GADMB-2021-20973    4711114-001-CDC-GADMB-2021   \n",
       "4    ocds-5wno2w-001-LCC-GADMB-2021-20973    5038399-001-LCC-GADMB-2021   \n",
       "6  ocds-5wno2w-001-COTBS-GADMB-2021-20973  4954592-001-COTBS-GADMB-2021   \n",
       "7      ocds-5wno2w-001-LCC-GPLR-2021-2805     4886242-001-LCC-GPLR-2021   \n",
       "\n",
       "   amount_aw currency                      date                        id_ctr  \\\n",
       "0    1964.29      USD 2021-09-06 11:12:07-05:00    2087426-CDC-001-GADPSLA-21   \n",
       "3    8696.00      USD 2021-04-19 08:24:14-05:00    2104785-001-CDC-GADMB-2021   \n",
       "4   84000.00      USD 2021-09-22 09:05:21-05:00    2104053-001-LCC-GADMB-2021   \n",
       "6  174077.40      USD 2021-08-04 14:52:28-05:00  2090705-001-COTBS-GADMB-2021   \n",
       "7  296915.85      USD 2021-07-07 16:26:24-05:00     2084399-001-LCC-GPLR-2021   \n",
       "\n",
       "   amount_ctr procurementMethod           procuringEntity_id  \\\n",
       "0     1964.29            direct  EC-RUC-1460017180001-107643   \n",
       "3     8696.00            direct   EC-RUC-1260000220001-20973   \n",
       "4    84000.00           limited   EC-RUC-1260000220001-20973   \n",
       "6   174077.40              open   EC-RUC-1260000220001-20973   \n",
       "7   296915.85           limited    EC-RUC-1260000140001-2805   \n",
       "\n",
       "                                procuringEntity_name  \\\n",
       "0              JUNTA PARROQUIAL DE SAN LUIS DEL ACHO   \n",
       "3  GOBIERNO AUTONOMO DESCENTRALIZADO MUNICIPAL DE...   \n",
       "4  GOBIERNO AUTONOMO DESCENTRALIZADO MUNICIPAL DE...   \n",
       "6  GOBIERNO AUTONOMO DESCENTRALIZADO MUNICIPAL DE...   \n",
       "7                    GOBIERNO PROVINCIAL DE LOS RIOS   \n",
       "\n",
       "                       award_id                        id_spl  \\\n",
       "0    5016338-CDC-001-GADPSLA-21  EC-RUC-1400624514001-1026865   \n",
       "3    4711114-001-CDC-GADMB-2021   EC-RUC-0913230207001-849238   \n",
       "4    5038399-001-LCC-GADMB-2021    EC-RUC-1705290128001-36464   \n",
       "6  4954592-001-COTBS-GADMB-2021   EC-RUC-1291762669001-959241   \n",
       "7     4886242-001-LCC-GPLR-2021     EC-RUC-1792026571001-6631   \n",
       "\n",
       "                                           name_spl  \\\n",
       "0               MEJIA MONTENEGRO PATRICIA JAQUELINE   \n",
       "3                     PIGUAVE TORRES ANTONIO MIGUEL   \n",
       "4                 VALLADARES CARRILLO ALVARO MANUEL   \n",
       "6  CONSTRUCTORA LEDESMA & LEDESMA CONSTRUCCLED S.A.   \n",
       "7                                 GEOINT CIA. LTDA.   \n",
       "\n",
       "                                              id_rls  \\\n",
       "0  CDC-001-GADPSLA-21-107643-2021-11-29T11:13:03....   \n",
       "3  001-CDC-GADMB-2021-20973-2022-02-08T09:45:18.2...   \n",
       "4  001-LCC-GADMB-2021-20973-2022-02-08T09:49:13.2...   \n",
       "6  001-COTBS-GADMB-2021-20973-2022-07-19T13:05:50...   \n",
       "7    001-LCC-GPLR-2021-2805-2021-11-29T11:01:03.998Z   \n",
       "\n",
       "                      buyer_id  \\\n",
       "0  EC-RUC-1460017180001-107643   \n",
       "3   EC-RUC-1260000220001-20973   \n",
       "4   EC-RUC-1260000220001-20973   \n",
       "6   EC-RUC-1260000220001-20973   \n",
       "7    EC-RUC-1260000140001-2805   \n",
       "\n",
       "                                          buyer_name      month  \n",
       "0              JUNTA PARROQUIAL DE SAN LUIS DEL ACHO  September  \n",
       "3  GOBIERNO AUTONOMO DESCENTRALIZADO MUNICIPAL DE...      April  \n",
       "4  GOBIERNO AUTONOMO DESCENTRALIZADO MUNICIPAL DE...  September  \n",
       "6  GOBIERNO AUTONOMO DESCENTRALIZADO MUNICIPAL DE...     August  \n",
       "7                    GOBIERNO PROVINCIAL DE LOS RIOS       July  "
      ]
     },
     "execution_count": 28,
     "metadata": {},
     "output_type": "execute_result"
    }
   ],
   "source": [
    "main_df_2021.head()"
   ]
  },
  {
   "cell_type": "code",
   "execution_count": 29,
   "id": "d14d7204",
   "metadata": {},
   "outputs": [
    {
     "data": {
      "text/plain": [
       "(103482, 17)"
      ]
     },
     "execution_count": 29,
     "metadata": {},
     "output_type": "execute_result"
    }
   ],
   "source": [
    "main_df_2021.shape"
   ]
  },
  {
   "cell_type": "code",
   "execution_count": 30,
   "id": "d1519c4a",
   "metadata": {},
   "outputs": [
    {
     "data": {
      "text/plain": [
       "0"
      ]
     },
     "execution_count": 30,
     "metadata": {},
     "output_type": "execute_result"
    }
   ],
   "source": [
    "main_df_2021.duplicated().sum()"
   ]
  },
  {
   "cell_type": "code",
   "execution_count": 122,
   "id": "8ad735c0",
   "metadata": {},
   "outputs": [],
   "source": [
    "def filtrarEntidades(x: str):\n",
    "    x = x.upper()\n",
    "    if \"HOSPITAL\" in x or \"SALUD\" in x:\n",
    "        return \"SALUD\"\n",
    "    if \"GOBIERNO\" in x or \"MANCOMUNIDAD\" in x or \"MUNICIPALIDAD\" in x or \"GAD\" in x or \"JUNTA PARROQUIAL\" in x or x.startswith(\"MUNICIPIO\"):\n",
    "        return \"MUNICIPIO\" \n",
    "    if \"UNIVERSIDAD\" in x or \"UNIDAD EDUCATIVA\" in x or \"ESCUELA\" in x or \"ESPOL\" in x or \"ESPE\" in x:\n",
    "        return \"EDUCACIÓN\"\n",
    "    if \"BOMBEROS\" in x:\n",
    "        return \"CUERPO DE BOMBEROS\"\n",
    "    if \"AGUA\" in x or \"ASEO\" in x:\n",
    "        return \"EMPRESA PÚBLICA DE AGUA POTABLE\"\n",
    "    if \"MOVILIDAD\" in x or \"VIABILIDAD\" in x or \"COMISION DE TR\" in x or \"VIAL\" in x or \"TRAFF\" in x or \"TRANSITO\" in x:\n",
    "        return \"EMPRESA PÚBLICA DE MOVILIDAD Y TRÁNSITO\"\n",
    "    if x.startswith(\"EMPRESA EL\") or x.startswith(\"CORPORACION ELECTRICA\") or \"ELECT\" in x or x.startswith(\"OPERADOR\"):\n",
    "        return \"EMPRESA PÚBLICA DE ELECTRICIDAD\"\n",
    "    if \"PORTUARIA\" in x:\n",
    "        return \"AUTORIDAD PORTUARIA\"\n",
    "    if \"COMANDO\" in x or \"POLIC\" in x:\n",
    "        return \"COMANDO POLICIAL\"\n",
    "    if x.startswith(\"CONSEJO\"):\n",
    "        return \"CONSEJO\"\n",
    "    if x.startswith(\"MINISTERIO\") or \"MIES\" in x:\n",
    "        return \"MINISTERIO\"\n",
    "    if x.startswith(\"DIRECCI\") or \"CORTE\" in x:\n",
    "        return \"DIRECCIÓN DISTRITAL\"\n",
    "    if \"ACCION SOCIAL Y EDUCACION\" in x or \"CULTURA\" in x or \"GUAYAQUIL SIGLO XXI\" in x:\n",
    "        return \"CULTURAL\"\n",
    "    if \"EP PETROECUADOR\" in x or \"PETRO\" in x or \"MINA\" in x or \"MINER\" in x:\n",
    "        return \"PETRÓLEO Y MINAS\"\n",
    "    if \"ACERIAS\" in x or \"DIGMAT\" in x:\n",
    "        return \"CONTRALORIA\"\n",
    "    if \"BANCO\" in x or \"BANECUA\" in x or \"FINANCIERA\" in x or \"FINANZAS\" in x or \"ECONOMIA\" in x:\n",
    "        return \"BANCA, FINANZAS\"\n",
    "    if \"ASAMBLEA\" in x:\n",
    "        return \"ASAMBLEA\"\n",
    "    if x.startswith(\"CENTRO\"):\n",
    "        return \"CENTRO\"\n",
    "    if x.startswith(\"CONTRALORIA\"):\n",
    "        return \"CONTRALORIA\"\n",
    "    if \"DISTRITAL\" in x or \"DISTRITO\" in x:\n",
    "        return \"DIRECCIÓN DISTRITAL\"\n",
    "    if x.startswith(\"EMPRESA PUBLICA MUNICIPAL\"):\n",
    "        return \"EMPRESA PUBLICA MUNICIPAL\"\n",
    "    if \"METROPOLITANA\" in x:\n",
    "        return \"EMPRESA PUBLICA METROPOLITANA\"\n",
    "    if \"TURIS\" in x or x.startswith(\"PARQUE\") or x.startswith(\"MALECON\"):\n",
    "        return \"TURISMO\"\n",
    "    if \"FEDERACION\" in x or \"DEPORTIVA\" in x or \"OLIMPICO\" in x:\n",
    "        return \"FEDERACION DEPORTIVA\"\n",
    "    if x.startswith(\"GOB\"):\n",
    "        return \"GOBIERNO\"\n",
    "    if x.startswith(\"INSTITUTO\") or \"ISSFA\" in x or \"IEPS\" in x:\n",
    "        return \"INSTITUCIÓN NACIONAL\"\n",
    "    if \"PRESID\" in x:\n",
    "        return \"PRESIDENCIA\"\n",
    "    if x.startswith(\"SECRETA\"):\n",
    "        return \"SECRETARIA\"\n",
    "    if x.startswith(\"SERVICIO\") or x.startswith(\"PATRONATO\") or x.startswith(\"REGISTRO\") or \"MEDIOS\" in x:\n",
    "        return \"SERVICIOS\"\n",
    "    if x.startswith(\"SUPERINTENDENCIA\"):\n",
    "        return \"SUPERINTENDENCIA\"\n",
    "    if x.startswith(\"UNIDAD DE\") or \"VIGILANCIA\" in x or x.startswith(\"GUARDIA\") or \"GIR\" in x:\n",
    "        return \"UNIDAD DE SEGURIDAD\"\n",
    "    if \"RESIDUOS\" in x or \"AGROPECUARIO\" in x or \"HIDRO\" in x or \"AMBIENTAL\" in x or \"GESTION\" in x:\n",
    "        return \"AMBIENTE\"\n",
    "    if \"EXPLOCEN\" in x or \"FAME\" in x or \"SANTA B\" in x or \"EMMAIT\" in x:\n",
    "        return \"OTRAS EMPRESAS\"\n",
    "    if \"TELECOMUNICA\" in x:\n",
    "        return \"TELECOMUNICACIONES\"\n",
    "    if \"EJERCITO\" in x or \"CC.FF.AA.\" in x or \"FUERZA TE\" in x:\n",
    "        return \"FUERZAS ARMADAS\"\n",
    "    if \"MERCADO\" in x:\n",
    "        return \"MERCADO\"\n",
    "    if \"CONSTRUC\" in x or \"OBRA\" in x or \"CEMENT\" in x or \"CONSTRUYE\" in x or \"ESTACION\" in x:\n",
    "        return \"OBRAS Y CONSTRUCCIONES\"\n",
    "    \n",
    "    return x"
   ]
  },
  {
   "cell_type": "code",
   "execution_count": 127,
   "id": "862c00e7",
   "metadata": {},
   "outputs": [],
   "source": [
    "main_df_2019[\"Licitante\"] = main_df_2019[\"procuringEntity_name\"].apply(filtrarEntidades)\n",
    "main_df_2021[\"Licitante\"] = main_df_2021[\"procuringEntity_name\"].apply(filtrarEntidades)"
   ]
  },
  {
   "cell_type": "code",
   "execution_count": 128,
   "id": "28d27c88",
   "metadata": {},
   "outputs": [],
   "source": [
    "def filter_area(df, area):\n",
    "    filtro = df[\"Licitante\"]==area\n",
    "    return df[filtro]"
   ]
  },
  {
   "cell_type": "code",
   "execution_count": 129,
   "id": "b0d4e3c4",
   "metadata": {},
   "outputs": [],
   "source": [
    "main_df_2019 = filter_area(main_df_2019, \"SALUD\")\n",
    "main_df_2021 = filter_area(main_df_2021, \"SALUD\")"
   ]
  },
  {
   "cell_type": "code",
   "execution_count": 130,
   "id": "287b8544",
   "metadata": {},
   "outputs": [],
   "source": [
    "def clean_and_extract_nodes(df, meses):\n",
    "    filtro = (df[\"month\"]==meses[0]) | (df[\"month\"]==meses[1]) | (df[\"month\"]==meses[2])\n",
    "    nodes= df[filtro]\n",
    "    nodos = list(nodes[\"procuringEntity_id\"]) + list(nodes[\"id_spl\"])\n",
    "    parties_name = list(nodes[\"procuringEntity_name\"]) + list(nodes[\"name_spl\"])\n",
    "    nodes_df = pd.DataFrame()\n",
    "    nodes_df[\"Id\"] = nodos\n",
    "    nodes_df[\"Label\"] = parties_name\n",
    "    nodes_df = nodes_df.drop_duplicates()\n",
    "    return nodes_df"
   ]
  },
  {
   "cell_type": "code",
   "execution_count": 136,
   "id": "7c9c06d8",
   "metadata": {},
   "outputs": [],
   "source": [
    "def clean_and_extract_edges(df, meses):\n",
    "    filtro = (df[\"month\"]==meses[0]) | (df[\"month\"]==meses[1]) | (df[\"month\"]==meses[2])\n",
    "    edges_df= df[filtro]\n",
    "    edges_df.drop(columns=[\"id_aw\",\"amount_aw\",\"currency\",\"id_ctr\",\"amount_ctr\",\"procurementMethod\", \"award_id\",\"id_rls\", \"date\", \"month\"], inplace=True)\n",
    "    edges_df.drop(columns=[\"Licitante\",\"buyer_id\",\"buyer_name\", \"ocid\", \"procuringEntity_name\", \"name_spl\"], inplace=True)\n",
    "    edges_df.columns = ['Source', 'Target']\n",
    "    return edges_df"
   ]
  },
  {
   "cell_type": "code",
   "execution_count": 137,
   "id": "1ed6d512",
   "metadata": {},
   "outputs": [],
   "source": [
    "nodes_df_2019 = clean_and_extract_nodes(main_df_2019, [\"May\", \"June\", \"July\"])"
   ]
  },
  {
   "cell_type": "code",
   "execution_count": 138,
   "id": "2afaa250",
   "metadata": {},
   "outputs": [
    {
     "data": {
      "text/html": [
       "<div>\n",
       "<style scoped>\n",
       "    .dataframe tbody tr th:only-of-type {\n",
       "        vertical-align: middle;\n",
       "    }\n",
       "\n",
       "    .dataframe tbody tr th {\n",
       "        vertical-align: top;\n",
       "    }\n",
       "\n",
       "    .dataframe thead th {\n",
       "        text-align: right;\n",
       "    }\n",
       "</style>\n",
       "<table border=\"1\" class=\"dataframe\">\n",
       "  <thead>\n",
       "    <tr style=\"text-align: right;\">\n",
       "      <th></th>\n",
       "      <th>Id</th>\n",
       "      <th>Label</th>\n",
       "    </tr>\n",
       "  </thead>\n",
       "  <tbody>\n",
       "    <tr>\n",
       "      <th>0</th>\n",
       "      <td>EC-RUC-0160007950001-106364</td>\n",
       "      <td>DIRECCION DISTRITAL 01D07-CAMILO PONCE ENRIQUE...</td>\n",
       "    </tr>\n",
       "    <tr>\n",
       "      <th>1</th>\n",
       "      <td>EC-RUC-0460003580001-15025</td>\n",
       "      <td>DIRECCION DISTRITAL 04D02 MONTUFAR-BOLIVAR-SALUD</td>\n",
       "    </tr>\n",
       "    <tr>\n",
       "      <th>2</th>\n",
       "      <td>EC-RUC-1360006830001-10269</td>\n",
       "      <td>HOSPITAL RODRIGUEZ ZAMBRANO MANTA</td>\n",
       "    </tr>\n",
       "    <tr>\n",
       "      <th>3</th>\n",
       "      <td>EC-RUC-1560500590001-54538</td>\n",
       "      <td>HOSPITAL GENERAL FRANCISCO DE ORELLANA</td>\n",
       "    </tr>\n",
       "    <tr>\n",
       "      <th>4</th>\n",
       "      <td>EC-RUC-1060003790001-2580</td>\n",
       "      <td>HOSPITAL SAN LUIS DE OTAVALO</td>\n",
       "    </tr>\n",
       "  </tbody>\n",
       "</table>\n",
       "</div>"
      ],
      "text/plain": [
       "                            Id  \\\n",
       "0  EC-RUC-0160007950001-106364   \n",
       "1   EC-RUC-0460003580001-15025   \n",
       "2   EC-RUC-1360006830001-10269   \n",
       "3   EC-RUC-1560500590001-54538   \n",
       "4    EC-RUC-1060003790001-2580   \n",
       "\n",
       "                                               Label  \n",
       "0  DIRECCION DISTRITAL 01D07-CAMILO PONCE ENRIQUE...  \n",
       "1   DIRECCION DISTRITAL 04D02 MONTUFAR-BOLIVAR-SALUD  \n",
       "2                  HOSPITAL RODRIGUEZ ZAMBRANO MANTA  \n",
       "3             HOSPITAL GENERAL FRANCISCO DE ORELLANA  \n",
       "4                       HOSPITAL SAN LUIS DE OTAVALO  "
      ]
     },
     "execution_count": 138,
     "metadata": {},
     "output_type": "execute_result"
    }
   ],
   "source": [
    "nodes_df_2019.head()"
   ]
  },
  {
   "cell_type": "code",
   "execution_count": 139,
   "id": "2779953a",
   "metadata": {},
   "outputs": [
    {
     "data": {
      "text/plain": [
       "(995, 2)"
      ]
     },
     "execution_count": 139,
     "metadata": {},
     "output_type": "execute_result"
    }
   ],
   "source": [
    "nodes_df_2019.shape"
   ]
  },
  {
   "cell_type": "code",
   "execution_count": 140,
   "id": "fb4e090a",
   "metadata": {},
   "outputs": [],
   "source": [
    "edges_df_2019 = clean_and_extract_edges(main_df_2019, [\"May\", \"June\", \"July\"])"
   ]
  },
  {
   "cell_type": "code",
   "execution_count": 141,
   "id": "2c45c4d6",
   "metadata": {},
   "outputs": [
    {
     "data": {
      "text/html": [
       "<div>\n",
       "<style scoped>\n",
       "    .dataframe tbody tr th:only-of-type {\n",
       "        vertical-align: middle;\n",
       "    }\n",
       "\n",
       "    .dataframe tbody tr th {\n",
       "        vertical-align: top;\n",
       "    }\n",
       "\n",
       "    .dataframe thead th {\n",
       "        text-align: right;\n",
       "    }\n",
       "</style>\n",
       "<table border=\"1\" class=\"dataframe\">\n",
       "  <thead>\n",
       "    <tr style=\"text-align: right;\">\n",
       "      <th></th>\n",
       "      <th>Source</th>\n",
       "      <th>Target</th>\n",
       "    </tr>\n",
       "  </thead>\n",
       "  <tbody>\n",
       "    <tr>\n",
       "      <th>701</th>\n",
       "      <td>EC-RUC-0160007950001-106364</td>\n",
       "      <td>EC-RUC-0704203041001-722285</td>\n",
       "    </tr>\n",
       "    <tr>\n",
       "      <th>823</th>\n",
       "      <td>EC-RUC-0460003580001-15025</td>\n",
       "      <td>EC-RUC-1002660684001-759730</td>\n",
       "    </tr>\n",
       "    <tr>\n",
       "      <th>2924</th>\n",
       "      <td>EC-RUC-1360006830001-10269</td>\n",
       "      <td>EC-RUC-1311627929001-405844</td>\n",
       "    </tr>\n",
       "    <tr>\n",
       "      <th>3183</th>\n",
       "      <td>EC-RUC-1560500590001-54538</td>\n",
       "      <td>EC-RUC-0104435920001-908212</td>\n",
       "    </tr>\n",
       "    <tr>\n",
       "      <th>7222</th>\n",
       "      <td>EC-RUC-1060003790001-2580</td>\n",
       "      <td>EC-RUC-0990064474001-2205</td>\n",
       "    </tr>\n",
       "  </tbody>\n",
       "</table>\n",
       "</div>"
      ],
      "text/plain": [
       "                           Source                       Target\n",
       "701   EC-RUC-0160007950001-106364  EC-RUC-0704203041001-722285\n",
       "823    EC-RUC-0460003580001-15025  EC-RUC-1002660684001-759730\n",
       "2924   EC-RUC-1360006830001-10269  EC-RUC-1311627929001-405844\n",
       "3183   EC-RUC-1560500590001-54538  EC-RUC-0104435920001-908212\n",
       "7222    EC-RUC-1060003790001-2580    EC-RUC-0990064474001-2205"
      ]
     },
     "execution_count": 141,
     "metadata": {},
     "output_type": "execute_result"
    }
   ],
   "source": [
    "edges_df_2019.head()"
   ]
  },
  {
   "cell_type": "code",
   "execution_count": 142,
   "id": "72981bde",
   "metadata": {},
   "outputs": [
    {
     "data": {
      "text/plain": [
       "(2223, 2)"
      ]
     },
     "execution_count": 142,
     "metadata": {},
     "output_type": "execute_result"
    }
   ],
   "source": [
    "edges_df_2019.shape"
   ]
  },
  {
   "cell_type": "code",
   "execution_count": 143,
   "id": "707012b0",
   "metadata": {},
   "outputs": [
    {
     "data": {
      "text/html": [
       "<div>\n",
       "<style scoped>\n",
       "    .dataframe tbody tr th:only-of-type {\n",
       "        vertical-align: middle;\n",
       "    }\n",
       "\n",
       "    .dataframe tbody tr th {\n",
       "        vertical-align: top;\n",
       "    }\n",
       "\n",
       "    .dataframe thead th {\n",
       "        text-align: right;\n",
       "    }\n",
       "</style>\n",
       "<table border=\"1\" class=\"dataframe\">\n",
       "  <thead>\n",
       "    <tr style=\"text-align: right;\">\n",
       "      <th></th>\n",
       "      <th>Id</th>\n",
       "      <th>Label</th>\n",
       "    </tr>\n",
       "  </thead>\n",
       "  <tbody>\n",
       "    <tr>\n",
       "      <th>0</th>\n",
       "      <td>EC-RUC-1260005610001-34305</td>\n",
       "      <td>HOSPITAL PROVINCIAL \"MARTIN ICAZA\"</td>\n",
       "    </tr>\n",
       "    <tr>\n",
       "      <th>2</th>\n",
       "      <td>EC-RUC-1460004280001-19209</td>\n",
       "      <td>DIRECCION DISTRITAL 14D05 - TAISHA - SALUD</td>\n",
       "    </tr>\n",
       "    <tr>\n",
       "      <th>3</th>\n",
       "      <td>EC-RUC-1760001120001-2455</td>\n",
       "      <td>MINISTERIO DE SALUD PUBLICA MATRIZ</td>\n",
       "    </tr>\n",
       "    <tr>\n",
       "      <th>4</th>\n",
       "      <td>EC-RUC-0160017400001-87497</td>\n",
       "      <td>HOSPITAL DE ESPECIALIDADES JOSÉ CARRASCO ARTEAGA</td>\n",
       "    </tr>\n",
       "    <tr>\n",
       "      <th>5</th>\n",
       "      <td>EC-RUC-0360007320001-8380</td>\n",
       "      <td>HOSPITAL HOMERO CASTANIER CRESPO</td>\n",
       "    </tr>\n",
       "  </tbody>\n",
       "</table>\n",
       "</div>"
      ],
      "text/plain": [
       "                           Id  \\\n",
       "0  EC-RUC-1260005610001-34305   \n",
       "2  EC-RUC-1460004280001-19209   \n",
       "3   EC-RUC-1760001120001-2455   \n",
       "4  EC-RUC-0160017400001-87497   \n",
       "5   EC-RUC-0360007320001-8380   \n",
       "\n",
       "                                              Label  \n",
       "0                HOSPITAL PROVINCIAL \"MARTIN ICAZA\"  \n",
       "2        DIRECCION DISTRITAL 14D05 - TAISHA - SALUD  \n",
       "3                MINISTERIO DE SALUD PUBLICA MATRIZ  \n",
       "4  HOSPITAL DE ESPECIALIDADES JOSÉ CARRASCO ARTEAGA  \n",
       "5                  HOSPITAL HOMERO CASTANIER CRESPO  "
      ]
     },
     "execution_count": 143,
     "metadata": {},
     "output_type": "execute_result"
    }
   ],
   "source": [
    "nodes_df_2021 = clean_and_extract_nodes(main_df_2021, [\"May\", \"June\", \"July\"])\n",
    "nodes_df_2021.head()"
   ]
  },
  {
   "cell_type": "code",
   "execution_count": 144,
   "id": "a9d2ff3e",
   "metadata": {},
   "outputs": [
    {
     "data": {
      "text/plain": [
       "(983, 2)"
      ]
     },
     "execution_count": 144,
     "metadata": {},
     "output_type": "execute_result"
    }
   ],
   "source": [
    "nodes_df_2021.shape"
   ]
  },
  {
   "cell_type": "code",
   "execution_count": 145,
   "id": "58e80ba1",
   "metadata": {},
   "outputs": [
    {
     "data": {
      "text/html": [
       "<div>\n",
       "<style scoped>\n",
       "    .dataframe tbody tr th:only-of-type {\n",
       "        vertical-align: middle;\n",
       "    }\n",
       "\n",
       "    .dataframe tbody tr th {\n",
       "        vertical-align: top;\n",
       "    }\n",
       "\n",
       "    .dataframe thead th {\n",
       "        text-align: right;\n",
       "    }\n",
       "</style>\n",
       "<table border=\"1\" class=\"dataframe\">\n",
       "  <thead>\n",
       "    <tr style=\"text-align: right;\">\n",
       "      <th></th>\n",
       "      <th>Source</th>\n",
       "      <th>Target</th>\n",
       "    </tr>\n",
       "  </thead>\n",
       "  <tbody>\n",
       "    <tr>\n",
       "      <th>335</th>\n",
       "      <td>EC-RUC-1260005610001-34305</td>\n",
       "      <td>EC-RUC-0920762754001-976712</td>\n",
       "    </tr>\n",
       "    <tr>\n",
       "      <th>336</th>\n",
       "      <td>EC-RUC-1260005610001-34305</td>\n",
       "      <td>EC-RUC-0992805803001-494990</td>\n",
       "    </tr>\n",
       "    <tr>\n",
       "      <th>351</th>\n",
       "      <td>EC-RUC-1460004280001-19209</td>\n",
       "      <td>EC-RUC-2100128905001-588009</td>\n",
       "    </tr>\n",
       "    <tr>\n",
       "      <th>451</th>\n",
       "      <td>EC-RUC-1760001120001-2455</td>\n",
       "      <td>EC-RUC-1791399854001-167544</td>\n",
       "    </tr>\n",
       "    <tr>\n",
       "      <th>691</th>\n",
       "      <td>EC-RUC-0160017400001-87497</td>\n",
       "      <td>EC-RUC-1791739477001-21909</td>\n",
       "    </tr>\n",
       "  </tbody>\n",
       "</table>\n",
       "</div>"
      ],
      "text/plain": [
       "                         Source                       Target\n",
       "335  EC-RUC-1260005610001-34305  EC-RUC-0920762754001-976712\n",
       "336  EC-RUC-1260005610001-34305  EC-RUC-0992805803001-494990\n",
       "351  EC-RUC-1460004280001-19209  EC-RUC-2100128905001-588009\n",
       "451   EC-RUC-1760001120001-2455  EC-RUC-1791399854001-167544\n",
       "691  EC-RUC-0160017400001-87497   EC-RUC-1791739477001-21909"
      ]
     },
     "execution_count": 145,
     "metadata": {},
     "output_type": "execute_result"
    }
   ],
   "source": [
    "edges_df_2021 = clean_and_extract_edges(main_df_2021, [\"May\", \"June\", \"July\"])\n",
    "edges_df_2021.head()"
   ]
  },
  {
   "cell_type": "code",
   "execution_count": 146,
   "id": "086769b0",
   "metadata": {},
   "outputs": [
    {
     "data": {
      "text/plain": [
       "(2799, 2)"
      ]
     },
     "execution_count": 146,
     "metadata": {},
     "output_type": "execute_result"
    }
   ],
   "source": [
    "edges_df_2021.shape"
   ]
  },
  {
   "cell_type": "code",
   "execution_count": 147,
   "id": "80116904",
   "metadata": {},
   "outputs": [],
   "source": [
    "def clean_edges(df, num):\n",
    "    edges = df.groupby([\"Source\", \"Target\"])[\"Target\"].agg(['sum','count']).reset_index()\n",
    "    edges.drop(columns=[\"sum\"], inplace=True)\n",
    "    filtro = (edges[\"count\"]>num)\n",
    "    edges= edges[filtro]\n",
    "    edges.columns =[\"Source\", \"Target\", \"Weight\"]\n",
    "    return edges"
   ]
  },
  {
   "cell_type": "code",
   "execution_count": 148,
   "id": "3e15a717",
   "metadata": {},
   "outputs": [],
   "source": [
    "def filter_edges(df,num):\n",
    "    edges = df.groupby(\"Source\").agg({'Source' : ['count']}).reset_index()\n",
    "    edges.columns = [\"Source\", \"count\"]\n",
    "    filtro= edges[\"count\"]>num\n",
    "    edges=edges[filtro]\n",
    "    lista=list(edges[\"Source\"])\n",
    "    filtro1 =  df[\"Source\"].isin(lista)\n",
    "    edges = df[filtro1]\n",
    "    #filtro2 =  edges[\"Source\"].isin(list(edges[\"Target\"]))\n",
    "    #edges = edges[filtro2]\n",
    "    return edges"
   ]
  },
  {
   "cell_type": "code",
   "execution_count": 149,
   "id": "3b236fbe",
   "metadata": {},
   "outputs": [],
   "source": [
    "def filter_nodes(df, edges):\n",
    "    lista =list(edges[\"Source\"])+list(edges[\"Target\"])\n",
    "    filtro= df[\"Id\"].isin(lista)\n",
    "    nodes= df[filtro]\n",
    "    return nodes"
   ]
  },
  {
   "cell_type": "code",
   "execution_count": 168,
   "id": "d586276f",
   "metadata": {},
   "outputs": [],
   "source": [
    "edges_2021 = clean_edges(edges_df_2021, 2)\n",
    "edges_2021 = filter_edges(edges_2021, 0)\n",
    "nodes_2021 = filter_nodes(nodes_df_2021, edges_2021)"
   ]
  },
  {
   "cell_type": "code",
   "execution_count": 158,
   "id": "cb6aace3",
   "metadata": {},
   "outputs": [
    {
     "data": {
      "text/plain": [
       "(93, 2)"
      ]
     },
     "execution_count": 158,
     "metadata": {},
     "output_type": "execute_result"
    }
   ],
   "source": [
    "nodes_2021.shape"
   ]
  },
  {
   "cell_type": "code",
   "execution_count": 159,
   "id": "5cefb49f",
   "metadata": {},
   "outputs": [
    {
     "data": {
      "text/plain": [
       "(86, 3)"
      ]
     },
     "execution_count": 159,
     "metadata": {},
     "output_type": "execute_result"
    }
   ],
   "source": [
    "edges_2021.shape"
   ]
  },
  {
   "cell_type": "code",
   "execution_count": 160,
   "id": "ccf7ee11",
   "metadata": {},
   "outputs": [],
   "source": [
    "edges_2019 = clean_edges(edges_df_2019, 2)\n",
    "edges_2019 = filter_edges(edges_2019, 0)\n",
    "nodes_2019 = filter_nodes(nodes_df_2019, edges_2019)"
   ]
  },
  {
   "cell_type": "code",
   "execution_count": 161,
   "id": "3754b0ae",
   "metadata": {},
   "outputs": [
    {
     "data": {
      "text/plain": [
       "(74, 2)"
      ]
     },
     "execution_count": 161,
     "metadata": {},
     "output_type": "execute_result"
    }
   ],
   "source": [
    "nodes_2019.shape"
   ]
  },
  {
   "cell_type": "code",
   "execution_count": 162,
   "id": "f2b052f6",
   "metadata": {},
   "outputs": [
    {
     "data": {
      "text/plain": [
       "(80, 3)"
      ]
     },
     "execution_count": 162,
     "metadata": {},
     "output_type": "execute_result"
    }
   ],
   "source": [
    "edges_2019.shape"
   ]
  },
  {
   "cell_type": "code",
   "execution_count": 59,
   "id": "bb5dd862",
   "metadata": {},
   "outputs": [
    {
     "data": {
      "text/html": [
       "<div>\n",
       "<style scoped>\n",
       "    .dataframe tbody tr th:only-of-type {\n",
       "        vertical-align: middle;\n",
       "    }\n",
       "\n",
       "    .dataframe tbody tr th {\n",
       "        vertical-align: top;\n",
       "    }\n",
       "\n",
       "    .dataframe thead th {\n",
       "        text-align: right;\n",
       "    }\n",
       "</style>\n",
       "<table border=\"1\" class=\"dataframe\">\n",
       "  <thead>\n",
       "    <tr style=\"text-align: right;\">\n",
       "      <th></th>\n",
       "      <th>Source</th>\n",
       "      <th>Target</th>\n",
       "      <th>Weight</th>\n",
       "    </tr>\n",
       "  </thead>\n",
       "  <tbody>\n",
       "    <tr>\n",
       "      <th>4176</th>\n",
       "      <td>EC-RUC-1768046450001-54651</td>\n",
       "      <td>EC-RUC-0190146677001-11735</td>\n",
       "      <td>9</td>\n",
       "    </tr>\n",
       "    <tr>\n",
       "      <th>4077</th>\n",
       "      <td>EC-RUC-1768034950001-40576</td>\n",
       "      <td>EC-RUC-1792029678001-209299</td>\n",
       "      <td>8</td>\n",
       "    </tr>\n",
       "    <tr>\n",
       "      <th>4221</th>\n",
       "      <td>EC-RUC-1768046450001-54651</td>\n",
       "      <td>EC-RUC-1790972186001-1940</td>\n",
       "      <td>8</td>\n",
       "    </tr>\n",
       "    <tr>\n",
       "      <th>4234</th>\n",
       "      <td>EC-RUC-1768046450001-54651</td>\n",
       "      <td>EC-RUC-1791931483001-10379</td>\n",
       "      <td>8</td>\n",
       "    </tr>\n",
       "    <tr>\n",
       "      <th>4206</th>\n",
       "      <td>EC-RUC-1768046450001-54651</td>\n",
       "      <td>EC-RUC-1708223027001-404273</td>\n",
       "      <td>6</td>\n",
       "    </tr>\n",
       "    <tr>\n",
       "      <th>...</th>\n",
       "      <td>...</td>\n",
       "      <td>...</td>\n",
       "      <td>...</td>\n",
       "    </tr>\n",
       "    <tr>\n",
       "      <th>3949</th>\n",
       "      <td>EC-RUC-1768033980001-52558</td>\n",
       "      <td>EC-RUC-0990014825001-3305</td>\n",
       "      <td>2</td>\n",
       "    </tr>\n",
       "    <tr>\n",
       "      <th>3739</th>\n",
       "      <td>EC-RUC-1768012710001-43246</td>\n",
       "      <td>EC-RUC-1792583438001-706035</td>\n",
       "      <td>2</td>\n",
       "    </tr>\n",
       "    <tr>\n",
       "      <th>3726</th>\n",
       "      <td>EC-RUC-1768012710001-43246</td>\n",
       "      <td>EC-RUC-1791355296001-6882</td>\n",
       "      <td>2</td>\n",
       "    </tr>\n",
       "    <tr>\n",
       "      <th>3723</th>\n",
       "      <td>EC-RUC-1768012710001-43246</td>\n",
       "      <td>EC-RUC-1791222032001-4906</td>\n",
       "      <td>2</td>\n",
       "    </tr>\n",
       "    <tr>\n",
       "      <th>4990</th>\n",
       "      <td>EC-RUC-1768161120001-390394</td>\n",
       "      <td>ID-1791830105001-2928</td>\n",
       "      <td>2</td>\n",
       "    </tr>\n",
       "  </tbody>\n",
       "</table>\n",
       "<p>157 rows × 3 columns</p>\n",
       "</div>"
      ],
      "text/plain": [
       "                           Source                       Target  Weight\n",
       "4176   EC-RUC-1768046450001-54651   EC-RUC-0190146677001-11735       9\n",
       "4077   EC-RUC-1768034950001-40576  EC-RUC-1792029678001-209299       8\n",
       "4221   EC-RUC-1768046450001-54651    EC-RUC-1790972186001-1940       8\n",
       "4234   EC-RUC-1768046450001-54651   EC-RUC-1791931483001-10379       8\n",
       "4206   EC-RUC-1768046450001-54651  EC-RUC-1708223027001-404273       6\n",
       "...                           ...                          ...     ...\n",
       "3949   EC-RUC-1768033980001-52558    EC-RUC-0990014825001-3305       2\n",
       "3739   EC-RUC-1768012710001-43246  EC-RUC-1792583438001-706035       2\n",
       "3726   EC-RUC-1768012710001-43246    EC-RUC-1791355296001-6882       2\n",
       "3723   EC-RUC-1768012710001-43246    EC-RUC-1791222032001-4906       2\n",
       "4990  EC-RUC-1768161120001-390394        ID-1791830105001-2928       2\n",
       "\n",
       "[157 rows x 3 columns]"
      ]
     },
     "execution_count": 59,
     "metadata": {},
     "output_type": "execute_result"
    }
   ],
   "source": [
    "edges_2019.sort_values(by=\"Weight\", ascending=False)"
   ]
  },
  {
   "cell_type": "code",
   "execution_count": 96,
   "id": "928b8a6f",
   "metadata": {},
   "outputs": [],
   "source": [
    "edges_2021['arcos'] = edges_2021[[\"Source\", \"Target\"]].apply(tuple, axis=1)"
   ]
  },
  {
   "cell_type": "code",
   "execution_count": null,
   "id": "dd43d1d1",
   "metadata": {},
   "outputs": [],
   "source": [
    "edges_2021.shape"
   ]
  },
  {
   "cell_type": "code",
   "execution_count": null,
   "id": "19012a1c",
   "metadata": {},
   "outputs": [],
   "source": [
    "edges_2019.shape"
   ]
  },
  {
   "cell_type": "code",
   "execution_count": null,
   "id": "5c8c28c0",
   "metadata": {},
   "outputs": [],
   "source": [
    "edges_2021.dtypes"
   ]
  },
  {
   "cell_type": "code",
   "execution_count": 97,
   "id": "d06fcb70",
   "metadata": {},
   "outputs": [],
   "source": [
    "import networkx as nx\n",
    "G= nx.DiGraph()\n",
    "G.add_nodes_from(nodes_2021)"
   ]
  },
  {
   "cell_type": "code",
   "execution_count": 98,
   "id": "079dfdad",
   "metadata": {},
   "outputs": [],
   "source": [
    "G.add_edges_from(edges_2021['arcos'])"
   ]
  },
  {
   "cell_type": "code",
   "execution_count": 99,
   "id": "d871210f",
   "metadata": {},
   "outputs": [
    {
     "data": {
      "text/plain": [
       "241"
      ]
     },
     "execution_count": 99,
     "metadata": {},
     "output_type": "execute_result"
    }
   ],
   "source": [
    "len(G.nodes)"
   ]
  },
  {
   "cell_type": "code",
   "execution_count": 100,
   "id": "9a468d98",
   "metadata": {},
   "outputs": [
    {
     "data": {
      "text/plain": [
       "292"
      ]
     },
     "execution_count": 100,
     "metadata": {},
     "output_type": "execute_result"
    }
   ],
   "source": [
    "len(G.edges)"
   ]
  },
  {
   "cell_type": "code",
   "execution_count": null,
   "id": "d1d84903",
   "metadata": {},
   "outputs": [],
   "source": [
    "!pip install graphviz"
   ]
  },
  {
   "cell_type": "code",
   "execution_count": null,
   "id": "16d6134c",
   "metadata": {},
   "outputs": [],
   "source": [
    "./gephi-0.9.2/bin/gephi"
   ]
  },
  {
   "cell_type": "code",
   "execution_count": 169,
   "id": "163375b6",
   "metadata": {},
   "outputs": [],
   "source": [
    "nodes_2019.to_csv(\"nodes_parties_2019.csv\", index= False)\n",
    "edges_2019.to_csv(\"edges_parties_2019.csv\", index= False)\n",
    "nodes_2021.to_csv(\"nodes_parties_2021.csv\", index= False)\n",
    "edges_2021.to_csv(\"edges_parties_2021.csv\", index= False)"
   ]
  },
  {
   "cell_type": "code",
   "execution_count": null,
   "id": "cc3a1942",
   "metadata": {},
   "outputs": [],
   "source": []
  },
  {
   "cell_type": "code",
   "execution_count": null,
   "id": "766ef7b0",
   "metadata": {},
   "outputs": [],
   "source": []
  }
 ],
 "metadata": {
  "kernelspec": {
   "display_name": "Python 3 (ipykernel)",
   "language": "python",
   "name": "python3"
  },
  "language_info": {
   "codemirror_mode": {
    "name": "ipython",
    "version": 3
   },
   "file_extension": ".py",
   "mimetype": "text/x-python",
   "name": "python",
   "nbconvert_exporter": "python",
   "pygments_lexer": "ipython3",
   "version": "3.8.10"
  }
 },
 "nbformat": 4,
 "nbformat_minor": 5
}

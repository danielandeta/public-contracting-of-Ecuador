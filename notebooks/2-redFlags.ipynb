{
  "cells": [
    {
      "cell_type": "code",
      "source": [
        "import pandas as pd"
      ],
      "outputs": [],
      "execution_count": 2,
      "metadata": {
        "gather": {
          "logged": 1657475072321
        }
      }
    },
    {
      "cell_type": "code",
      "source": [
        "df_awards = pd.read_csv(\"awards_2021.csv\")\n",
        "df_awards.head()\n",
        "df_awards.isnull().sum()"
      ],
      "outputs": [
        {
          "output_type": "stream",
          "name": "stderr",
          "text": "/anaconda/envs/azureml_py38/lib/python3.8/site-packages/IPython/core/interactiveshell.py:3134: DtypeWarning: Columns (4,6,13,14) have mixed types.Specify dtype option on import or set low_memory=False.\n  has_raised = await self.run_ast_nodes(code_ast.body, cell_name,\n"
        },
        {
          "output_type": "execute_result",
          "execution_count": 3,
          "data": {
            "text/plain": "ocid                                  0\nrelease_id                            0\nid                                    0\ntitle                            161869\ndescription                      123757\nstatus                            48559\ndate                             131407\namount                                3\ncurrency                              3\ncorrectedValue_amount            161869\ncorrectedValue_currency          161869\nenteredValue_amount              161869\nenteredValue_currency            161869\ncontractPeriod_startDate         155762\ncontractPeriod_endDate           155762\ncontractPeriod_maxExtentDate     161869\ncontractPeriod_durationInDays    155764\ndtype: int64"
          },
          "metadata": {}
        }
      ],
      "execution_count": 3,
      "metadata": {
        "gather": {
          "logged": 1657475075187
        }
      }
    },
    {
      "cell_type": "code",
      "source": [
        "df_awards.drop(columns=[\"title\", \"description\",\"correctedValue_amount\", \"correctedValue_currency\", \"enteredValue_amount\", \"enteredValue_currency\", \"contractPeriod_startDate\", \"contractPeriod_endDate\", \"contractPeriod_maxExtentDate\", \"contractPeriod_durationInDays\"], inplace=True)\n",
        "df_awards.isnull().sum()"
      ],
      "outputs": [
        {
          "output_type": "execute_result",
          "execution_count": 4,
          "data": {
            "text/plain": "ocid               0\nrelease_id         0\nid                 0\nstatus         48559\ndate          131407\namount             3\ncurrency           3\ndtype: int64"
          },
          "metadata": {}
        }
      ],
      "execution_count": 4,
      "metadata": {
        "gather": {
          "logged": 1657475085222
        },
        "jupyter": {
          "outputs_hidden": false,
          "source_hidden": false
        },
        "nteract": {
          "transient": {
            "deleting": false
          }
        }
      }
    },
    {
      "cell_type": "code",
      "source": [
        "df_contracts = pd.read_csv(\"contracts_2021.csv\")\n",
        "df_contracts.head()\n",
        "df_contracts.isnull().sum()\n"
      ],
      "outputs": [
        {
          "output_type": "execute_result",
          "execution_count": 5,
          "data": {
            "text/plain": "ocid                                  0\nrelease_id                            0\nid                                    0\nawardID                               0\ntitle                            151586\ndescription                      151586\nstatus                                0\ncontractPeriod_startDate         123757\ncontractPeriod_endDate           123757\ncontractPeriod_maxExtentDate     151586\ncontractPeriod_durationInDays    123761\namount                           123757\ncurrency                         123757\ndateSigned                       123757\ndtype: int64"
          },
          "metadata": {}
        }
      ],
      "execution_count": 5,
      "metadata": {
        "gather": {
          "logged": 1657475099700
        }
      }
    },
    {
      "cell_type": "code",
      "source": [
        "df_contracts.drop(columns=[\"title\", \"description\", \"contractPeriod_startDate\", \"contractPeriod_endDate\", \"contractPeriod_maxExtentDate\", \"currency\"], inplace=True)\n",
        "df_contracts.isnull().sum()"
      ],
      "outputs": [
        {
          "output_type": "execute_result",
          "execution_count": 6,
          "data": {
            "text/plain": "ocid                                  0\nrelease_id                            0\nid                                    0\nawardID                               0\nstatus                                0\ncontractPeriod_durationInDays    123761\namount                           123757\ndateSigned                       123757\ndtype: int64"
          },
          "metadata": {}
        }
      ],
      "execution_count": 6,
      "metadata": {
        "gather": {
          "logged": 1657475115789
        },
        "jupyter": {
          "outputs_hidden": false,
          "source_hidden": false
        },
        "nteract": {
          "transient": {
            "deleting": false
          }
        }
      }
    },
    {
      "cell_type": "code",
      "source": [
        "df_planning = pd.read_csv(\"planning_2021.csv\")\n",
        "df_planning.head()\n",
        "df_planning.isnull().sum()"
      ],
      "outputs": [
        {
          "output_type": "execute_result",
          "execution_count": 7,
          "data": {
            "text/plain": "ocid                      0\nid                        0\nrationale                 1\nbudget_id                 0\nbudget_description    38202\nbudget_amount         19740\nbudget_currency       19740\ndtype: int64"
          },
          "metadata": {}
        }
      ],
      "execution_count": 7,
      "metadata": {
        "gather": {
          "logged": 1657475119841
        }
      }
    },
    {
      "cell_type": "code",
      "source": [
        "df_planning.drop(columns=[\"budget_description\"], inplace=True)\n",
        "df_planning.dropna(subset=[\"budget_amount\", \"budget_currency\"], how=\"all\", inplace=True)\n",
        "df_planning.isnull().sum()"
      ],
      "outputs": [
        {
          "output_type": "execute_result",
          "execution_count": 8,
          "data": {
            "text/plain": "ocid               0\nid                 0\nrationale          0\nbudget_id          0\nbudget_amount      0\nbudget_currency    0\ndtype: int64"
          },
          "metadata": {}
        }
      ],
      "execution_count": 8,
      "metadata": {
        "gather": {
          "logged": 1657475122573
        },
        "jupyter": {
          "outputs_hidden": false,
          "source_hidden": false
        },
        "nteract": {
          "transient": {
            "deleting": false
          }
        }
      }
    },
    {
      "cell_type": "code",
      "source": [
        "df_releases = pd.read_csv(\"releases_2021.csv\")\n",
        "df_releases.head()\n",
        "df_releases.isnull().sum()"
      ],
      "outputs": [
        {
          "output_type": "execute_result",
          "execution_count": 9,
          "data": {
            "text/plain": "ocid              0\nid                0\ninitiationType    0\nbuyer_id          0\nbuyer_name        0\nlanguage          0\ndate              0\ntag               0\ndtype: int64"
          },
          "metadata": {}
        }
      ],
      "execution_count": 9,
      "metadata": {
        "gather": {
          "logged": 1657475125859
        }
      }
    },
    {
      "cell_type": "code",
      "source": [
        "df_suppliers = pd.read_csv(\"suppliers_2021.csv\")\n",
        "df_suppliers.head()\n",
        "df_suppliers.isnull().sum()"
      ],
      "outputs": [
        {
          "output_type": "execute_result",
          "execution_count": 10,
          "data": {
            "text/plain": "ocid           0\nrelease_id     0\naward_id       0\nid             0\nname          16\ndtype: int64"
          },
          "metadata": {}
        }
      ],
      "execution_count": 10,
      "metadata": {
        "gather": {
          "logged": 1657475129706
        }
      }
    },
    {
      "cell_type": "code",
      "source": [
        "df_suppliers.dropna(inplace=True)\n",
        "df_suppliers.isnull().sum()"
      ],
      "outputs": [
        {
          "output_type": "execute_result",
          "execution_count": 11,
          "data": {
            "text/plain": "ocid          0\nrelease_id    0\naward_id      0\nid            0\nname          0\ndtype: int64"
          },
          "metadata": {}
        }
      ],
      "execution_count": 11,
      "metadata": {
        "gather": {
          "logged": 1657475138328
        },
        "jupyter": {
          "outputs_hidden": false,
          "source_hidden": false
        },
        "nteract": {
          "transient": {
            "deleting": false
          }
        }
      }
    },
    {
      "cell_type": "code",
      "source": [
        "df_tender = pd.read_csv(\"tender_2021.csv\")\n",
        "df_tender.head()\n",
        "df_tender.isnull().sum()"
      ],
      "outputs": [
        {
          "output_type": "stream",
          "name": "stderr",
          "text": "/anaconda/envs/azureml_py38/lib/python3.8/site-packages/IPython/core/interactiveshell.py:3134: DtypeWarning: Columns (12,13,14,15,16,18,19,20,22,23,24,25,26) have mixed types.Specify dtype option on import or set low_memory=False.\n  has_raised = await self.run_ast_nodes(code_ast.body, cell_name,\n"
        },
        {
          "output_type": "execute_result",
          "execution_count": 12,
          "data": {
            "text/plain": "ocid                                 0\nrelease_id                           0\nid                                   0\ntitle                                0\ndescription                          1\nstatus                               0\nprocuringEntity_id                  54\nprocuringEntity_name                54\nvalue_amount                     19048\nvalue_currency                   19048\nprocurementMethod                    0\nprocurementMethodDetails             0\nmainProcurementCategory         123757\nawardCriteria                   123757\ntenderPeriod_startDate          123757\ntenderPeriod_endDate            145778\ntenderPeriod_maxExtentDate      145778\ntenderPeriod_durationInDays     146107\nenquiryPeriod_startDate         123757\nenquiryPeriod_endDate           129772\nenquiryPeriod_maxExtentDate     129772\nenquiryPeriod_durationInDays    130583\nhasEnquiries                    136645\neligibilityCriteria             142805\nawardPeriod_startDate           141465\nawardPeriod_endDate             123757\nawardPeriod_maxExtentDate       123757\nawardPeriod_durationInDays      142361\nnumberOfTenderers               124031\ndtype: int64"
          },
          "metadata": {}
        }
      ],
      "execution_count": 12,
      "metadata": {
        "gather": {
          "logged": 1657475143132
        }
      }
    },
    {
      "cell_type": "code",
      "source": [
        "df_tender = df_tender[[\"ocid\", \"release_id\", \"id\", \"title\", \"description\", \"status\", \"procuringEntity_id\", \"procuringEntity_name\", \"value_amount\", \"value_currency\", \"procurementMethod\", \"procurementMethodDetails\", \"numberOfTenderers\", \"enquiryPeriod_durationInDays\", \"tenderPeriod_durationInDays\"]]\n",
        "df_tender.isnull().sum()"
      ],
      "outputs": [
        {
          "output_type": "execute_result",
          "execution_count": 13,
          "data": {
            "text/plain": "ocid                                 0\nrelease_id                           0\nid                                   0\ntitle                                0\ndescription                          1\nstatus                               0\nprocuringEntity_id                  54\nprocuringEntity_name                54\nvalue_amount                     19048\nvalue_currency                   19048\nprocurementMethod                    0\nprocurementMethodDetails             0\nnumberOfTenderers               124031\nenquiryPeriod_durationInDays    130583\ntenderPeriod_durationInDays     146107\ndtype: int64"
          },
          "metadata": {}
        }
      ],
      "execution_count": 13,
      "metadata": {
        "gather": {
          "logged": 1657475159916
        },
        "jupyter": {
          "outputs_hidden": false,
          "source_hidden": false
        },
        "nteract": {
          "transient": {
            "deleting": false
          }
        }
      }
    },
    {
      "cell_type": "code",
      "source": [
        "def unir(df_general, df_unir, r_sufix):\n",
        "    return df_general.merge(df_unir, how=\"right\", left_on=\"ocid\", right_on=\"ocid\", suffixes=(\"\", r_sufix))"
      ],
      "outputs": [],
      "execution_count": 14,
      "metadata": {
        "gather": {
          "logged": 1657475166821
        }
      }
    },
    {
      "cell_type": "code",
      "source": [
        "df = unir(df_releases, df_tender, \"_tender\")\n",
        "df = unir(df, df_suppliers, \"_supplier\")\n",
        "df = unir(df, df_contracts, \"_contracts\")\n",
        "df = unir(df, df_awards, \"_awards\")\n",
        "df = unir(df, df_planning, \"_planning\")\n",
        "df"
      ],
      "outputs": [
        {
          "output_type": "execute_result",
          "execution_count": 15,
          "data": {
            "text/plain": "                                            ocid  \\\n0           ocds-5wno2w-MCBS-DNA-003-2021-178618   \n1              ocds-5wno2w-MCO-GADPP-7-2021-2426   \n2            ocds-5wno2w-LCC-GADMQ-001-2021-2453   \n3         ocds-5wno2w-MCO-GADMCJS-029-2021-40430   \n4           ocds-5wno2w-CDC-GADMP-2021-008-45119   \n...                                          ...   \n26808792   ocds-5wno2w-REOALC-GADMANTA01-21-2668   \n26808793    ocds-5wno2w-MCBS-DNA-005-2021-178618   \n26808794   ocds-5wno2w-MCS-CCFFAA-002-ABR21-2539   \n26808795   ocds-5wno2w-RE-GADMCN-17-21-LRG-67188   \n26808796    ocds-5wno2w-RE-HGADPCH-039-2021-2583   \n\n                                                         id initiationType  \\\n0         MCBS-DNA-003-2021-178618-2022-05-04T11:41:39.8...         tender   \n1                                                       NaN            NaN   \n2         LCC-GADMQ-001-2021-2453-2022-05-05T11:49:59.83...         tender   \n3                                                       NaN            NaN   \n4         CDC-GADMP-2021-008-45119-2022-05-07T11:59:26.4...         tender   \n...                                                     ...            ...   \n26808792  REOALC-GADMANTA01-21-2668-2022-04-30T12:21:31....         tender   \n26808793  MCBS-DNA-005-2021-178618-2022-05-04T11:43:12.1...         tender   \n26808794  MCS-CCFFAA-002-ABR21-2539-2022-05-04T11:36:54....         tender   \n26808795  RE-GADMCN-17-21-LRG-67188-2022-05-04T11:48:52....         tender   \n26808796  RE-HGADPCH-039-2021-2583-2022-05-04T11:39:57.9...         tender   \n\n                             buyer_id  \\\n0         EC-RUC-1768040760001-178618   \n1                                 NaN   \n2           EC-RUC-1260000650001-2453   \n3                                 NaN   \n4          EC-RUC-0560000460001-45119   \n...                               ...   \n26808792    EC-RUC-1360000980001-2668   \n26808793  EC-RUC-1768040760001-178618   \n26808794    EC-RUC-1768012630001-2539   \n26808795   EC-RUC-0968532700001-67188   \n26808796    EC-RUC-0660000280001-2583   \n\n                                                 buyer_name language  \\\n0                      DIRECCION NACIONAL DE ANTINARCOTICOS       es   \n1                                                       NaN      NaN   \n2         GOBIERNO AUTONOMO DESCENTRALIZADO MUNICIPAL DE...       es   \n3                                                       NaN      NaN   \n4                               Municipio del Canton Pangua       es   \n...                                                     ...      ...   \n26808792  GOBIERNO AUTONOMO DESCENTRALIZADO MUNICIPAL DE...       es   \n26808793               DIRECCION NACIONAL DE ANTINARCOTICOS       es   \n26808794                                   COMANDO CONJUNTO       es   \n26808795  GOBIERNO AUTONOMO DESCENTRALIZADO MUNICIPAL DE...       es   \n26808796  HONORABLE GOBIERNO AUTONOMO DESCENTRALIZADO DE...       es   \n\n                               date  \\\n0         2022-05-04T06:51:47-05:00   \n1                               NaN   \n2         2022-05-05T06:56:50-05:00   \n3                               NaN   \n4         2022-05-07T07:11:03-05:00   \n...                             ...   \n26808792  2022-04-30T07:28:18-05:00   \n26808793  2022-05-04T06:51:47-05:00   \n26808794  2022-05-04T06:51:48-05:00   \n26808795  2022-05-04T06:51:48-05:00   \n26808796  2022-05-04T06:51:48-05:00   \n\n                                                        tag  \\\n0                  [\"planning\",\"tender\",\"award\",\"contract\"]   \n1                                                       NaN   \n2                  [\"planning\",\"tender\",\"award\",\"contract\"]   \n3                                                       NaN   \n4         [\"planning\",\"tender\",\"award\",\"contract\",\"imple...   \n...                                                     ...   \n26808792           [\"planning\",\"tender\",\"award\",\"contract\"]   \n26808793           [\"planning\",\"tender\",\"award\",\"contract\"]   \n26808794  [\"planning\",\"tender\",\"award\",\"contract\",\"imple...   \n26808795           [\"planning\",\"tender\",\"award\",\"contract\"]   \n26808796  [\"planning\",\"tender\",\"award\",\"contract\",\"imple...   \n\n                                                 release_id  \\\n0         MCBS-DNA-003-2021-178618-2022-05-04T11:41:39.8...   \n1                                                       NaN   \n2         LCC-GADMQ-001-2021-2453-2022-05-05T11:49:59.83...   \n3                                                       NaN   \n4         CDC-GADMP-2021-008-45119-2022-05-07T11:59:26.4...   \n...                                                     ...   \n26808792  REOALC-GADMANTA01-21-2668-2022-04-30T12:21:31....   \n26808793  MCBS-DNA-005-2021-178618-2022-05-04T11:43:12.1...   \n26808794  MCS-CCFFAA-002-ABR21-2539-2022-05-04T11:36:54....   \n26808795  RE-GADMCN-17-21-LRG-67188-2022-05-04T11:48:52....   \n26808796  RE-HGADPCH-039-2021-2583-2022-05-04T11:39:57.9...   \n\n                          id_tender  ...                     id_awards  \\\n0          MCBS-DNA-003-2021-178618  ...     4726509-MCBS-DNA-003-2021   \n1                               NaN  ...      5159820-MCO-GADPP-7-2021   \n2           LCC-GADMQ-001-2021-2453  ...    5031904-LCC-GADMQ-001-2021   \n3                               NaN  ...  5310384-MCO-GADMCJS-029-2021   \n4          CDC-GADMP-2021-008-45119  ...    5101416-CDC-GADMP-2021-008   \n...                             ...  ...                           ...   \n26808792  REOALC-GADMANTA01-21-2668  ...  5151471-REOALC-GADMANTA01-21   \n26808793   MCBS-DNA-005-2021-178618  ...     4862272-MCBS-DNA-005-2021   \n26808794  MCS-CCFFAA-002-ABR21-2539  ...  4744578-MCS-CCFFAA-002-ABR21   \n26808795  RE-GADMCN-17-21-LRG-67188  ...   5302403-RE-GADMCN-17-21-LRG   \n26808796   RE-HGADPCH-039-2021-2583  ...   5099697-RE-HGADPCH-039-2021   \n\n         status_awards                date_awards amount_awards currency  \\\n0                  NaN                        NaN      24706.08      USD   \n1                  NaN                        NaN     147135.85      USD   \n2                  NaN  2021-09-15T18:28:23-05:00     258933.74      USD   \n3                  NaN                        NaN      73664.04      USD   \n4                  NaN  2021-10-13T10:27:12-05:00       2694.00      USD   \n...                ...                        ...           ...      ...   \n26808792           NaN  2021-10-28T16:50:25-05:00     268000.00      USD   \n26808793           NaN                        NaN      28823.77      USD   \n26808794           NaN                        NaN       7589.29      USD   \n26808795           NaN  2022-01-24T17:04:47-05:00      30590.89      USD   \n26808796           NaN  2021-10-11T15:17:54-05:00     148474.03      USD   \n\n                                                id_planning  \\\n0         MCBS-DNA-003-2021-178618-2022-05-04T11:41:39.8...   \n1         MCO-GADPP-7-2021-2426-2022-05-19T11:58:55.147Z...   \n2         LCC-GADMQ-001-2021-2453-2022-05-05T11:49:59.83...   \n3         MCO-GADMCJS-029-2021-40430-2022-05-05T11:53:55...   \n4         CDC-GADMP-2021-008-45119-2022-05-07T11:59:26.4...   \n...                                                     ...   \n26808792  REOALC-GADMANTA01-21-2668-2022-04-30T12:21:31....   \n26808793  MCBS-DNA-005-2021-178618-2022-05-04T11:43:12.1...   \n26808794  MCS-CCFFAA-002-ABR21-2539-2022-05-04T11:36:54....   \n26808795  RE-GADMCN-17-21-LRG-67188-2022-05-04T11:48:52....   \n26808796  RE-HGADPCH-039-2021-2583-2022-05-04T11:39:57.9...   \n\n                                                  rationale  \\\n0         SERVICIO DE MANTENIMIENTO PREVENTIVO Y CORRECT...   \n1         Construcción de Bordillo - Cuneta, para el mej...   \n2         FISCALIZACION DE LA CONSTRUCCION DEL PUENTE CA...   \n3         CONSTRUCCIÓN DE UNIDADES BÁSICAS SANITARIAS UN...   \n4         CONSULTORÍA PARA EL DIAGNÓSTICO, EVALUACIÓN DE...   \n...                                                     ...   \n26808792  CONTRATACIÓN DEL SERVICIO DE ORGANIZACIÓN, PRO...   \n26808793  SERVICIO DE MANTENIMIENTO PREVENTIVO Y CORRECT...   \n26808794  CONTRATACIÓN DE UNA AGENCIA DE VIAJES PARA LA ...   \n26808795  PRESTACIÓN DE SERVICIOS DE INSPECCIÓN Y MANTEN...   \n26808796  CONTRATACIÓN DEL SERVICIO DE DIFUSIÓN, ELABORA...   \n\n                                                  budget_id budget_amount  \\\n0         2021.052.0003.0000.01.00.000.001.000.1701.5304...      24706.08   \n1         03.22.06.044.002.2021.750105.002.17.01.78.D51....     147135.85   \n2                                   310750105A0000000000021     264218.10   \n3                                        3.3.1.7.5.01.01.38      73664.04   \n4                                        3.2.0.7.3.06.01.33       2700.00   \n...                                                     ...           ...   \n26808792                                             530205     268000.00   \n26808793  2021.052.0003.0000.01.00.000.001.000.1701.5304...      28823.77   \n26808794  2021.070.4999.0000.01.00.000.001.000.1701.5303...       7589.29   \n26808795                                        730404.3613      30590.89   \n26808796                                             730207     148474.03   \n\n          budget_currency  \n0                     USD  \n1                     USD  \n2                     USD  \n3                     USD  \n4                     USD  \n...                   ...  \n26808792              USD  \n26808793              USD  \n26808794              USD  \n26808795              USD  \n26808796              USD  \n\n[26808797 rows x 44 columns]",
            "text/html": "<div>\n<style scoped>\n    .dataframe tbody tr th:only-of-type {\n        vertical-align: middle;\n    }\n\n    .dataframe tbody tr th {\n        vertical-align: top;\n    }\n\n    .dataframe thead th {\n        text-align: right;\n    }\n</style>\n<table border=\"1\" class=\"dataframe\">\n  <thead>\n    <tr style=\"text-align: right;\">\n      <th></th>\n      <th>ocid</th>\n      <th>id</th>\n      <th>initiationType</th>\n      <th>buyer_id</th>\n      <th>buyer_name</th>\n      <th>language</th>\n      <th>date</th>\n      <th>tag</th>\n      <th>release_id</th>\n      <th>id_tender</th>\n      <th>...</th>\n      <th>id_awards</th>\n      <th>status_awards</th>\n      <th>date_awards</th>\n      <th>amount_awards</th>\n      <th>currency</th>\n      <th>id_planning</th>\n      <th>rationale</th>\n      <th>budget_id</th>\n      <th>budget_amount</th>\n      <th>budget_currency</th>\n    </tr>\n  </thead>\n  <tbody>\n    <tr>\n      <th>0</th>\n      <td>ocds-5wno2w-MCBS-DNA-003-2021-178618</td>\n      <td>MCBS-DNA-003-2021-178618-2022-05-04T11:41:39.8...</td>\n      <td>tender</td>\n      <td>EC-RUC-1768040760001-178618</td>\n      <td>DIRECCION NACIONAL DE ANTINARCOTICOS</td>\n      <td>es</td>\n      <td>2022-05-04T06:51:47-05:00</td>\n      <td>[\"planning\",\"tender\",\"award\",\"contract\"]</td>\n      <td>MCBS-DNA-003-2021-178618-2022-05-04T11:41:39.8...</td>\n      <td>MCBS-DNA-003-2021-178618</td>\n      <td>...</td>\n      <td>4726509-MCBS-DNA-003-2021</td>\n      <td>NaN</td>\n      <td>NaN</td>\n      <td>24706.08</td>\n      <td>USD</td>\n      <td>MCBS-DNA-003-2021-178618-2022-05-04T11:41:39.8...</td>\n      <td>SERVICIO DE MANTENIMIENTO PREVENTIVO Y CORRECT...</td>\n      <td>2021.052.0003.0000.01.00.000.001.000.1701.5304...</td>\n      <td>24706.08</td>\n      <td>USD</td>\n    </tr>\n    <tr>\n      <th>1</th>\n      <td>ocds-5wno2w-MCO-GADPP-7-2021-2426</td>\n      <td>NaN</td>\n      <td>NaN</td>\n      <td>NaN</td>\n      <td>NaN</td>\n      <td>NaN</td>\n      <td>NaN</td>\n      <td>NaN</td>\n      <td>NaN</td>\n      <td>NaN</td>\n      <td>...</td>\n      <td>5159820-MCO-GADPP-7-2021</td>\n      <td>NaN</td>\n      <td>NaN</td>\n      <td>147135.85</td>\n      <td>USD</td>\n      <td>MCO-GADPP-7-2021-2426-2022-05-19T11:58:55.147Z...</td>\n      <td>Construcción de Bordillo - Cuneta, para el mej...</td>\n      <td>03.22.06.044.002.2021.750105.002.17.01.78.D51....</td>\n      <td>147135.85</td>\n      <td>USD</td>\n    </tr>\n    <tr>\n      <th>2</th>\n      <td>ocds-5wno2w-LCC-GADMQ-001-2021-2453</td>\n      <td>LCC-GADMQ-001-2021-2453-2022-05-05T11:49:59.83...</td>\n      <td>tender</td>\n      <td>EC-RUC-1260000650001-2453</td>\n      <td>GOBIERNO AUTONOMO DESCENTRALIZADO MUNICIPAL DE...</td>\n      <td>es</td>\n      <td>2022-05-05T06:56:50-05:00</td>\n      <td>[\"planning\",\"tender\",\"award\",\"contract\"]</td>\n      <td>LCC-GADMQ-001-2021-2453-2022-05-05T11:49:59.83...</td>\n      <td>LCC-GADMQ-001-2021-2453</td>\n      <td>...</td>\n      <td>5031904-LCC-GADMQ-001-2021</td>\n      <td>NaN</td>\n      <td>2021-09-15T18:28:23-05:00</td>\n      <td>258933.74</td>\n      <td>USD</td>\n      <td>LCC-GADMQ-001-2021-2453-2022-05-05T11:49:59.83...</td>\n      <td>FISCALIZACION DE LA CONSTRUCCION DEL PUENTE CA...</td>\n      <td>310750105A0000000000021</td>\n      <td>264218.10</td>\n      <td>USD</td>\n    </tr>\n    <tr>\n      <th>3</th>\n      <td>ocds-5wno2w-MCO-GADMCJS-029-2021-40430</td>\n      <td>NaN</td>\n      <td>NaN</td>\n      <td>NaN</td>\n      <td>NaN</td>\n      <td>NaN</td>\n      <td>NaN</td>\n      <td>NaN</td>\n      <td>NaN</td>\n      <td>NaN</td>\n      <td>...</td>\n      <td>5310384-MCO-GADMCJS-029-2021</td>\n      <td>NaN</td>\n      <td>NaN</td>\n      <td>73664.04</td>\n      <td>USD</td>\n      <td>MCO-GADMCJS-029-2021-40430-2022-05-05T11:53:55...</td>\n      <td>CONSTRUCCIÓN DE UNIDADES BÁSICAS SANITARIAS UN...</td>\n      <td>3.3.1.7.5.01.01.38</td>\n      <td>73664.04</td>\n      <td>USD</td>\n    </tr>\n    <tr>\n      <th>4</th>\n      <td>ocds-5wno2w-CDC-GADMP-2021-008-45119</td>\n      <td>CDC-GADMP-2021-008-45119-2022-05-07T11:59:26.4...</td>\n      <td>tender</td>\n      <td>EC-RUC-0560000460001-45119</td>\n      <td>Municipio del Canton Pangua</td>\n      <td>es</td>\n      <td>2022-05-07T07:11:03-05:00</td>\n      <td>[\"planning\",\"tender\",\"award\",\"contract\",\"imple...</td>\n      <td>CDC-GADMP-2021-008-45119-2022-05-07T11:59:26.4...</td>\n      <td>CDC-GADMP-2021-008-45119</td>\n      <td>...</td>\n      <td>5101416-CDC-GADMP-2021-008</td>\n      <td>NaN</td>\n      <td>2021-10-13T10:27:12-05:00</td>\n      <td>2694.00</td>\n      <td>USD</td>\n      <td>CDC-GADMP-2021-008-45119-2022-05-07T11:59:26.4...</td>\n      <td>CONSULTORÍA PARA EL DIAGNÓSTICO, EVALUACIÓN DE...</td>\n      <td>3.2.0.7.3.06.01.33</td>\n      <td>2700.00</td>\n      <td>USD</td>\n    </tr>\n    <tr>\n      <th>...</th>\n      <td>...</td>\n      <td>...</td>\n      <td>...</td>\n      <td>...</td>\n      <td>...</td>\n      <td>...</td>\n      <td>...</td>\n      <td>...</td>\n      <td>...</td>\n      <td>...</td>\n      <td>...</td>\n      <td>...</td>\n      <td>...</td>\n      <td>...</td>\n      <td>...</td>\n      <td>...</td>\n      <td>...</td>\n      <td>...</td>\n      <td>...</td>\n      <td>...</td>\n      <td>...</td>\n    </tr>\n    <tr>\n      <th>26808792</th>\n      <td>ocds-5wno2w-REOALC-GADMANTA01-21-2668</td>\n      <td>REOALC-GADMANTA01-21-2668-2022-04-30T12:21:31....</td>\n      <td>tender</td>\n      <td>EC-RUC-1360000980001-2668</td>\n      <td>GOBIERNO AUTONOMO DESCENTRALIZADO MUNICIPAL DE...</td>\n      <td>es</td>\n      <td>2022-04-30T07:28:18-05:00</td>\n      <td>[\"planning\",\"tender\",\"award\",\"contract\"]</td>\n      <td>REOALC-GADMANTA01-21-2668-2022-04-30T12:21:31....</td>\n      <td>REOALC-GADMANTA01-21-2668</td>\n      <td>...</td>\n      <td>5151471-REOALC-GADMANTA01-21</td>\n      <td>NaN</td>\n      <td>2021-10-28T16:50:25-05:00</td>\n      <td>268000.00</td>\n      <td>USD</td>\n      <td>REOALC-GADMANTA01-21-2668-2022-04-30T12:21:31....</td>\n      <td>CONTRATACIÓN DEL SERVICIO DE ORGANIZACIÓN, PRO...</td>\n      <td>530205</td>\n      <td>268000.00</td>\n      <td>USD</td>\n    </tr>\n    <tr>\n      <th>26808793</th>\n      <td>ocds-5wno2w-MCBS-DNA-005-2021-178618</td>\n      <td>MCBS-DNA-005-2021-178618-2022-05-04T11:43:12.1...</td>\n      <td>tender</td>\n      <td>EC-RUC-1768040760001-178618</td>\n      <td>DIRECCION NACIONAL DE ANTINARCOTICOS</td>\n      <td>es</td>\n      <td>2022-05-04T06:51:47-05:00</td>\n      <td>[\"planning\",\"tender\",\"award\",\"contract\"]</td>\n      <td>MCBS-DNA-005-2021-178618-2022-05-04T11:43:12.1...</td>\n      <td>MCBS-DNA-005-2021-178618</td>\n      <td>...</td>\n      <td>4862272-MCBS-DNA-005-2021</td>\n      <td>NaN</td>\n      <td>NaN</td>\n      <td>28823.77</td>\n      <td>USD</td>\n      <td>MCBS-DNA-005-2021-178618-2022-05-04T11:43:12.1...</td>\n      <td>SERVICIO DE MANTENIMIENTO PREVENTIVO Y CORRECT...</td>\n      <td>2021.052.0003.0000.01.00.000.001.000.1701.5304...</td>\n      <td>28823.77</td>\n      <td>USD</td>\n    </tr>\n    <tr>\n      <th>26808794</th>\n      <td>ocds-5wno2w-MCS-CCFFAA-002-ABR21-2539</td>\n      <td>MCS-CCFFAA-002-ABR21-2539-2022-05-04T11:36:54....</td>\n      <td>tender</td>\n      <td>EC-RUC-1768012630001-2539</td>\n      <td>COMANDO CONJUNTO</td>\n      <td>es</td>\n      <td>2022-05-04T06:51:48-05:00</td>\n      <td>[\"planning\",\"tender\",\"award\",\"contract\",\"imple...</td>\n      <td>MCS-CCFFAA-002-ABR21-2539-2022-05-04T11:36:54....</td>\n      <td>MCS-CCFFAA-002-ABR21-2539</td>\n      <td>...</td>\n      <td>4744578-MCS-CCFFAA-002-ABR21</td>\n      <td>NaN</td>\n      <td>NaN</td>\n      <td>7589.29</td>\n      <td>USD</td>\n      <td>MCS-CCFFAA-002-ABR21-2539-2022-05-04T11:36:54....</td>\n      <td>CONTRATACIÓN DE UNA AGENCIA DE VIAJES PARA LA ...</td>\n      <td>2021.070.4999.0000.01.00.000.001.000.1701.5303...</td>\n      <td>7589.29</td>\n      <td>USD</td>\n    </tr>\n    <tr>\n      <th>26808795</th>\n      <td>ocds-5wno2w-RE-GADMCN-17-21-LRG-67188</td>\n      <td>RE-GADMCN-17-21-LRG-67188-2022-05-04T11:48:52....</td>\n      <td>tender</td>\n      <td>EC-RUC-0968532700001-67188</td>\n      <td>GOBIERNO AUTONOMO DESCENTRALIZADO MUNICIPAL DE...</td>\n      <td>es</td>\n      <td>2022-05-04T06:51:48-05:00</td>\n      <td>[\"planning\",\"tender\",\"award\",\"contract\"]</td>\n      <td>RE-GADMCN-17-21-LRG-67188-2022-05-04T11:48:52....</td>\n      <td>RE-GADMCN-17-21-LRG-67188</td>\n      <td>...</td>\n      <td>5302403-RE-GADMCN-17-21-LRG</td>\n      <td>NaN</td>\n      <td>2022-01-24T17:04:47-05:00</td>\n      <td>30590.89</td>\n      <td>USD</td>\n      <td>RE-GADMCN-17-21-LRG-67188-2022-05-04T11:48:52....</td>\n      <td>PRESTACIÓN DE SERVICIOS DE INSPECCIÓN Y MANTEN...</td>\n      <td>730404.3613</td>\n      <td>30590.89</td>\n      <td>USD</td>\n    </tr>\n    <tr>\n      <th>26808796</th>\n      <td>ocds-5wno2w-RE-HGADPCH-039-2021-2583</td>\n      <td>RE-HGADPCH-039-2021-2583-2022-05-04T11:39:57.9...</td>\n      <td>tender</td>\n      <td>EC-RUC-0660000280001-2583</td>\n      <td>HONORABLE GOBIERNO AUTONOMO DESCENTRALIZADO DE...</td>\n      <td>es</td>\n      <td>2022-05-04T06:51:48-05:00</td>\n      <td>[\"planning\",\"tender\",\"award\",\"contract\",\"imple...</td>\n      <td>RE-HGADPCH-039-2021-2583-2022-05-04T11:39:57.9...</td>\n      <td>RE-HGADPCH-039-2021-2583</td>\n      <td>...</td>\n      <td>5099697-RE-HGADPCH-039-2021</td>\n      <td>NaN</td>\n      <td>2021-10-11T15:17:54-05:00</td>\n      <td>148474.03</td>\n      <td>USD</td>\n      <td>RE-HGADPCH-039-2021-2583-2022-05-04T11:39:57.9...</td>\n      <td>CONTRATACIÓN DEL SERVICIO DE DIFUSIÓN, ELABORA...</td>\n      <td>730207</td>\n      <td>148474.03</td>\n      <td>USD</td>\n    </tr>\n  </tbody>\n</table>\n<p>26808797 rows × 44 columns</p>\n</div>"
          },
          "metadata": {}
        }
      ],
      "execution_count": 15,
      "metadata": {
        "gather": {
          "logged": 1657475300526
        }
      }
    },
    {
      "cell_type": "code",
      "source": [
        "df.drop(columns=[\"release_id\", \"release_id_awards\", \"release_id_supplier\", \"release_id_contracts\", \"release_id_awards\", \"id_planning\", \"budget_currency\", \"id_planning\", \"awardID\", \"award_id\", \"id_tender\", \"rationale\", \"buyer_id\", \"buyer_name\"], inplace=True)"
      ],
      "outputs": [],
      "execution_count": 16,
      "metadata": {
        "jupyter": {
          "source_hidden": false,
          "outputs_hidden": false
        },
        "nteract": {
          "transient": {
            "deleting": false
          }
        },
        "gather": {
          "logged": 1657475647481
        }
      }
    },
    {
      "cell_type": "code",
      "source": [
        "df.isnull().sum()"
      ],
      "outputs": [
        {
          "output_type": "execute_result",
          "execution_count": 17,
          "data": {
            "text/plain": "ocid                                    0\nid                                   9226\ninitiationType                       9226\nlanguage                             9226\ndate                                 9226\ntag                                  9226\ntitle                                9226\ndescription                          9226\nstatus                               9226\nprocuringEntity_id                   9226\nprocuringEntity_name                 9226\nvalue_amount                         9226\nvalue_currency                       9226\nprocurementMethod                    9226\nprocurementMethodDetails             9226\nnumberOfTenderers                    9226\nenquiryPeriod_durationInDays        30866\ntenderPeriod_durationInDays         11805\nid_supplier                          9226\nname                                 9226\nid_contracts                         9226\nstatus_contracts                     9226\ncontractPeriod_durationInDays        9229\namount                               9226\ndateSigned                           9226\nid_awards                            1014\nstatus_awards                    26808797\ndate_awards                       7374266\namount_awards                        1014\ncurrency                             1014\nbudget_id                               0\nbudget_amount                           0\ndtype: int64"
          },
          "metadata": {}
        }
      ],
      "execution_count": 17,
      "metadata": {
        "gather": {
          "logged": 1657475683579
        },
        "jupyter": {
          "outputs_hidden": false,
          "source_hidden": false
        },
        "nteract": {
          "transient": {
            "deleting": false
          }
        }
      }
    },
    {
      "cell_type": "code",
      "source": [
        "df.duplicated().sum()"
      ],
      "outputs": [
        {
          "output_type": "execute_result",
          "execution_count": 18,
          "data": {
            "text/plain": "26644140"
          },
          "metadata": {}
        }
      ],
      "execution_count": 18,
      "metadata": {
        "gather": {
          "logged": 1657475789101
        }
      }
    },
    {
      "cell_type": "code",
      "source": [
        "df.dtypes"
      ],
      "outputs": [
        {
          "output_type": "execute_result",
          "execution_count": 19,
          "data": {
            "text/plain": "ocid                              object\nid                                object\ninitiationType                    object\nlanguage                          object\ndate                              object\ntag                               object\ntitle                             object\ndescription                       object\nstatus                            object\nprocuringEntity_id                object\nprocuringEntity_name              object\nvalue_amount                     float64\nvalue_currency                    object\nprocurementMethod                 object\nprocurementMethodDetails          object\nnumberOfTenderers                float64\nenquiryPeriod_durationInDays     float64\ntenderPeriod_durationInDays      float64\nid_supplier                       object\nname                              object\nid_contracts                      object\nstatus_contracts                  object\ncontractPeriod_durationInDays    float64\namount                           float64\ndateSigned                        object\nid_awards                         object\nstatus_awards                     object\ndate_awards                       object\namount_awards                    float64\ncurrency                          object\nbudget_id                         object\nbudget_amount                    float64\ndtype: object"
          },
          "metadata": {}
        }
      ],
      "execution_count": 19,
      "metadata": {
        "gather": {
          "logged": 1657475808345
        }
      }
    },
    {
      "cell_type": "code",
      "source": [
        "df[\"value_currency\"].value_counts()"
      ],
      "outputs": [
        {
          "output_type": "execute_result",
          "execution_count": 20,
          "data": {
            "text/plain": "USD    26799571\nName: value_currency, dtype: int64"
          },
          "metadata": {}
        }
      ],
      "execution_count": 20,
      "metadata": {
        "gather": {
          "logged": 1657475817902
        }
      }
    },
    {
      "cell_type": "code",
      "source": [
        "df[\"value_currency\"].fillna(\"USD\",inplace= True)"
      ],
      "outputs": [],
      "execution_count": 22,
      "metadata": {
        "gather": {
          "logged": 1657412506429
        }
      }
    },
    {
      "cell_type": "code",
      "source": [
        "df.isnull().sum()"
      ],
      "outputs": [
        {
          "output_type": "execute_result",
          "execution_count": 24,
          "data": {
            "text/plain": "ocid                               0\nid                              9226\ninitiationType                  9226\nlanguage                        9226\ndate                            9226\ntag                             9226\ntitle                           9226\ndescription                     9226\nstatus                          9226\nprocuringEntity_id              9226\nprocuringEntity_name            9226\nvalue_amount                       0\nvalue_currency                     0\nprocurementMethod               9226\nprocurementMethodDetails        9226\nid_supplier                     9226\nname                            9226\nid_contracts                    9226\nstatus_contracts                9226\nid_awards                       1014\nstatus_awards               26808797\namount                          1014\ncurrency                        1014\nbudget_id                          0\ndtype: int64"
          },
          "metadata": {}
        }
      ],
      "execution_count": 24,
      "metadata": {
        "gather": {
          "logged": 1657412527463
        }
      }
    },
    {
      "cell_type": "code",
      "source": [
        "df.drop(columns=[\"status_awards\"], inplace=True)\n",
        "df.dropna(inplace=True)"
      ],
      "outputs": [],
      "execution_count": 21,
      "metadata": {
        "gather": {
          "logged": 1657475889730
        }
      }
    },
    {
      "cell_type": "code",
      "source": [
        "df.isnull().sum()"
      ],
      "outputs": [
        {
          "output_type": "execute_result",
          "execution_count": 22,
          "data": {
            "text/plain": "ocid                             0\nid                               0\ninitiationType                   0\nlanguage                         0\ndate                             0\ntag                              0\ntitle                            0\ndescription                      0\nstatus                           0\nprocuringEntity_id               0\nprocuringEntity_name             0\nvalue_amount                     0\nvalue_currency                   0\nprocurementMethod                0\nprocurementMethodDetails         0\nnumberOfTenderers                0\nenquiryPeriod_durationInDays     0\ntenderPeriod_durationInDays      0\nid_supplier                      0\nname                             0\nid_contracts                     0\nstatus_contracts                 0\ncontractPeriod_durationInDays    0\namount                           0\ndateSigned                       0\nid_awards                        0\ndate_awards                      0\namount_awards                    0\ncurrency                         0\nbudget_id                        0\nbudget_amount                    0\ndtype: int64"
          },
          "metadata": {}
        }
      ],
      "execution_count": 22,
      "metadata": {
        "gather": {
          "logged": 1657475968119
        }
      }
    },
    {
      "cell_type": "code",
      "source": [
        "df.drop_duplicates(inplace=True)"
      ],
      "outputs": [],
      "execution_count": 23,
      "metadata": {
        "jupyter": {
          "source_hidden": false,
          "outputs_hidden": false
        },
        "nteract": {
          "transient": {
            "deleting": false
          }
        },
        "gather": {
          "logged": 1657476035672
        }
      }
    },
    {
      "cell_type": "code",
      "source": [
        "df.shape"
      ],
      "outputs": [
        {
          "output_type": "execute_result",
          "execution_count": 24,
          "data": {
            "text/plain": "(77949, 31)"
          },
          "metadata": {}
        }
      ],
      "execution_count": 24,
      "metadata": {
        "jupyter": {
          "source_hidden": false,
          "outputs_hidden": false
        },
        "nteract": {
          "transient": {
            "deleting": false
          }
        },
        "gather": {
          "logged": 1657476039615
        }
      }
    },
    {
      "cell_type": "code",
      "source": [
        "df['ruc']=df['procuringEntity_id'].str.split('-').str[2]"
      ],
      "outputs": [],
      "execution_count": 28,
      "metadata": {
        "jupyter": {
          "source_hidden": false,
          "outputs_hidden": false
        },
        "nteract": {
          "transient": {
            "deleting": false
          }
        },
        "gather": {
          "logged": 1657476139187
        }
      }
    },
    {
      "cell_type": "code",
      "source": [
        "provincias = pd.read_csv(\"provinciasRUC.csv\")\r\n",
        "provincias"
      ],
      "outputs": [
        {
          "output_type": "execute_result",
          "execution_count": 29,
          "data": {
            "text/plain": "    Codigo                       Provincia\n0        1                           Azuay\n1        2                         Bolivar\n2        3                           Cañar\n3        4                          Carchi\n4        5                        Cotopaxi\n5        6                      Chimborazo\n6        7                          El Oro\n7        8                      Esmeraldas\n8        9                          Guayas\n9       10                        Imbabura\n10      11                            Loja\n11      12                        Los Rios\n12      13                          Manabi\n13      14                 Morona Santiago\n14      15                            Napo\n15      16                         Pastaza\n16      17                       Pichincha\n17      18                      Tungurahua\n18      19                Zamora Chinchipe\n19      20                       Galapagos\n20      21                       Sucumbios\n21      22                        Orellana\n22      23  Santo Domingo de los Tsachilas\n23      24                     Santa Elena",
            "text/html": "<div>\n<style scoped>\n    .dataframe tbody tr th:only-of-type {\n        vertical-align: middle;\n    }\n\n    .dataframe tbody tr th {\n        vertical-align: top;\n    }\n\n    .dataframe thead th {\n        text-align: right;\n    }\n</style>\n<table border=\"1\" class=\"dataframe\">\n  <thead>\n    <tr style=\"text-align: right;\">\n      <th></th>\n      <th>Codigo</th>\n      <th>Provincia</th>\n    </tr>\n  </thead>\n  <tbody>\n    <tr>\n      <th>0</th>\n      <td>1</td>\n      <td>Azuay</td>\n    </tr>\n    <tr>\n      <th>1</th>\n      <td>2</td>\n      <td>Bolivar</td>\n    </tr>\n    <tr>\n      <th>2</th>\n      <td>3</td>\n      <td>Cañar</td>\n    </tr>\n    <tr>\n      <th>3</th>\n      <td>4</td>\n      <td>Carchi</td>\n    </tr>\n    <tr>\n      <th>4</th>\n      <td>5</td>\n      <td>Cotopaxi</td>\n    </tr>\n    <tr>\n      <th>5</th>\n      <td>6</td>\n      <td>Chimborazo</td>\n    </tr>\n    <tr>\n      <th>6</th>\n      <td>7</td>\n      <td>El Oro</td>\n    </tr>\n    <tr>\n      <th>7</th>\n      <td>8</td>\n      <td>Esmeraldas</td>\n    </tr>\n    <tr>\n      <th>8</th>\n      <td>9</td>\n      <td>Guayas</td>\n    </tr>\n    <tr>\n      <th>9</th>\n      <td>10</td>\n      <td>Imbabura</td>\n    </tr>\n    <tr>\n      <th>10</th>\n      <td>11</td>\n      <td>Loja</td>\n    </tr>\n    <tr>\n      <th>11</th>\n      <td>12</td>\n      <td>Los Rios</td>\n    </tr>\n    <tr>\n      <th>12</th>\n      <td>13</td>\n      <td>Manabi</td>\n    </tr>\n    <tr>\n      <th>13</th>\n      <td>14</td>\n      <td>Morona Santiago</td>\n    </tr>\n    <tr>\n      <th>14</th>\n      <td>15</td>\n      <td>Napo</td>\n    </tr>\n    <tr>\n      <th>15</th>\n      <td>16</td>\n      <td>Pastaza</td>\n    </tr>\n    <tr>\n      <th>16</th>\n      <td>17</td>\n      <td>Pichincha</td>\n    </tr>\n    <tr>\n      <th>17</th>\n      <td>18</td>\n      <td>Tungurahua</td>\n    </tr>\n    <tr>\n      <th>18</th>\n      <td>19</td>\n      <td>Zamora Chinchipe</td>\n    </tr>\n    <tr>\n      <th>19</th>\n      <td>20</td>\n      <td>Galapagos</td>\n    </tr>\n    <tr>\n      <th>20</th>\n      <td>21</td>\n      <td>Sucumbios</td>\n    </tr>\n    <tr>\n      <th>21</th>\n      <td>22</td>\n      <td>Orellana</td>\n    </tr>\n    <tr>\n      <th>22</th>\n      <td>23</td>\n      <td>Santo Domingo de los Tsachilas</td>\n    </tr>\n    <tr>\n      <th>23</th>\n      <td>24</td>\n      <td>Santa Elena</td>\n    </tr>\n  </tbody>\n</table>\n</div>"
          },
          "metadata": {}
        }
      ],
      "execution_count": 29,
      "metadata": {
        "jupyter": {
          "source_hidden": false,
          "outputs_hidden": false
        },
        "nteract": {
          "transient": {
            "deleting": false
          }
        },
        "gather": {
          "logged": 1657476142540
        }
      }
    },
    {
      "cell_type": "code",
      "source": [
        "df['codigoProvincia']=df['ruc'].str[:2].astype(int)\r\n",
        "df = df.merge(provincias,left_on = \"codigoProvincia\", right_on=\"Codigo\", how=\"left\")\r\n",
        "\r\n",
        "df"
      ],
      "outputs": [
        {
          "output_type": "execute_result",
          "execution_count": 33,
          "data": {
            "text/plain": "                                         ocid  \\\n0       ocds-5wno2w-LICS-UNEMI-013-2021-43664   \n1        ocds-5wno2w-LIC-EPFLP-01-2021-404551   \n2       ocds-5wno2w-LICS-DD07D03-01-2021-9272   \n3      ocds-5wno2w-R2COTBSGSXXI-17-2020-71669   \n4       ocds-5wno2w-LICS-CBSE-001-2021-222424   \n...                                       ...   \n77944  ocds-5wno2w-LICS-GADMSCP-01-2021-59276   \n77945   ocds-5wno2w-LICS-CARCHI-001-2021-2481   \n77946  ocds-5wno2w-COTBS-DINAF-01-2021-183518   \n77947  ocds-5wno2w-COTS-GADMCD-2021-003-94742   \n77948   ocds-5wno2w-COTBS-CSI-003-2021-179005   \n\n                                                      id initiationType  \\\n0      LICS-UNEMI-013-2021-43664-2022-05-11T11:32:30....         tender   \n1      LIC-EPFLP-01-2021-404551-2022-05-14T12:25:47.8...         tender   \n2      LICS-DD07D03-01-2021-9272-2022-05-21T12:25:37....         tender   \n3      R2COTBSGSXXI-17-2020-71669-2022-05-21T12:34:46...         tender   \n4      LICS-CBSE-001-2021-222424-2022-06-15T12:16:30....         tender   \n...                                                  ...            ...   \n77944  LICS-GADMSCP-01-2021-59276-2022-04-05T11:01:20...         tender   \n77945  LICS-CARCHI-001-2021-2481-2022-04-07T11:13:40....         tender   \n77946  COTBS-DINAF-01-2021-183518-2022-04-08T11:15:06...         tender   \n77947  COTS-GADMCD-2021-003-94742-2022-04-20T11:17:28...         tender   \n77948  COTBS-CSI-003-2021-179005-2022-04-22T11:48:09....         tender   \n\n      language                       date  \\\n0           es  2022-05-11T06:48:06-05:00   \n1           es  2022-05-14T07:33:35-05:00   \n2           es  2022-05-21T07:41:35-05:00   \n3           es  2022-05-21T07:41:36-05:00   \n4           es  2022-06-15T07:32:33-05:00   \n...        ...                        ...   \n77944       es  2022-04-05T06:07:08-05:00   \n77945       es  2022-04-07T06:23:42-05:00   \n77946       es  2022-04-08T06:28:45-05:00   \n77947       es  2022-04-20T06:32:52-05:00   \n77948       es  2022-04-22T07:03:16-05:00   \n\n                                                     tag  \\\n0      [\"planning\",\"tender\",\"award\",\"contract\",\"imple...   \n1               [\"planning\",\"tender\",\"award\",\"contract\"]   \n2      [\"planning\",\"tender\",\"award\",\"contract\",\"imple...   \n3               [\"planning\",\"tender\",\"award\",\"contract\"]   \n4      [\"planning\",\"tender\",\"award\",\"contract\",\"imple...   \n...                                                  ...   \n77944           [\"planning\",\"tender\",\"award\",\"contract\"]   \n77945           [\"planning\",\"tender\",\"award\",\"contract\"]   \n77946  [\"planning\",\"tender\",\"award\",\"contract\",\"imple...   \n77947  [\"planning\",\"tender\",\"award\",\"contract\",\"imple...   \n77948  [\"planning\",\"tender\",\"award\",\"contract\",\"imple...   \n\n                            title  \\\n0       LICS-UNEMI-013-2021-43664   \n1        LIC-EPFLP-01-2021-404551   \n2       LICS-DD07D03-01-2021-9272   \n3      R2COTBSGSXXI-17-2020-71669   \n4       LICS-CBSE-001-2021-222424   \n...                           ...   \n77944  LICS-GADMSCP-01-2021-59276   \n77945   LICS-CARCHI-001-2021-2481   \n77946  COTBS-DINAF-01-2021-183518   \n77947  COTS-GADMCD-2021-003-94742   \n77948   COTBS-CSI-003-2021-179005   \n\n                                             description    status  \\\n0      CONTRATACION DE POLIZAS DE SEGUROMULTIRIESGO: ...  complete   \n1      CONTRATACIÓN DE LA PÓLIZA DE SEGUROS MARÍTIMOS...  complete   \n2      ?CONTRATACIÓN DE PÓLIZA DE SEGUROS EN DIFERENT...  complete   \n3      Mantenimiento y Reparación De Obras De Regener...    active   \n4      CONTRATACIÓN DE SERVICIO DE SEGUROS DE: VEHÍCU...  complete   \n...                                                  ...       ...   \n77944  CONTRATACIÓN DE PÓLIZAS DE SEGUROS PARA LOS RA...  complete   \n77945  CONTRATACIÓN DE SEGUROS MULTIRIESGO GOBIERNO A...  complete   \n77946  Aprovisionamiento continuo de repuestos,acceso...  complete   \n77947  SERVICIO DE IMPRESIÓN,FOTOCOPIADO Y DIGITALIZA...  complete   \n77948  SERVICIO DE MANTENIMIENTO PREVENTIVO Y CORRECT...  complete   \n\n                procuringEntity_id  ...                     id_awards  \\\n0       EC-RUC-0968533430001-43664  ...   4720310-LICS-UNEMI-013-2021   \n1      EC-RUC-1768164300001-404551  ...     4980937-LIC-EPFLP-01-2021   \n2        EC-RUC-0760004920001-9272  ...  4702468-LICS-DD07D03-01-2021   \n3       EC-RUC-0992183721001-71669  ...  5035763-R2COTBSGSXXI-17-2020   \n4      EC-RUC-0968563340001-222424  ...    4680551-LICS-CBSE-001-2021   \n...                            ...  ...                           ...   \n77944   EC-RUC-1860000560001-59276  ...  5169438-LICS-GADMSCP-01-2021   \n77945    EC-RUC-0460000130001-2481  ...  4770998-LICS-CARCHI-001-2021   \n77946  EC-RUC-1768052340001-183518  ...   4865078-COTBS-DINAF-01-2021   \n77947   EC-RUC-0960001890001-94742  ...  4703506-COTS-GADMCD-2021-003   \n77948  EC-RUC-1060013400001-179005  ...    4734889-COTBS-CSI-003-2021   \n\n                     date_awards amount_awards currency  \\\n0      2021-04-23T10:25:08-05:00      59510.25      USD   \n1      2021-08-30T08:43:16-05:00     749885.00      USD   \n2      2021-04-01T09:49:32-05:00      18602.54      USD   \n3      2021-12-03T16:19:46-05:00     361662.55      USD   \n4      2021-03-12T16:34:58-05:00       7136.16      USD   \n...                          ...           ...      ...   \n77944  2021-11-10T12:42:18-05:00      31451.93      USD   \n77945  2021-05-21T13:17:54-05:00      72994.70      USD   \n77946  2021-07-12T17:22:33-05:00     107343.56      USD   \n77947  2021-04-08T15:01:03-05:00     349670.48      USD   \n77948  2021-04-29T11:35:59-05:00     119330.36      USD   \n\n                                               budget_id  budget_amount  \\\n0      2021.181.0000.0000.82.00.000.002.000.0910.5303...       70005.18   \n1                                            5.1.2.02.01      910648.25   \n2      2021.320.1140.0000.90.00.000.001.000.0713.5302...       30003.80   \n3                                              7.5.05.99      361662.55   \n4                                                 570201       43008.29   \n...                                                  ...            ...   \n77944                                 7.7.02.01.01.3.1.2       31874.18   \n77945  01.01.08.999.007.003.5.57.02.01.000.99.99.99.9...      109967.65   \n77946  2021.052.0004.0000.01.00.000.001.000.1701.5304...      107343.56   \n77947                                             530204      349670.48   \n77948  2021.052.0017.0000.01.00.000.001.000.1001.5304...      147321.43   \n\n                 ruc  codigoProvincia Codigo   Provincia  \n0      0968533430001                9      9      Guayas  \n1      1768164300001               17     17   Pichincha  \n2      0760004920001                7      7      El Oro  \n3      0992183721001                9      9      Guayas  \n4      0968563340001                9      9      Guayas  \n...              ...              ...    ...         ...  \n77944  1860000560001               18     18  Tungurahua  \n77945  0460000130001                4      4      Carchi  \n77946  1768052340001               17     17   Pichincha  \n77947  0960001890001                9      9      Guayas  \n77948  1060013400001               10     10    Imbabura  \n\n[77949 rows x 35 columns]",
            "text/html": "<div>\n<style scoped>\n    .dataframe tbody tr th:only-of-type {\n        vertical-align: middle;\n    }\n\n    .dataframe tbody tr th {\n        vertical-align: top;\n    }\n\n    .dataframe thead th {\n        text-align: right;\n    }\n</style>\n<table border=\"1\" class=\"dataframe\">\n  <thead>\n    <tr style=\"text-align: right;\">\n      <th></th>\n      <th>ocid</th>\n      <th>id</th>\n      <th>initiationType</th>\n      <th>language</th>\n      <th>date</th>\n      <th>tag</th>\n      <th>title</th>\n      <th>description</th>\n      <th>status</th>\n      <th>procuringEntity_id</th>\n      <th>...</th>\n      <th>id_awards</th>\n      <th>date_awards</th>\n      <th>amount_awards</th>\n      <th>currency</th>\n      <th>budget_id</th>\n      <th>budget_amount</th>\n      <th>ruc</th>\n      <th>codigoProvincia</th>\n      <th>Codigo</th>\n      <th>Provincia</th>\n    </tr>\n  </thead>\n  <tbody>\n    <tr>\n      <th>0</th>\n      <td>ocds-5wno2w-LICS-UNEMI-013-2021-43664</td>\n      <td>LICS-UNEMI-013-2021-43664-2022-05-11T11:32:30....</td>\n      <td>tender</td>\n      <td>es</td>\n      <td>2022-05-11T06:48:06-05:00</td>\n      <td>[\"planning\",\"tender\",\"award\",\"contract\",\"imple...</td>\n      <td>LICS-UNEMI-013-2021-43664</td>\n      <td>CONTRATACION DE POLIZAS DE SEGUROMULTIRIESGO: ...</td>\n      <td>complete</td>\n      <td>EC-RUC-0968533430001-43664</td>\n      <td>...</td>\n      <td>4720310-LICS-UNEMI-013-2021</td>\n      <td>2021-04-23T10:25:08-05:00</td>\n      <td>59510.25</td>\n      <td>USD</td>\n      <td>2021.181.0000.0000.82.00.000.002.000.0910.5303...</td>\n      <td>70005.18</td>\n      <td>0968533430001</td>\n      <td>9</td>\n      <td>9</td>\n      <td>Guayas</td>\n    </tr>\n    <tr>\n      <th>1</th>\n      <td>ocds-5wno2w-LIC-EPFLP-01-2021-404551</td>\n      <td>LIC-EPFLP-01-2021-404551-2022-05-14T12:25:47.8...</td>\n      <td>tender</td>\n      <td>es</td>\n      <td>2022-05-14T07:33:35-05:00</td>\n      <td>[\"planning\",\"tender\",\"award\",\"contract\"]</td>\n      <td>LIC-EPFLP-01-2021-404551</td>\n      <td>CONTRATACIÓN DE LA PÓLIZA DE SEGUROS MARÍTIMOS...</td>\n      <td>complete</td>\n      <td>EC-RUC-1768164300001-404551</td>\n      <td>...</td>\n      <td>4980937-LIC-EPFLP-01-2021</td>\n      <td>2021-08-30T08:43:16-05:00</td>\n      <td>749885.00</td>\n      <td>USD</td>\n      <td>5.1.2.02.01</td>\n      <td>910648.25</td>\n      <td>1768164300001</td>\n      <td>17</td>\n      <td>17</td>\n      <td>Pichincha</td>\n    </tr>\n    <tr>\n      <th>2</th>\n      <td>ocds-5wno2w-LICS-DD07D03-01-2021-9272</td>\n      <td>LICS-DD07D03-01-2021-9272-2022-05-21T12:25:37....</td>\n      <td>tender</td>\n      <td>es</td>\n      <td>2022-05-21T07:41:35-05:00</td>\n      <td>[\"planning\",\"tender\",\"award\",\"contract\",\"imple...</td>\n      <td>LICS-DD07D03-01-2021-9272</td>\n      <td>?CONTRATACIÓN DE PÓLIZA DE SEGUROS EN DIFERENT...</td>\n      <td>complete</td>\n      <td>EC-RUC-0760004920001-9272</td>\n      <td>...</td>\n      <td>4702468-LICS-DD07D03-01-2021</td>\n      <td>2021-04-01T09:49:32-05:00</td>\n      <td>18602.54</td>\n      <td>USD</td>\n      <td>2021.320.1140.0000.90.00.000.001.000.0713.5302...</td>\n      <td>30003.80</td>\n      <td>0760004920001</td>\n      <td>7</td>\n      <td>7</td>\n      <td>El Oro</td>\n    </tr>\n    <tr>\n      <th>3</th>\n      <td>ocds-5wno2w-R2COTBSGSXXI-17-2020-71669</td>\n      <td>R2COTBSGSXXI-17-2020-71669-2022-05-21T12:34:46...</td>\n      <td>tender</td>\n      <td>es</td>\n      <td>2022-05-21T07:41:36-05:00</td>\n      <td>[\"planning\",\"tender\",\"award\",\"contract\"]</td>\n      <td>R2COTBSGSXXI-17-2020-71669</td>\n      <td>Mantenimiento y Reparación De Obras De Regener...</td>\n      <td>active</td>\n      <td>EC-RUC-0992183721001-71669</td>\n      <td>...</td>\n      <td>5035763-R2COTBSGSXXI-17-2020</td>\n      <td>2021-12-03T16:19:46-05:00</td>\n      <td>361662.55</td>\n      <td>USD</td>\n      <td>7.5.05.99</td>\n      <td>361662.55</td>\n      <td>0992183721001</td>\n      <td>9</td>\n      <td>9</td>\n      <td>Guayas</td>\n    </tr>\n    <tr>\n      <th>4</th>\n      <td>ocds-5wno2w-LICS-CBSE-001-2021-222424</td>\n      <td>LICS-CBSE-001-2021-222424-2022-06-15T12:16:30....</td>\n      <td>tender</td>\n      <td>es</td>\n      <td>2022-06-15T07:32:33-05:00</td>\n      <td>[\"planning\",\"tender\",\"award\",\"contract\",\"imple...</td>\n      <td>LICS-CBSE-001-2021-222424</td>\n      <td>CONTRATACIÓN DE SERVICIO DE SEGUROS DE: VEHÍCU...</td>\n      <td>complete</td>\n      <td>EC-RUC-0968563340001-222424</td>\n      <td>...</td>\n      <td>4680551-LICS-CBSE-001-2021</td>\n      <td>2021-03-12T16:34:58-05:00</td>\n      <td>7136.16</td>\n      <td>USD</td>\n      <td>570201</td>\n      <td>43008.29</td>\n      <td>0968563340001</td>\n      <td>9</td>\n      <td>9</td>\n      <td>Guayas</td>\n    </tr>\n    <tr>\n      <th>...</th>\n      <td>...</td>\n      <td>...</td>\n      <td>...</td>\n      <td>...</td>\n      <td>...</td>\n      <td>...</td>\n      <td>...</td>\n      <td>...</td>\n      <td>...</td>\n      <td>...</td>\n      <td>...</td>\n      <td>...</td>\n      <td>...</td>\n      <td>...</td>\n      <td>...</td>\n      <td>...</td>\n      <td>...</td>\n      <td>...</td>\n      <td>...</td>\n      <td>...</td>\n      <td>...</td>\n    </tr>\n    <tr>\n      <th>77944</th>\n      <td>ocds-5wno2w-LICS-GADMSCP-01-2021-59276</td>\n      <td>LICS-GADMSCP-01-2021-59276-2022-04-05T11:01:20...</td>\n      <td>tender</td>\n      <td>es</td>\n      <td>2022-04-05T06:07:08-05:00</td>\n      <td>[\"planning\",\"tender\",\"award\",\"contract\"]</td>\n      <td>LICS-GADMSCP-01-2021-59276</td>\n      <td>CONTRATACIÓN DE PÓLIZAS DE SEGUROS PARA LOS RA...</td>\n      <td>complete</td>\n      <td>EC-RUC-1860000560001-59276</td>\n      <td>...</td>\n      <td>5169438-LICS-GADMSCP-01-2021</td>\n      <td>2021-11-10T12:42:18-05:00</td>\n      <td>31451.93</td>\n      <td>USD</td>\n      <td>7.7.02.01.01.3.1.2</td>\n      <td>31874.18</td>\n      <td>1860000560001</td>\n      <td>18</td>\n      <td>18</td>\n      <td>Tungurahua</td>\n    </tr>\n    <tr>\n      <th>77945</th>\n      <td>ocds-5wno2w-LICS-CARCHI-001-2021-2481</td>\n      <td>LICS-CARCHI-001-2021-2481-2022-04-07T11:13:40....</td>\n      <td>tender</td>\n      <td>es</td>\n      <td>2022-04-07T06:23:42-05:00</td>\n      <td>[\"planning\",\"tender\",\"award\",\"contract\"]</td>\n      <td>LICS-CARCHI-001-2021-2481</td>\n      <td>CONTRATACIÓN DE SEGUROS MULTIRIESGO GOBIERNO A...</td>\n      <td>complete</td>\n      <td>EC-RUC-0460000130001-2481</td>\n      <td>...</td>\n      <td>4770998-LICS-CARCHI-001-2021</td>\n      <td>2021-05-21T13:17:54-05:00</td>\n      <td>72994.70</td>\n      <td>USD</td>\n      <td>01.01.08.999.007.003.5.57.02.01.000.99.99.99.9...</td>\n      <td>109967.65</td>\n      <td>0460000130001</td>\n      <td>4</td>\n      <td>4</td>\n      <td>Carchi</td>\n    </tr>\n    <tr>\n      <th>77946</th>\n      <td>ocds-5wno2w-COTBS-DINAF-01-2021-183518</td>\n      <td>COTBS-DINAF-01-2021-183518-2022-04-08T11:15:06...</td>\n      <td>tender</td>\n      <td>es</td>\n      <td>2022-04-08T06:28:45-05:00</td>\n      <td>[\"planning\",\"tender\",\"award\",\"contract\",\"imple...</td>\n      <td>COTBS-DINAF-01-2021-183518</td>\n      <td>Aprovisionamiento continuo de repuestos,acceso...</td>\n      <td>complete</td>\n      <td>EC-RUC-1768052340001-183518</td>\n      <td>...</td>\n      <td>4865078-COTBS-DINAF-01-2021</td>\n      <td>2021-07-12T17:22:33-05:00</td>\n      <td>107343.56</td>\n      <td>USD</td>\n      <td>2021.052.0004.0000.01.00.000.001.000.1701.5304...</td>\n      <td>107343.56</td>\n      <td>1768052340001</td>\n      <td>17</td>\n      <td>17</td>\n      <td>Pichincha</td>\n    </tr>\n    <tr>\n      <th>77947</th>\n      <td>ocds-5wno2w-COTS-GADMCD-2021-003-94742</td>\n      <td>COTS-GADMCD-2021-003-94742-2022-04-20T11:17:28...</td>\n      <td>tender</td>\n      <td>es</td>\n      <td>2022-04-20T06:32:52-05:00</td>\n      <td>[\"planning\",\"tender\",\"award\",\"contract\",\"imple...</td>\n      <td>COTS-GADMCD-2021-003-94742</td>\n      <td>SERVICIO DE IMPRESIÓN,FOTOCOPIADO Y DIGITALIZA...</td>\n      <td>complete</td>\n      <td>EC-RUC-0960001890001-94742</td>\n      <td>...</td>\n      <td>4703506-COTS-GADMCD-2021-003</td>\n      <td>2021-04-08T15:01:03-05:00</td>\n      <td>349670.48</td>\n      <td>USD</td>\n      <td>530204</td>\n      <td>349670.48</td>\n      <td>0960001890001</td>\n      <td>9</td>\n      <td>9</td>\n      <td>Guayas</td>\n    </tr>\n    <tr>\n      <th>77948</th>\n      <td>ocds-5wno2w-COTBS-CSI-003-2021-179005</td>\n      <td>COTBS-CSI-003-2021-179005-2022-04-22T11:48:09....</td>\n      <td>tender</td>\n      <td>es</td>\n      <td>2022-04-22T07:03:16-05:00</td>\n      <td>[\"planning\",\"tender\",\"award\",\"contract\",\"imple...</td>\n      <td>COTBS-CSI-003-2021-179005</td>\n      <td>SERVICIO DE MANTENIMIENTO PREVENTIVO Y CORRECT...</td>\n      <td>complete</td>\n      <td>EC-RUC-1060013400001-179005</td>\n      <td>...</td>\n      <td>4734889-COTBS-CSI-003-2021</td>\n      <td>2021-04-29T11:35:59-05:00</td>\n      <td>119330.36</td>\n      <td>USD</td>\n      <td>2021.052.0017.0000.01.00.000.001.000.1001.5304...</td>\n      <td>147321.43</td>\n      <td>1060013400001</td>\n      <td>10</td>\n      <td>10</td>\n      <td>Imbabura</td>\n    </tr>\n  </tbody>\n</table>\n<p>77949 rows × 35 columns</p>\n</div>"
          },
          "metadata": {}
        }
      ],
      "execution_count": 33,
      "metadata": {
        "jupyter": {
          "source_hidden": false,
          "outputs_hidden": false
        },
        "nteract": {
          "transient": {
            "deleting": false
          }
        },
        "gather": {
          "logged": 1657476478828
        }
      }
    },
    {
      "cell_type": "code",
      "source": [
        "df.drop(columns=[\"codigoProvincia\",\"Codigo\"], inplace=True)\r\n",
        "df"
      ],
      "outputs": [
        {
          "output_type": "execute_result",
          "execution_count": 34,
          "data": {
            "text/plain": "                                         ocid  \\\n0       ocds-5wno2w-LICS-UNEMI-013-2021-43664   \n1        ocds-5wno2w-LIC-EPFLP-01-2021-404551   \n2       ocds-5wno2w-LICS-DD07D03-01-2021-9272   \n3      ocds-5wno2w-R2COTBSGSXXI-17-2020-71669   \n4       ocds-5wno2w-LICS-CBSE-001-2021-222424   \n...                                       ...   \n77944  ocds-5wno2w-LICS-GADMSCP-01-2021-59276   \n77945   ocds-5wno2w-LICS-CARCHI-001-2021-2481   \n77946  ocds-5wno2w-COTBS-DINAF-01-2021-183518   \n77947  ocds-5wno2w-COTS-GADMCD-2021-003-94742   \n77948   ocds-5wno2w-COTBS-CSI-003-2021-179005   \n\n                                                      id initiationType  \\\n0      LICS-UNEMI-013-2021-43664-2022-05-11T11:32:30....         tender   \n1      LIC-EPFLP-01-2021-404551-2022-05-14T12:25:47.8...         tender   \n2      LICS-DD07D03-01-2021-9272-2022-05-21T12:25:37....         tender   \n3      R2COTBSGSXXI-17-2020-71669-2022-05-21T12:34:46...         tender   \n4      LICS-CBSE-001-2021-222424-2022-06-15T12:16:30....         tender   \n...                                                  ...            ...   \n77944  LICS-GADMSCP-01-2021-59276-2022-04-05T11:01:20...         tender   \n77945  LICS-CARCHI-001-2021-2481-2022-04-07T11:13:40....         tender   \n77946  COTBS-DINAF-01-2021-183518-2022-04-08T11:15:06...         tender   \n77947  COTS-GADMCD-2021-003-94742-2022-04-20T11:17:28...         tender   \n77948  COTBS-CSI-003-2021-179005-2022-04-22T11:48:09....         tender   \n\n      language                       date  \\\n0           es  2022-05-11T06:48:06-05:00   \n1           es  2022-05-14T07:33:35-05:00   \n2           es  2022-05-21T07:41:35-05:00   \n3           es  2022-05-21T07:41:36-05:00   \n4           es  2022-06-15T07:32:33-05:00   \n...        ...                        ...   \n77944       es  2022-04-05T06:07:08-05:00   \n77945       es  2022-04-07T06:23:42-05:00   \n77946       es  2022-04-08T06:28:45-05:00   \n77947       es  2022-04-20T06:32:52-05:00   \n77948       es  2022-04-22T07:03:16-05:00   \n\n                                                     tag  \\\n0      [\"planning\",\"tender\",\"award\",\"contract\",\"imple...   \n1               [\"planning\",\"tender\",\"award\",\"contract\"]   \n2      [\"planning\",\"tender\",\"award\",\"contract\",\"imple...   \n3               [\"planning\",\"tender\",\"award\",\"contract\"]   \n4      [\"planning\",\"tender\",\"award\",\"contract\",\"imple...   \n...                                                  ...   \n77944           [\"planning\",\"tender\",\"award\",\"contract\"]   \n77945           [\"planning\",\"tender\",\"award\",\"contract\"]   \n77946  [\"planning\",\"tender\",\"award\",\"contract\",\"imple...   \n77947  [\"planning\",\"tender\",\"award\",\"contract\",\"imple...   \n77948  [\"planning\",\"tender\",\"award\",\"contract\",\"imple...   \n\n                            title  \\\n0       LICS-UNEMI-013-2021-43664   \n1        LIC-EPFLP-01-2021-404551   \n2       LICS-DD07D03-01-2021-9272   \n3      R2COTBSGSXXI-17-2020-71669   \n4       LICS-CBSE-001-2021-222424   \n...                           ...   \n77944  LICS-GADMSCP-01-2021-59276   \n77945   LICS-CARCHI-001-2021-2481   \n77946  COTBS-DINAF-01-2021-183518   \n77947  COTS-GADMCD-2021-003-94742   \n77948   COTBS-CSI-003-2021-179005   \n\n                                             description    status  \\\n0      CONTRATACION DE POLIZAS DE SEGUROMULTIRIESGO: ...  complete   \n1      CONTRATACIÓN DE LA PÓLIZA DE SEGUROS MARÍTIMOS...  complete   \n2      ?CONTRATACIÓN DE PÓLIZA DE SEGUROS EN DIFERENT...  complete   \n3      Mantenimiento y Reparación De Obras De Regener...    active   \n4      CONTRATACIÓN DE SERVICIO DE SEGUROS DE: VEHÍCU...  complete   \n...                                                  ...       ...   \n77944  CONTRATACIÓN DE PÓLIZAS DE SEGUROS PARA LOS RA...  complete   \n77945  CONTRATACIÓN DE SEGUROS MULTIRIESGO GOBIERNO A...  complete   \n77946  Aprovisionamiento continuo de repuestos,acceso...  complete   \n77947  SERVICIO DE IMPRESIÓN,FOTOCOPIADO Y DIGITALIZA...  complete   \n77948  SERVICIO DE MANTENIMIENTO PREVENTIVO Y CORRECT...  complete   \n\n                procuringEntity_id  ...     amount                 dateSigned  \\\n0       EC-RUC-0968533430001-43664  ...   59510.25  2021-06-23T00:00:00-05:00   \n1      EC-RUC-1768164300001-404551  ...  749885.00  2021-09-15T00:00:00-05:00   \n2        EC-RUC-0760004920001-9272  ...   18602.54  2021-04-09T00:00:00-05:00   \n3       EC-RUC-0992183721001-71669  ...  361662.55  2022-01-14T00:00:00-05:00   \n4      EC-RUC-0968563340001-222424  ...    7136.16  2021-03-15T00:00:00-05:00   \n...                            ...  ...        ...                        ...   \n77944   EC-RUC-1860000560001-59276  ...   31451.93  2021-11-11T00:00:00-05:00   \n77945    EC-RUC-0460000130001-2481  ...   72994.70  2021-06-17T00:00:00-05:00   \n77946  EC-RUC-1768052340001-183518  ...  107343.56  2021-07-23T00:00:00-05:00   \n77947   EC-RUC-0960001890001-94742  ...  349670.48  2021-04-29T00:00:00-05:00   \n77948  EC-RUC-1060013400001-179005  ...  119330.36  2021-05-03T00:00:00-05:00   \n\n                          id_awards                date_awards amount_awards  \\\n0       4720310-LICS-UNEMI-013-2021  2021-04-23T10:25:08-05:00      59510.25   \n1         4980937-LIC-EPFLP-01-2021  2021-08-30T08:43:16-05:00     749885.00   \n2      4702468-LICS-DD07D03-01-2021  2021-04-01T09:49:32-05:00      18602.54   \n3      5035763-R2COTBSGSXXI-17-2020  2021-12-03T16:19:46-05:00     361662.55   \n4        4680551-LICS-CBSE-001-2021  2021-03-12T16:34:58-05:00       7136.16   \n...                             ...                        ...           ...   \n77944  5169438-LICS-GADMSCP-01-2021  2021-11-10T12:42:18-05:00      31451.93   \n77945  4770998-LICS-CARCHI-001-2021  2021-05-21T13:17:54-05:00      72994.70   \n77946   4865078-COTBS-DINAF-01-2021  2021-07-12T17:22:33-05:00     107343.56   \n77947  4703506-COTS-GADMCD-2021-003  2021-04-08T15:01:03-05:00     349670.48   \n77948    4734889-COTBS-CSI-003-2021  2021-04-29T11:35:59-05:00     119330.36   \n\n       currency                                          budget_id  \\\n0           USD  2021.181.0000.0000.82.00.000.002.000.0910.5303...   \n1           USD                                        5.1.2.02.01   \n2           USD  2021.320.1140.0000.90.00.000.001.000.0713.5302...   \n3           USD                                          7.5.05.99   \n4           USD                                             570201   \n...         ...                                                ...   \n77944       USD                                 7.7.02.01.01.3.1.2   \n77945       USD  01.01.08.999.007.003.5.57.02.01.000.99.99.99.9...   \n77946       USD  2021.052.0004.0000.01.00.000.001.000.1701.5304...   \n77947       USD                                             530204   \n77948       USD  2021.052.0017.0000.01.00.000.001.000.1001.5304...   \n\n       budget_amount            ruc   Provincia  \n0           70005.18  0968533430001      Guayas  \n1          910648.25  1768164300001   Pichincha  \n2           30003.80  0760004920001      El Oro  \n3          361662.55  0992183721001      Guayas  \n4           43008.29  0968563340001      Guayas  \n...              ...            ...         ...  \n77944       31874.18  1860000560001  Tungurahua  \n77945      109967.65  0460000130001      Carchi  \n77946      107343.56  1768052340001   Pichincha  \n77947      349670.48  0960001890001      Guayas  \n77948      147321.43  1060013400001    Imbabura  \n\n[77949 rows x 33 columns]",
            "text/html": "<div>\n<style scoped>\n    .dataframe tbody tr th:only-of-type {\n        vertical-align: middle;\n    }\n\n    .dataframe tbody tr th {\n        vertical-align: top;\n    }\n\n    .dataframe thead th {\n        text-align: right;\n    }\n</style>\n<table border=\"1\" class=\"dataframe\">\n  <thead>\n    <tr style=\"text-align: right;\">\n      <th></th>\n      <th>ocid</th>\n      <th>id</th>\n      <th>initiationType</th>\n      <th>language</th>\n      <th>date</th>\n      <th>tag</th>\n      <th>title</th>\n      <th>description</th>\n      <th>status</th>\n      <th>procuringEntity_id</th>\n      <th>...</th>\n      <th>amount</th>\n      <th>dateSigned</th>\n      <th>id_awards</th>\n      <th>date_awards</th>\n      <th>amount_awards</th>\n      <th>currency</th>\n      <th>budget_id</th>\n      <th>budget_amount</th>\n      <th>ruc</th>\n      <th>Provincia</th>\n    </tr>\n  </thead>\n  <tbody>\n    <tr>\n      <th>0</th>\n      <td>ocds-5wno2w-LICS-UNEMI-013-2021-43664</td>\n      <td>LICS-UNEMI-013-2021-43664-2022-05-11T11:32:30....</td>\n      <td>tender</td>\n      <td>es</td>\n      <td>2022-05-11T06:48:06-05:00</td>\n      <td>[\"planning\",\"tender\",\"award\",\"contract\",\"imple...</td>\n      <td>LICS-UNEMI-013-2021-43664</td>\n      <td>CONTRATACION DE POLIZAS DE SEGUROMULTIRIESGO: ...</td>\n      <td>complete</td>\n      <td>EC-RUC-0968533430001-43664</td>\n      <td>...</td>\n      <td>59510.25</td>\n      <td>2021-06-23T00:00:00-05:00</td>\n      <td>4720310-LICS-UNEMI-013-2021</td>\n      <td>2021-04-23T10:25:08-05:00</td>\n      <td>59510.25</td>\n      <td>USD</td>\n      <td>2021.181.0000.0000.82.00.000.002.000.0910.5303...</td>\n      <td>70005.18</td>\n      <td>0968533430001</td>\n      <td>Guayas</td>\n    </tr>\n    <tr>\n      <th>1</th>\n      <td>ocds-5wno2w-LIC-EPFLP-01-2021-404551</td>\n      <td>LIC-EPFLP-01-2021-404551-2022-05-14T12:25:47.8...</td>\n      <td>tender</td>\n      <td>es</td>\n      <td>2022-05-14T07:33:35-05:00</td>\n      <td>[\"planning\",\"tender\",\"award\",\"contract\"]</td>\n      <td>LIC-EPFLP-01-2021-404551</td>\n      <td>CONTRATACIÓN DE LA PÓLIZA DE SEGUROS MARÍTIMOS...</td>\n      <td>complete</td>\n      <td>EC-RUC-1768164300001-404551</td>\n      <td>...</td>\n      <td>749885.00</td>\n      <td>2021-09-15T00:00:00-05:00</td>\n      <td>4980937-LIC-EPFLP-01-2021</td>\n      <td>2021-08-30T08:43:16-05:00</td>\n      <td>749885.00</td>\n      <td>USD</td>\n      <td>5.1.2.02.01</td>\n      <td>910648.25</td>\n      <td>1768164300001</td>\n      <td>Pichincha</td>\n    </tr>\n    <tr>\n      <th>2</th>\n      <td>ocds-5wno2w-LICS-DD07D03-01-2021-9272</td>\n      <td>LICS-DD07D03-01-2021-9272-2022-05-21T12:25:37....</td>\n      <td>tender</td>\n      <td>es</td>\n      <td>2022-05-21T07:41:35-05:00</td>\n      <td>[\"planning\",\"tender\",\"award\",\"contract\",\"imple...</td>\n      <td>LICS-DD07D03-01-2021-9272</td>\n      <td>?CONTRATACIÓN DE PÓLIZA DE SEGUROS EN DIFERENT...</td>\n      <td>complete</td>\n      <td>EC-RUC-0760004920001-9272</td>\n      <td>...</td>\n      <td>18602.54</td>\n      <td>2021-04-09T00:00:00-05:00</td>\n      <td>4702468-LICS-DD07D03-01-2021</td>\n      <td>2021-04-01T09:49:32-05:00</td>\n      <td>18602.54</td>\n      <td>USD</td>\n      <td>2021.320.1140.0000.90.00.000.001.000.0713.5302...</td>\n      <td>30003.80</td>\n      <td>0760004920001</td>\n      <td>El Oro</td>\n    </tr>\n    <tr>\n      <th>3</th>\n      <td>ocds-5wno2w-R2COTBSGSXXI-17-2020-71669</td>\n      <td>R2COTBSGSXXI-17-2020-71669-2022-05-21T12:34:46...</td>\n      <td>tender</td>\n      <td>es</td>\n      <td>2022-05-21T07:41:36-05:00</td>\n      <td>[\"planning\",\"tender\",\"award\",\"contract\"]</td>\n      <td>R2COTBSGSXXI-17-2020-71669</td>\n      <td>Mantenimiento y Reparación De Obras De Regener...</td>\n      <td>active</td>\n      <td>EC-RUC-0992183721001-71669</td>\n      <td>...</td>\n      <td>361662.55</td>\n      <td>2022-01-14T00:00:00-05:00</td>\n      <td>5035763-R2COTBSGSXXI-17-2020</td>\n      <td>2021-12-03T16:19:46-05:00</td>\n      <td>361662.55</td>\n      <td>USD</td>\n      <td>7.5.05.99</td>\n      <td>361662.55</td>\n      <td>0992183721001</td>\n      <td>Guayas</td>\n    </tr>\n    <tr>\n      <th>4</th>\n      <td>ocds-5wno2w-LICS-CBSE-001-2021-222424</td>\n      <td>LICS-CBSE-001-2021-222424-2022-06-15T12:16:30....</td>\n      <td>tender</td>\n      <td>es</td>\n      <td>2022-06-15T07:32:33-05:00</td>\n      <td>[\"planning\",\"tender\",\"award\",\"contract\",\"imple...</td>\n      <td>LICS-CBSE-001-2021-222424</td>\n      <td>CONTRATACIÓN DE SERVICIO DE SEGUROS DE: VEHÍCU...</td>\n      <td>complete</td>\n      <td>EC-RUC-0968563340001-222424</td>\n      <td>...</td>\n      <td>7136.16</td>\n      <td>2021-03-15T00:00:00-05:00</td>\n      <td>4680551-LICS-CBSE-001-2021</td>\n      <td>2021-03-12T16:34:58-05:00</td>\n      <td>7136.16</td>\n      <td>USD</td>\n      <td>570201</td>\n      <td>43008.29</td>\n      <td>0968563340001</td>\n      <td>Guayas</td>\n    </tr>\n    <tr>\n      <th>...</th>\n      <td>...</td>\n      <td>...</td>\n      <td>...</td>\n      <td>...</td>\n      <td>...</td>\n      <td>...</td>\n      <td>...</td>\n      <td>...</td>\n      <td>...</td>\n      <td>...</td>\n      <td>...</td>\n      <td>...</td>\n      <td>...</td>\n      <td>...</td>\n      <td>...</td>\n      <td>...</td>\n      <td>...</td>\n      <td>...</td>\n      <td>...</td>\n      <td>...</td>\n      <td>...</td>\n    </tr>\n    <tr>\n      <th>77944</th>\n      <td>ocds-5wno2w-LICS-GADMSCP-01-2021-59276</td>\n      <td>LICS-GADMSCP-01-2021-59276-2022-04-05T11:01:20...</td>\n      <td>tender</td>\n      <td>es</td>\n      <td>2022-04-05T06:07:08-05:00</td>\n      <td>[\"planning\",\"tender\",\"award\",\"contract\"]</td>\n      <td>LICS-GADMSCP-01-2021-59276</td>\n      <td>CONTRATACIÓN DE PÓLIZAS DE SEGUROS PARA LOS RA...</td>\n      <td>complete</td>\n      <td>EC-RUC-1860000560001-59276</td>\n      <td>...</td>\n      <td>31451.93</td>\n      <td>2021-11-11T00:00:00-05:00</td>\n      <td>5169438-LICS-GADMSCP-01-2021</td>\n      <td>2021-11-10T12:42:18-05:00</td>\n      <td>31451.93</td>\n      <td>USD</td>\n      <td>7.7.02.01.01.3.1.2</td>\n      <td>31874.18</td>\n      <td>1860000560001</td>\n      <td>Tungurahua</td>\n    </tr>\n    <tr>\n      <th>77945</th>\n      <td>ocds-5wno2w-LICS-CARCHI-001-2021-2481</td>\n      <td>LICS-CARCHI-001-2021-2481-2022-04-07T11:13:40....</td>\n      <td>tender</td>\n      <td>es</td>\n      <td>2022-04-07T06:23:42-05:00</td>\n      <td>[\"planning\",\"tender\",\"award\",\"contract\"]</td>\n      <td>LICS-CARCHI-001-2021-2481</td>\n      <td>CONTRATACIÓN DE SEGUROS MULTIRIESGO GOBIERNO A...</td>\n      <td>complete</td>\n      <td>EC-RUC-0460000130001-2481</td>\n      <td>...</td>\n      <td>72994.70</td>\n      <td>2021-06-17T00:00:00-05:00</td>\n      <td>4770998-LICS-CARCHI-001-2021</td>\n      <td>2021-05-21T13:17:54-05:00</td>\n      <td>72994.70</td>\n      <td>USD</td>\n      <td>01.01.08.999.007.003.5.57.02.01.000.99.99.99.9...</td>\n      <td>109967.65</td>\n      <td>0460000130001</td>\n      <td>Carchi</td>\n    </tr>\n    <tr>\n      <th>77946</th>\n      <td>ocds-5wno2w-COTBS-DINAF-01-2021-183518</td>\n      <td>COTBS-DINAF-01-2021-183518-2022-04-08T11:15:06...</td>\n      <td>tender</td>\n      <td>es</td>\n      <td>2022-04-08T06:28:45-05:00</td>\n      <td>[\"planning\",\"tender\",\"award\",\"contract\",\"imple...</td>\n      <td>COTBS-DINAF-01-2021-183518</td>\n      <td>Aprovisionamiento continuo de repuestos,acceso...</td>\n      <td>complete</td>\n      <td>EC-RUC-1768052340001-183518</td>\n      <td>...</td>\n      <td>107343.56</td>\n      <td>2021-07-23T00:00:00-05:00</td>\n      <td>4865078-COTBS-DINAF-01-2021</td>\n      <td>2021-07-12T17:22:33-05:00</td>\n      <td>107343.56</td>\n      <td>USD</td>\n      <td>2021.052.0004.0000.01.00.000.001.000.1701.5304...</td>\n      <td>107343.56</td>\n      <td>1768052340001</td>\n      <td>Pichincha</td>\n    </tr>\n    <tr>\n      <th>77947</th>\n      <td>ocds-5wno2w-COTS-GADMCD-2021-003-94742</td>\n      <td>COTS-GADMCD-2021-003-94742-2022-04-20T11:17:28...</td>\n      <td>tender</td>\n      <td>es</td>\n      <td>2022-04-20T06:32:52-05:00</td>\n      <td>[\"planning\",\"tender\",\"award\",\"contract\",\"imple...</td>\n      <td>COTS-GADMCD-2021-003-94742</td>\n      <td>SERVICIO DE IMPRESIÓN,FOTOCOPIADO Y DIGITALIZA...</td>\n      <td>complete</td>\n      <td>EC-RUC-0960001890001-94742</td>\n      <td>...</td>\n      <td>349670.48</td>\n      <td>2021-04-29T00:00:00-05:00</td>\n      <td>4703506-COTS-GADMCD-2021-003</td>\n      <td>2021-04-08T15:01:03-05:00</td>\n      <td>349670.48</td>\n      <td>USD</td>\n      <td>530204</td>\n      <td>349670.48</td>\n      <td>0960001890001</td>\n      <td>Guayas</td>\n    </tr>\n    <tr>\n      <th>77948</th>\n      <td>ocds-5wno2w-COTBS-CSI-003-2021-179005</td>\n      <td>COTBS-CSI-003-2021-179005-2022-04-22T11:48:09....</td>\n      <td>tender</td>\n      <td>es</td>\n      <td>2022-04-22T07:03:16-05:00</td>\n      <td>[\"planning\",\"tender\",\"award\",\"contract\",\"imple...</td>\n      <td>COTBS-CSI-003-2021-179005</td>\n      <td>SERVICIO DE MANTENIMIENTO PREVENTIVO Y CORRECT...</td>\n      <td>complete</td>\n      <td>EC-RUC-1060013400001-179005</td>\n      <td>...</td>\n      <td>119330.36</td>\n      <td>2021-05-03T00:00:00-05:00</td>\n      <td>4734889-COTBS-CSI-003-2021</td>\n      <td>2021-04-29T11:35:59-05:00</td>\n      <td>119330.36</td>\n      <td>USD</td>\n      <td>2021.052.0017.0000.01.00.000.001.000.1001.5304...</td>\n      <td>147321.43</td>\n      <td>1060013400001</td>\n      <td>Imbabura</td>\n    </tr>\n  </tbody>\n</table>\n<p>77949 rows × 33 columns</p>\n</div>"
          },
          "metadata": {}
        }
      ],
      "execution_count": 34,
      "metadata": {
        "jupyter": {
          "source_hidden": false,
          "outputs_hidden": false
        },
        "nteract": {
          "transient": {
            "deleting": false
          }
        },
        "gather": {
          "logged": 1657476513061
        }
      }
    },
    {
      "cell_type": "code",
      "source": [
        "df.to_csv(\"../data/dataset.csv\")"
      ],
      "outputs": [],
      "execution_count": null,
      "metadata": {
        "jupyter": {
          "source_hidden": false,
          "outputs_hidden": false
        },
        "nteract": {
          "transient": {
            "deleting": false
          }
        }
      }
    }
  ],
  "metadata": {
    "kernel_info": {
      "name": "python3"
    },
    "kernelspec": {
      "name": "python3",
      "language": "python",
      "display_name": "Python 3 (ipykernel)"
    },
    "language_info": {
      "name": "python",
      "version": "3.8.5",
      "mimetype": "text/x-python",
      "codemirror_mode": {
        "name": "ipython",
        "version": 3
      },
      "pygments_lexer": "ipython3",
      "nbconvert_exporter": "python",
      "file_extension": ".py"
    },
    "microsoft": {
      "host": {
        "AzureML": {
          "notebookHasBeenCompleted": true
        }
      }
    },
    "nteract": {
      "version": "nteract-front-end@1.0.0"
    },
    "vscode": {
      "interpreter": {
        "hash": "b95bd45029f467f5ffdb04a0dca108fe317981093d378cd9f566d3ace075d8db"
      }
    }
  },
  "nbformat": 4,
  "nbformat_minor": 2
}
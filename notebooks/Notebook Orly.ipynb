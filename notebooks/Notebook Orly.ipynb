{
 "cells": [
  {
   "cell_type": "code",
   "execution_count": 1,
   "id": "8a91fa11",
   "metadata": {},
   "outputs": [],
   "source": [
    "import pandas as pd\n",
    "import matplotlib.pyplot as plt\n",
    "import seaborn as sns"
   ]
  },
  {
   "cell_type": "code",
   "execution_count": 2,
   "id": "1288291b",
   "metadata": {},
   "outputs": [],
   "source": [
    "from datetime import datetime, date, time, timedelta\n",
    "import calendar"
   ]
  },
  {
   "cell_type": "markdown",
   "id": "f1edd4b7",
   "metadata": {},
   "source": [
    "****PREGUNTA 1****"
   ]
  },
  {
   "cell_type": "code",
   "execution_count": 3,
   "id": "c75d0a47",
   "metadata": {},
   "outputs": [],
   "source": [
    "doc=pd.read_csv(\"dataset-RedFlags.csv\")"
   ]
  },
  {
   "cell_type": "code",
   "execution_count": 4,
   "id": "85c219a5",
   "metadata": {
    "scrolled": true
   },
   "outputs": [
    {
     "data": {
      "text/plain": [
       "Index(['Unnamed: 0', 'ocid', 'id', 'initiationType', 'language', 'date', 'tag',\n",
       "       'title', 'description', 'status', 'procuringEntity_id',\n",
       "       'procuringEntity_name', 'value_amount', 'value_currency',\n",
       "       'procurementMethod', 'procurementMethodDetails', 'numberOfTenderers',\n",
       "       'tenderPeriod_durationInDays', 'id_supplier', 'name', 'id_contracts',\n",
       "       'status_contracts', 'contractPeriod_durationInDays', 'amount',\n",
       "       'dateSigned', 'id_awards', 'date_awards', 'amount_awards', 'currency',\n",
       "       'budget_id', 'budget_amount', 'ruc', 'Provincia'],\n",
       "      dtype='object')"
      ]
     },
     "execution_count": 4,
     "metadata": {},
     "output_type": "execute_result"
    }
   ],
   "source": [
    "doc.columns"
   ]
  },
  {
   "cell_type": "code",
   "execution_count": 5,
   "id": "9dde75f4",
   "metadata": {},
   "outputs": [],
   "source": [
    "doc2=doc.loc[:, [\"budget_amount\",\"amount_awards\" ]]"
   ]
  },
  {
   "cell_type": "code",
   "execution_count": 6,
   "id": "22679342",
   "metadata": {},
   "outputs": [],
   "source": [
    "doc2[\"Diferencia Premio VS Presupuesto\"]=doc2[\"budget_amount\"]  - doc2[\"amount_awards\" ]"
   ]
  },
  {
   "cell_type": "code",
   "execution_count": 7,
   "id": "9a32f022",
   "metadata": {},
   "outputs": [],
   "source": [
    "q1= doc2[\"budget_amount\"].quantile(0.25)\n",
    "q3= doc2[\"budget_amount\"].quantile(0.75)\n",
    "iqr= q3-q1\n",
    "doc2=doc2.loc[~ ((doc2[\"budget_amount\"]> (q3+(1.5*iqr)) ) | (doc2[\"budget_amount\"]< (q1-(1.5*iqr)) )) ] "
   ]
  },
  {
   "cell_type": "code",
   "execution_count": 8,
   "id": "33070108",
   "metadata": {},
   "outputs": [],
   "source": [
    "q1= doc2[\"amount_awards\"].quantile(0.25)\n",
    "q3= doc2[\"amount_awards\"].quantile(0.75)\n",
    "iqr= q3-q1\n",
    "doc2=doc2.loc[~ ((doc2[\"amount_awards\"]> (q3+(1.5*iqr)) ) | (doc2[\"amount_awards\"]< (q1-(1.5*iqr)) )) ] "
   ]
  },
  {
   "cell_type": "code",
   "execution_count": 9,
   "id": "dd77a476",
   "metadata": {},
   "outputs": [
    {
     "data": {
      "text/plain": [
       "(62712, 3)"
      ]
     },
     "execution_count": 9,
     "metadata": {},
     "output_type": "execute_result"
    }
   ],
   "source": [
    "doc2.shape"
   ]
  },
  {
   "cell_type": "code",
   "execution_count": 10,
   "id": "e7603c08",
   "metadata": {},
   "outputs": [
    {
     "name": "stderr",
     "output_type": "stream",
     "text": [
      "C:\\Users\\User\\anaconda3\\anaco\\lib\\site-packages\\seaborn\\_decorators.py:36: FutureWarning: Pass the following variable as a keyword arg: x. From version 0.12, the only valid positional argument will be `data`, and passing other arguments without an explicit keyword will result in an error or misinterpretation.\n",
      "  warnings.warn(\n"
     ]
    },
    {
     "data": {
      "text/plain": [
       "<AxesSubplot:xlabel='Diferencia Premio VS Presupuesto'>"
      ]
     },
     "execution_count": 10,
     "metadata": {},
     "output_type": "execute_result"
    },
    {
     "data": {
      "image/png": "[encoded data removed]",
      "text/plain": [
       "<Figure size 1440x720 with 1 Axes>"
      ]
     },
     "metadata": {
      "needs_background": "light"
     },
     "output_type": "display_data"
    }
   ],
   "source": [
    "fig,ax = plt.subplots(figsize=(20,10)) \n",
    "sns.set_theme(style=\"darkgrid\")\n",
    "sns.boxplot(doc2[\"Diferencia Premio VS Presupuesto\"]   ,ax= ax) \n"
   ]
  },
  {
   "cell_type": "markdown",
   "id": "995da258",
   "metadata": {},
   "source": [
    "****PREGUNTA2****"
   ]
  },
  {
   "cell_type": "code",
   "execution_count": 11,
   "id": "04da986a",
   "metadata": {},
   "outputs": [],
   "source": [
    "doc3=doc.loc[:, [\"date_awards\",\"numberOfTenderers\" ]]"
   ]
  },
  {
   "cell_type": "code",
   "execution_count": 12,
   "id": "974b8944",
   "metadata": {},
   "outputs": [
    {
     "data": {
      "text/html": [
       "<div>\n",
       "<style scoped>\n",
       "    .dataframe tbody tr th:only-of-type {\n",
       "        vertical-align: middle;\n",
       "    }\n",
       "\n",
       "    .dataframe tbody tr th {\n",
       "        vertical-align: top;\n",
       "    }\n",
       "\n",
       "    .dataframe thead th {\n",
       "        text-align: right;\n",
       "    }\n",
       "</style>\n",
       "<table border=\"1\" class=\"dataframe\">\n",
       "  <thead>\n",
       "    <tr style=\"text-align: right;\">\n",
       "      <th></th>\n",
       "      <th>date_awards</th>\n",
       "      <th>numberOfTenderers</th>\n",
       "    </tr>\n",
       "  </thead>\n",
       "  <tbody>\n",
       "    <tr>\n",
       "      <th>0</th>\n",
       "      <td>2021-05-07T14:21:51-05:00</td>\n",
       "      <td>1.0</td>\n",
       "    </tr>\n",
       "    <tr>\n",
       "      <th>1</th>\n",
       "      <td>2021-10-15T08:28:28-05:00</td>\n",
       "      <td>1.0</td>\n",
       "    </tr>\n",
       "    <tr>\n",
       "      <th>2</th>\n",
       "      <td>2021-04-23T10:25:08-05:00</td>\n",
       "      <td>1.0</td>\n",
       "    </tr>\n",
       "    <tr>\n",
       "      <th>3</th>\n",
       "      <td>2021-07-20T13:49:50-05:00</td>\n",
       "      <td>1.0</td>\n",
       "    </tr>\n",
       "    <tr>\n",
       "      <th>4</th>\n",
       "      <td>2021-08-30T08:43:16-05:00</td>\n",
       "      <td>2.0</td>\n",
       "    </tr>\n",
       "  </tbody>\n",
       "</table>\n",
       "</div>"
      ],
      "text/plain": [
       "                 date_awards  numberOfTenderers\n",
       "0  2021-05-07T14:21:51-05:00                1.0\n",
       "1  2021-10-15T08:28:28-05:00                1.0\n",
       "2  2021-04-23T10:25:08-05:00                1.0\n",
       "3  2021-07-20T13:49:50-05:00                1.0\n",
       "4  2021-08-30T08:43:16-05:00                2.0"
      ]
     },
     "execution_count": 12,
     "metadata": {},
     "output_type": "execute_result"
    }
   ],
   "source": [
    "doc3.head()"
   ]
  },
  {
   "cell_type": "code",
   "execution_count": 13,
   "id": "dd81d205",
   "metadata": {},
   "outputs": [],
   "source": [
    "doc3[\"date_awards\"]=doc3[\"date_awards\"].astype(\"str\").str.split(pat= \"T\", expand=True)[0]"
   ]
  },
  {
   "cell_type": "code",
   "execution_count": 14,
   "id": "e5fad130",
   "metadata": {},
   "outputs": [],
   "source": [
    "doc3[\"mes\"]=pd.to_datetime(doc3[\"date_awards\"]).dt.month"
   ]
  },
  {
   "cell_type": "code",
   "execution_count": 15,
   "id": "18197c0b",
   "metadata": {},
   "outputs": [],
   "source": [
    "doc3[\"año\"]=pd.to_datetime(doc3[\"date_awards\"]).dt.year"
   ]
  },
  {
   "cell_type": "code",
   "execution_count": 16,
   "id": "eb920737",
   "metadata": {},
   "outputs": [],
   "source": [
    "doc3=doc3.loc[doc3[\"año\"]==2021]"
   ]
  },
  {
   "cell_type": "code",
   "execution_count": 17,
   "id": "e3096908",
   "metadata": {},
   "outputs": [],
   "source": [
    "doc3=doc3.loc[doc3[\"numberOfTenderers\"]==1.0]"
   ]
  },
  {
   "cell_type": "code",
   "execution_count": 18,
   "id": "b52bd429",
   "metadata": {},
   "outputs": [
    {
     "data": {
      "text/html": [
       "<div>\n",
       "<style scoped>\n",
       "    .dataframe tbody tr th:only-of-type {\n",
       "        vertical-align: middle;\n",
       "    }\n",
       "\n",
       "    .dataframe tbody tr th {\n",
       "        vertical-align: top;\n",
       "    }\n",
       "\n",
       "    .dataframe thead th {\n",
       "        text-align: right;\n",
       "    }\n",
       "</style>\n",
       "<table border=\"1\" class=\"dataframe\">\n",
       "  <thead>\n",
       "    <tr style=\"text-align: right;\">\n",
       "      <th></th>\n",
       "      <th>date_awards</th>\n",
       "      <th>numberOfTenderers</th>\n",
       "      <th>mes</th>\n",
       "      <th>año</th>\n",
       "    </tr>\n",
       "  </thead>\n",
       "  <tbody>\n",
       "    <tr>\n",
       "      <th>0</th>\n",
       "      <td>2021-05-07</td>\n",
       "      <td>1.0</td>\n",
       "      <td>5</td>\n",
       "      <td>2021</td>\n",
       "    </tr>\n",
       "    <tr>\n",
       "      <th>1</th>\n",
       "      <td>2021-10-15</td>\n",
       "      <td>1.0</td>\n",
       "      <td>10</td>\n",
       "      <td>2021</td>\n",
       "    </tr>\n",
       "    <tr>\n",
       "      <th>2</th>\n",
       "      <td>2021-04-23</td>\n",
       "      <td>1.0</td>\n",
       "      <td>4</td>\n",
       "      <td>2021</td>\n",
       "    </tr>\n",
       "    <tr>\n",
       "      <th>3</th>\n",
       "      <td>2021-07-20</td>\n",
       "      <td>1.0</td>\n",
       "      <td>7</td>\n",
       "      <td>2021</td>\n",
       "    </tr>\n",
       "    <tr>\n",
       "      <th>8</th>\n",
       "      <td>2021-11-10</td>\n",
       "      <td>1.0</td>\n",
       "      <td>11</td>\n",
       "      <td>2021</td>\n",
       "    </tr>\n",
       "  </tbody>\n",
       "</table>\n",
       "</div>"
      ],
      "text/plain": [
       "  date_awards  numberOfTenderers  mes   año\n",
       "0  2021-05-07                1.0    5  2021\n",
       "1  2021-10-15                1.0   10  2021\n",
       "2  2021-04-23                1.0    4  2021\n",
       "3  2021-07-20                1.0    7  2021\n",
       "8  2021-11-10                1.0   11  2021"
      ]
     },
     "execution_count": 18,
     "metadata": {},
     "output_type": "execute_result"
    }
   ],
   "source": [
    "doc3.head()"
   ]
  },
  {
   "cell_type": "code",
   "execution_count": 19,
   "id": "70c7382d",
   "metadata": {},
   "outputs": [],
   "source": [
    "doc3=doc3.groupby(\"mes\")[\"numberOfTenderers\"].sum().reset_index()"
   ]
  },
  {
   "cell_type": "code",
   "execution_count": 24,
   "id": "f2b4ef89",
   "metadata": {},
   "outputs": [
    {
     "data": {
      "text/plain": [
       "Text(0.5, 1.0, 'Licitaciones con una sola oferta por mes')"
      ]
     },
     "execution_count": 24,
     "metadata": {},
     "output_type": "execute_result"
    },
    {
     "data": {
      "image/png": "[encoded data removed]",
      "text/plain": [
       "<Figure size 576x576 with 1 Axes>"
      ]
     },
     "metadata": {},
     "output_type": "display_data"
    }
   ],
   "source": [
    "sns.set_theme(style=\"darkgrid\")\n",
    "fig,ax = plt.subplots(figsize=(8,8))\n",
    "_ = sns.barplot(data = doc3, x = \"mes\", y=\"numberOfTenderers\", ax = ax)\n",
    "ax.set_xlabel( \"Mes del año\" , size = 12 ) \n",
    "  \n",
    "ax.set_ylabel( \"Cantidad de licitaciones\" , size = 12 ) \n",
    "  \n",
    "ax.set_title( \"Licitaciones con una sola oferta por mes\" , size = 24 ) \n"
   ]
  },
  {
   "cell_type": "code",
   "execution_count": 21,
   "id": "7f41b86a",
   "metadata": {},
   "outputs": [
    {
     "data": {
      "text/html": [
       "<div>\n",
       "<style scoped>\n",
       "    .dataframe tbody tr th:only-of-type {\n",
       "        vertical-align: middle;\n",
       "    }\n",
       "\n",
       "    .dataframe tbody tr th {\n",
       "        vertical-align: top;\n",
       "    }\n",
       "\n",
       "    .dataframe thead th {\n",
       "        text-align: right;\n",
       "    }\n",
       "</style>\n",
       "<table border=\"1\" class=\"dataframe\">\n",
       "  <thead>\n",
       "    <tr style=\"text-align: right;\">\n",
       "      <th></th>\n",
       "      <th>mes</th>\n",
       "      <th>numberOfTenderers</th>\n",
       "      <th>Frecuencia Acumulada</th>\n",
       "    </tr>\n",
       "  </thead>\n",
       "  <tbody>\n",
       "    <tr>\n",
       "      <th>0</th>\n",
       "      <td>1</td>\n",
       "      <td>23.0</td>\n",
       "      <td>23.0</td>\n",
       "    </tr>\n",
       "    <tr>\n",
       "      <th>1</th>\n",
       "      <td>2</td>\n",
       "      <td>147.0</td>\n",
       "      <td>170.0</td>\n",
       "    </tr>\n",
       "    <tr>\n",
       "      <th>2</th>\n",
       "      <td>3</td>\n",
       "      <td>372.0</td>\n",
       "      <td>542.0</td>\n",
       "    </tr>\n",
       "    <tr>\n",
       "      <th>3</th>\n",
       "      <td>4</td>\n",
       "      <td>533.0</td>\n",
       "      <td>1075.0</td>\n",
       "    </tr>\n",
       "    <tr>\n",
       "      <th>4</th>\n",
       "      <td>5</td>\n",
       "      <td>505.0</td>\n",
       "      <td>1580.0</td>\n",
       "    </tr>\n",
       "    <tr>\n",
       "      <th>5</th>\n",
       "      <td>6</td>\n",
       "      <td>983.0</td>\n",
       "      <td>2563.0</td>\n",
       "    </tr>\n",
       "    <tr>\n",
       "      <th>6</th>\n",
       "      <td>7</td>\n",
       "      <td>884.0</td>\n",
       "      <td>3447.0</td>\n",
       "    </tr>\n",
       "    <tr>\n",
       "      <th>7</th>\n",
       "      <td>8</td>\n",
       "      <td>693.0</td>\n",
       "      <td>4140.0</td>\n",
       "    </tr>\n",
       "    <tr>\n",
       "      <th>8</th>\n",
       "      <td>9</td>\n",
       "      <td>905.0</td>\n",
       "      <td>5045.0</td>\n",
       "    </tr>\n",
       "    <tr>\n",
       "      <th>9</th>\n",
       "      <td>10</td>\n",
       "      <td>733.0</td>\n",
       "      <td>5778.0</td>\n",
       "    </tr>\n",
       "    <tr>\n",
       "      <th>10</th>\n",
       "      <td>11</td>\n",
       "      <td>569.0</td>\n",
       "      <td>6347.0</td>\n",
       "    </tr>\n",
       "    <tr>\n",
       "      <th>11</th>\n",
       "      <td>12</td>\n",
       "      <td>1022.0</td>\n",
       "      <td>7369.0</td>\n",
       "    </tr>\n",
       "  </tbody>\n",
       "</table>\n",
       "</div>"
      ],
      "text/plain": [
       "    mes  numberOfTenderers  Frecuencia Acumulada\n",
       "0     1               23.0                  23.0\n",
       "1     2              147.0                 170.0\n",
       "2     3              372.0                 542.0\n",
       "3     4              533.0                1075.0\n",
       "4     5              505.0                1580.0\n",
       "5     6              983.0                2563.0\n",
       "6     7              884.0                3447.0\n",
       "7     8              693.0                4140.0\n",
       "8     9              905.0                5045.0\n",
       "9    10              733.0                5778.0\n",
       "10   11              569.0                6347.0\n",
       "11   12             1022.0                7369.0"
      ]
     },
     "execution_count": 21,
     "metadata": {},
     "output_type": "execute_result"
    }
   ],
   "source": [
    "doc3[\"Frecuencia Acumulada\"]  = doc3[\"numberOfTenderers\"].cumsum()\n",
    "doc3"
   ]
  },
  {
   "cell_type": "code",
   "execution_count": 22,
   "id": "7d488664",
   "metadata": {},
   "outputs": [
    {
     "data": {
      "text/plain": [
       "Text(0.5, 1.0, 'Frecuencia acumulada de los Niveles de corrupción')"
      ]
     },
     "execution_count": 22,
     "metadata": {},
     "output_type": "execute_result"
    },
    {
     "data": {
      "image/png": "[encoded data removed]",
      "text/plain": [
       "<Figure size 576x576 with 1 Axes>"
      ]
     },
     "metadata": {},
     "output_type": "display_data"
    }
   ],
   "source": [
    "sns.set_theme(style=\"darkgrid\")\n",
    "fig,ax = plt.subplots(figsize=(8,8))\n",
    "_ = sns.lineplot(data = doc3, x = \"mes\", y=\"Frecuencia Acumulada\", ax = ax)\n",
    "ax.set_xlabel( \"Mes del año\" , size = 12 ) \n",
    "  \n",
    "ax.set_ylabel( \"Cantidad de licitaciones\" , size = 12 ) \n",
    "  \n",
    "ax.set_title( \"Frecuencia acumulada de los Niveles de corrupción\" , size = 24 ) \n"
   ]
  },
  {
   "cell_type": "code",
   "execution_count": null,
   "id": "b6c6a750",
   "metadata": {},
   "outputs": [],
   "source": []
  }
 ],
 "metadata": {
  "kernelspec": {
   "display_name": "Python 3 (ipykernel)",
   "language": "python",
   "name": "python3"
  },
  "language_info": {
   "codemirror_mode": {
    "name": "ipython",
    "version": 3
   },
   "file_extension": ".py",
   "mimetype": "text/x-python",
   "name": "python",
   "nbconvert_exporter": "python",
   "pygments_lexer": "ipython3",
   "version": "3.9.12"
  }
 },
 "nbformat": 4,
 "nbformat_minor": 5
}

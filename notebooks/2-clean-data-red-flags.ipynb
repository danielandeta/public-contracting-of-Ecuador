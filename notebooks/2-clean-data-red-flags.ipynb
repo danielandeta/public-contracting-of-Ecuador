{
  "cells": [
    {
      "cell_type": "code",
      "execution_count": 2,
      "metadata": {
        "gather": {
          "logged": 1657475072321
        }
      },
      "outputs": [],
      "source": [
        "import pandas as pd"
      ]
    },
    {
      "cell_type": "code",
      "execution_count": 3,
      "metadata": {
        "gather": {
          "logged": 1657475075187
        }
      },
      "outputs": [
        {
          "name": "stderr",
          "output_type": "stream",
          "text": [
            "/anaconda/envs/azureml_py38/lib/python3.8/site-packages/IPython/core/interactiveshell.py:3134: DtypeWarning: Columns (4,6,13,14) have mixed types.Specify dtype option on import or set low_memory=False.\n",
            "  has_raised = await self.run_ast_nodes(code_ast.body, cell_name,\n"
          ]
        },
        {
          "data": {
            "text/plain": [
              "ocid                                  0\n",
              "release_id                            0\n",
              "id                                    0\n",
              "title                            161869\n",
              "description                      123757\n",
              "status                            48559\n",
              "date                             131407\n",
              "amount                                3\n",
              "currency                              3\n",
              "correctedValue_amount            161869\n",
              "correctedValue_currency          161869\n",
              "enteredValue_amount              161869\n",
              "enteredValue_currency            161869\n",
              "contractPeriod_startDate         155762\n",
              "contractPeriod_endDate           155762\n",
              "contractPeriod_maxExtentDate     161869\n",
              "contractPeriod_durationInDays    155764\n",
              "dtype: int64"
            ]
          },
          "execution_count": 3,
          "metadata": {},
          "output_type": "execute_result"
        }
      ],
      "source": [
        "df_awards = pd.read_csv(\"../data/awards_2021.csv\")\n",
        "df_awards.head()\n",
        "df_awards.isnull().sum()"
      ]
    },
    {
      "cell_type": "code",
      "execution_count": 4,
      "metadata": {
        "gather": {
          "logged": 1657475085222
        },
        "jupyter": {
          "outputs_hidden": false,
          "source_hidden": false
        },
        "nteract": {
          "transient": {
            "deleting": false
          }
        }
      },
      "outputs": [
        {
          "data": {
            "text/plain": [
              "ocid               0\n",
              "release_id         0\n",
              "id                 0\n",
              "status         48559\n",
              "date          131407\n",
              "amount             3\n",
              "currency           3\n",
              "dtype: int64"
            ]
          },
          "execution_count": 4,
          "metadata": {},
          "output_type": "execute_result"
        }
      ],
      "source": [
        "df_awards.drop(columns=[\"title\", \"description\",\"correctedValue_amount\", \"correctedValue_currency\", \"enteredValue_amount\", \"enteredValue_currency\", \"contractPeriod_startDate\", \"contractPeriod_endDate\", \"contractPeriod_maxExtentDate\", \"contractPeriod_durationInDays\"], inplace=True)\n",
        "df_awards.isnull().sum()"
      ]
    },
    {
      "cell_type": "code",
      "execution_count": 5,
      "metadata": {
        "gather": {
          "logged": 1657475099700
        }
      },
      "outputs": [
        {
          "data": {
            "text/plain": [
              "ocid                                  0\n",
              "release_id                            0\n",
              "id                                    0\n",
              "awardID                               0\n",
              "title                            151586\n",
              "description                      151586\n",
              "status                                0\n",
              "contractPeriod_startDate         123757\n",
              "contractPeriod_endDate           123757\n",
              "contractPeriod_maxExtentDate     151586\n",
              "contractPeriod_durationInDays    123761\n",
              "amount                           123757\n",
              "currency                         123757\n",
              "dateSigned                       123757\n",
              "dtype: int64"
            ]
          },
          "execution_count": 5,
          "metadata": {},
          "output_type": "execute_result"
        }
      ],
      "source": [
        "df_contracts = pd.read_csv(\"../data/contracts_2021.csv\")\n",
        "df_contracts.head()\n",
        "df_contracts.isnull().sum()\n"
      ]
    },
    {
      "cell_type": "code",
      "execution_count": 6,
      "metadata": {
        "gather": {
          "logged": 1657475115789
        },
        "jupyter": {
          "outputs_hidden": false,
          "source_hidden": false
        },
        "nteract": {
          "transient": {
            "deleting": false
          }
        }
      },
      "outputs": [
        {
          "data": {
            "text/plain": [
              "ocid                                  0\n",
              "release_id                            0\n",
              "id                                    0\n",
              "awardID                               0\n",
              "status                                0\n",
              "contractPeriod_durationInDays    123761\n",
              "amount                           123757\n",
              "dateSigned                       123757\n",
              "dtype: int64"
            ]
          },
          "execution_count": 6,
          "metadata": {},
          "output_type": "execute_result"
        }
      ],
      "source": [
        "df_contracts.drop(columns=[\"title\", \"description\", \"contractPeriod_startDate\", \"contractPeriod_endDate\", \"contractPeriod_maxExtentDate\", \"currency\"], inplace=True)\n",
        "df_contracts.isnull().sum()"
      ]
    },
    {
      "cell_type": "code",
      "execution_count": 7,
      "metadata": {
        "gather": {
          "logged": 1657475119841
        }
      },
      "outputs": [
        {
          "data": {
            "text/plain": [
              "ocid                      0\n",
              "id                        0\n",
              "rationale                 1\n",
              "budget_id                 0\n",
              "budget_description    38202\n",
              "budget_amount         19740\n",
              "budget_currency       19740\n",
              "dtype: int64"
            ]
          },
          "execution_count": 7,
          "metadata": {},
          "output_type": "execute_result"
        }
      ],
      "source": [
        "df_planning = pd.read_csv(\"../data/planning_2021.csv\")\n",
        "df_planning.head()\n",
        "df_planning.isnull().sum()"
      ]
    },
    {
      "cell_type": "code",
      "execution_count": 8,
      "metadata": {
        "gather": {
          "logged": 1657475122573
        },
        "jupyter": {
          "outputs_hidden": false,
          "source_hidden": false
        },
        "nteract": {
          "transient": {
            "deleting": false
          }
        }
      },
      "outputs": [
        {
          "data": {
            "text/plain": [
              "ocid               0\n",
              "id                 0\n",
              "rationale          0\n",
              "budget_id          0\n",
              "budget_amount      0\n",
              "budget_currency    0\n",
              "dtype: int64"
            ]
          },
          "execution_count": 8,
          "metadata": {},
          "output_type": "execute_result"
        }
      ],
      "source": [
        "df_planning.drop(columns=[\"budget_description\"], inplace=True)\n",
        "df_planning.dropna(subset=[\"budget_amount\", \"budget_currency\"], how=\"all\", inplace=True)\n",
        "df_planning.isnull().sum()"
      ]
    },
    {
      "cell_type": "code",
      "execution_count": 9,
      "metadata": {
        "gather": {
          "logged": 1657475125859
        }
      },
      "outputs": [
        {
          "data": {
            "text/plain": [
              "ocid              0\n",
              "id                0\n",
              "initiationType    0\n",
              "buyer_id          0\n",
              "buyer_name        0\n",
              "language          0\n",
              "date              0\n",
              "tag               0\n",
              "dtype: int64"
            ]
          },
          "execution_count": 9,
          "metadata": {},
          "output_type": "execute_result"
        }
      ],
      "source": [
        "df_releases = pd.read_csv(\"../data/releases_2021.csv\")\n",
        "df_releases.head()\n",
        "df_releases.isnull().sum()"
      ]
    },
    {
      "cell_type": "code",
      "execution_count": 10,
      "metadata": {
        "gather": {
          "logged": 1657475129706
        }
      },
      "outputs": [
        {
          "data": {
            "text/plain": [
              "ocid           0\n",
              "release_id     0\n",
              "award_id       0\n",
              "id             0\n",
              "name          16\n",
              "dtype: int64"
            ]
          },
          "execution_count": 10,
          "metadata": {},
          "output_type": "execute_result"
        }
      ],
      "source": [
        "df_suppliers = pd.read_csv(\"../data/suppliers_2021.csv\")\n",
        "df_suppliers.head()\n",
        "df_suppliers.isnull().sum()"
      ]
    },
    {
      "cell_type": "code",
      "execution_count": 11,
      "metadata": {
        "gather": {
          "logged": 1657475138328
        },
        "jupyter": {
          "outputs_hidden": false,
          "source_hidden": false
        },
        "nteract": {
          "transient": {
            "deleting": false
          }
        }
      },
      "outputs": [
        {
          "data": {
            "text/plain": [
              "ocid          0\n",
              "release_id    0\n",
              "award_id      0\n",
              "id            0\n",
              "name          0\n",
              "dtype: int64"
            ]
          },
          "execution_count": 11,
          "metadata": {},
          "output_type": "execute_result"
        }
      ],
      "source": [
        "df_suppliers.dropna(inplace=True)\n",
        "df_suppliers.isnull().sum()"
      ]
    },
    {
      "cell_type": "code",
      "execution_count": 12,
      "metadata": {
        "gather": {
          "logged": 1657475143132
        }
      },
      "outputs": [
        {
          "name": "stderr",
          "output_type": "stream",
          "text": [
            "/anaconda/envs/azureml_py38/lib/python3.8/site-packages/IPython/core/interactiveshell.py:3134: DtypeWarning: Columns (12,13,14,15,16,18,19,20,22,23,24,25,26) have mixed types.Specify dtype option on import or set low_memory=False.\n",
            "  has_raised = await self.run_ast_nodes(code_ast.body, cell_name,\n"
          ]
        },
        {
          "data": {
            "text/plain": [
              "ocid                                 0\n",
              "release_id                           0\n",
              "id                                   0\n",
              "title                                0\n",
              "description                          1\n",
              "status                               0\n",
              "procuringEntity_id                  54\n",
              "procuringEntity_name                54\n",
              "value_amount                     19048\n",
              "value_currency                   19048\n",
              "procurementMethod                    0\n",
              "procurementMethodDetails             0\n",
              "mainProcurementCategory         123757\n",
              "awardCriteria                   123757\n",
              "tenderPeriod_startDate          123757\n",
              "tenderPeriod_endDate            145778\n",
              "tenderPeriod_maxExtentDate      145778\n",
              "tenderPeriod_durationInDays     146107\n",
              "enquiryPeriod_startDate         123757\n",
              "enquiryPeriod_endDate           129772\n",
              "enquiryPeriod_maxExtentDate     129772\n",
              "enquiryPeriod_durationInDays    130583\n",
              "hasEnquiries                    136645\n",
              "eligibilityCriteria             142805\n",
              "awardPeriod_startDate           141465\n",
              "awardPeriod_endDate             123757\n",
              "awardPeriod_maxExtentDate       123757\n",
              "awardPeriod_durationInDays      142361\n",
              "numberOfTenderers               124031\n",
              "dtype: int64"
            ]
          },
          "execution_count": 12,
          "metadata": {},
          "output_type": "execute_result"
        }
      ],
      "source": [
        "df_tender = pd.read_csv(\"../data/tender_2021.csv\")\n",
        "df_tender.head()\n",
        "df_tender.isnull().sum()"
      ]
    },
    {
      "cell_type": "code",
      "execution_count": 13,
      "metadata": {
        "gather": {
          "logged": 1657475159916
        },
        "jupyter": {
          "outputs_hidden": false,
          "source_hidden": false
        },
        "nteract": {
          "transient": {
            "deleting": false
          }
        }
      },
      "outputs": [
        {
          "data": {
            "text/plain": [
              "ocid                                 0\n",
              "release_id                           0\n",
              "id                                   0\n",
              "title                                0\n",
              "description                          1\n",
              "status                               0\n",
              "procuringEntity_id                  54\n",
              "procuringEntity_name                54\n",
              "value_amount                     19048\n",
              "value_currency                   19048\n",
              "procurementMethod                    0\n",
              "procurementMethodDetails             0\n",
              "numberOfTenderers               124031\n",
              "enquiryPeriod_durationInDays    130583\n",
              "tenderPeriod_durationInDays     146107\n",
              "dtype: int64"
            ]
          },
          "execution_count": 13,
          "metadata": {},
          "output_type": "execute_result"
        }
      ],
      "source": [
        "df_tender = df_tender[[\"ocid\", \"release_id\", \"id\", \"title\", \"description\", \"status\", \"procuringEntity_id\", \"procuringEntity_name\", \"value_amount\", \"value_currency\", \"procurementMethod\", \"procurementMethodDetails\", \"numberOfTenderers\", \"enquiryPeriod_durationInDays\", \"tenderPeriod_durationInDays\"]]\n",
        "df_tender.isnull().sum()"
      ]
    },
    {
      "cell_type": "code",
      "execution_count": 14,
      "metadata": {
        "gather": {
          "logged": 1657475166821
        }
      },
      "outputs": [],
      "source": [
        "def unir(df_general, df_unir, r_sufix):\n",
        "    return df_general.merge(df_unir, how=\"right\", left_on=\"ocid\", right_on=\"ocid\", suffixes=(\"\", r_sufix))"
      ]
    },
    {
      "cell_type": "code",
      "execution_count": 15,
      "metadata": {
        "gather": {
          "logged": 1657475300526
        }
      },
      "outputs": [
        {
          "data": {
            "text/html": [
              "<div>\n",
              "<style scoped>\n",
              "    .dataframe tbody tr th:only-of-type {\n",
              "        vertical-align: middle;\n",
              "    }\n",
              "\n",
              "    .dataframe tbody tr th {\n",
              "        vertical-align: top;\n",
              "    }\n",
              "\n",
              "    .dataframe thead th {\n",
              "        text-align: right;\n",
              "    }\n",
              "</style>\n",
              "<table border=\"1\" class=\"dataframe\">\n",
              "  <thead>\n",
              "    <tr style=\"text-align: right;\">\n",
              "      <th></th>\n",
              "      <th>ocid</th>\n",
              "      <th>id</th>\n",
              "      <th>initiationType</th>\n",
              "      <th>buyer_id</th>\n",
              "      <th>buyer_name</th>\n",
              "      <th>language</th>\n",
              "      <th>date</th>\n",
              "      <th>tag</th>\n",
              "      <th>release_id</th>\n",
              "      <th>id_tender</th>\n",
              "      <th>...</th>\n",
              "      <th>id_awards</th>\n",
              "      <th>status_awards</th>\n",
              "      <th>date_awards</th>\n",
              "      <th>amount_awards</th>\n",
              "      <th>currency</th>\n",
              "      <th>id_planning</th>\n",
              "      <th>rationale</th>\n",
              "      <th>budget_id</th>\n",
              "      <th>budget_amount</th>\n",
              "      <th>budget_currency</th>\n",
              "    </tr>\n",
              "  </thead>\n",
              "  <tbody>\n",
              "    <tr>\n",
              "      <th>0</th>\n",
              "      <td>ocds-5wno2w-MCBS-DNA-003-2021-178618</td>\n",
              "      <td>MCBS-DNA-003-2021-178618-2022-05-04T11:41:39.8...</td>\n",
              "      <td>tender</td>\n",
              "      <td>EC-RUC-1768040760001-178618</td>\n",
              "      <td>DIRECCION NACIONAL DE ANTINARCOTICOS</td>\n",
              "      <td>es</td>\n",
              "      <td>2022-05-04T06:51:47-05:00</td>\n",
              "      <td>[\"planning\",\"tender\",\"award\",\"contract\"]</td>\n",
              "      <td>MCBS-DNA-003-2021-178618-2022-05-04T11:41:39.8...</td>\n",
              "      <td>MCBS-DNA-003-2021-178618</td>\n",
              "      <td>...</td>\n",
              "      <td>4726509-MCBS-DNA-003-2021</td>\n",
              "      <td>NaN</td>\n",
              "      <td>NaN</td>\n",
              "      <td>24706.08</td>\n",
              "      <td>USD</td>\n",
              "      <td>MCBS-DNA-003-2021-178618-2022-05-04T11:41:39.8...</td>\n",
              "      <td>SERVICIO DE MANTENIMIENTO PREVENTIVO Y CORRECT...</td>\n",
              "      <td>2021.052.0003.0000.01.00.000.001.000.1701.5304...</td>\n",
              "      <td>24706.08</td>\n",
              "      <td>USD</td>\n",
              "    </tr>\n",
              "    <tr>\n",
              "      <th>1</th>\n",
              "      <td>ocds-5wno2w-MCO-GADPP-7-2021-2426</td>\n",
              "      <td>NaN</td>\n",
              "      <td>NaN</td>\n",
              "      <td>NaN</td>\n",
              "      <td>NaN</td>\n",
              "      <td>NaN</td>\n",
              "      <td>NaN</td>\n",
              "      <td>NaN</td>\n",
              "      <td>NaN</td>\n",
              "      <td>NaN</td>\n",
              "      <td>...</td>\n",
              "      <td>5159820-MCO-GADPP-7-2021</td>\n",
              "      <td>NaN</td>\n",
              "      <td>NaN</td>\n",
              "      <td>147135.85</td>\n",
              "      <td>USD</td>\n",
              "      <td>MCO-GADPP-7-2021-2426-2022-05-19T11:58:55.147Z...</td>\n",
              "      <td>Construcción de Bordillo - Cuneta, para el mej...</td>\n",
              "      <td>03.22.06.044.002.2021.750105.002.17.01.78.D51....</td>\n",
              "      <td>147135.85</td>\n",
              "      <td>USD</td>\n",
              "    </tr>\n",
              "    <tr>\n",
              "      <th>2</th>\n",
              "      <td>ocds-5wno2w-LCC-GADMQ-001-2021-2453</td>\n",
              "      <td>LCC-GADMQ-001-2021-2453-2022-05-05T11:49:59.83...</td>\n",
              "      <td>tender</td>\n",
              "      <td>EC-RUC-1260000650001-2453</td>\n",
              "      <td>GOBIERNO AUTONOMO DESCENTRALIZADO MUNICIPAL DE...</td>\n",
              "      <td>es</td>\n",
              "      <td>2022-05-05T06:56:50-05:00</td>\n",
              "      <td>[\"planning\",\"tender\",\"award\",\"contract\"]</td>\n",
              "      <td>LCC-GADMQ-001-2021-2453-2022-05-05T11:49:59.83...</td>\n",
              "      <td>LCC-GADMQ-001-2021-2453</td>\n",
              "      <td>...</td>\n",
              "      <td>5031904-LCC-GADMQ-001-2021</td>\n",
              "      <td>NaN</td>\n",
              "      <td>2021-09-15T18:28:23-05:00</td>\n",
              "      <td>258933.74</td>\n",
              "      <td>USD</td>\n",
              "      <td>LCC-GADMQ-001-2021-2453-2022-05-05T11:49:59.83...</td>\n",
              "      <td>FISCALIZACION DE LA CONSTRUCCION DEL PUENTE CA...</td>\n",
              "      <td>310750105A0000000000021</td>\n",
              "      <td>264218.10</td>\n",
              "      <td>USD</td>\n",
              "    </tr>\n",
              "    <tr>\n",
              "      <th>3</th>\n",
              "      <td>ocds-5wno2w-MCO-GADMCJS-029-2021-40430</td>\n",
              "      <td>NaN</td>\n",
              "      <td>NaN</td>\n",
              "      <td>NaN</td>\n",
              "      <td>NaN</td>\n",
              "      <td>NaN</td>\n",
              "      <td>NaN</td>\n",
              "      <td>NaN</td>\n",
              "      <td>NaN</td>\n",
              "      <td>NaN</td>\n",
              "      <td>...</td>\n",
              "      <td>5310384-MCO-GADMCJS-029-2021</td>\n",
              "      <td>NaN</td>\n",
              "      <td>NaN</td>\n",
              "      <td>73664.04</td>\n",
              "      <td>USD</td>\n",
              "      <td>MCO-GADMCJS-029-2021-40430-2022-05-05T11:53:55...</td>\n",
              "      <td>CONSTRUCCIÓN DE UNIDADES BÁSICAS SANITARIAS UN...</td>\n",
              "      <td>3.3.1.7.5.01.01.38</td>\n",
              "      <td>73664.04</td>\n",
              "      <td>USD</td>\n",
              "    </tr>\n",
              "    <tr>\n",
              "      <th>4</th>\n",
              "      <td>ocds-5wno2w-CDC-GADMP-2021-008-45119</td>\n",
              "      <td>CDC-GADMP-2021-008-45119-2022-05-07T11:59:26.4...</td>\n",
              "      <td>tender</td>\n",
              "      <td>EC-RUC-0560000460001-45119</td>\n",
              "      <td>Municipio del Canton Pangua</td>\n",
              "      <td>es</td>\n",
              "      <td>2022-05-07T07:11:03-05:00</td>\n",
              "      <td>[\"planning\",\"tender\",\"award\",\"contract\",\"imple...</td>\n",
              "      <td>CDC-GADMP-2021-008-45119-2022-05-07T11:59:26.4...</td>\n",
              "      <td>CDC-GADMP-2021-008-45119</td>\n",
              "      <td>...</td>\n",
              "      <td>5101416-CDC-GADMP-2021-008</td>\n",
              "      <td>NaN</td>\n",
              "      <td>2021-10-13T10:27:12-05:00</td>\n",
              "      <td>2694.00</td>\n",
              "      <td>USD</td>\n",
              "      <td>CDC-GADMP-2021-008-45119-2022-05-07T11:59:26.4...</td>\n",
              "      <td>CONSULTORÍA PARA EL DIAGNÓSTICO, EVALUACIÓN DE...</td>\n",
              "      <td>3.2.0.7.3.06.01.33</td>\n",
              "      <td>2700.00</td>\n",
              "      <td>USD</td>\n",
              "    </tr>\n",
              "    <tr>\n",
              "      <th>...</th>\n",
              "      <td>...</td>\n",
              "      <td>...</td>\n",
              "      <td>...</td>\n",
              "      <td>...</td>\n",
              "      <td>...</td>\n",
              "      <td>...</td>\n",
              "      <td>...</td>\n",
              "      <td>...</td>\n",
              "      <td>...</td>\n",
              "      <td>...</td>\n",
              "      <td>...</td>\n",
              "      <td>...</td>\n",
              "      <td>...</td>\n",
              "      <td>...</td>\n",
              "      <td>...</td>\n",
              "      <td>...</td>\n",
              "      <td>...</td>\n",
              "      <td>...</td>\n",
              "      <td>...</td>\n",
              "      <td>...</td>\n",
              "      <td>...</td>\n",
              "    </tr>\n",
              "    <tr>\n",
              "      <th>26808792</th>\n",
              "      <td>ocds-5wno2w-REOALC-GADMANTA01-21-2668</td>\n",
              "      <td>REOALC-GADMANTA01-21-2668-2022-04-30T12:21:31....</td>\n",
              "      <td>tender</td>\n",
              "      <td>EC-RUC-1360000980001-2668</td>\n",
              "      <td>GOBIERNO AUTONOMO DESCENTRALIZADO MUNICIPAL DE...</td>\n",
              "      <td>es</td>\n",
              "      <td>2022-04-30T07:28:18-05:00</td>\n",
              "      <td>[\"planning\",\"tender\",\"award\",\"contract\"]</td>\n",
              "      <td>REOALC-GADMANTA01-21-2668-2022-04-30T12:21:31....</td>\n",
              "      <td>REOALC-GADMANTA01-21-2668</td>\n",
              "      <td>...</td>\n",
              "      <td>5151471-REOALC-GADMANTA01-21</td>\n",
              "      <td>NaN</td>\n",
              "      <td>2021-10-28T16:50:25-05:00</td>\n",
              "      <td>268000.00</td>\n",
              "      <td>USD</td>\n",
              "      <td>REOALC-GADMANTA01-21-2668-2022-04-30T12:21:31....</td>\n",
              "      <td>CONTRATACIÓN DEL SERVICIO DE ORGANIZACIÓN, PRO...</td>\n",
              "      <td>530205</td>\n",
              "      <td>268000.00</td>\n",
              "      <td>USD</td>\n",
              "    </tr>\n",
              "    <tr>\n",
              "      <th>26808793</th>\n",
              "      <td>ocds-5wno2w-MCBS-DNA-005-2021-178618</td>\n",
              "      <td>MCBS-DNA-005-2021-178618-2022-05-04T11:43:12.1...</td>\n",
              "      <td>tender</td>\n",
              "      <td>EC-RUC-1768040760001-178618</td>\n",
              "      <td>DIRECCION NACIONAL DE ANTINARCOTICOS</td>\n",
              "      <td>es</td>\n",
              "      <td>2022-05-04T06:51:47-05:00</td>\n",
              "      <td>[\"planning\",\"tender\",\"award\",\"contract\"]</td>\n",
              "      <td>MCBS-DNA-005-2021-178618-2022-05-04T11:43:12.1...</td>\n",
              "      <td>MCBS-DNA-005-2021-178618</td>\n",
              "      <td>...</td>\n",
              "      <td>4862272-MCBS-DNA-005-2021</td>\n",
              "      <td>NaN</td>\n",
              "      <td>NaN</td>\n",
              "      <td>28823.77</td>\n",
              "      <td>USD</td>\n",
              "      <td>MCBS-DNA-005-2021-178618-2022-05-04T11:43:12.1...</td>\n",
              "      <td>SERVICIO DE MANTENIMIENTO PREVENTIVO Y CORRECT...</td>\n",
              "      <td>2021.052.0003.0000.01.00.000.001.000.1701.5304...</td>\n",
              "      <td>28823.77</td>\n",
              "      <td>USD</td>\n",
              "    </tr>\n",
              "    <tr>\n",
              "      <th>26808794</th>\n",
              "      <td>ocds-5wno2w-MCS-CCFFAA-002-ABR21-2539</td>\n",
              "      <td>MCS-CCFFAA-002-ABR21-2539-2022-05-04T11:36:54....</td>\n",
              "      <td>tender</td>\n",
              "      <td>EC-RUC-1768012630001-2539</td>\n",
              "      <td>COMANDO CONJUNTO</td>\n",
              "      <td>es</td>\n",
              "      <td>2022-05-04T06:51:48-05:00</td>\n",
              "      <td>[\"planning\",\"tender\",\"award\",\"contract\",\"imple...</td>\n",
              "      <td>MCS-CCFFAA-002-ABR21-2539-2022-05-04T11:36:54....</td>\n",
              "      <td>MCS-CCFFAA-002-ABR21-2539</td>\n",
              "      <td>...</td>\n",
              "      <td>4744578-MCS-CCFFAA-002-ABR21</td>\n",
              "      <td>NaN</td>\n",
              "      <td>NaN</td>\n",
              "      <td>7589.29</td>\n",
              "      <td>USD</td>\n",
              "      <td>MCS-CCFFAA-002-ABR21-2539-2022-05-04T11:36:54....</td>\n",
              "      <td>CONTRATACIÓN DE UNA AGENCIA DE VIAJES PARA LA ...</td>\n",
              "      <td>2021.070.4999.0000.01.00.000.001.000.1701.5303...</td>\n",
              "      <td>7589.29</td>\n",
              "      <td>USD</td>\n",
              "    </tr>\n",
              "    <tr>\n",
              "      <th>26808795</th>\n",
              "      <td>ocds-5wno2w-RE-GADMCN-17-21-LRG-67188</td>\n",
              "      <td>RE-GADMCN-17-21-LRG-67188-2022-05-04T11:48:52....</td>\n",
              "      <td>tender</td>\n",
              "      <td>EC-RUC-0968532700001-67188</td>\n",
              "      <td>GOBIERNO AUTONOMO DESCENTRALIZADO MUNICIPAL DE...</td>\n",
              "      <td>es</td>\n",
              "      <td>2022-05-04T06:51:48-05:00</td>\n",
              "      <td>[\"planning\",\"tender\",\"award\",\"contract\"]</td>\n",
              "      <td>RE-GADMCN-17-21-LRG-67188-2022-05-04T11:48:52....</td>\n",
              "      <td>RE-GADMCN-17-21-LRG-67188</td>\n",
              "      <td>...</td>\n",
              "      <td>5302403-RE-GADMCN-17-21-LRG</td>\n",
              "      <td>NaN</td>\n",
              "      <td>2022-01-24T17:04:47-05:00</td>\n",
              "      <td>30590.89</td>\n",
              "      <td>USD</td>\n",
              "      <td>RE-GADMCN-17-21-LRG-67188-2022-05-04T11:48:52....</td>\n",
              "      <td>PRESTACIÓN DE SERVICIOS DE INSPECCIÓN Y MANTEN...</td>\n",
              "      <td>730404.3613</td>\n",
              "      <td>30590.89</td>\n",
              "      <td>USD</td>\n",
              "    </tr>\n",
              "    <tr>\n",
              "      <th>26808796</th>\n",
              "      <td>ocds-5wno2w-RE-HGADPCH-039-2021-2583</td>\n",
              "      <td>RE-HGADPCH-039-2021-2583-2022-05-04T11:39:57.9...</td>\n",
              "      <td>tender</td>\n",
              "      <td>EC-RUC-0660000280001-2583</td>\n",
              "      <td>HONORABLE GOBIERNO AUTONOMO DESCENTRALIZADO DE...</td>\n",
              "      <td>es</td>\n",
              "      <td>2022-05-04T06:51:48-05:00</td>\n",
              "      <td>[\"planning\",\"tender\",\"award\",\"contract\",\"imple...</td>\n",
              "      <td>RE-HGADPCH-039-2021-2583-2022-05-04T11:39:57.9...</td>\n",
              "      <td>RE-HGADPCH-039-2021-2583</td>\n",
              "      <td>...</td>\n",
              "      <td>5099697-RE-HGADPCH-039-2021</td>\n",
              "      <td>NaN</td>\n",
              "      <td>2021-10-11T15:17:54-05:00</td>\n",
              "      <td>148474.03</td>\n",
              "      <td>USD</td>\n",
              "      <td>RE-HGADPCH-039-2021-2583-2022-05-04T11:39:57.9...</td>\n",
              "      <td>CONTRATACIÓN DEL SERVICIO DE DIFUSIÓN, ELABORA...</td>\n",
              "      <td>730207</td>\n",
              "      <td>148474.03</td>\n",
              "      <td>USD</td>\n",
              "    </tr>\n",
              "  </tbody>\n",
              "</table>\n",
              "<p>26808797 rows × 44 columns</p>\n",
              "</div>"
            ],
            "text/plain": [
              "                                            ocid  \\\n",
              "0           ocds-5wno2w-MCBS-DNA-003-2021-178618   \n",
              "1              ocds-5wno2w-MCO-GADPP-7-2021-2426   \n",
              "2            ocds-5wno2w-LCC-GADMQ-001-2021-2453   \n",
              "3         ocds-5wno2w-MCO-GADMCJS-029-2021-40430   \n",
              "4           ocds-5wno2w-CDC-GADMP-2021-008-45119   \n",
              "...                                          ...   \n",
              "26808792   ocds-5wno2w-REOALC-GADMANTA01-21-2668   \n",
              "26808793    ocds-5wno2w-MCBS-DNA-005-2021-178618   \n",
              "26808794   ocds-5wno2w-MCS-CCFFAA-002-ABR21-2539   \n",
              "26808795   ocds-5wno2w-RE-GADMCN-17-21-LRG-67188   \n",
              "26808796    ocds-5wno2w-RE-HGADPCH-039-2021-2583   \n",
              "\n",
              "                                                         id initiationType  \\\n",
              "0         MCBS-DNA-003-2021-178618-2022-05-04T11:41:39.8...         tender   \n",
              "1                                                       NaN            NaN   \n",
              "2         LCC-GADMQ-001-2021-2453-2022-05-05T11:49:59.83...         tender   \n",
              "3                                                       NaN            NaN   \n",
              "4         CDC-GADMP-2021-008-45119-2022-05-07T11:59:26.4...         tender   \n",
              "...                                                     ...            ...   \n",
              "26808792  REOALC-GADMANTA01-21-2668-2022-04-30T12:21:31....         tender   \n",
              "26808793  MCBS-DNA-005-2021-178618-2022-05-04T11:43:12.1...         tender   \n",
              "26808794  MCS-CCFFAA-002-ABR21-2539-2022-05-04T11:36:54....         tender   \n",
              "26808795  RE-GADMCN-17-21-LRG-67188-2022-05-04T11:48:52....         tender   \n",
              "26808796  RE-HGADPCH-039-2021-2583-2022-05-04T11:39:57.9...         tender   \n",
              "\n",
              "                             buyer_id  \\\n",
              "0         EC-RUC-1768040760001-178618   \n",
              "1                                 NaN   \n",
              "2           EC-RUC-1260000650001-2453   \n",
              "3                                 NaN   \n",
              "4          EC-RUC-0560000460001-45119   \n",
              "...                               ...   \n",
              "26808792    EC-RUC-1360000980001-2668   \n",
              "26808793  EC-RUC-1768040760001-178618   \n",
              "26808794    EC-RUC-1768012630001-2539   \n",
              "26808795   EC-RUC-0968532700001-67188   \n",
              "26808796    EC-RUC-0660000280001-2583   \n",
              "\n",
              "                                                 buyer_name language  \\\n",
              "0                      DIRECCION NACIONAL DE ANTINARCOTICOS       es   \n",
              "1                                                       NaN      NaN   \n",
              "2         GOBIERNO AUTONOMO DESCENTRALIZADO MUNICIPAL DE...       es   \n",
              "3                                                       NaN      NaN   \n",
              "4                               Municipio del Canton Pangua       es   \n",
              "...                                                     ...      ...   \n",
              "26808792  GOBIERNO AUTONOMO DESCENTRALIZADO MUNICIPAL DE...       es   \n",
              "26808793               DIRECCION NACIONAL DE ANTINARCOTICOS       es   \n",
              "26808794                                   COMANDO CONJUNTO       es   \n",
              "26808795  GOBIERNO AUTONOMO DESCENTRALIZADO MUNICIPAL DE...       es   \n",
              "26808796  HONORABLE GOBIERNO AUTONOMO DESCENTRALIZADO DE...       es   \n",
              "\n",
              "                               date  \\\n",
              "0         2022-05-04T06:51:47-05:00   \n",
              "1                               NaN   \n",
              "2         2022-05-05T06:56:50-05:00   \n",
              "3                               NaN   \n",
              "4         2022-05-07T07:11:03-05:00   \n",
              "...                             ...   \n",
              "26808792  2022-04-30T07:28:18-05:00   \n",
              "26808793  2022-05-04T06:51:47-05:00   \n",
              "26808794  2022-05-04T06:51:48-05:00   \n",
              "26808795  2022-05-04T06:51:48-05:00   \n",
              "26808796  2022-05-04T06:51:48-05:00   \n",
              "\n",
              "                                                        tag  \\\n",
              "0                  [\"planning\",\"tender\",\"award\",\"contract\"]   \n",
              "1                                                       NaN   \n",
              "2                  [\"planning\",\"tender\",\"award\",\"contract\"]   \n",
              "3                                                       NaN   \n",
              "4         [\"planning\",\"tender\",\"award\",\"contract\",\"imple...   \n",
              "...                                                     ...   \n",
              "26808792           [\"planning\",\"tender\",\"award\",\"contract\"]   \n",
              "26808793           [\"planning\",\"tender\",\"award\",\"contract\"]   \n",
              "26808794  [\"planning\",\"tender\",\"award\",\"contract\",\"imple...   \n",
              "26808795           [\"planning\",\"tender\",\"award\",\"contract\"]   \n",
              "26808796  [\"planning\",\"tender\",\"award\",\"contract\",\"imple...   \n",
              "\n",
              "                                                 release_id  \\\n",
              "0         MCBS-DNA-003-2021-178618-2022-05-04T11:41:39.8...   \n",
              "1                                                       NaN   \n",
              "2         LCC-GADMQ-001-2021-2453-2022-05-05T11:49:59.83...   \n",
              "3                                                       NaN   \n",
              "4         CDC-GADMP-2021-008-45119-2022-05-07T11:59:26.4...   \n",
              "...                                                     ...   \n",
              "26808792  REOALC-GADMANTA01-21-2668-2022-04-30T12:21:31....   \n",
              "26808793  MCBS-DNA-005-2021-178618-2022-05-04T11:43:12.1...   \n",
              "26808794  MCS-CCFFAA-002-ABR21-2539-2022-05-04T11:36:54....   \n",
              "26808795  RE-GADMCN-17-21-LRG-67188-2022-05-04T11:48:52....   \n",
              "26808796  RE-HGADPCH-039-2021-2583-2022-05-04T11:39:57.9...   \n",
              "\n",
              "                          id_tender  ...                     id_awards  \\\n",
              "0          MCBS-DNA-003-2021-178618  ...     4726509-MCBS-DNA-003-2021   \n",
              "1                               NaN  ...      5159820-MCO-GADPP-7-2021   \n",
              "2           LCC-GADMQ-001-2021-2453  ...    5031904-LCC-GADMQ-001-2021   \n",
              "3                               NaN  ...  5310384-MCO-GADMCJS-029-2021   \n",
              "4          CDC-GADMP-2021-008-45119  ...    5101416-CDC-GADMP-2021-008   \n",
              "...                             ...  ...                           ...   \n",
              "26808792  REOALC-GADMANTA01-21-2668  ...  5151471-REOALC-GADMANTA01-21   \n",
              "26808793   MCBS-DNA-005-2021-178618  ...     4862272-MCBS-DNA-005-2021   \n",
              "26808794  MCS-CCFFAA-002-ABR21-2539  ...  4744578-MCS-CCFFAA-002-ABR21   \n",
              "26808795  RE-GADMCN-17-21-LRG-67188  ...   5302403-RE-GADMCN-17-21-LRG   \n",
              "26808796   RE-HGADPCH-039-2021-2583  ...   5099697-RE-HGADPCH-039-2021   \n",
              "\n",
              "         status_awards                date_awards amount_awards currency  \\\n",
              "0                  NaN                        NaN      24706.08      USD   \n",
              "1                  NaN                        NaN     147135.85      USD   \n",
              "2                  NaN  2021-09-15T18:28:23-05:00     258933.74      USD   \n",
              "3                  NaN                        NaN      73664.04      USD   \n",
              "4                  NaN  2021-10-13T10:27:12-05:00       2694.00      USD   \n",
              "...                ...                        ...           ...      ...   \n",
              "26808792           NaN  2021-10-28T16:50:25-05:00     268000.00      USD   \n",
              "26808793           NaN                        NaN      28823.77      USD   \n",
              "26808794           NaN                        NaN       7589.29      USD   \n",
              "26808795           NaN  2022-01-24T17:04:47-05:00      30590.89      USD   \n",
              "26808796           NaN  2021-10-11T15:17:54-05:00     148474.03      USD   \n",
              "\n",
              "                                                id_planning  \\\n",
              "0         MCBS-DNA-003-2021-178618-2022-05-04T11:41:39.8...   \n",
              "1         MCO-GADPP-7-2021-2426-2022-05-19T11:58:55.147Z...   \n",
              "2         LCC-GADMQ-001-2021-2453-2022-05-05T11:49:59.83...   \n",
              "3         MCO-GADMCJS-029-2021-40430-2022-05-05T11:53:55...   \n",
              "4         CDC-GADMP-2021-008-45119-2022-05-07T11:59:26.4...   \n",
              "...                                                     ...   \n",
              "26808792  REOALC-GADMANTA01-21-2668-2022-04-30T12:21:31....   \n",
              "26808793  MCBS-DNA-005-2021-178618-2022-05-04T11:43:12.1...   \n",
              "26808794  MCS-CCFFAA-002-ABR21-2539-2022-05-04T11:36:54....   \n",
              "26808795  RE-GADMCN-17-21-LRG-67188-2022-05-04T11:48:52....   \n",
              "26808796  RE-HGADPCH-039-2021-2583-2022-05-04T11:39:57.9...   \n",
              "\n",
              "                                                  rationale  \\\n",
              "0         SERVICIO DE MANTENIMIENTO PREVENTIVO Y CORRECT...   \n",
              "1         Construcción de Bordillo - Cuneta, para el mej...   \n",
              "2         FISCALIZACION DE LA CONSTRUCCION DEL PUENTE CA...   \n",
              "3         CONSTRUCCIÓN DE UNIDADES BÁSICAS SANITARIAS UN...   \n",
              "4         CONSULTORÍA PARA EL DIAGNÓSTICO, EVALUACIÓN DE...   \n",
              "...                                                     ...   \n",
              "26808792  CONTRATACIÓN DEL SERVICIO DE ORGANIZACIÓN, PRO...   \n",
              "26808793  SERVICIO DE MANTENIMIENTO PREVENTIVO Y CORRECT...   \n",
              "26808794  CONTRATACIÓN DE UNA AGENCIA DE VIAJES PARA LA ...   \n",
              "26808795  PRESTACIÓN DE SERVICIOS DE INSPECCIÓN Y MANTEN...   \n",
              "26808796  CONTRATACIÓN DEL SERVICIO DE DIFUSIÓN, ELABORA...   \n",
              "\n",
              "                                                  budget_id budget_amount  \\\n",
              "0         2021.052.0003.0000.01.00.000.001.000.1701.5304...      24706.08   \n",
              "1         03.22.06.044.002.2021.750105.002.17.01.78.D51....     147135.85   \n",
              "2                                   310750105A0000000000021     264218.10   \n",
              "3                                        3.3.1.7.5.01.01.38      73664.04   \n",
              "4                                        3.2.0.7.3.06.01.33       2700.00   \n",
              "...                                                     ...           ...   \n",
              "26808792                                             530205     268000.00   \n",
              "26808793  2021.052.0003.0000.01.00.000.001.000.1701.5304...      28823.77   \n",
              "26808794  2021.070.4999.0000.01.00.000.001.000.1701.5303...       7589.29   \n",
              "26808795                                        730404.3613      30590.89   \n",
              "26808796                                             730207     148474.03   \n",
              "\n",
              "          budget_currency  \n",
              "0                     USD  \n",
              "1                     USD  \n",
              "2                     USD  \n",
              "3                     USD  \n",
              "4                     USD  \n",
              "...                   ...  \n",
              "26808792              USD  \n",
              "26808793              USD  \n",
              "26808794              USD  \n",
              "26808795              USD  \n",
              "26808796              USD  \n",
              "\n",
              "[26808797 rows x 44 columns]"
            ]
          },
          "execution_count": 15,
          "metadata": {},
          "output_type": "execute_result"
        }
      ],
      "source": [
        "df = unir(df_releases, df_tender, \"_tender\")\n",
        "df = unir(df, df_suppliers, \"_supplier\")\n",
        "df = unir(df, df_contracts, \"_contracts\")\n",
        "df = unir(df, df_awards, \"_awards\")\n",
        "df = unir(df, df_planning, \"_planning\")\n",
        "df"
      ]
    },
    {
      "cell_type": "code",
      "execution_count": 16,
      "metadata": {
        "gather": {
          "logged": 1657475647481
        },
        "jupyter": {
          "outputs_hidden": false,
          "source_hidden": false
        },
        "nteract": {
          "transient": {
            "deleting": false
          }
        }
      },
      "outputs": [],
      "source": [
        "df.drop(columns=[\"release_id\", \"release_id_awards\", \"release_id_supplier\", \"release_id_contracts\", \"release_id_awards\", \"id_planning\", \"budget_currency\", \"id_planning\", \"awardID\", \"award_id\", \"id_tender\", \"rationale\", \"buyer_id\", \"buyer_name\"], inplace=True)"
      ]
    },
    {
      "cell_type": "code",
      "execution_count": 17,
      "metadata": {
        "gather": {
          "logged": 1657475683579
        },
        "jupyter": {
          "outputs_hidden": false,
          "source_hidden": false
        },
        "nteract": {
          "transient": {
            "deleting": false
          }
        }
      },
      "outputs": [
        {
          "data": {
            "text/plain": [
              "ocid                                    0\n",
              "id                                   9226\n",
              "initiationType                       9226\n",
              "language                             9226\n",
              "date                                 9226\n",
              "tag                                  9226\n",
              "title                                9226\n",
              "description                          9226\n",
              "status                               9226\n",
              "procuringEntity_id                   9226\n",
              "procuringEntity_name                 9226\n",
              "value_amount                         9226\n",
              "value_currency                       9226\n",
              "procurementMethod                    9226\n",
              "procurementMethodDetails             9226\n",
              "numberOfTenderers                    9226\n",
              "enquiryPeriod_durationInDays        30866\n",
              "tenderPeriod_durationInDays         11805\n",
              "id_supplier                          9226\n",
              "name                                 9226\n",
              "id_contracts                         9226\n",
              "status_contracts                     9226\n",
              "contractPeriod_durationInDays        9229\n",
              "amount                               9226\n",
              "dateSigned                           9226\n",
              "id_awards                            1014\n",
              "status_awards                    26808797\n",
              "date_awards                       7374266\n",
              "amount_awards                        1014\n",
              "currency                             1014\n",
              "budget_id                               0\n",
              "budget_amount                           0\n",
              "dtype: int64"
            ]
          },
          "execution_count": 17,
          "metadata": {},
          "output_type": "execute_result"
        }
      ],
      "source": [
        "df.isnull().sum()"
      ]
    },
    {
      "cell_type": "code",
      "execution_count": 18,
      "metadata": {
        "gather": {
          "logged": 1657475789101
        }
      },
      "outputs": [
        {
          "data": {
            "text/plain": [
              "26644140"
            ]
          },
          "execution_count": 18,
          "metadata": {},
          "output_type": "execute_result"
        }
      ],
      "source": [
        "df.duplicated().sum()"
      ]
    },
    {
      "cell_type": "code",
      "execution_count": 19,
      "metadata": {
        "gather": {
          "logged": 1657475808345
        }
      },
      "outputs": [
        {
          "data": {
            "text/plain": [
              "ocid                              object\n",
              "id                                object\n",
              "initiationType                    object\n",
              "language                          object\n",
              "date                              object\n",
              "tag                               object\n",
              "title                             object\n",
              "description                       object\n",
              "status                            object\n",
              "procuringEntity_id                object\n",
              "procuringEntity_name              object\n",
              "value_amount                     float64\n",
              "value_currency                    object\n",
              "procurementMethod                 object\n",
              "procurementMethodDetails          object\n",
              "numberOfTenderers                float64\n",
              "enquiryPeriod_durationInDays     float64\n",
              "tenderPeriod_durationInDays      float64\n",
              "id_supplier                       object\n",
              "name                              object\n",
              "id_contracts                      object\n",
              "status_contracts                  object\n",
              "contractPeriod_durationInDays    float64\n",
              "amount                           float64\n",
              "dateSigned                        object\n",
              "id_awards                         object\n",
              "status_awards                     object\n",
              "date_awards                       object\n",
              "amount_awards                    float64\n",
              "currency                          object\n",
              "budget_id                         object\n",
              "budget_amount                    float64\n",
              "dtype: object"
            ]
          },
          "execution_count": 19,
          "metadata": {},
          "output_type": "execute_result"
        }
      ],
      "source": [
        "df.dtypes"
      ]
    },
    {
      "cell_type": "code",
      "execution_count": 20,
      "metadata": {
        "gather": {
          "logged": 1657475817902
        }
      },
      "outputs": [
        {
          "data": {
            "text/plain": [
              "USD    26799571\n",
              "Name: value_currency, dtype: int64"
            ]
          },
          "execution_count": 20,
          "metadata": {},
          "output_type": "execute_result"
        }
      ],
      "source": [
        "df[\"value_currency\"].value_counts()"
      ]
    },
    {
      "cell_type": "code",
      "execution_count": 22,
      "metadata": {
        "gather": {
          "logged": 1657412506429
        }
      },
      "outputs": [],
      "source": [
        "df[\"value_currency\"].fillna(\"USD\",inplace= True)"
      ]
    },
    {
      "cell_type": "code",
      "execution_count": 24,
      "metadata": {
        "gather": {
          "logged": 1657412527463
        }
      },
      "outputs": [
        {
          "data": {
            "text/plain": [
              "ocid                               0\n",
              "id                              9226\n",
              "initiationType                  9226\n",
              "language                        9226\n",
              "date                            9226\n",
              "tag                             9226\n",
              "title                           9226\n",
              "description                     9226\n",
              "status                          9226\n",
              "procuringEntity_id              9226\n",
              "procuringEntity_name            9226\n",
              "value_amount                       0\n",
              "value_currency                     0\n",
              "procurementMethod               9226\n",
              "procurementMethodDetails        9226\n",
              "id_supplier                     9226\n",
              "name                            9226\n",
              "id_contracts                    9226\n",
              "status_contracts                9226\n",
              "id_awards                       1014\n",
              "status_awards               26808797\n",
              "amount                          1014\n",
              "currency                        1014\n",
              "budget_id                          0\n",
              "dtype: int64"
            ]
          },
          "execution_count": 24,
          "metadata": {},
          "output_type": "execute_result"
        }
      ],
      "source": [
        "df.isnull().sum()"
      ]
    },
    {
      "cell_type": "code",
      "execution_count": 21,
      "metadata": {
        "gather": {
          "logged": 1657475889730
        }
      },
      "outputs": [],
      "source": [
        "df.drop(columns=[\"status_awards\"], inplace=True)\n",
        "df.dropna(inplace=True)"
      ]
    },
    {
      "cell_type": "code",
      "execution_count": 22,
      "metadata": {
        "gather": {
          "logged": 1657475968119
        }
      },
      "outputs": [
        {
          "data": {
            "text/plain": [
              "ocid                             0\n",
              "id                               0\n",
              "initiationType                   0\n",
              "language                         0\n",
              "date                             0\n",
              "tag                              0\n",
              "title                            0\n",
              "description                      0\n",
              "status                           0\n",
              "procuringEntity_id               0\n",
              "procuringEntity_name             0\n",
              "value_amount                     0\n",
              "value_currency                   0\n",
              "procurementMethod                0\n",
              "procurementMethodDetails         0\n",
              "numberOfTenderers                0\n",
              "enquiryPeriod_durationInDays     0\n",
              "tenderPeriod_durationInDays      0\n",
              "id_supplier                      0\n",
              "name                             0\n",
              "id_contracts                     0\n",
              "status_contracts                 0\n",
              "contractPeriod_durationInDays    0\n",
              "amount                           0\n",
              "dateSigned                       0\n",
              "id_awards                        0\n",
              "date_awards                      0\n",
              "amount_awards                    0\n",
              "currency                         0\n",
              "budget_id                        0\n",
              "budget_amount                    0\n",
              "dtype: int64"
            ]
          },
          "execution_count": 22,
          "metadata": {},
          "output_type": "execute_result"
        }
      ],
      "source": [
        "df.isnull().sum()"
      ]
    },
    {
      "cell_type": "code",
      "execution_count": 23,
      "metadata": {
        "gather": {
          "logged": 1657476035672
        },
        "jupyter": {
          "outputs_hidden": false,
          "source_hidden": false
        },
        "nteract": {
          "transient": {
            "deleting": false
          }
        }
      },
      "outputs": [],
      "source": [
        "df.drop_duplicates(inplace=True)"
      ]
    },
    {
      "cell_type": "code",
      "execution_count": 24,
      "metadata": {
        "gather": {
          "logged": 1657476039615
        },
        "jupyter": {
          "outputs_hidden": false,
          "source_hidden": false
        },
        "nteract": {
          "transient": {
            "deleting": false
          }
        }
      },
      "outputs": [
        {
          "data": {
            "text/plain": [
              "(77949, 31)"
            ]
          },
          "execution_count": 24,
          "metadata": {},
          "output_type": "execute_result"
        }
      ],
      "source": [
        "df.shape"
      ]
    },
    {
      "cell_type": "code",
      "execution_count": 28,
      "metadata": {
        "gather": {
          "logged": 1657476139187
        },
        "jupyter": {
          "outputs_hidden": false,
          "source_hidden": false
        },
        "nteract": {
          "transient": {
            "deleting": false
          }
        }
      },
      "outputs": [],
      "source": [
        "df['ruc']=df['procuringEntity_id'].str.split('-').str[2]"
      ]
    },
    {
      "cell_type": "code",
      "execution_count": 29,
      "metadata": {
        "gather": {
          "logged": 1657476142540
        },
        "jupyter": {
          "outputs_hidden": false,
          "source_hidden": false
        },
        "nteract": {
          "transient": {
            "deleting": false
          }
        }
      },
      "outputs": [
        {
          "data": {
            "text/html": [
              "<div>\n",
              "<style scoped>\n",
              "    .dataframe tbody tr th:only-of-type {\n",
              "        vertical-align: middle;\n",
              "    }\n",
              "\n",
              "    .dataframe tbody tr th {\n",
              "        vertical-align: top;\n",
              "    }\n",
              "\n",
              "    .dataframe thead th {\n",
              "        text-align: right;\n",
              "    }\n",
              "</style>\n",
              "<table border=\"1\" class=\"dataframe\">\n",
              "  <thead>\n",
              "    <tr style=\"text-align: right;\">\n",
              "      <th></th>\n",
              "      <th>Codigo</th>\n",
              "      <th>Provincia</th>\n",
              "    </tr>\n",
              "  </thead>\n",
              "  <tbody>\n",
              "    <tr>\n",
              "      <th>0</th>\n",
              "      <td>1</td>\n",
              "      <td>Azuay</td>\n",
              "    </tr>\n",
              "    <tr>\n",
              "      <th>1</th>\n",
              "      <td>2</td>\n",
              "      <td>Bolivar</td>\n",
              "    </tr>\n",
              "    <tr>\n",
              "      <th>2</th>\n",
              "      <td>3</td>\n",
              "      <td>Cañar</td>\n",
              "    </tr>\n",
              "    <tr>\n",
              "      <th>3</th>\n",
              "      <td>4</td>\n",
              "      <td>Carchi</td>\n",
              "    </tr>\n",
              "    <tr>\n",
              "      <th>4</th>\n",
              "      <td>5</td>\n",
              "      <td>Cotopaxi</td>\n",
              "    </tr>\n",
              "    <tr>\n",
              "      <th>5</th>\n",
              "      <td>6</td>\n",
              "      <td>Chimborazo</td>\n",
              "    </tr>\n",
              "    <tr>\n",
              "      <th>6</th>\n",
              "      <td>7</td>\n",
              "      <td>El Oro</td>\n",
              "    </tr>\n",
              "    <tr>\n",
              "      <th>7</th>\n",
              "      <td>8</td>\n",
              "      <td>Esmeraldas</td>\n",
              "    </tr>\n",
              "    <tr>\n",
              "      <th>8</th>\n",
              "      <td>9</td>\n",
              "      <td>Guayas</td>\n",
              "    </tr>\n",
              "    <tr>\n",
              "      <th>9</th>\n",
              "      <td>10</td>\n",
              "      <td>Imbabura</td>\n",
              "    </tr>\n",
              "    <tr>\n",
              "      <th>10</th>\n",
              "      <td>11</td>\n",
              "      <td>Loja</td>\n",
              "    </tr>\n",
              "    <tr>\n",
              "      <th>11</th>\n",
              "      <td>12</td>\n",
              "      <td>Los Rios</td>\n",
              "    </tr>\n",
              "    <tr>\n",
              "      <th>12</th>\n",
              "      <td>13</td>\n",
              "      <td>Manabi</td>\n",
              "    </tr>\n",
              "    <tr>\n",
              "      <th>13</th>\n",
              "      <td>14</td>\n",
              "      <td>Morona Santiago</td>\n",
              "    </tr>\n",
              "    <tr>\n",
              "      <th>14</th>\n",
              "      <td>15</td>\n",
              "      <td>Napo</td>\n",
              "    </tr>\n",
              "    <tr>\n",
              "      <th>15</th>\n",
              "      <td>16</td>\n",
              "      <td>Pastaza</td>\n",
              "    </tr>\n",
              "    <tr>\n",
              "      <th>16</th>\n",
              "      <td>17</td>\n",
              "      <td>Pichincha</td>\n",
              "    </tr>\n",
              "    <tr>\n",
              "      <th>17</th>\n",
              "      <td>18</td>\n",
              "      <td>Tungurahua</td>\n",
              "    </tr>\n",
              "    <tr>\n",
              "      <th>18</th>\n",
              "      <td>19</td>\n",
              "      <td>Zamora Chinchipe</td>\n",
              "    </tr>\n",
              "    <tr>\n",
              "      <th>19</th>\n",
              "      <td>20</td>\n",
              "      <td>Galapagos</td>\n",
              "    </tr>\n",
              "    <tr>\n",
              "      <th>20</th>\n",
              "      <td>21</td>\n",
              "      <td>Sucumbios</td>\n",
              "    </tr>\n",
              "    <tr>\n",
              "      <th>21</th>\n",
              "      <td>22</td>\n",
              "      <td>Orellana</td>\n",
              "    </tr>\n",
              "    <tr>\n",
              "      <th>22</th>\n",
              "      <td>23</td>\n",
              "      <td>Santo Domingo de los Tsachilas</td>\n",
              "    </tr>\n",
              "    <tr>\n",
              "      <th>23</th>\n",
              "      <td>24</td>\n",
              "      <td>Santa Elena</td>\n",
              "    </tr>\n",
              "  </tbody>\n",
              "</table>\n",
              "</div>"
            ],
            "text/plain": [
              "    Codigo                       Provincia\n",
              "0        1                           Azuay\n",
              "1        2                         Bolivar\n",
              "2        3                           Cañar\n",
              "3        4                          Carchi\n",
              "4        5                        Cotopaxi\n",
              "5        6                      Chimborazo\n",
              "6        7                          El Oro\n",
              "7        8                      Esmeraldas\n",
              "8        9                          Guayas\n",
              "9       10                        Imbabura\n",
              "10      11                            Loja\n",
              "11      12                        Los Rios\n",
              "12      13                          Manabi\n",
              "13      14                 Morona Santiago\n",
              "14      15                            Napo\n",
              "15      16                         Pastaza\n",
              "16      17                       Pichincha\n",
              "17      18                      Tungurahua\n",
              "18      19                Zamora Chinchipe\n",
              "19      20                       Galapagos\n",
              "20      21                       Sucumbios\n",
              "21      22                        Orellana\n",
              "22      23  Santo Domingo de los Tsachilas\n",
              "23      24                     Santa Elena"
            ]
          },
          "execution_count": 29,
          "metadata": {},
          "output_type": "execute_result"
        }
      ],
      "source": [
        "provincias = pd.read_csv(\"../data/provinciasRUC.csv\")\n",
        "provincias"
      ]
    },
    {
      "cell_type": "code",
      "execution_count": 33,
      "metadata": {
        "gather": {
          "logged": 1657476478828
        },
        "jupyter": {
          "outputs_hidden": false,
          "source_hidden": false
        },
        "nteract": {
          "transient": {
            "deleting": false
          }
        }
      },
      "outputs": [
        {
          "data": {
            "text/html": [
              "<div>\n",
              "<style scoped>\n",
              "    .dataframe tbody tr th:only-of-type {\n",
              "        vertical-align: middle;\n",
              "    }\n",
              "\n",
              "    .dataframe tbody tr th {\n",
              "        vertical-align: top;\n",
              "    }\n",
              "\n",
              "    .dataframe thead th {\n",
              "        text-align: right;\n",
              "    }\n",
              "</style>\n",
              "<table border=\"1\" class=\"dataframe\">\n",
              "  <thead>\n",
              "    <tr style=\"text-align: right;\">\n",
              "      <th></th>\n",
              "      <th>ocid</th>\n",
              "      <th>id</th>\n",
              "      <th>initiationType</th>\n",
              "      <th>language</th>\n",
              "      <th>date</th>\n",
              "      <th>tag</th>\n",
              "      <th>title</th>\n",
              "      <th>description</th>\n",
              "      <th>status</th>\n",
              "      <th>procuringEntity_id</th>\n",
              "      <th>...</th>\n",
              "      <th>id_awards</th>\n",
              "      <th>date_awards</th>\n",
              "      <th>amount_awards</th>\n",
              "      <th>currency</th>\n",
              "      <th>budget_id</th>\n",
              "      <th>budget_amount</th>\n",
              "      <th>ruc</th>\n",
              "      <th>codigoProvincia</th>\n",
              "      <th>Codigo</th>\n",
              "      <th>Provincia</th>\n",
              "    </tr>\n",
              "  </thead>\n",
              "  <tbody>\n",
              "    <tr>\n",
              "      <th>0</th>\n",
              "      <td>ocds-5wno2w-LICS-UNEMI-013-2021-43664</td>\n",
              "      <td>LICS-UNEMI-013-2021-43664-2022-05-11T11:32:30....</td>\n",
              "      <td>tender</td>\n",
              "      <td>es</td>\n",
              "      <td>2022-05-11T06:48:06-05:00</td>\n",
              "      <td>[\"planning\",\"tender\",\"award\",\"contract\",\"imple...</td>\n",
              "      <td>LICS-UNEMI-013-2021-43664</td>\n",
              "      <td>CONTRATACION DE POLIZAS DE SEGUROMULTIRIESGO: ...</td>\n",
              "      <td>complete</td>\n",
              "      <td>EC-RUC-0968533430001-43664</td>\n",
              "      <td>...</td>\n",
              "      <td>4720310-LICS-UNEMI-013-2021</td>\n",
              "      <td>2021-04-23T10:25:08-05:00</td>\n",
              "      <td>59510.25</td>\n",
              "      <td>USD</td>\n",
              "      <td>2021.181.0000.0000.82.00.000.002.000.0910.5303...</td>\n",
              "      <td>70005.18</td>\n",
              "      <td>0968533430001</td>\n",
              "      <td>9</td>\n",
              "      <td>9</td>\n",
              "      <td>Guayas</td>\n",
              "    </tr>\n",
              "    <tr>\n",
              "      <th>1</th>\n",
              "      <td>ocds-5wno2w-LIC-EPFLP-01-2021-404551</td>\n",
              "      <td>LIC-EPFLP-01-2021-404551-2022-05-14T12:25:47.8...</td>\n",
              "      <td>tender</td>\n",
              "      <td>es</td>\n",
              "      <td>2022-05-14T07:33:35-05:00</td>\n",
              "      <td>[\"planning\",\"tender\",\"award\",\"contract\"]</td>\n",
              "      <td>LIC-EPFLP-01-2021-404551</td>\n",
              "      <td>CONTRATACIÓN DE LA PÓLIZA DE SEGUROS MARÍTIMOS...</td>\n",
              "      <td>complete</td>\n",
              "      <td>EC-RUC-1768164300001-404551</td>\n",
              "      <td>...</td>\n",
              "      <td>4980937-LIC-EPFLP-01-2021</td>\n",
              "      <td>2021-08-30T08:43:16-05:00</td>\n",
              "      <td>749885.00</td>\n",
              "      <td>USD</td>\n",
              "      <td>5.1.2.02.01</td>\n",
              "      <td>910648.25</td>\n",
              "      <td>1768164300001</td>\n",
              "      <td>17</td>\n",
              "      <td>17</td>\n",
              "      <td>Pichincha</td>\n",
              "    </tr>\n",
              "    <tr>\n",
              "      <th>2</th>\n",
              "      <td>ocds-5wno2w-LICS-DD07D03-01-2021-9272</td>\n",
              "      <td>LICS-DD07D03-01-2021-9272-2022-05-21T12:25:37....</td>\n",
              "      <td>tender</td>\n",
              "      <td>es</td>\n",
              "      <td>2022-05-21T07:41:35-05:00</td>\n",
              "      <td>[\"planning\",\"tender\",\"award\",\"contract\",\"imple...</td>\n",
              "      <td>LICS-DD07D03-01-2021-9272</td>\n",
              "      <td>?CONTRATACIÓN DE PÓLIZA DE SEGUROS EN DIFERENT...</td>\n",
              "      <td>complete</td>\n",
              "      <td>EC-RUC-0760004920001-9272</td>\n",
              "      <td>...</td>\n",
              "      <td>4702468-LICS-DD07D03-01-2021</td>\n",
              "      <td>2021-04-01T09:49:32-05:00</td>\n",
              "      <td>18602.54</td>\n",
              "      <td>USD</td>\n",
              "      <td>2021.320.1140.0000.90.00.000.001.000.0713.5302...</td>\n",
              "      <td>30003.80</td>\n",
              "      <td>0760004920001</td>\n",
              "      <td>7</td>\n",
              "      <td>7</td>\n",
              "      <td>El Oro</td>\n",
              "    </tr>\n",
              "    <tr>\n",
              "      <th>3</th>\n",
              "      <td>ocds-5wno2w-R2COTBSGSXXI-17-2020-71669</td>\n",
              "      <td>R2COTBSGSXXI-17-2020-71669-2022-05-21T12:34:46...</td>\n",
              "      <td>tender</td>\n",
              "      <td>es</td>\n",
              "      <td>2022-05-21T07:41:36-05:00</td>\n",
              "      <td>[\"planning\",\"tender\",\"award\",\"contract\"]</td>\n",
              "      <td>R2COTBSGSXXI-17-2020-71669</td>\n",
              "      <td>Mantenimiento y Reparación De Obras De Regener...</td>\n",
              "      <td>active</td>\n",
              "      <td>EC-RUC-0992183721001-71669</td>\n",
              "      <td>...</td>\n",
              "      <td>5035763-R2COTBSGSXXI-17-2020</td>\n",
              "      <td>2021-12-03T16:19:46-05:00</td>\n",
              "      <td>361662.55</td>\n",
              "      <td>USD</td>\n",
              "      <td>7.5.05.99</td>\n",
              "      <td>361662.55</td>\n",
              "      <td>0992183721001</td>\n",
              "      <td>9</td>\n",
              "      <td>9</td>\n",
              "      <td>Guayas</td>\n",
              "    </tr>\n",
              "    <tr>\n",
              "      <th>4</th>\n",
              "      <td>ocds-5wno2w-LICS-CBSE-001-2021-222424</td>\n",
              "      <td>LICS-CBSE-001-2021-222424-2022-06-15T12:16:30....</td>\n",
              "      <td>tender</td>\n",
              "      <td>es</td>\n",
              "      <td>2022-06-15T07:32:33-05:00</td>\n",
              "      <td>[\"planning\",\"tender\",\"award\",\"contract\",\"imple...</td>\n",
              "      <td>LICS-CBSE-001-2021-222424</td>\n",
              "      <td>CONTRATACIÓN DE SERVICIO DE SEGUROS DE: VEHÍCU...</td>\n",
              "      <td>complete</td>\n",
              "      <td>EC-RUC-0968563340001-222424</td>\n",
              "      <td>...</td>\n",
              "      <td>4680551-LICS-CBSE-001-2021</td>\n",
              "      <td>2021-03-12T16:34:58-05:00</td>\n",
              "      <td>7136.16</td>\n",
              "      <td>USD</td>\n",
              "      <td>570201</td>\n",
              "      <td>43008.29</td>\n",
              "      <td>0968563340001</td>\n",
              "      <td>9</td>\n",
              "      <td>9</td>\n",
              "      <td>Guayas</td>\n",
              "    </tr>\n",
              "    <tr>\n",
              "      <th>...</th>\n",
              "      <td>...</td>\n",
              "      <td>...</td>\n",
              "      <td>...</td>\n",
              "      <td>...</td>\n",
              "      <td>...</td>\n",
              "      <td>...</td>\n",
              "      <td>...</td>\n",
              "      <td>...</td>\n",
              "      <td>...</td>\n",
              "      <td>...</td>\n",
              "      <td>...</td>\n",
              "      <td>...</td>\n",
              "      <td>...</td>\n",
              "      <td>...</td>\n",
              "      <td>...</td>\n",
              "      <td>...</td>\n",
              "      <td>...</td>\n",
              "      <td>...</td>\n",
              "      <td>...</td>\n",
              "      <td>...</td>\n",
              "      <td>...</td>\n",
              "    </tr>\n",
              "    <tr>\n",
              "      <th>77944</th>\n",
              "      <td>ocds-5wno2w-LICS-GADMSCP-01-2021-59276</td>\n",
              "      <td>LICS-GADMSCP-01-2021-59276-2022-04-05T11:01:20...</td>\n",
              "      <td>tender</td>\n",
              "      <td>es</td>\n",
              "      <td>2022-04-05T06:07:08-05:00</td>\n",
              "      <td>[\"planning\",\"tender\",\"award\",\"contract\"]</td>\n",
              "      <td>LICS-GADMSCP-01-2021-59276</td>\n",
              "      <td>CONTRATACIÓN DE PÓLIZAS DE SEGUROS PARA LOS RA...</td>\n",
              "      <td>complete</td>\n",
              "      <td>EC-RUC-1860000560001-59276</td>\n",
              "      <td>...</td>\n",
              "      <td>5169438-LICS-GADMSCP-01-2021</td>\n",
              "      <td>2021-11-10T12:42:18-05:00</td>\n",
              "      <td>31451.93</td>\n",
              "      <td>USD</td>\n",
              "      <td>7.7.02.01.01.3.1.2</td>\n",
              "      <td>31874.18</td>\n",
              "      <td>1860000560001</td>\n",
              "      <td>18</td>\n",
              "      <td>18</td>\n",
              "      <td>Tungurahua</td>\n",
              "    </tr>\n",
              "    <tr>\n",
              "      <th>77945</th>\n",
              "      <td>ocds-5wno2w-LICS-CARCHI-001-2021-2481</td>\n",
              "      <td>LICS-CARCHI-001-2021-2481-2022-04-07T11:13:40....</td>\n",
              "      <td>tender</td>\n",
              "      <td>es</td>\n",
              "      <td>2022-04-07T06:23:42-05:00</td>\n",
              "      <td>[\"planning\",\"tender\",\"award\",\"contract\"]</td>\n",
              "      <td>LICS-CARCHI-001-2021-2481</td>\n",
              "      <td>CONTRATACIÓN DE SEGUROS MULTIRIESGO GOBIERNO A...</td>\n",
              "      <td>complete</td>\n",
              "      <td>EC-RUC-0460000130001-2481</td>\n",
              "      <td>...</td>\n",
              "      <td>4770998-LICS-CARCHI-001-2021</td>\n",
              "      <td>2021-05-21T13:17:54-05:00</td>\n",
              "      <td>72994.70</td>\n",
              "      <td>USD</td>\n",
              "      <td>01.01.08.999.007.003.5.57.02.01.000.99.99.99.9...</td>\n",
              "      <td>109967.65</td>\n",
              "      <td>0460000130001</td>\n",
              "      <td>4</td>\n",
              "      <td>4</td>\n",
              "      <td>Carchi</td>\n",
              "    </tr>\n",
              "    <tr>\n",
              "      <th>77946</th>\n",
              "      <td>ocds-5wno2w-COTBS-DINAF-01-2021-183518</td>\n",
              "      <td>COTBS-DINAF-01-2021-183518-2022-04-08T11:15:06...</td>\n",
              "      <td>tender</td>\n",
              "      <td>es</td>\n",
              "      <td>2022-04-08T06:28:45-05:00</td>\n",
              "      <td>[\"planning\",\"tender\",\"award\",\"contract\",\"imple...</td>\n",
              "      <td>COTBS-DINAF-01-2021-183518</td>\n",
              "      <td>Aprovisionamiento continuo de repuestos,acceso...</td>\n",
              "      <td>complete</td>\n",
              "      <td>EC-RUC-1768052340001-183518</td>\n",
              "      <td>...</td>\n",
              "      <td>4865078-COTBS-DINAF-01-2021</td>\n",
              "      <td>2021-07-12T17:22:33-05:00</td>\n",
              "      <td>107343.56</td>\n",
              "      <td>USD</td>\n",
              "      <td>2021.052.0004.0000.01.00.000.001.000.1701.5304...</td>\n",
              "      <td>107343.56</td>\n",
              "      <td>1768052340001</td>\n",
              "      <td>17</td>\n",
              "      <td>17</td>\n",
              "      <td>Pichincha</td>\n",
              "    </tr>\n",
              "    <tr>\n",
              "      <th>77947</th>\n",
              "      <td>ocds-5wno2w-COTS-GADMCD-2021-003-94742</td>\n",
              "      <td>COTS-GADMCD-2021-003-94742-2022-04-20T11:17:28...</td>\n",
              "      <td>tender</td>\n",
              "      <td>es</td>\n",
              "      <td>2022-04-20T06:32:52-05:00</td>\n",
              "      <td>[\"planning\",\"tender\",\"award\",\"contract\",\"imple...</td>\n",
              "      <td>COTS-GADMCD-2021-003-94742</td>\n",
              "      <td>SERVICIO DE IMPRESIÓN,FOTOCOPIADO Y DIGITALIZA...</td>\n",
              "      <td>complete</td>\n",
              "      <td>EC-RUC-0960001890001-94742</td>\n",
              "      <td>...</td>\n",
              "      <td>4703506-COTS-GADMCD-2021-003</td>\n",
              "      <td>2021-04-08T15:01:03-05:00</td>\n",
              "      <td>349670.48</td>\n",
              "      <td>USD</td>\n",
              "      <td>530204</td>\n",
              "      <td>349670.48</td>\n",
              "      <td>0960001890001</td>\n",
              "      <td>9</td>\n",
              "      <td>9</td>\n",
              "      <td>Guayas</td>\n",
              "    </tr>\n",
              "    <tr>\n",
              "      <th>77948</th>\n",
              "      <td>ocds-5wno2w-COTBS-CSI-003-2021-179005</td>\n",
              "      <td>COTBS-CSI-003-2021-179005-2022-04-22T11:48:09....</td>\n",
              "      <td>tender</td>\n",
              "      <td>es</td>\n",
              "      <td>2022-04-22T07:03:16-05:00</td>\n",
              "      <td>[\"planning\",\"tender\",\"award\",\"contract\",\"imple...</td>\n",
              "      <td>COTBS-CSI-003-2021-179005</td>\n",
              "      <td>SERVICIO DE MANTENIMIENTO PREVENTIVO Y CORRECT...</td>\n",
              "      <td>complete</td>\n",
              "      <td>EC-RUC-1060013400001-179005</td>\n",
              "      <td>...</td>\n",
              "      <td>4734889-COTBS-CSI-003-2021</td>\n",
              "      <td>2021-04-29T11:35:59-05:00</td>\n",
              "      <td>119330.36</td>\n",
              "      <td>USD</td>\n",
              "      <td>2021.052.0017.0000.01.00.000.001.000.1001.5304...</td>\n",
              "      <td>147321.43</td>\n",
              "      <td>1060013400001</td>\n",
              "      <td>10</td>\n",
              "      <td>10</td>\n",
              "      <td>Imbabura</td>\n",
              "    </tr>\n",
              "  </tbody>\n",
              "</table>\n",
              "<p>77949 rows × 35 columns</p>\n",
              "</div>"
            ],
            "text/plain": [
              "                                         ocid  \\\n",
              "0       ocds-5wno2w-LICS-UNEMI-013-2021-43664   \n",
              "1        ocds-5wno2w-LIC-EPFLP-01-2021-404551   \n",
              "2       ocds-5wno2w-LICS-DD07D03-01-2021-9272   \n",
              "3      ocds-5wno2w-R2COTBSGSXXI-17-2020-71669   \n",
              "4       ocds-5wno2w-LICS-CBSE-001-2021-222424   \n",
              "...                                       ...   \n",
              "77944  ocds-5wno2w-LICS-GADMSCP-01-2021-59276   \n",
              "77945   ocds-5wno2w-LICS-CARCHI-001-2021-2481   \n",
              "77946  ocds-5wno2w-COTBS-DINAF-01-2021-183518   \n",
              "77947  ocds-5wno2w-COTS-GADMCD-2021-003-94742   \n",
              "77948   ocds-5wno2w-COTBS-CSI-003-2021-179005   \n",
              "\n",
              "                                                      id initiationType  \\\n",
              "0      LICS-UNEMI-013-2021-43664-2022-05-11T11:32:30....         tender   \n",
              "1      LIC-EPFLP-01-2021-404551-2022-05-14T12:25:47.8...         tender   \n",
              "2      LICS-DD07D03-01-2021-9272-2022-05-21T12:25:37....         tender   \n",
              "3      R2COTBSGSXXI-17-2020-71669-2022-05-21T12:34:46...         tender   \n",
              "4      LICS-CBSE-001-2021-222424-2022-06-15T12:16:30....         tender   \n",
              "...                                                  ...            ...   \n",
              "77944  LICS-GADMSCP-01-2021-59276-2022-04-05T11:01:20...         tender   \n",
              "77945  LICS-CARCHI-001-2021-2481-2022-04-07T11:13:40....         tender   \n",
              "77946  COTBS-DINAF-01-2021-183518-2022-04-08T11:15:06...         tender   \n",
              "77947  COTS-GADMCD-2021-003-94742-2022-04-20T11:17:28...         tender   \n",
              "77948  COTBS-CSI-003-2021-179005-2022-04-22T11:48:09....         tender   \n",
              "\n",
              "      language                       date  \\\n",
              "0           es  2022-05-11T06:48:06-05:00   \n",
              "1           es  2022-05-14T07:33:35-05:00   \n",
              "2           es  2022-05-21T07:41:35-05:00   \n",
              "3           es  2022-05-21T07:41:36-05:00   \n",
              "4           es  2022-06-15T07:32:33-05:00   \n",
              "...        ...                        ...   \n",
              "77944       es  2022-04-05T06:07:08-05:00   \n",
              "77945       es  2022-04-07T06:23:42-05:00   \n",
              "77946       es  2022-04-08T06:28:45-05:00   \n",
              "77947       es  2022-04-20T06:32:52-05:00   \n",
              "77948       es  2022-04-22T07:03:16-05:00   \n",
              "\n",
              "                                                     tag  \\\n",
              "0      [\"planning\",\"tender\",\"award\",\"contract\",\"imple...   \n",
              "1               [\"planning\",\"tender\",\"award\",\"contract\"]   \n",
              "2      [\"planning\",\"tender\",\"award\",\"contract\",\"imple...   \n",
              "3               [\"planning\",\"tender\",\"award\",\"contract\"]   \n",
              "4      [\"planning\",\"tender\",\"award\",\"contract\",\"imple...   \n",
              "...                                                  ...   \n",
              "77944           [\"planning\",\"tender\",\"award\",\"contract\"]   \n",
              "77945           [\"planning\",\"tender\",\"award\",\"contract\"]   \n",
              "77946  [\"planning\",\"tender\",\"award\",\"contract\",\"imple...   \n",
              "77947  [\"planning\",\"tender\",\"award\",\"contract\",\"imple...   \n",
              "77948  [\"planning\",\"tender\",\"award\",\"contract\",\"imple...   \n",
              "\n",
              "                            title  \\\n",
              "0       LICS-UNEMI-013-2021-43664   \n",
              "1        LIC-EPFLP-01-2021-404551   \n",
              "2       LICS-DD07D03-01-2021-9272   \n",
              "3      R2COTBSGSXXI-17-2020-71669   \n",
              "4       LICS-CBSE-001-2021-222424   \n",
              "...                           ...   \n",
              "77944  LICS-GADMSCP-01-2021-59276   \n",
              "77945   LICS-CARCHI-001-2021-2481   \n",
              "77946  COTBS-DINAF-01-2021-183518   \n",
              "77947  COTS-GADMCD-2021-003-94742   \n",
              "77948   COTBS-CSI-003-2021-179005   \n",
              "\n",
              "                                             description    status  \\\n",
              "0      CONTRATACION DE POLIZAS DE SEGUROMULTIRIESGO: ...  complete   \n",
              "1      CONTRATACIÓN DE LA PÓLIZA DE SEGUROS MARÍTIMOS...  complete   \n",
              "2      ?CONTRATACIÓN DE PÓLIZA DE SEGUROS EN DIFERENT...  complete   \n",
              "3      Mantenimiento y Reparación De Obras De Regener...    active   \n",
              "4      CONTRATACIÓN DE SERVICIO DE SEGUROS DE: VEHÍCU...  complete   \n",
              "...                                                  ...       ...   \n",
              "77944  CONTRATACIÓN DE PÓLIZAS DE SEGUROS PARA LOS RA...  complete   \n",
              "77945  CONTRATACIÓN DE SEGUROS MULTIRIESGO GOBIERNO A...  complete   \n",
              "77946  Aprovisionamiento continuo de repuestos,acceso...  complete   \n",
              "77947  SERVICIO DE IMPRESIÓN,FOTOCOPIADO Y DIGITALIZA...  complete   \n",
              "77948  SERVICIO DE MANTENIMIENTO PREVENTIVO Y CORRECT...  complete   \n",
              "\n",
              "                procuringEntity_id  ...                     id_awards  \\\n",
              "0       EC-RUC-0968533430001-43664  ...   4720310-LICS-UNEMI-013-2021   \n",
              "1      EC-RUC-1768164300001-404551  ...     4980937-LIC-EPFLP-01-2021   \n",
              "2        EC-RUC-0760004920001-9272  ...  4702468-LICS-DD07D03-01-2021   \n",
              "3       EC-RUC-0992183721001-71669  ...  5035763-R2COTBSGSXXI-17-2020   \n",
              "4      EC-RUC-0968563340001-222424  ...    4680551-LICS-CBSE-001-2021   \n",
              "...                            ...  ...                           ...   \n",
              "77944   EC-RUC-1860000560001-59276  ...  5169438-LICS-GADMSCP-01-2021   \n",
              "77945    EC-RUC-0460000130001-2481  ...  4770998-LICS-CARCHI-001-2021   \n",
              "77946  EC-RUC-1768052340001-183518  ...   4865078-COTBS-DINAF-01-2021   \n",
              "77947   EC-RUC-0960001890001-94742  ...  4703506-COTS-GADMCD-2021-003   \n",
              "77948  EC-RUC-1060013400001-179005  ...    4734889-COTBS-CSI-003-2021   \n",
              "\n",
              "                     date_awards amount_awards currency  \\\n",
              "0      2021-04-23T10:25:08-05:00      59510.25      USD   \n",
              "1      2021-08-30T08:43:16-05:00     749885.00      USD   \n",
              "2      2021-04-01T09:49:32-05:00      18602.54      USD   \n",
              "3      2021-12-03T16:19:46-05:00     361662.55      USD   \n",
              "4      2021-03-12T16:34:58-05:00       7136.16      USD   \n",
              "...                          ...           ...      ...   \n",
              "77944  2021-11-10T12:42:18-05:00      31451.93      USD   \n",
              "77945  2021-05-21T13:17:54-05:00      72994.70      USD   \n",
              "77946  2021-07-12T17:22:33-05:00     107343.56      USD   \n",
              "77947  2021-04-08T15:01:03-05:00     349670.48      USD   \n",
              "77948  2021-04-29T11:35:59-05:00     119330.36      USD   \n",
              "\n",
              "                                               budget_id  budget_amount  \\\n",
              "0      2021.181.0000.0000.82.00.000.002.000.0910.5303...       70005.18   \n",
              "1                                            5.1.2.02.01      910648.25   \n",
              "2      2021.320.1140.0000.90.00.000.001.000.0713.5302...       30003.80   \n",
              "3                                              7.5.05.99      361662.55   \n",
              "4                                                 570201       43008.29   \n",
              "...                                                  ...            ...   \n",
              "77944                                 7.7.02.01.01.3.1.2       31874.18   \n",
              "77945  01.01.08.999.007.003.5.57.02.01.000.99.99.99.9...      109967.65   \n",
              "77946  2021.052.0004.0000.01.00.000.001.000.1701.5304...      107343.56   \n",
              "77947                                             530204      349670.48   \n",
              "77948  2021.052.0017.0000.01.00.000.001.000.1001.5304...      147321.43   \n",
              "\n",
              "                 ruc  codigoProvincia Codigo   Provincia  \n",
              "0      0968533430001                9      9      Guayas  \n",
              "1      1768164300001               17     17   Pichincha  \n",
              "2      0760004920001                7      7      El Oro  \n",
              "3      0992183721001                9      9      Guayas  \n",
              "4      0968563340001                9      9      Guayas  \n",
              "...              ...              ...    ...         ...  \n",
              "77944  1860000560001               18     18  Tungurahua  \n",
              "77945  0460000130001                4      4      Carchi  \n",
              "77946  1768052340001               17     17   Pichincha  \n",
              "77947  0960001890001                9      9      Guayas  \n",
              "77948  1060013400001               10     10    Imbabura  \n",
              "\n",
              "[77949 rows x 35 columns]"
            ]
          },
          "execution_count": 33,
          "metadata": {},
          "output_type": "execute_result"
        }
      ],
      "source": [
        "df['codigoProvincia'] = df['ruc'].str[:2].astype(int)\n",
        "df = df.merge(provincias, left_on = \"codigoProvincia\", right_on=\"Codigo\", how=\"left\")\n",
        "\n",
        "df"
      ]
    },
    {
      "cell_type": "code",
      "execution_count": 34,
      "metadata": {
        "gather": {
          "logged": 1657476513061
        },
        "jupyter": {
          "outputs_hidden": false,
          "source_hidden": false
        },
        "nteract": {
          "transient": {
            "deleting": false
          }
        }
      },
      "outputs": [
        {
          "data": {
            "text/html": [
              "<div>\n",
              "<style scoped>\n",
              "    .dataframe tbody tr th:only-of-type {\n",
              "        vertical-align: middle;\n",
              "    }\n",
              "\n",
              "    .dataframe tbody tr th {\n",
              "        vertical-align: top;\n",
              "    }\n",
              "\n",
              "    .dataframe thead th {\n",
              "        text-align: right;\n",
              "    }\n",
              "</style>\n",
              "<table border=\"1\" class=\"dataframe\">\n",
              "  <thead>\n",
              "    <tr style=\"text-align: right;\">\n",
              "      <th></th>\n",
              "      <th>ocid</th>\n",
              "      <th>id</th>\n",
              "      <th>initiationType</th>\n",
              "      <th>language</th>\n",
              "      <th>date</th>\n",
              "      <th>tag</th>\n",
              "      <th>title</th>\n",
              "      <th>description</th>\n",
              "      <th>status</th>\n",
              "      <th>procuringEntity_id</th>\n",
              "      <th>...</th>\n",
              "      <th>amount</th>\n",
              "      <th>dateSigned</th>\n",
              "      <th>id_awards</th>\n",
              "      <th>date_awards</th>\n",
              "      <th>amount_awards</th>\n",
              "      <th>currency</th>\n",
              "      <th>budget_id</th>\n",
              "      <th>budget_amount</th>\n",
              "      <th>ruc</th>\n",
              "      <th>Provincia</th>\n",
              "    </tr>\n",
              "  </thead>\n",
              "  <tbody>\n",
              "    <tr>\n",
              "      <th>0</th>\n",
              "      <td>ocds-5wno2w-LICS-UNEMI-013-2021-43664</td>\n",
              "      <td>LICS-UNEMI-013-2021-43664-2022-05-11T11:32:30....</td>\n",
              "      <td>tender</td>\n",
              "      <td>es</td>\n",
              "      <td>2022-05-11T06:48:06-05:00</td>\n",
              "      <td>[\"planning\",\"tender\",\"award\",\"contract\",\"imple...</td>\n",
              "      <td>LICS-UNEMI-013-2021-43664</td>\n",
              "      <td>CONTRATACION DE POLIZAS DE SEGUROMULTIRIESGO: ...</td>\n",
              "      <td>complete</td>\n",
              "      <td>EC-RUC-0968533430001-43664</td>\n",
              "      <td>...</td>\n",
              "      <td>59510.25</td>\n",
              "      <td>2021-06-23T00:00:00-05:00</td>\n",
              "      <td>4720310-LICS-UNEMI-013-2021</td>\n",
              "      <td>2021-04-23T10:25:08-05:00</td>\n",
              "      <td>59510.25</td>\n",
              "      <td>USD</td>\n",
              "      <td>2021.181.0000.0000.82.00.000.002.000.0910.5303...</td>\n",
              "      <td>70005.18</td>\n",
              "      <td>0968533430001</td>\n",
              "      <td>Guayas</td>\n",
              "    </tr>\n",
              "    <tr>\n",
              "      <th>1</th>\n",
              "      <td>ocds-5wno2w-LIC-EPFLP-01-2021-404551</td>\n",
              "      <td>LIC-EPFLP-01-2021-404551-2022-05-14T12:25:47.8...</td>\n",
              "      <td>tender</td>\n",
              "      <td>es</td>\n",
              "      <td>2022-05-14T07:33:35-05:00</td>\n",
              "      <td>[\"planning\",\"tender\",\"award\",\"contract\"]</td>\n",
              "      <td>LIC-EPFLP-01-2021-404551</td>\n",
              "      <td>CONTRATACIÓN DE LA PÓLIZA DE SEGUROS MARÍTIMOS...</td>\n",
              "      <td>complete</td>\n",
              "      <td>EC-RUC-1768164300001-404551</td>\n",
              "      <td>...</td>\n",
              "      <td>749885.00</td>\n",
              "      <td>2021-09-15T00:00:00-05:00</td>\n",
              "      <td>4980937-LIC-EPFLP-01-2021</td>\n",
              "      <td>2021-08-30T08:43:16-05:00</td>\n",
              "      <td>749885.00</td>\n",
              "      <td>USD</td>\n",
              "      <td>5.1.2.02.01</td>\n",
              "      <td>910648.25</td>\n",
              "      <td>1768164300001</td>\n",
              "      <td>Pichincha</td>\n",
              "    </tr>\n",
              "    <tr>\n",
              "      <th>2</th>\n",
              "      <td>ocds-5wno2w-LICS-DD07D03-01-2021-9272</td>\n",
              "      <td>LICS-DD07D03-01-2021-9272-2022-05-21T12:25:37....</td>\n",
              "      <td>tender</td>\n",
              "      <td>es</td>\n",
              "      <td>2022-05-21T07:41:35-05:00</td>\n",
              "      <td>[\"planning\",\"tender\",\"award\",\"contract\",\"imple...</td>\n",
              "      <td>LICS-DD07D03-01-2021-9272</td>\n",
              "      <td>?CONTRATACIÓN DE PÓLIZA DE SEGUROS EN DIFERENT...</td>\n",
              "      <td>complete</td>\n",
              "      <td>EC-RUC-0760004920001-9272</td>\n",
              "      <td>...</td>\n",
              "      <td>18602.54</td>\n",
              "      <td>2021-04-09T00:00:00-05:00</td>\n",
              "      <td>4702468-LICS-DD07D03-01-2021</td>\n",
              "      <td>2021-04-01T09:49:32-05:00</td>\n",
              "      <td>18602.54</td>\n",
              "      <td>USD</td>\n",
              "      <td>2021.320.1140.0000.90.00.000.001.000.0713.5302...</td>\n",
              "      <td>30003.80</td>\n",
              "      <td>0760004920001</td>\n",
              "      <td>El Oro</td>\n",
              "    </tr>\n",
              "    <tr>\n",
              "      <th>3</th>\n",
              "      <td>ocds-5wno2w-R2COTBSGSXXI-17-2020-71669</td>\n",
              "      <td>R2COTBSGSXXI-17-2020-71669-2022-05-21T12:34:46...</td>\n",
              "      <td>tender</td>\n",
              "      <td>es</td>\n",
              "      <td>2022-05-21T07:41:36-05:00</td>\n",
              "      <td>[\"planning\",\"tender\",\"award\",\"contract\"]</td>\n",
              "      <td>R2COTBSGSXXI-17-2020-71669</td>\n",
              "      <td>Mantenimiento y Reparación De Obras De Regener...</td>\n",
              "      <td>active</td>\n",
              "      <td>EC-RUC-0992183721001-71669</td>\n",
              "      <td>...</td>\n",
              "      <td>361662.55</td>\n",
              "      <td>2022-01-14T00:00:00-05:00</td>\n",
              "      <td>5035763-R2COTBSGSXXI-17-2020</td>\n",
              "      <td>2021-12-03T16:19:46-05:00</td>\n",
              "      <td>361662.55</td>\n",
              "      <td>USD</td>\n",
              "      <td>7.5.05.99</td>\n",
              "      <td>361662.55</td>\n",
              "      <td>0992183721001</td>\n",
              "      <td>Guayas</td>\n",
              "    </tr>\n",
              "    <tr>\n",
              "      <th>4</th>\n",
              "      <td>ocds-5wno2w-LICS-CBSE-001-2021-222424</td>\n",
              "      <td>LICS-CBSE-001-2021-222424-2022-06-15T12:16:30....</td>\n",
              "      <td>tender</td>\n",
              "      <td>es</td>\n",
              "      <td>2022-06-15T07:32:33-05:00</td>\n",
              "      <td>[\"planning\",\"tender\",\"award\",\"contract\",\"imple...</td>\n",
              "      <td>LICS-CBSE-001-2021-222424</td>\n",
              "      <td>CONTRATACIÓN DE SERVICIO DE SEGUROS DE: VEHÍCU...</td>\n",
              "      <td>complete</td>\n",
              "      <td>EC-RUC-0968563340001-222424</td>\n",
              "      <td>...</td>\n",
              "      <td>7136.16</td>\n",
              "      <td>2021-03-15T00:00:00-05:00</td>\n",
              "      <td>4680551-LICS-CBSE-001-2021</td>\n",
              "      <td>2021-03-12T16:34:58-05:00</td>\n",
              "      <td>7136.16</td>\n",
              "      <td>USD</td>\n",
              "      <td>570201</td>\n",
              "      <td>43008.29</td>\n",
              "      <td>0968563340001</td>\n",
              "      <td>Guayas</td>\n",
              "    </tr>\n",
              "    <tr>\n",
              "      <th>...</th>\n",
              "      <td>...</td>\n",
              "      <td>...</td>\n",
              "      <td>...</td>\n",
              "      <td>...</td>\n",
              "      <td>...</td>\n",
              "      <td>...</td>\n",
              "      <td>...</td>\n",
              "      <td>...</td>\n",
              "      <td>...</td>\n",
              "      <td>...</td>\n",
              "      <td>...</td>\n",
              "      <td>...</td>\n",
              "      <td>...</td>\n",
              "      <td>...</td>\n",
              "      <td>...</td>\n",
              "      <td>...</td>\n",
              "      <td>...</td>\n",
              "      <td>...</td>\n",
              "      <td>...</td>\n",
              "      <td>...</td>\n",
              "      <td>...</td>\n",
              "    </tr>\n",
              "    <tr>\n",
              "      <th>77944</th>\n",
              "      <td>ocds-5wno2w-LICS-GADMSCP-01-2021-59276</td>\n",
              "      <td>LICS-GADMSCP-01-2021-59276-2022-04-05T11:01:20...</td>\n",
              "      <td>tender</td>\n",
              "      <td>es</td>\n",
              "      <td>2022-04-05T06:07:08-05:00</td>\n",
              "      <td>[\"planning\",\"tender\",\"award\",\"contract\"]</td>\n",
              "      <td>LICS-GADMSCP-01-2021-59276</td>\n",
              "      <td>CONTRATACIÓN DE PÓLIZAS DE SEGUROS PARA LOS RA...</td>\n",
              "      <td>complete</td>\n",
              "      <td>EC-RUC-1860000560001-59276</td>\n",
              "      <td>...</td>\n",
              "      <td>31451.93</td>\n",
              "      <td>2021-11-11T00:00:00-05:00</td>\n",
              "      <td>5169438-LICS-GADMSCP-01-2021</td>\n",
              "      <td>2021-11-10T12:42:18-05:00</td>\n",
              "      <td>31451.93</td>\n",
              "      <td>USD</td>\n",
              "      <td>7.7.02.01.01.3.1.2</td>\n",
              "      <td>31874.18</td>\n",
              "      <td>1860000560001</td>\n",
              "      <td>Tungurahua</td>\n",
              "    </tr>\n",
              "    <tr>\n",
              "      <th>77945</th>\n",
              "      <td>ocds-5wno2w-LICS-CARCHI-001-2021-2481</td>\n",
              "      <td>LICS-CARCHI-001-2021-2481-2022-04-07T11:13:40....</td>\n",
              "      <td>tender</td>\n",
              "      <td>es</td>\n",
              "      <td>2022-04-07T06:23:42-05:00</td>\n",
              "      <td>[\"planning\",\"tender\",\"award\",\"contract\"]</td>\n",
              "      <td>LICS-CARCHI-001-2021-2481</td>\n",
              "      <td>CONTRATACIÓN DE SEGUROS MULTIRIESGO GOBIERNO A...</td>\n",
              "      <td>complete</td>\n",
              "      <td>EC-RUC-0460000130001-2481</td>\n",
              "      <td>...</td>\n",
              "      <td>72994.70</td>\n",
              "      <td>2021-06-17T00:00:00-05:00</td>\n",
              "      <td>4770998-LICS-CARCHI-001-2021</td>\n",
              "      <td>2021-05-21T13:17:54-05:00</td>\n",
              "      <td>72994.70</td>\n",
              "      <td>USD</td>\n",
              "      <td>01.01.08.999.007.003.5.57.02.01.000.99.99.99.9...</td>\n",
              "      <td>109967.65</td>\n",
              "      <td>0460000130001</td>\n",
              "      <td>Carchi</td>\n",
              "    </tr>\n",
              "    <tr>\n",
              "      <th>77946</th>\n",
              "      <td>ocds-5wno2w-COTBS-DINAF-01-2021-183518</td>\n",
              "      <td>COTBS-DINAF-01-2021-183518-2022-04-08T11:15:06...</td>\n",
              "      <td>tender</td>\n",
              "      <td>es</td>\n",
              "      <td>2022-04-08T06:28:45-05:00</td>\n",
              "      <td>[\"planning\",\"tender\",\"award\",\"contract\",\"imple...</td>\n",
              "      <td>COTBS-DINAF-01-2021-183518</td>\n",
              "      <td>Aprovisionamiento continuo de repuestos,acceso...</td>\n",
              "      <td>complete</td>\n",
              "      <td>EC-RUC-1768052340001-183518</td>\n",
              "      <td>...</td>\n",
              "      <td>107343.56</td>\n",
              "      <td>2021-07-23T00:00:00-05:00</td>\n",
              "      <td>4865078-COTBS-DINAF-01-2021</td>\n",
              "      <td>2021-07-12T17:22:33-05:00</td>\n",
              "      <td>107343.56</td>\n",
              "      <td>USD</td>\n",
              "      <td>2021.052.0004.0000.01.00.000.001.000.1701.5304...</td>\n",
              "      <td>107343.56</td>\n",
              "      <td>1768052340001</td>\n",
              "      <td>Pichincha</td>\n",
              "    </tr>\n",
              "    <tr>\n",
              "      <th>77947</th>\n",
              "      <td>ocds-5wno2w-COTS-GADMCD-2021-003-94742</td>\n",
              "      <td>COTS-GADMCD-2021-003-94742-2022-04-20T11:17:28...</td>\n",
              "      <td>tender</td>\n",
              "      <td>es</td>\n",
              "      <td>2022-04-20T06:32:52-05:00</td>\n",
              "      <td>[\"planning\",\"tender\",\"award\",\"contract\",\"imple...</td>\n",
              "      <td>COTS-GADMCD-2021-003-94742</td>\n",
              "      <td>SERVICIO DE IMPRESIÓN,FOTOCOPIADO Y DIGITALIZA...</td>\n",
              "      <td>complete</td>\n",
              "      <td>EC-RUC-0960001890001-94742</td>\n",
              "      <td>...</td>\n",
              "      <td>349670.48</td>\n",
              "      <td>2021-04-29T00:00:00-05:00</td>\n",
              "      <td>4703506-COTS-GADMCD-2021-003</td>\n",
              "      <td>2021-04-08T15:01:03-05:00</td>\n",
              "      <td>349670.48</td>\n",
              "      <td>USD</td>\n",
              "      <td>530204</td>\n",
              "      <td>349670.48</td>\n",
              "      <td>0960001890001</td>\n",
              "      <td>Guayas</td>\n",
              "    </tr>\n",
              "    <tr>\n",
              "      <th>77948</th>\n",
              "      <td>ocds-5wno2w-COTBS-CSI-003-2021-179005</td>\n",
              "      <td>COTBS-CSI-003-2021-179005-2022-04-22T11:48:09....</td>\n",
              "      <td>tender</td>\n",
              "      <td>es</td>\n",
              "      <td>2022-04-22T07:03:16-05:00</td>\n",
              "      <td>[\"planning\",\"tender\",\"award\",\"contract\",\"imple...</td>\n",
              "      <td>COTBS-CSI-003-2021-179005</td>\n",
              "      <td>SERVICIO DE MANTENIMIENTO PREVENTIVO Y CORRECT...</td>\n",
              "      <td>complete</td>\n",
              "      <td>EC-RUC-1060013400001-179005</td>\n",
              "      <td>...</td>\n",
              "      <td>119330.36</td>\n",
              "      <td>2021-05-03T00:00:00-05:00</td>\n",
              "      <td>4734889-COTBS-CSI-003-2021</td>\n",
              "      <td>2021-04-29T11:35:59-05:00</td>\n",
              "      <td>119330.36</td>\n",
              "      <td>USD</td>\n",
              "      <td>2021.052.0017.0000.01.00.000.001.000.1001.5304...</td>\n",
              "      <td>147321.43</td>\n",
              "      <td>1060013400001</td>\n",
              "      <td>Imbabura</td>\n",
              "    </tr>\n",
              "  </tbody>\n",
              "</table>\n",
              "<p>77949 rows × 33 columns</p>\n",
              "</div>"
            ],
            "text/plain": [
              "                                         ocid  \\\n",
              "0       ocds-5wno2w-LICS-UNEMI-013-2021-43664   \n",
              "1        ocds-5wno2w-LIC-EPFLP-01-2021-404551   \n",
              "2       ocds-5wno2w-LICS-DD07D03-01-2021-9272   \n",
              "3      ocds-5wno2w-R2COTBSGSXXI-17-2020-71669   \n",
              "4       ocds-5wno2w-LICS-CBSE-001-2021-222424   \n",
              "...                                       ...   \n",
              "77944  ocds-5wno2w-LICS-GADMSCP-01-2021-59276   \n",
              "77945   ocds-5wno2w-LICS-CARCHI-001-2021-2481   \n",
              "77946  ocds-5wno2w-COTBS-DINAF-01-2021-183518   \n",
              "77947  ocds-5wno2w-COTS-GADMCD-2021-003-94742   \n",
              "77948   ocds-5wno2w-COTBS-CSI-003-2021-179005   \n",
              "\n",
              "                                                      id initiationType  \\\n",
              "0      LICS-UNEMI-013-2021-43664-2022-05-11T11:32:30....         tender   \n",
              "1      LIC-EPFLP-01-2021-404551-2022-05-14T12:25:47.8...         tender   \n",
              "2      LICS-DD07D03-01-2021-9272-2022-05-21T12:25:37....         tender   \n",
              "3      R2COTBSGSXXI-17-2020-71669-2022-05-21T12:34:46...         tender   \n",
              "4      LICS-CBSE-001-2021-222424-2022-06-15T12:16:30....         tender   \n",
              "...                                                  ...            ...   \n",
              "77944  LICS-GADMSCP-01-2021-59276-2022-04-05T11:01:20...         tender   \n",
              "77945  LICS-CARCHI-001-2021-2481-2022-04-07T11:13:40....         tender   \n",
              "77946  COTBS-DINAF-01-2021-183518-2022-04-08T11:15:06...         tender   \n",
              "77947  COTS-GADMCD-2021-003-94742-2022-04-20T11:17:28...         tender   \n",
              "77948  COTBS-CSI-003-2021-179005-2022-04-22T11:48:09....         tender   \n",
              "\n",
              "      language                       date  \\\n",
              "0           es  2022-05-11T06:48:06-05:00   \n",
              "1           es  2022-05-14T07:33:35-05:00   \n",
              "2           es  2022-05-21T07:41:35-05:00   \n",
              "3           es  2022-05-21T07:41:36-05:00   \n",
              "4           es  2022-06-15T07:32:33-05:00   \n",
              "...        ...                        ...   \n",
              "77944       es  2022-04-05T06:07:08-05:00   \n",
              "77945       es  2022-04-07T06:23:42-05:00   \n",
              "77946       es  2022-04-08T06:28:45-05:00   \n",
              "77947       es  2022-04-20T06:32:52-05:00   \n",
              "77948       es  2022-04-22T07:03:16-05:00   \n",
              "\n",
              "                                                     tag  \\\n",
              "0      [\"planning\",\"tender\",\"award\",\"contract\",\"imple...   \n",
              "1               [\"planning\",\"tender\",\"award\",\"contract\"]   \n",
              "2      [\"planning\",\"tender\",\"award\",\"contract\",\"imple...   \n",
              "3               [\"planning\",\"tender\",\"award\",\"contract\"]   \n",
              "4      [\"planning\",\"tender\",\"award\",\"contract\",\"imple...   \n",
              "...                                                  ...   \n",
              "77944           [\"planning\",\"tender\",\"award\",\"contract\"]   \n",
              "77945           [\"planning\",\"tender\",\"award\",\"contract\"]   \n",
              "77946  [\"planning\",\"tender\",\"award\",\"contract\",\"imple...   \n",
              "77947  [\"planning\",\"tender\",\"award\",\"contract\",\"imple...   \n",
              "77948  [\"planning\",\"tender\",\"award\",\"contract\",\"imple...   \n",
              "\n",
              "                            title  \\\n",
              "0       LICS-UNEMI-013-2021-43664   \n",
              "1        LIC-EPFLP-01-2021-404551   \n",
              "2       LICS-DD07D03-01-2021-9272   \n",
              "3      R2COTBSGSXXI-17-2020-71669   \n",
              "4       LICS-CBSE-001-2021-222424   \n",
              "...                           ...   \n",
              "77944  LICS-GADMSCP-01-2021-59276   \n",
              "77945   LICS-CARCHI-001-2021-2481   \n",
              "77946  COTBS-DINAF-01-2021-183518   \n",
              "77947  COTS-GADMCD-2021-003-94742   \n",
              "77948   COTBS-CSI-003-2021-179005   \n",
              "\n",
              "                                             description    status  \\\n",
              "0      CONTRATACION DE POLIZAS DE SEGUROMULTIRIESGO: ...  complete   \n",
              "1      CONTRATACIÓN DE LA PÓLIZA DE SEGUROS MARÍTIMOS...  complete   \n",
              "2      ?CONTRATACIÓN DE PÓLIZA DE SEGUROS EN DIFERENT...  complete   \n",
              "3      Mantenimiento y Reparación De Obras De Regener...    active   \n",
              "4      CONTRATACIÓN DE SERVICIO DE SEGUROS DE: VEHÍCU...  complete   \n",
              "...                                                  ...       ...   \n",
              "77944  CONTRATACIÓN DE PÓLIZAS DE SEGUROS PARA LOS RA...  complete   \n",
              "77945  CONTRATACIÓN DE SEGUROS MULTIRIESGO GOBIERNO A...  complete   \n",
              "77946  Aprovisionamiento continuo de repuestos,acceso...  complete   \n",
              "77947  SERVICIO DE IMPRESIÓN,FOTOCOPIADO Y DIGITALIZA...  complete   \n",
              "77948  SERVICIO DE MANTENIMIENTO PREVENTIVO Y CORRECT...  complete   \n",
              "\n",
              "                procuringEntity_id  ...     amount                 dateSigned  \\\n",
              "0       EC-RUC-0968533430001-43664  ...   59510.25  2021-06-23T00:00:00-05:00   \n",
              "1      EC-RUC-1768164300001-404551  ...  749885.00  2021-09-15T00:00:00-05:00   \n",
              "2        EC-RUC-0760004920001-9272  ...   18602.54  2021-04-09T00:00:00-05:00   \n",
              "3       EC-RUC-0992183721001-71669  ...  361662.55  2022-01-14T00:00:00-05:00   \n",
              "4      EC-RUC-0968563340001-222424  ...    7136.16  2021-03-15T00:00:00-05:00   \n",
              "...                            ...  ...        ...                        ...   \n",
              "77944   EC-RUC-1860000560001-59276  ...   31451.93  2021-11-11T00:00:00-05:00   \n",
              "77945    EC-RUC-0460000130001-2481  ...   72994.70  2021-06-17T00:00:00-05:00   \n",
              "77946  EC-RUC-1768052340001-183518  ...  107343.56  2021-07-23T00:00:00-05:00   \n",
              "77947   EC-RUC-0960001890001-94742  ...  349670.48  2021-04-29T00:00:00-05:00   \n",
              "77948  EC-RUC-1060013400001-179005  ...  119330.36  2021-05-03T00:00:00-05:00   \n",
              "\n",
              "                          id_awards                date_awards amount_awards  \\\n",
              "0       4720310-LICS-UNEMI-013-2021  2021-04-23T10:25:08-05:00      59510.25   \n",
              "1         4980937-LIC-EPFLP-01-2021  2021-08-30T08:43:16-05:00     749885.00   \n",
              "2      4702468-LICS-DD07D03-01-2021  2021-04-01T09:49:32-05:00      18602.54   \n",
              "3      5035763-R2COTBSGSXXI-17-2020  2021-12-03T16:19:46-05:00     361662.55   \n",
              "4        4680551-LICS-CBSE-001-2021  2021-03-12T16:34:58-05:00       7136.16   \n",
              "...                             ...                        ...           ...   \n",
              "77944  5169438-LICS-GADMSCP-01-2021  2021-11-10T12:42:18-05:00      31451.93   \n",
              "77945  4770998-LICS-CARCHI-001-2021  2021-05-21T13:17:54-05:00      72994.70   \n",
              "77946   4865078-COTBS-DINAF-01-2021  2021-07-12T17:22:33-05:00     107343.56   \n",
              "77947  4703506-COTS-GADMCD-2021-003  2021-04-08T15:01:03-05:00     349670.48   \n",
              "77948    4734889-COTBS-CSI-003-2021  2021-04-29T11:35:59-05:00     119330.36   \n",
              "\n",
              "       currency                                          budget_id  \\\n",
              "0           USD  2021.181.0000.0000.82.00.000.002.000.0910.5303...   \n",
              "1           USD                                        5.1.2.02.01   \n",
              "2           USD  2021.320.1140.0000.90.00.000.001.000.0713.5302...   \n",
              "3           USD                                          7.5.05.99   \n",
              "4           USD                                             570201   \n",
              "...         ...                                                ...   \n",
              "77944       USD                                 7.7.02.01.01.3.1.2   \n",
              "77945       USD  01.01.08.999.007.003.5.57.02.01.000.99.99.99.9...   \n",
              "77946       USD  2021.052.0004.0000.01.00.000.001.000.1701.5304...   \n",
              "77947       USD                                             530204   \n",
              "77948       USD  2021.052.0017.0000.01.00.000.001.000.1001.5304...   \n",
              "\n",
              "       budget_amount            ruc   Provincia  \n",
              "0           70005.18  0968533430001      Guayas  \n",
              "1          910648.25  1768164300001   Pichincha  \n",
              "2           30003.80  0760004920001      El Oro  \n",
              "3          361662.55  0992183721001      Guayas  \n",
              "4           43008.29  0968563340001      Guayas  \n",
              "...              ...            ...         ...  \n",
              "77944       31874.18  1860000560001  Tungurahua  \n",
              "77945      109967.65  0460000130001      Carchi  \n",
              "77946      107343.56  1768052340001   Pichincha  \n",
              "77947      349670.48  0960001890001      Guayas  \n",
              "77948      147321.43  1060013400001    Imbabura  \n",
              "\n",
              "[77949 rows x 33 columns]"
            ]
          },
          "execution_count": 34,
          "metadata": {},
          "output_type": "execute_result"
        }
      ],
      "source": [
        "df.drop(columns=[\"codigoProvincia\", \"Codigo\"], inplace=True)\n",
        "df"
      ]
    },
    {
      "cell_type": "code",
      "execution_count": null,
      "metadata": {
        "jupyter": {
          "outputs_hidden": false,
          "source_hidden": false
        },
        "nteract": {
          "transient": {
            "deleting": false
          }
        }
      },
      "outputs": [],
      "source": [
        "df.to_csv(\"../data/dataset_red_flags.csv\")"
      ]
    }
  ],
  "metadata": {
    "kernel_info": {
      "name": "python3"
    },
    "kernelspec": {
      "display_name": "Python 3 (ipykernel)",
      "language": "python",
      "name": "python3"
    },
    "language_info": {
      "codemirror_mode": {
        "name": "ipython",
        "version": 3
      },
      "file_extension": ".py",
      "mimetype": "text/x-python",
      "name": "python",
      "nbconvert_exporter": "python",
      "pygments_lexer": "ipython3",
      "version": "3.8.5"
    },
    "microsoft": {
      "host": {
        "AzureML": {
          "notebookHasBeenCompleted": true
        }
      }
    },
    "nteract": {
      "version": "nteract-front-end@1.0.0"
    },
    "vscode": {
      "interpreter": {
        "hash": "b95bd45029f467f5ffdb04a0dca108fe317981093d378cd9f566d3ace075d8db"
      }
    }
  },
  "nbformat": 4,
  "nbformat_minor": 2
}

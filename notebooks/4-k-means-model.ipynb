{
 "cells": [
  {
   "cell_type": "code",
   "execution_count": 1,
   "metadata": {},
   "outputs": [],
   "source": [
    "import pandas as pd\n",
    "import numpy as np\n",
    "from sklearn.preprocessing import StandardScaler\n",
    "from sklearn.cluster import KMeans\n",
    "import seaborn as sns\n",
    "import matplotlib.pyplot as plt\n",
    "from scipy import stats"
   ]
  },
  {
   "cell_type": "code",
   "execution_count": 2,
   "metadata": {},
   "outputs": [],
   "source": [
    "RANDOM_STATE = 42"
   ]
  },
  {
   "cell_type": "code",
   "execution_count": 3,
   "metadata": {},
   "outputs": [],
   "source": [
    "pd.options.display.float_format = '{:.2f}'.format"
   ]
  },
  {
   "cell_type": "code",
   "execution_count": 4,
   "metadata": {},
   "outputs": [
    {
     "name": "stderr",
     "output_type": "stream",
     "text": [
      "c:\\Users\\jhony\\miniconda3\\envs\\icd\\lib\\site-packages\\IPython\\core\\interactiveshell.py:3552: DtypeWarning: Columns (12,13,14,15,16,18,19,20,22,23,24,25,26) have mixed types.Specify dtype option on import or set low_memory=False.\n",
      "  exec(code_obj, self.user_global_ns, self.user_ns)\n"
     ]
    }
   ],
   "source": [
    "df_tender_2018 = pd.read_csv(\"../data/releases_2018/tender_2018.csv\")\n",
    "df_tender_2019 = pd.read_csv(\"../data/releases_2019/tender_2019.csv\")\n",
    "df_tender_2020 = pd.read_csv(\"../data/releases_2020/tender_2020.csv\")\n",
    "df_tender_2021 = pd.read_csv(\"../data/releases_2021/tender_2021.csv\")\n",
    "df_tender = pd.concat([df_tender_2018, df_tender_2019, df_tender_2020, df_tender_2021], axis=0)"
   ]
  },
  {
   "cell_type": "code",
   "execution_count": 5,
   "metadata": {},
   "outputs": [
    {
     "name": "stderr",
     "output_type": "stream",
     "text": [
      "c:\\Users\\jhony\\miniconda3\\envs\\icd\\lib\\site-packages\\IPython\\core\\interactiveshell.py:3552: DtypeWarning: Columns (4,5,6,13,14) have mixed types.Specify dtype option on import or set low_memory=False.\n",
      "  exec(code_obj, self.user_global_ns, self.user_ns)\n",
      "c:\\Users\\jhony\\miniconda3\\envs\\icd\\lib\\site-packages\\IPython\\core\\interactiveshell.py:3552: DtypeWarning: Columns (4,6,13,14) have mixed types.Specify dtype option on import or set low_memory=False.\n",
      "  exec(code_obj, self.user_global_ns, self.user_ns)\n"
     ]
    }
   ],
   "source": [
    "df_award_2018 = pd.read_csv(\"../data/releases_2018/awards_2018.csv\")\n",
    "df_award_2019 = pd.read_csv(\"../data/releases_2019/awards_2019.csv\")\n",
    "df_award_2020 = pd.read_csv(\"../data/releases_2020/awards_2020.csv\")\n",
    "df_award_2021 = pd.read_csv(\"../data/releases_2021/awards_2021.csv\")\n",
    "df_award = pd.concat([df_award_2018, df_award_2019, df_award_2020, df_award_2021], axis=0)"
   ]
  },
  {
   "cell_type": "code",
   "execution_count": 6,
   "metadata": {},
   "outputs": [
    {
     "name": "stderr",
     "output_type": "stream",
     "text": [
      "c:\\Users\\jhony\\miniconda3\\envs\\icd\\lib\\site-packages\\IPython\\core\\interactiveshell.py:3552: DtypeWarning: Columns (7,8,12,13) have mixed types.Specify dtype option on import or set low_memory=False.\n",
      "  exec(code_obj, self.user_global_ns, self.user_ns)\n"
     ]
    }
   ],
   "source": [
    "df_contract_2018 = pd.read_csv(\"../data/releases_2018/contracts_2018.csv\")\n",
    "df_contract_2019 = pd.read_csv(\"../data/releases_2019/contracts_2019.csv\")\n",
    "df_contract_2020 = pd.read_csv(\"../data/releases_2020/contracts_2020.csv\")\n",
    "df_contract_2021 = pd.read_csv(\"../data/releases_2021/contracts_2021.csv\")\n",
    "df_contract = pd.concat([df_contract_2018, df_contract_2019, df_contract_2020, df_contract_2021], axis=0)"
   ]
  },
  {
   "cell_type": "code",
   "execution_count": 7,
   "metadata": {},
   "outputs": [],
   "source": [
    "df_supplier_2018 = pd.read_csv(\"../data/releases_2018/suppliers_2018.csv\")\n",
    "df_supplier_2019 = pd.read_csv(\"../data/releases_2019/suppliers_2019.csv\")\n",
    "df_supplier_2020 = pd.read_csv(\"../data/releases_2020/suppliers_2020.csv\")\n",
    "df_supplier_2021 = pd.read_csv(\"../data/releases_2021/suppliers_2021.csv\")\n",
    "df_supplier = pd.concat([df_supplier_2018, df_supplier_2019, df_supplier_2020, df_supplier_2021], axis=0)"
   ]
  },
  {
   "cell_type": "code",
   "execution_count": 8,
   "metadata": {},
   "outputs": [],
   "source": [
    "feature1_tender = df_tender[[\"ocid\", \"procuringEntity_name\", \"value_amount\", \"procurementMethod\"]]\n",
    "feature1_award = df_award[[\"ocid\", \"id\", \"amount\", \"status\"]]\n",
    "feature1_contract = df_contract[[\"ocid\", \"id\", \"amount\"]]\n",
    "feature1_supplier = df_supplier[[\"award_id\", \"name\"]]"
   ]
  },
  {
   "cell_type": "code",
   "execution_count": 64,
   "metadata": {},
   "outputs": [],
   "source": [
    "main_df = feature1_award.merge(feature1_contract, left_on=\"ocid\", right_on=\"ocid\", how=\"left\", suffixes=(\"_aw\", \"_ctr\"))\n",
    "main_df = main_df.merge(feature1_tender, left_on=\"ocid\", right_on=\"ocid\", how=\"left\")\n",
    "main_df = main_df.merge(feature1_supplier, left_on=\"id_aw\", right_on=\"award_id\", how=\"left\")"
   ]
  },
  {
   "cell_type": "code",
   "execution_count": 65,
   "metadata": {},
   "outputs": [
    {
     "data": {
      "text/plain": [
       "Index(['ocid', 'id_aw', 'amount_aw', 'status', 'id_ctr', 'amount_ctr',\n",
       "       'procuringEntity_name', 'value_amount', 'procurementMethod', 'award_id',\n",
       "       'name'],\n",
       "      dtype='object')"
      ]
     },
     "execution_count": 65,
     "metadata": {},
     "output_type": "execute_result"
    }
   ],
   "source": [
    "main_df.columns"
   ]
  },
  {
   "cell_type": "code",
   "execution_count": 66,
   "metadata": {},
   "outputs": [
    {
     "data": {
      "text/plain": [
       "(1547451, 11)"
      ]
     },
     "execution_count": 66,
     "metadata": {},
     "output_type": "execute_result"
    }
   ],
   "source": [
    "main_df.shape"
   ]
  },
  {
   "cell_type": "code",
   "execution_count": 67,
   "metadata": {},
   "outputs": [],
   "source": [
    "filtro1 = ~((main_df[\"amount_ctr\"].isnull()) | (main_df[\"amount_aw\"].isnull()) | (main_df[\"value_amount\"].isnull()))\n",
    "main_df = main_df[filtro1]\n"
   ]
  },
  {
   "cell_type": "code",
   "execution_count": 68,
   "metadata": {},
   "outputs": [],
   "source": [
    "filtro2 = ((abs(stats.zscore(main_df[\"amount_aw\"])) < 3) & (abs(stats.zscore(main_df[\"amount_ctr\"])) < 3) & (abs(stats.zscore(main_df[\"value_amount\"])) < 3))\n",
    "main_df = main_df[filtro2]"
   ]
  },
  {
   "cell_type": "code",
   "execution_count": 69,
   "metadata": {},
   "outputs": [
    {
     "data": {
      "text/plain": [
       "(639819, 11)"
      ]
     },
     "execution_count": 69,
     "metadata": {},
     "output_type": "execute_result"
    }
   ],
   "source": [
    "main_df.shape"
   ]
  },
  {
   "cell_type": "code",
   "execution_count": 70,
   "metadata": {},
   "outputs": [
    {
     "data": {
      "text/html": [
       "<div>\n",
       "<style scoped>\n",
       "    .dataframe tbody tr th:only-of-type {\n",
       "        vertical-align: middle;\n",
       "    }\n",
       "\n",
       "    .dataframe tbody tr th {\n",
       "        vertical-align: top;\n",
       "    }\n",
       "\n",
       "    .dataframe thead th {\n",
       "        text-align: right;\n",
       "    }\n",
       "</style>\n",
       "<table border=\"1\" class=\"dataframe\">\n",
       "  <thead>\n",
       "    <tr style=\"text-align: right;\">\n",
       "      <th></th>\n",
       "      <th>ocid</th>\n",
       "      <th>id_aw</th>\n",
       "      <th>amount_aw</th>\n",
       "      <th>status</th>\n",
       "      <th>id_ctr</th>\n",
       "      <th>amount_ctr</th>\n",
       "      <th>procuringEntity_name</th>\n",
       "      <th>value_amount</th>\n",
       "      <th>procurementMethod</th>\n",
       "      <th>award_id</th>\n",
       "      <th>name</th>\n",
       "      <th>diferencia_absoluta</th>\n",
       "      <th>diferencia_relativa</th>\n",
       "    </tr>\n",
       "  </thead>\n",
       "  <tbody>\n",
       "    <tr>\n",
       "      <th>14</th>\n",
       "      <td>ocds-5wno2w-RE-HEJCA-F-66-2018-87497</td>\n",
       "      <td>3416132-RE-HEJCA-F-66-2018</td>\n",
       "      <td>14810.82</td>\n",
       "      <td>NaN</td>\n",
       "      <td>565301-RE-HEJCA-F-66-2018</td>\n",
       "      <td>14810.82</td>\n",
       "      <td>HOSPITAL DE ESPECIALIDADES JOSÉ CARRASCO ARTEAGA</td>\n",
       "      <td>14810.82</td>\n",
       "      <td>direct</td>\n",
       "      <td>3416132-RE-HEJCA-F-66-2018</td>\n",
       "      <td>QUIFATEX S.A.</td>\n",
       "      <td>0.00</td>\n",
       "      <td>0.00</td>\n",
       "    </tr>\n",
       "    <tr>\n",
       "      <th>15</th>\n",
       "      <td>ocds-5wno2w-RE-PU-D17D05-002-201-70367</td>\n",
       "      <td>3203446-RE-PU-D17D05-002-201</td>\n",
       "      <td>9451.84</td>\n",
       "      <td>NaN</td>\n",
       "      <td>539734-RE-PU-D17D05-002-201</td>\n",
       "      <td>9451.84</td>\n",
       "      <td>DIRECCION DISTRITAL 17D05 LA CONCEPCION A ZAMB...</td>\n",
       "      <td>9451.84</td>\n",
       "      <td>direct</td>\n",
       "      <td>3203446-RE-PU-D17D05-002-201</td>\n",
       "      <td>MEDILABOR S.A.</td>\n",
       "      <td>0.00</td>\n",
       "      <td>0.00</td>\n",
       "    </tr>\n",
       "    <tr>\n",
       "      <th>20</th>\n",
       "      <td>ocds-5wno2w-CDC-APCNFY-001-2018-913591</td>\n",
       "      <td>3502812-CDC-APCNFY-001-2018</td>\n",
       "      <td>2500.00</td>\n",
       "      <td>NaN</td>\n",
       "      <td>614731-CDC-APCNFY-001-2018</td>\n",
       "      <td>2500.00</td>\n",
       "      <td>ASOCIACION DE PEQUEÑOS PRODUCTORES DE CAFE NUE...</td>\n",
       "      <td>2500.00</td>\n",
       "      <td>direct</td>\n",
       "      <td>3502812-CDC-APCNFY-001-2018</td>\n",
       "      <td>MOROCHO MALLA ANGELA ELIZABETH</td>\n",
       "      <td>0.00</td>\n",
       "      <td>0.00</td>\n",
       "    </tr>\n",
       "    <tr>\n",
       "      <th>21</th>\n",
       "      <td>ocds-5wno2w-CDC-APCNFY-003-2018-913591</td>\n",
       "      <td>3502856-CDC-APCNFY-003-2018</td>\n",
       "      <td>4285.00</td>\n",
       "      <td>NaN</td>\n",
       "      <td>614724-CDC-APCNFY-003-2018</td>\n",
       "      <td>4285.00</td>\n",
       "      <td>ASOCIACION DE PEQUEÑOS PRODUCTORES DE CAFE NUE...</td>\n",
       "      <td>4285.71</td>\n",
       "      <td>direct</td>\n",
       "      <td>3502856-CDC-APCNFY-003-2018</td>\n",
       "      <td>QUILAMBAQUI LOJA FREDY LEONARDO</td>\n",
       "      <td>0.00</td>\n",
       "      <td>0.00</td>\n",
       "    </tr>\n",
       "    <tr>\n",
       "      <th>22</th>\n",
       "      <td>ocds-5wno2w-CDC-APCNFY-004-2018-913591</td>\n",
       "      <td>3517947-CDC-APCNFY-004-2018</td>\n",
       "      <td>2000.00</td>\n",
       "      <td>NaN</td>\n",
       "      <td>614728-CDC-APCNFY-004-2018</td>\n",
       "      <td>2000.00</td>\n",
       "      <td>ASOCIACION DE PEQUEÑOS PRODUCTORES DE CAFE NUE...</td>\n",
       "      <td>2000.00</td>\n",
       "      <td>direct</td>\n",
       "      <td>3517947-CDC-APCNFY-004-2018</td>\n",
       "      <td>IZQUIERDO IDROVO MARIA FERNANDA</td>\n",
       "      <td>0.00</td>\n",
       "      <td>0.00</td>\n",
       "    </tr>\n",
       "  </tbody>\n",
       "</table>\n",
       "</div>"
      ],
      "text/plain": [
       "                                      ocid                         id_aw  \\\n",
       "14    ocds-5wno2w-RE-HEJCA-F-66-2018-87497    3416132-RE-HEJCA-F-66-2018   \n",
       "15  ocds-5wno2w-RE-PU-D17D05-002-201-70367  3203446-RE-PU-D17D05-002-201   \n",
       "20  ocds-5wno2w-CDC-APCNFY-001-2018-913591   3502812-CDC-APCNFY-001-2018   \n",
       "21  ocds-5wno2w-CDC-APCNFY-003-2018-913591   3502856-CDC-APCNFY-003-2018   \n",
       "22  ocds-5wno2w-CDC-APCNFY-004-2018-913591   3517947-CDC-APCNFY-004-2018   \n",
       "\n",
       "    amount_aw status                       id_ctr  amount_ctr  \\\n",
       "14   14810.82    NaN    565301-RE-HEJCA-F-66-2018    14810.82   \n",
       "15    9451.84    NaN  539734-RE-PU-D17D05-002-201     9451.84   \n",
       "20    2500.00    NaN   614731-CDC-APCNFY-001-2018     2500.00   \n",
       "21    4285.00    NaN   614724-CDC-APCNFY-003-2018     4285.00   \n",
       "22    2000.00    NaN   614728-CDC-APCNFY-004-2018     2000.00   \n",
       "\n",
       "                                 procuringEntity_name  value_amount  \\\n",
       "14   HOSPITAL DE ESPECIALIDADES JOSÉ CARRASCO ARTEAGA      14810.82   \n",
       "15  DIRECCION DISTRITAL 17D05 LA CONCEPCION A ZAMB...       9451.84   \n",
       "20  ASOCIACION DE PEQUEÑOS PRODUCTORES DE CAFE NUE...       2500.00   \n",
       "21  ASOCIACION DE PEQUEÑOS PRODUCTORES DE CAFE NUE...       4285.71   \n",
       "22  ASOCIACION DE PEQUEÑOS PRODUCTORES DE CAFE NUE...       2000.00   \n",
       "\n",
       "   procurementMethod                      award_id  \\\n",
       "14            direct    3416132-RE-HEJCA-F-66-2018   \n",
       "15            direct  3203446-RE-PU-D17D05-002-201   \n",
       "20            direct   3502812-CDC-APCNFY-001-2018   \n",
       "21            direct   3502856-CDC-APCNFY-003-2018   \n",
       "22            direct   3517947-CDC-APCNFY-004-2018   \n",
       "\n",
       "                               name  diferencia_absoluta  diferencia_relativa  \n",
       "14                    QUIFATEX S.A.                 0.00                 0.00  \n",
       "15                   MEDILABOR S.A.                 0.00                 0.00  \n",
       "20   MOROCHO MALLA ANGELA ELIZABETH                 0.00                 0.00  \n",
       "21  QUILAMBAQUI LOJA FREDY LEONARDO                 0.00                 0.00  \n",
       "22  IZQUIERDO IDROVO MARIA FERNANDA                 0.00                 0.00  "
      ]
     },
     "execution_count": 70,
     "metadata": {},
     "output_type": "execute_result"
    }
   ],
   "source": [
    "main_df[\"diferencia_absoluta\"] = np.abs(main_df[\"amount_aw\"] - main_df[\"amount_ctr\"])\n",
    "main_df[\"diferencia_relativa\"] = np.abs(main_df[\"diferencia_absoluta\"] / main_df[\"amount_aw\"])\n",
    "main_df.head()"
   ]
  },
  {
   "cell_type": "code",
   "execution_count": 71,
   "metadata": {},
   "outputs": [],
   "source": [
    "percentaje = main_df.groupby([\"procuringEntity_name\", \"name\"])[\"id_aw\"].count().reset_index()"
   ]
  },
  {
   "cell_type": "code",
   "execution_count": 72,
   "metadata": {},
   "outputs": [],
   "source": [
    "main_df = main_df.groupby(\"procuringEntity_name\").agg({\n",
    "    \"diferencia_relativa\" : \"mean\",\n",
    "    \"diferencia_absoluta\" : \"mean\",\n",
    "}).reset_index()"
   ]
  },
  {
   "cell_type": "code",
   "execution_count": 73,
   "metadata": {},
   "outputs": [],
   "source": [
    "\n",
    "main_df[\"total_procesos\"] = percentaje.groupby([\"procuringEntity_name\"])[\"id_aw\"].sum().reset_index()[\"id_aw\"]\n",
    "main_df[\"unicos\"] = percentaje.groupby([\"procuringEntity_name\"])[\"id_aw\"].count().reset_index()[\"id_aw\"]\n",
    "main_df[\"porcentaje_unicos\"] = main_df[\"unicos\"] / main_df[\"total_procesos\"]"
   ]
  },
  {
   "cell_type": "code",
   "execution_count": 74,
   "metadata": {},
   "outputs": [],
   "source": [
    "filtro3 = main_df[\"diferencia_relativa\"] <= 20\n",
    "main_df = main_df[filtro3]"
   ]
  },
  {
   "cell_type": "code",
   "execution_count": 75,
   "metadata": {},
   "outputs": [
    {
     "data": {
      "text/html": [
       "<div>\n",
       "<style scoped>\n",
       "    .dataframe tbody tr th:only-of-type {\n",
       "        vertical-align: middle;\n",
       "    }\n",
       "\n",
       "    .dataframe tbody tr th {\n",
       "        vertical-align: top;\n",
       "    }\n",
       "\n",
       "    .dataframe thead th {\n",
       "        text-align: right;\n",
       "    }\n",
       "</style>\n",
       "<table border=\"1\" class=\"dataframe\">\n",
       "  <thead>\n",
       "    <tr style=\"text-align: right;\">\n",
       "      <th></th>\n",
       "      <th>procuringEntity_name</th>\n",
       "      <th>diferencia_relativa</th>\n",
       "      <th>diferencia_absoluta</th>\n",
       "      <th>total_procesos</th>\n",
       "      <th>unicos</th>\n",
       "      <th>porcentaje_unicos</th>\n",
       "    </tr>\n",
       "  </thead>\n",
       "  <tbody>\n",
       "    <tr>\n",
       "      <th>0</th>\n",
       "      <td>\\t GOBIERNO AUTONOMO PARROQUIAL DE SINAI</td>\n",
       "      <td>0.00</td>\n",
       "      <td>0.00</td>\n",
       "      <td>1</td>\n",
       "      <td>1</td>\n",
       "      <td>1.00</td>\n",
       "    </tr>\n",
       "    <tr>\n",
       "      <th>1</th>\n",
       "      <td>GOBIERNO AUTONOMO DESCENTRALIZADO DE LA PARRO...</td>\n",
       "      <td>0.00</td>\n",
       "      <td>0.00</td>\n",
       "      <td>3</td>\n",
       "      <td>3</td>\n",
       "      <td>1.00</td>\n",
       "    </tr>\n",
       "    <tr>\n",
       "      <th>2</th>\n",
       "      <td>GOBIERNO AUTONOMO DESCENTRALIZADO PARROQUIAL ...</td>\n",
       "      <td>0.00</td>\n",
       "      <td>0.00</td>\n",
       "      <td>1</td>\n",
       "      <td>1</td>\n",
       "      <td>1.00</td>\n",
       "    </tr>\n",
       "    <tr>\n",
       "      <th>3</th>\n",
       "      <td>GOBIERNO AUTONOMO DESCENTRALIZADO PARROQUIAL ...</td>\n",
       "      <td>0.00</td>\n",
       "      <td>0.00</td>\n",
       "      <td>3</td>\n",
       "      <td>3</td>\n",
       "      <td>1.00</td>\n",
       "    </tr>\n",
       "    <tr>\n",
       "      <th>4</th>\n",
       "      <td>ACCION SOCIAL DEL GOBIERNO AUTONOMO DESCENTRAL...</td>\n",
       "      <td>0.00</td>\n",
       "      <td>0.00</td>\n",
       "      <td>2</td>\n",
       "      <td>1</td>\n",
       "      <td>0.50</td>\n",
       "    </tr>\n",
       "  </tbody>\n",
       "</table>\n",
       "</div>"
      ],
      "text/plain": [
       "                                procuringEntity_name  diferencia_relativa  \\\n",
       "0           \\t GOBIERNO AUTONOMO PARROQUIAL DE SINAI                 0.00   \n",
       "1   GOBIERNO AUTONOMO DESCENTRALIZADO DE LA PARRO...                 0.00   \n",
       "2   GOBIERNO AUTONOMO DESCENTRALIZADO PARROQUIAL ...                 0.00   \n",
       "3   GOBIERNO AUTONOMO DESCENTRALIZADO PARROQUIAL ...                 0.00   \n",
       "4  ACCION SOCIAL DEL GOBIERNO AUTONOMO DESCENTRAL...                 0.00   \n",
       "\n",
       "   diferencia_absoluta  total_procesos  unicos  porcentaje_unicos  \n",
       "0                 0.00               1       1               1.00  \n",
       "1                 0.00               3       3               1.00  \n",
       "2                 0.00               1       1               1.00  \n",
       "3                 0.00               3       3               1.00  \n",
       "4                 0.00               2       1               0.50  "
      ]
     },
     "execution_count": 75,
     "metadata": {},
     "output_type": "execute_result"
    }
   ],
   "source": [
    "main_df.head()"
   ]
  },
  {
   "cell_type": "code",
   "execution_count": 76,
   "metadata": {},
   "outputs": [
    {
     "data": {
      "text/html": [
       "<div>\n",
       "<style scoped>\n",
       "    .dataframe tbody tr th:only-of-type {\n",
       "        vertical-align: middle;\n",
       "    }\n",
       "\n",
       "    .dataframe tbody tr th {\n",
       "        vertical-align: top;\n",
       "    }\n",
       "\n",
       "    .dataframe thead th {\n",
       "        text-align: right;\n",
       "    }\n",
       "</style>\n",
       "<table border=\"1\" class=\"dataframe\">\n",
       "  <thead>\n",
       "    <tr style=\"text-align: right;\">\n",
       "      <th></th>\n",
       "      <th>Licitante</th>\n",
       "      <th>Diferencia relativa Promedio</th>\n",
       "      <th>Diferencia absoluta promedio</th>\n",
       "      <th>Total Procesos</th>\n",
       "      <th>Empresas Unicas</th>\n",
       "      <th>Porcentaje Empresas Unicas</th>\n",
       "    </tr>\n",
       "  </thead>\n",
       "  <tbody>\n",
       "    <tr>\n",
       "      <th>0</th>\n",
       "      <td>\\t GOBIERNO AUTONOMO PARROQUIAL DE SINAI</td>\n",
       "      <td>0.00</td>\n",
       "      <td>0.00</td>\n",
       "      <td>1</td>\n",
       "      <td>1</td>\n",
       "      <td>1.00</td>\n",
       "    </tr>\n",
       "    <tr>\n",
       "      <th>1</th>\n",
       "      <td>GOBIERNO AUTONOMO DESCENTRALIZADO DE LA PARRO...</td>\n",
       "      <td>0.00</td>\n",
       "      <td>0.00</td>\n",
       "      <td>3</td>\n",
       "      <td>3</td>\n",
       "      <td>1.00</td>\n",
       "    </tr>\n",
       "    <tr>\n",
       "      <th>2</th>\n",
       "      <td>GOBIERNO AUTONOMO DESCENTRALIZADO PARROQUIAL ...</td>\n",
       "      <td>0.00</td>\n",
       "      <td>0.00</td>\n",
       "      <td>1</td>\n",
       "      <td>1</td>\n",
       "      <td>1.00</td>\n",
       "    </tr>\n",
       "    <tr>\n",
       "      <th>3</th>\n",
       "      <td>GOBIERNO AUTONOMO DESCENTRALIZADO PARROQUIAL ...</td>\n",
       "      <td>0.00</td>\n",
       "      <td>0.00</td>\n",
       "      <td>3</td>\n",
       "      <td>3</td>\n",
       "      <td>1.00</td>\n",
       "    </tr>\n",
       "    <tr>\n",
       "      <th>4</th>\n",
       "      <td>ACCION SOCIAL DEL GOBIERNO AUTONOMO DESCENTRAL...</td>\n",
       "      <td>0.00</td>\n",
       "      <td>0.00</td>\n",
       "      <td>2</td>\n",
       "      <td>1</td>\n",
       "      <td>0.50</td>\n",
       "    </tr>\n",
       "  </tbody>\n",
       "</table>\n",
       "</div>"
      ],
      "text/plain": [
       "                                           Licitante  \\\n",
       "0           \\t GOBIERNO AUTONOMO PARROQUIAL DE SINAI   \n",
       "1   GOBIERNO AUTONOMO DESCENTRALIZADO DE LA PARRO...   \n",
       "2   GOBIERNO AUTONOMO DESCENTRALIZADO PARROQUIAL ...   \n",
       "3   GOBIERNO AUTONOMO DESCENTRALIZADO PARROQUIAL ...   \n",
       "4  ACCION SOCIAL DEL GOBIERNO AUTONOMO DESCENTRAL...   \n",
       "\n",
       "   Diferencia relativa Promedio  Diferencia absoluta promedio  Total Procesos  \\\n",
       "0                          0.00                          0.00               1   \n",
       "1                          0.00                          0.00               3   \n",
       "2                          0.00                          0.00               1   \n",
       "3                          0.00                          0.00               3   \n",
       "4                          0.00                          0.00               2   \n",
       "\n",
       "   Empresas Unicas  Porcentaje Empresas Unicas  \n",
       "0                1                        1.00  \n",
       "1                3                        1.00  \n",
       "2                1                        1.00  \n",
       "3                3                        1.00  \n",
       "4                1                        0.50  "
      ]
     },
     "execution_count": 76,
     "metadata": {},
     "output_type": "execute_result"
    }
   ],
   "source": [
    "main_df.columns = [\"Licitante\", \"Diferencia relativa Promedio\", \"Diferencia absoluta promedio\", \"Total Procesos\", \"Empresas Unicas\", \"Porcentaje Empresas Unicas\"]\n",
    "main_df.head()"
   ]
  },
  {
   "cell_type": "code",
   "execution_count": 77,
   "metadata": {},
   "outputs": [],
   "source": [
    "columns = [\"Diferencia relativa Promedio\", \"Total Procesos\", \"Porcentaje Empresas Unicas\"]\n",
    "X = main_df.loc[:,columns]"
   ]
  },
  {
   "cell_type": "code",
   "execution_count": 78,
   "metadata": {},
   "outputs": [
    {
     "data": {
      "text/plain": [
       "StandardScaler()"
      ]
     },
     "execution_count": 78,
     "metadata": {},
     "output_type": "execute_result"
    }
   ],
   "source": [
    "sc = StandardScaler()\n",
    "sc.fit(X)"
   ]
  },
  {
   "cell_type": "code",
   "execution_count": 79,
   "metadata": {},
   "outputs": [],
   "source": [
    "X_norm = sc.transform(X)"
   ]
  },
  {
   "cell_type": "code",
   "execution_count": 80,
   "metadata": {},
   "outputs": [
    {
     "data": {
      "text/plain": [
       "(2494, 3)"
      ]
     },
     "execution_count": 80,
     "metadata": {},
     "output_type": "execute_result"
    }
   ],
   "source": [
    "X_norm.shape"
   ]
  },
  {
   "cell_type": "code",
   "execution_count": 81,
   "metadata": {},
   "outputs": [],
   "source": [
    "clusters = np.arange(2,16)\n",
    "inercias = []\n",
    "for k in clusters:\n",
    "    kmeans = KMeans(n_clusters=k, random_state=RANDOM_STATE)\n",
    "    kmeans.fit(X_norm)\n",
    "    inercias.append(kmeans.inertia_)"
   ]
  },
  {
   "cell_type": "code",
   "execution_count": 82,
   "metadata": {},
   "outputs": [],
   "source": [
    "eva = pd.DataFrame({\"K\":clusters, \"inercia\":inercias})"
   ]
  },
  {
   "cell_type": "code",
   "execution_count": 83,
   "metadata": {},
   "outputs": [
    {
     "data": {
      "text/plain": [
       "<AxesSubplot:xlabel='K', ylabel='inercia'>"
      ]
     },
     "execution_count": 83,
     "metadata": {},
     "output_type": "execute_result"
    },
    {
     "data": {
      "image/png": "[encoded data removed]",
      "text/plain": [
       "<Figure size 1152x576 with 1 Axes>"
      ]
     },
     "metadata": {},
     "output_type": "display_data"
    }
   ],
   "source": [
    "sns.set_style(\"darkgrid\")\n",
    "fig, ax = plt.subplots(figsize=(16,8))\n",
    "sns.lineplot(data = eva[:10], x = \"K\", y = \"inercia\")"
   ]
  },
  {
   "cell_type": "code",
   "execution_count": 84,
   "metadata": {},
   "outputs": [],
   "source": [
    "kmeans = KMeans(n_clusters=4, random_state=RANDOM_STATE)"
   ]
  },
  {
   "cell_type": "code",
   "execution_count": 85,
   "metadata": {},
   "outputs": [
    {
     "data": {
      "text/plain": [
       "KMeans(n_clusters=4, random_state=42)"
      ]
     },
     "execution_count": 85,
     "metadata": {},
     "output_type": "execute_result"
    }
   ],
   "source": [
    "kmeans.fit(X_norm)"
   ]
  },
  {
   "cell_type": "code",
   "execution_count": 86,
   "metadata": {},
   "outputs": [],
   "source": [
    "main_df[\"Cluster\"] = kmeans.labels_"
   ]
  },
  {
   "cell_type": "code",
   "execution_count": 87,
   "metadata": {},
   "outputs": [
    {
     "data": {
      "text/html": [
       "<div>\n",
       "<style scoped>\n",
       "    .dataframe tbody tr th:only-of-type {\n",
       "        vertical-align: middle;\n",
       "    }\n",
       "\n",
       "    .dataframe tbody tr th {\n",
       "        vertical-align: top;\n",
       "    }\n",
       "\n",
       "    .dataframe thead th {\n",
       "        text-align: right;\n",
       "    }\n",
       "</style>\n",
       "<table border=\"1\" class=\"dataframe\">\n",
       "  <thead>\n",
       "    <tr style=\"text-align: right;\">\n",
       "      <th></th>\n",
       "      <th>Licitante</th>\n",
       "      <th>Diferencia relativa Promedio</th>\n",
       "      <th>Diferencia absoluta promedio</th>\n",
       "      <th>Total Procesos</th>\n",
       "      <th>Empresas Unicas</th>\n",
       "      <th>Porcentaje Empresas Unicas</th>\n",
       "      <th>Cluster</th>\n",
       "    </tr>\n",
       "  </thead>\n",
       "  <tbody>\n",
       "    <tr>\n",
       "      <th>0</th>\n",
       "      <td>\\t GOBIERNO AUTONOMO PARROQUIAL DE SINAI</td>\n",
       "      <td>0.00</td>\n",
       "      <td>0.00</td>\n",
       "      <td>1</td>\n",
       "      <td>1</td>\n",
       "      <td>1.00</td>\n",
       "      <td>0</td>\n",
       "    </tr>\n",
       "    <tr>\n",
       "      <th>1</th>\n",
       "      <td>GOBIERNO AUTONOMO DESCENTRALIZADO DE LA PARRO...</td>\n",
       "      <td>0.00</td>\n",
       "      <td>0.00</td>\n",
       "      <td>3</td>\n",
       "      <td>3</td>\n",
       "      <td>1.00</td>\n",
       "      <td>0</td>\n",
       "    </tr>\n",
       "    <tr>\n",
       "      <th>2</th>\n",
       "      <td>GOBIERNO AUTONOMO DESCENTRALIZADO PARROQUIAL ...</td>\n",
       "      <td>0.00</td>\n",
       "      <td>0.00</td>\n",
       "      <td>1</td>\n",
       "      <td>1</td>\n",
       "      <td>1.00</td>\n",
       "      <td>0</td>\n",
       "    </tr>\n",
       "    <tr>\n",
       "      <th>3</th>\n",
       "      <td>GOBIERNO AUTONOMO DESCENTRALIZADO PARROQUIAL ...</td>\n",
       "      <td>0.00</td>\n",
       "      <td>0.00</td>\n",
       "      <td>3</td>\n",
       "      <td>3</td>\n",
       "      <td>1.00</td>\n",
       "      <td>0</td>\n",
       "    </tr>\n",
       "    <tr>\n",
       "      <th>4</th>\n",
       "      <td>ACCION SOCIAL DEL GOBIERNO AUTONOMO DESCENTRAL...</td>\n",
       "      <td>0.00</td>\n",
       "      <td>0.00</td>\n",
       "      <td>2</td>\n",
       "      <td>1</td>\n",
       "      <td>0.50</td>\n",
       "      <td>2</td>\n",
       "    </tr>\n",
       "  </tbody>\n",
       "</table>\n",
       "</div>"
      ],
      "text/plain": [
       "                                           Licitante  \\\n",
       "0           \\t GOBIERNO AUTONOMO PARROQUIAL DE SINAI   \n",
       "1   GOBIERNO AUTONOMO DESCENTRALIZADO DE LA PARRO...   \n",
       "2   GOBIERNO AUTONOMO DESCENTRALIZADO PARROQUIAL ...   \n",
       "3   GOBIERNO AUTONOMO DESCENTRALIZADO PARROQUIAL ...   \n",
       "4  ACCION SOCIAL DEL GOBIERNO AUTONOMO DESCENTRAL...   \n",
       "\n",
       "   Diferencia relativa Promedio  Diferencia absoluta promedio  Total Procesos  \\\n",
       "0                          0.00                          0.00               1   \n",
       "1                          0.00                          0.00               3   \n",
       "2                          0.00                          0.00               1   \n",
       "3                          0.00                          0.00               3   \n",
       "4                          0.00                          0.00               2   \n",
       "\n",
       "   Empresas Unicas  Porcentaje Empresas Unicas  Cluster  \n",
       "0                1                        1.00        0  \n",
       "1                3                        1.00        0  \n",
       "2                1                        1.00        0  \n",
       "3                3                        1.00        0  \n",
       "4                1                        0.50        2  "
      ]
     },
     "execution_count": 87,
     "metadata": {},
     "output_type": "execute_result"
    }
   ],
   "source": [
    "main_df.head()"
   ]
  },
  {
   "cell_type": "code",
   "execution_count": 88,
   "metadata": {},
   "outputs": [
    {
     "data": {
      "text/html": [
       "<div>\n",
       "<style scoped>\n",
       "    .dataframe tbody tr th:only-of-type {\n",
       "        vertical-align: middle;\n",
       "    }\n",
       "\n",
       "    .dataframe tbody tr th {\n",
       "        vertical-align: top;\n",
       "    }\n",
       "\n",
       "    .dataframe thead th {\n",
       "        text-align: right;\n",
       "    }\n",
       "</style>\n",
       "<table border=\"1\" class=\"dataframe\">\n",
       "  <thead>\n",
       "    <tr style=\"text-align: right;\">\n",
       "      <th></th>\n",
       "      <th>Licitante</th>\n",
       "      <th>Diferencia relativa Promedio</th>\n",
       "      <th>Diferencia absoluta promedio</th>\n",
       "      <th>Total Procesos</th>\n",
       "      <th>Empresas Unicas</th>\n",
       "      <th>Porcentaje Empresas Unicas</th>\n",
       "      <th>Cluster</th>\n",
       "    </tr>\n",
       "  </thead>\n",
       "  <tbody>\n",
       "    <tr>\n",
       "      <th>4</th>\n",
       "      <td>ACCION SOCIAL DEL GOBIERNO AUTONOMO DESCENTRAL...</td>\n",
       "      <td>0.00</td>\n",
       "      <td>0.00</td>\n",
       "      <td>2</td>\n",
       "      <td>1</td>\n",
       "      <td>0.50</td>\n",
       "      <td>2</td>\n",
       "    </tr>\n",
       "    <tr>\n",
       "      <th>6</th>\n",
       "      <td>AGENCIA DE ASEGURAMIENTO DE LA CALIDAD DE LOS ...</td>\n",
       "      <td>0.70</td>\n",
       "      <td>71018.14</td>\n",
       "      <td>10</td>\n",
       "      <td>2</td>\n",
       "      <td>0.20</td>\n",
       "      <td>2</td>\n",
       "    </tr>\n",
       "    <tr>\n",
       "      <th>7</th>\n",
       "      <td>AGENCIA DE REGULACION Y CONTROL DE LAS TELECOM...</td>\n",
       "      <td>0.00</td>\n",
       "      <td>0.00</td>\n",
       "      <td>31</td>\n",
       "      <td>22</td>\n",
       "      <td>0.71</td>\n",
       "      <td>2</td>\n",
       "    </tr>\n",
       "    <tr>\n",
       "      <th>8</th>\n",
       "      <td>AGENCIA DE REGULACION Y CONTROL MINERO</td>\n",
       "      <td>0.00</td>\n",
       "      <td>0.00</td>\n",
       "      <td>19</td>\n",
       "      <td>7</td>\n",
       "      <td>0.37</td>\n",
       "      <td>2</td>\n",
       "    </tr>\n",
       "    <tr>\n",
       "      <th>9</th>\n",
       "      <td>AGENCIA DE REGULACIÓN Y CONTROL DE ENERGÍA Y R...</td>\n",
       "      <td>0.00</td>\n",
       "      <td>0.00</td>\n",
       "      <td>20</td>\n",
       "      <td>14</td>\n",
       "      <td>0.70</td>\n",
       "      <td>2</td>\n",
       "    </tr>\n",
       "    <tr>\n",
       "      <th>...</th>\n",
       "      <td>...</td>\n",
       "      <td>...</td>\n",
       "      <td>...</td>\n",
       "      <td>...</td>\n",
       "      <td>...</td>\n",
       "      <td>...</td>\n",
       "      <td>...</td>\n",
       "    </tr>\n",
       "    <tr>\n",
       "      <th>2535</th>\n",
       "      <td>Universidad Tecnica de Machala</td>\n",
       "      <td>0.21</td>\n",
       "      <td>110.32</td>\n",
       "      <td>68</td>\n",
       "      <td>30</td>\n",
       "      <td>0.44</td>\n",
       "      <td>2</td>\n",
       "    </tr>\n",
       "    <tr>\n",
       "      <th>2537</th>\n",
       "      <td>Universidad Técnica del Norte</td>\n",
       "      <td>0.02</td>\n",
       "      <td>263.87</td>\n",
       "      <td>50</td>\n",
       "      <td>27</td>\n",
       "      <td>0.54</td>\n",
       "      <td>2</td>\n",
       "    </tr>\n",
       "    <tr>\n",
       "      <th>2538</th>\n",
       "      <td>VICEPRESIDENCIA DE LA REPUBLICA</td>\n",
       "      <td>0.00</td>\n",
       "      <td>0.00</td>\n",
       "      <td>14</td>\n",
       "      <td>7</td>\n",
       "      <td>0.50</td>\n",
       "      <td>2</td>\n",
       "    </tr>\n",
       "    <tr>\n",
       "      <th>2541</th>\n",
       "      <td>comando provincial de la policia del guayas nr...</td>\n",
       "      <td>0.03</td>\n",
       "      <td>7176.36</td>\n",
       "      <td>33</td>\n",
       "      <td>19</td>\n",
       "      <td>0.58</td>\n",
       "      <td>2</td>\n",
       "    </tr>\n",
       "    <tr>\n",
       "      <th>2542</th>\n",
       "      <td>comandodepoliciadeorellana</td>\n",
       "      <td>0.00</td>\n",
       "      <td>0.00</td>\n",
       "      <td>21</td>\n",
       "      <td>10</td>\n",
       "      <td>0.48</td>\n",
       "      <td>2</td>\n",
       "    </tr>\n",
       "  </tbody>\n",
       "</table>\n",
       "<p>978 rows × 7 columns</p>\n",
       "</div>"
      ],
      "text/plain": [
       "                                              Licitante  \\\n",
       "4     ACCION SOCIAL DEL GOBIERNO AUTONOMO DESCENTRAL...   \n",
       "6     AGENCIA DE ASEGURAMIENTO DE LA CALIDAD DE LOS ...   \n",
       "7     AGENCIA DE REGULACION Y CONTROL DE LAS TELECOM...   \n",
       "8                AGENCIA DE REGULACION Y CONTROL MINERO   \n",
       "9     AGENCIA DE REGULACIÓN Y CONTROL DE ENERGÍA Y R...   \n",
       "...                                                 ...   \n",
       "2535                     Universidad Tecnica de Machala   \n",
       "2537                      Universidad Técnica del Norte   \n",
       "2538                   VICEPRESIDENCIA DE LA REPUBLICA    \n",
       "2541  comando provincial de la policia del guayas nr...   \n",
       "2542                         comandodepoliciadeorellana   \n",
       "\n",
       "      Diferencia relativa Promedio  Diferencia absoluta promedio  \\\n",
       "4                             0.00                          0.00   \n",
       "6                             0.70                      71018.14   \n",
       "7                             0.00                          0.00   \n",
       "8                             0.00                          0.00   \n",
       "9                             0.00                          0.00   \n",
       "...                            ...                           ...   \n",
       "2535                          0.21                        110.32   \n",
       "2537                          0.02                        263.87   \n",
       "2538                          0.00                          0.00   \n",
       "2541                          0.03                       7176.36   \n",
       "2542                          0.00                          0.00   \n",
       "\n",
       "      Total Procesos  Empresas Unicas  Porcentaje Empresas Unicas  Cluster  \n",
       "4                  2                1                        0.50        2  \n",
       "6                 10                2                        0.20        2  \n",
       "7                 31               22                        0.71        2  \n",
       "8                 19                7                        0.37        2  \n",
       "9                 20               14                        0.70        2  \n",
       "...              ...              ...                         ...      ...  \n",
       "2535              68               30                        0.44        2  \n",
       "2537              50               27                        0.54        2  \n",
       "2538              14                7                        0.50        2  \n",
       "2541              33               19                        0.58        2  \n",
       "2542              21               10                        0.48        2  \n",
       "\n",
       "[978 rows x 7 columns]"
      ]
     },
     "execution_count": 88,
     "metadata": {},
     "output_type": "execute_result"
    }
   ],
   "source": [
    "main_df[main_df[\"Cluster\"] == 2]"
   ]
  },
  {
   "cell_type": "code",
   "execution_count": 89,
   "metadata": {},
   "outputs": [
    {
     "data": {
      "text/html": [
       "<div>\n",
       "<style scoped>\n",
       "    .dataframe tbody tr th:only-of-type {\n",
       "        vertical-align: middle;\n",
       "    }\n",
       "\n",
       "    .dataframe tbody tr th {\n",
       "        vertical-align: top;\n",
       "    }\n",
       "\n",
       "    .dataframe thead th {\n",
       "        text-align: right;\n",
       "    }\n",
       "</style>\n",
       "<table border=\"1\" class=\"dataframe\">\n",
       "  <thead>\n",
       "    <tr style=\"text-align: right;\">\n",
       "      <th></th>\n",
       "      <th>Diferencia relativa Promedio</th>\n",
       "      <th>Total Procesos</th>\n",
       "      <th>Porcentaje Empresas Unicas</th>\n",
       "    </tr>\n",
       "    <tr>\n",
       "      <th>Cluster</th>\n",
       "      <th></th>\n",
       "      <th></th>\n",
       "      <th></th>\n",
       "    </tr>\n",
       "  </thead>\n",
       "  <tbody>\n",
       "    <tr>\n",
       "      <th>0</th>\n",
       "      <td>0.02</td>\n",
       "      <td>6.31</td>\n",
       "      <td>0.95</td>\n",
       "    </tr>\n",
       "    <tr>\n",
       "      <th>1</th>\n",
       "      <td>17.43</td>\n",
       "      <td>336225.00</td>\n",
       "      <td>0.00</td>\n",
       "    </tr>\n",
       "    <tr>\n",
       "      <th>2</th>\n",
       "      <td>0.38</td>\n",
       "      <td>69.98</td>\n",
       "      <td>0.48</td>\n",
       "    </tr>\n",
       "    <tr>\n",
       "      <th>3</th>\n",
       "      <td>9.40</td>\n",
       "      <td>1668.78</td>\n",
       "      <td>0.23</td>\n",
       "    </tr>\n",
       "  </tbody>\n",
       "</table>\n",
       "</div>"
      ],
      "text/plain": [
       "         Diferencia relativa Promedio  Total Procesos  \\\n",
       "Cluster                                                 \n",
       "0                                0.02            6.31   \n",
       "1                               17.43       336225.00   \n",
       "2                                0.38           69.98   \n",
       "3                                9.40         1668.78   \n",
       "\n",
       "         Porcentaje Empresas Unicas  \n",
       "Cluster                              \n",
       "0                              0.95  \n",
       "1                              0.00  \n",
       "2                              0.48  \n",
       "3                              0.23  "
      ]
     },
     "execution_count": 89,
     "metadata": {},
     "output_type": "execute_result"
    }
   ],
   "source": [
    "df_by_cluster =  main_df.groupby(\"Cluster\").agg({\"Diferencia relativa Promedio\": np.mean, \"Total Procesos\": np.mean, \"Porcentaje Empresas Unicas\": np.mean,})\n",
    "df_by_cluster"
   ]
  },
  {
   "cell_type": "code",
   "execution_count": 90,
   "metadata": {},
   "outputs": [
    {
     "data": {
      "image/png": "[encoded data removed]",
      "text/plain": [
       "<Figure size 581.625x540 with 12 Axes>"
      ]
     },
     "metadata": {},
     "output_type": "display_data"
    }
   ],
   "source": [
    "columns = [\"Diferencia relativa Promedio\", \"Total Procesos\", \"Porcentaje Empresas Unicas\", \"Cluster\"]\n",
    "sns.set_style(\"darkgrid\")\n",
    "axs = sns.pairplot(main_df.loc[:,columns], hue=\"Cluster\", palette=\"tab10\")\n",
    "axs.fig.savefig(\"../output/kmeans.jpg\")\n"
   ]
  }
 ],
 "metadata": {
  "kernelspec": {
   "display_name": "Python 3.7.12 ('icd')",
   "language": "python",
   "name": "python3"
  },
  "language_info": {
   "codemirror_mode": {
    "name": "ipython",
    "version": 3
   },
   "file_extension": ".py",
   "mimetype": "text/x-python",
   "name": "python",
   "nbconvert_exporter": "python",
   "pygments_lexer": "ipython3",
   "version": "3.7.12"
  },
  "orig_nbformat": 4,
  "vscode": {
   "interpreter": {
    "hash": "2032ae172dee228978471570a37de78f0ff56046ba7520af1570576ee8db04d6"
   }
  }
 },
 "nbformat": 4,
 "nbformat_minor": 2
}

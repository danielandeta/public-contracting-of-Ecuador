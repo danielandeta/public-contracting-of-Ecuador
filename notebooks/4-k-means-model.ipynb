{
 "cells": [
  {
   "cell_type": "code",
   "execution_count": 45,
   "metadata": {},
   "outputs": [],
   "source": [
    "import pandas as pd\n",
    "import numpy as np\n",
    "from sklearn.preprocessing import StandardScaler\n",
    "from sklearn.cluster import KMeans\n",
    "import seaborn as sns\n",
    "import matplotlib.pyplot as plt\n",
    "from scipy import stats"
   ]
  },
  {
   "cell_type": "code",
   "execution_count": 46,
   "metadata": {},
   "outputs": [],
   "source": [
    "pd.options.display.float_format = '{:.2f}'.format"
   ]
  },
  {
   "cell_type": "code",
   "execution_count": 47,
   "metadata": {},
   "outputs": [
    {
     "name": "stderr",
     "output_type": "stream",
     "text": [
      "/home/citlalli/.local/lib/python3.8/site-packages/IPython/core/interactiveshell.py:3172: DtypeWarning: Columns (12,13,14,15,16,18,19,20,22,23,24,25,26) have mixed types. Specify dtype option on import or set low_memory=False.\n",
      "  has_raised = await self.run_ast_nodes(code_ast.body, cell_name,\n"
     ]
    }
   ],
   "source": [
    "df_tender_2018 = pd.read_csv(\"../data/releases_2018/tender_2018.csv\")\n",
    "df_tender_2019 = pd.read_csv(\"../data/releases_2019/tender_2019.csv\")\n",
    "df_tender_2020 = pd.read_csv(\"../data/releases_2020/tender_2020.csv\")\n",
    "df_tender_2021 = pd.read_csv(\"../data/releases_2021/tender_2021.csv\")\n",
    "df_tender = pd.concat([df_tender_2018, df_tender_2019, df_tender_2020, df_tender_2021], axis=0)"
   ]
  },
  {
   "cell_type": "code",
   "execution_count": 48,
   "metadata": {},
   "outputs": [
    {
     "name": "stderr",
     "output_type": "stream",
     "text": [
      "/home/citlalli/.local/lib/python3.8/site-packages/IPython/core/interactiveshell.py:3172: DtypeWarning: Columns (4,5,6,13,14) have mixed types. Specify dtype option on import or set low_memory=False.\n",
      "  has_raised = await self.run_ast_nodes(code_ast.body, cell_name,\n",
      "/home/citlalli/.local/lib/python3.8/site-packages/IPython/core/interactiveshell.py:3172: DtypeWarning: Columns (4,6,13,14) have mixed types. Specify dtype option on import or set low_memory=False.\n",
      "  has_raised = await self.run_ast_nodes(code_ast.body, cell_name,\n"
     ]
    }
   ],
   "source": [
    "df_award_2018 = pd.read_csv(\"../data/releases_2018/awards_2018.csv\")\n",
    "df_award_2019 = pd.read_csv(\"../data/releases_2019/awards_2019.csv\")\n",
    "df_award_2020 = pd.read_csv(\"../data/releases_2020/awards_2020.csv\")\n",
    "df_award_2021 = pd.read_csv(\"../data/releases_2021/awards_2021.csv\")\n",
    "df_award = pd.concat([df_award_2018, df_award_2019, df_award_2020, df_award_2021], axis=0)"
   ]
  },
  {
   "cell_type": "code",
   "execution_count": 49,
   "metadata": {},
   "outputs": [
    {
     "name": "stderr",
     "output_type": "stream",
     "text": [
      "/home/citlalli/.local/lib/python3.8/site-packages/IPython/core/interactiveshell.py:3172: DtypeWarning: Columns (7,8,12,13) have mixed types. Specify dtype option on import or set low_memory=False.\n",
      "  has_raised = await self.run_ast_nodes(code_ast.body, cell_name,\n"
     ]
    }
   ],
   "source": [
    "df_contract_2018 = pd.read_csv(\"../data/releases_2018/contracts_2018.csv\")\n",
    "df_contract_2019 = pd.read_csv(\"../data/releases_2019/contracts_2019.csv\")\n",
    "df_contract_2020 = pd.read_csv(\"../data/releases_2020/contracts_2020.csv\")\n",
    "df_contract_2021 = pd.read_csv(\"../data/releases_2021/contracts_2021.csv\")\n",
    "df_contract = pd.concat([df_contract_2018, df_contract_2019, df_contract_2020, df_contract_2021], axis=0)"
   ]
  },
  {
   "cell_type": "code",
   "execution_count": 50,
   "metadata": {},
   "outputs": [],
   "source": [
    "df_supplier_2018 = pd.read_csv(\"../data/releases_2018/suppliers_2018.csv\")\n",
    "df_supplier_2019 = pd.read_csv(\"../data/releases_2019/suppliers_2019.csv\")\n",
    "df_supplier_2020 = pd.read_csv(\"../data/releases_2020/suppliers_2020.csv\")\n",
    "df_supplier_2021 = pd.read_csv(\"../data/releases_2021/suppliers_2021.csv\")\n",
    "df_supplier = pd.concat([df_supplier_2018, df_supplier_2019, df_supplier_2020, df_supplier_2021], axis=0)"
   ]
  },
  {
   "cell_type": "code",
   "execution_count": 51,
   "metadata": {},
   "outputs": [],
   "source": [
    "feature1_tender = df_tender[[\"ocid\", \"procuringEntity_name\", \"value_amount\", \"procurementMethod\"]]\n",
    "feature1_award = df_award[[\"ocid\", \"id\", \"amount\", \"status\"]]\n",
    "feature1_contract = df_contract[[\"ocid\", \"id\", \"amount\"]]\n",
    "feature1_supplier = df_supplier[[\"award_id\", \"name\"]]"
   ]
  },
  {
   "cell_type": "code",
   "execution_count": 52,
   "metadata": {},
   "outputs": [],
   "source": [
    "main_df = feature1_award.merge(feature1_contract, left_on=\"ocid\", right_on=\"ocid\", how=\"left\", suffixes=(\"_aw\", \"_ctr\"))\n",
    "main_df = main_df.merge(feature1_tender, left_on=\"ocid\", right_on=\"ocid\", how=\"left\")\n",
    "main_df = main_df.merge(feature1_supplier, left_on=\"id_aw\", right_on=\"award_id\", how=\"left\")"
   ]
  },
  {
   "cell_type": "code",
   "execution_count": 53,
   "metadata": {},
   "outputs": [
    {
     "data": {
      "text/plain": [
       "Index(['ocid', 'id_aw', 'amount_aw', 'status', 'id_ctr', 'amount_ctr',\n",
       "       'procuringEntity_name', 'value_amount', 'procurementMethod', 'award_id',\n",
       "       'name'],\n",
       "      dtype='object')"
      ]
     },
     "execution_count": 53,
     "metadata": {},
     "output_type": "execute_result"
    }
   ],
   "source": [
    "main_df.columns"
   ]
  },
  {
   "cell_type": "code",
   "execution_count": 54,
   "metadata": {},
   "outputs": [
    {
     "data": {
      "text/plain": [
       "(1553858, 11)"
      ]
     },
     "execution_count": 54,
     "metadata": {},
     "output_type": "execute_result"
    }
   ],
   "source": [
    "main_df.shape"
   ]
  },
  {
   "cell_type": "code",
   "execution_count": 55,
   "metadata": {},
   "outputs": [],
   "source": [
    "filtro1 = ~(main_df[\"amount_ctr\"].isnull()) & ~(main_df[\"amount_aw\"].isnull())\n",
    "main_df = main_df[filtro1]"
   ]
  },
  {
   "cell_type": "code",
   "execution_count": 56,
   "metadata": {},
   "outputs": [
    {
     "data": {
      "text/plain": [
       "(711254, 11)"
      ]
     },
     "execution_count": 56,
     "metadata": {},
     "output_type": "execute_result"
    }
   ],
   "source": [
    "main_df.shape"
   ]
  },
  {
   "cell_type": "code",
   "execution_count": 57,
   "metadata": {},
   "outputs": [
    {
     "data": {
      "text/html": [
       "<div>\n",
       "<style scoped>\n",
       "    .dataframe tbody tr th:only-of-type {\n",
       "        vertical-align: middle;\n",
       "    }\n",
       "\n",
       "    .dataframe tbody tr th {\n",
       "        vertical-align: top;\n",
       "    }\n",
       "\n",
       "    .dataframe thead th {\n",
       "        text-align: right;\n",
       "    }\n",
       "</style>\n",
       "<table border=\"1\" class=\"dataframe\">\n",
       "  <thead>\n",
       "    <tr style=\"text-align: right;\">\n",
       "      <th></th>\n",
       "      <th>ocid</th>\n",
       "      <th>id_aw</th>\n",
       "      <th>amount_aw</th>\n",
       "      <th>status</th>\n",
       "      <th>id_ctr</th>\n",
       "      <th>amount_ctr</th>\n",
       "      <th>procuringEntity_name</th>\n",
       "      <th>value_amount</th>\n",
       "      <th>procurementMethod</th>\n",
       "      <th>award_id</th>\n",
       "      <th>name</th>\n",
       "      <th>diferencia_absoluta</th>\n",
       "      <th>diferencia_relativa</th>\n",
       "    </tr>\n",
       "  </thead>\n",
       "  <tbody>\n",
       "    <tr>\n",
       "      <th>1</th>\n",
       "      <td>ocds-5wno2w-SIE-008-HMHP-2018-11080</td>\n",
       "      <td>1236409-SIE-008-HMHP-2018</td>\n",
       "      <td>27699.00</td>\n",
       "      <td>NaN</td>\n",
       "      <td>526405-SIE-008-HMHP-2018</td>\n",
       "      <td>27699.00</td>\n",
       "      <td>HOSPITAL MATILDE HIDALGO DE PROCEL</td>\n",
       "      <td>nan</td>\n",
       "      <td>open</td>\n",
       "      <td>1236409-SIE-008-HMHP-2018</td>\n",
       "      <td>SALAZAR SALAZAR LUIS ALBERTO</td>\n",
       "      <td>0.00</td>\n",
       "      <td>0.00</td>\n",
       "    </tr>\n",
       "    <tr>\n",
       "      <th>2</th>\n",
       "      <td>ocds-5wno2w-SIE-CONAFIPS-03-2018-448191</td>\n",
       "      <td>1374768-SIE-CONAFIPS-03-2018</td>\n",
       "      <td>10300.93</td>\n",
       "      <td>NaN</td>\n",
       "      <td>578390-SIE-CONAFIPS-03-2018</td>\n",
       "      <td>10300.93</td>\n",
       "      <td>CORPORACIÓN NACIONAL DE FINANZAS POPULARES Y S...</td>\n",
       "      <td>nan</td>\n",
       "      <td>open</td>\n",
       "      <td>1374768-SIE-CONAFIPS-03-2018</td>\n",
       "      <td>ITSEGUINFO CIA. LTDA.</td>\n",
       "      <td>0.00</td>\n",
       "      <td>0.00</td>\n",
       "    </tr>\n",
       "    <tr>\n",
       "      <th>3</th>\n",
       "      <td>ocds-5wno2w-SIE-EPP-2016233-018-253178</td>\n",
       "      <td>1375948-SIE-EPP-2016233-018</td>\n",
       "      <td>192000.00</td>\n",
       "      <td>NaN</td>\n",
       "      <td>589838-SIE-EPP-2016233-018</td>\n",
       "      <td>192000.00</td>\n",
       "      <td>Empresa Pública de hidrocarburos del Ecuador E...</td>\n",
       "      <td>nan</td>\n",
       "      <td>open</td>\n",
       "      <td>1375948-SIE-EPP-2016233-018</td>\n",
       "      <td>IASA S.A.</td>\n",
       "      <td>0.00</td>\n",
       "      <td>0.00</td>\n",
       "    </tr>\n",
       "    <tr>\n",
       "      <th>4</th>\n",
       "      <td>ocds-5wno2w-SIE-EPP-674Y678-1-18-253178</td>\n",
       "      <td>1390713-SIE-EPP-674Y678-1-18</td>\n",
       "      <td>65800.00</td>\n",
       "      <td>NaN</td>\n",
       "      <td>611465-SIE-EPP-674Y678-1-18</td>\n",
       "      <td>65800.00</td>\n",
       "      <td>Empresa Pública de hidrocarburos del Ecuador E...</td>\n",
       "      <td>nan</td>\n",
       "      <td>open</td>\n",
       "      <td>1390713-SIE-EPP-674Y678-1-18</td>\n",
       "      <td>VELASTEGUI LASSO BOLIVAR ALEJANDRO</td>\n",
       "      <td>0.00</td>\n",
       "      <td>0.00</td>\n",
       "    </tr>\n",
       "    <tr>\n",
       "      <th>14</th>\n",
       "      <td>ocds-5wno2w-RE-HEJCA-F-66-2018-87497</td>\n",
       "      <td>3416132-RE-HEJCA-F-66-2018</td>\n",
       "      <td>14810.82</td>\n",
       "      <td>NaN</td>\n",
       "      <td>565301-RE-HEJCA-F-66-2018</td>\n",
       "      <td>14810.82</td>\n",
       "      <td>HOSPITAL DE ESPECIALIDADES JOSÉ CARRASCO ARTEAGA</td>\n",
       "      <td>14810.82</td>\n",
       "      <td>direct</td>\n",
       "      <td>3416132-RE-HEJCA-F-66-2018</td>\n",
       "      <td>QUIFATEX S.A.</td>\n",
       "      <td>0.00</td>\n",
       "      <td>0.00</td>\n",
       "    </tr>\n",
       "  </tbody>\n",
       "</table>\n",
       "</div>"
      ],
      "text/plain": [
       "                                       ocid                         id_aw  \\\n",
       "1       ocds-5wno2w-SIE-008-HMHP-2018-11080     1236409-SIE-008-HMHP-2018   \n",
       "2   ocds-5wno2w-SIE-CONAFIPS-03-2018-448191  1374768-SIE-CONAFIPS-03-2018   \n",
       "3    ocds-5wno2w-SIE-EPP-2016233-018-253178   1375948-SIE-EPP-2016233-018   \n",
       "4   ocds-5wno2w-SIE-EPP-674Y678-1-18-253178  1390713-SIE-EPP-674Y678-1-18   \n",
       "14     ocds-5wno2w-RE-HEJCA-F-66-2018-87497    3416132-RE-HEJCA-F-66-2018   \n",
       "\n",
       "    amount_aw status                       id_ctr  amount_ctr  \\\n",
       "1    27699.00    NaN     526405-SIE-008-HMHP-2018    27699.00   \n",
       "2    10300.93    NaN  578390-SIE-CONAFIPS-03-2018    10300.93   \n",
       "3   192000.00    NaN   589838-SIE-EPP-2016233-018   192000.00   \n",
       "4    65800.00    NaN  611465-SIE-EPP-674Y678-1-18    65800.00   \n",
       "14   14810.82    NaN    565301-RE-HEJCA-F-66-2018    14810.82   \n",
       "\n",
       "                                 procuringEntity_name  value_amount  \\\n",
       "1                  HOSPITAL MATILDE HIDALGO DE PROCEL           nan   \n",
       "2   CORPORACIÓN NACIONAL DE FINANZAS POPULARES Y S...           nan   \n",
       "3   Empresa Pública de hidrocarburos del Ecuador E...           nan   \n",
       "4   Empresa Pública de hidrocarburos del Ecuador E...           nan   \n",
       "14   HOSPITAL DE ESPECIALIDADES JOSÉ CARRASCO ARTEAGA      14810.82   \n",
       "\n",
       "   procurementMethod                      award_id  \\\n",
       "1               open     1236409-SIE-008-HMHP-2018   \n",
       "2               open  1374768-SIE-CONAFIPS-03-2018   \n",
       "3               open   1375948-SIE-EPP-2016233-018   \n",
       "4               open  1390713-SIE-EPP-674Y678-1-18   \n",
       "14            direct    3416132-RE-HEJCA-F-66-2018   \n",
       "\n",
       "                                  name  diferencia_absoluta  \\\n",
       "1         SALAZAR SALAZAR LUIS ALBERTO                 0.00   \n",
       "2                ITSEGUINFO CIA. LTDA.                 0.00   \n",
       "3                            IASA S.A.                 0.00   \n",
       "4   VELASTEGUI LASSO BOLIVAR ALEJANDRO                 0.00   \n",
       "14                       QUIFATEX S.A.                 0.00   \n",
       "\n",
       "    diferencia_relativa  \n",
       "1                  0.00  \n",
       "2                  0.00  \n",
       "3                  0.00  \n",
       "4                  0.00  \n",
       "14                 0.00  "
      ]
     },
     "execution_count": 57,
     "metadata": {},
     "output_type": "execute_result"
    }
   ],
   "source": [
    "main_df[\"diferencia_absoluta\"] = np.abs(main_df[\"amount_aw\"] - main_df[\"amount_ctr\"])\n",
    "main_df[\"diferencia_relativa\"] = np.abs(main_df[\"diferencia_absoluta\"] / main_df[\"amount_aw\"])\n",
    "main_df.head()"
   ]
  },
  {
   "cell_type": "code",
   "execution_count": 58,
   "metadata": {},
   "outputs": [],
   "source": [
    "#Empresa, diferenciaRelativaPromedio, numeroProcesos, porcentajeAdjudicacion, cantidadEmpresaDiferentes"
   ]
  },
  {
   "cell_type": "code",
   "execution_count": 59,
   "metadata": {},
   "outputs": [],
   "source": [
    "percentaje = main_df.groupby([\"procuringEntity_name\", \"name\"])[\"id_aw\"].count().reset_index()"
   ]
  },
  {
   "cell_type": "code",
   "execution_count": 60,
   "metadata": {},
   "outputs": [
    {
     "data": {
      "text/plain": [
       "0"
      ]
     },
     "execution_count": 60,
     "metadata": {},
     "output_type": "execute_result"
    }
   ],
   "source": [
    "main_df[\"id_aw\"].isnull().sum()"
   ]
  },
  {
   "cell_type": "code",
   "execution_count": 61,
   "metadata": {},
   "outputs": [
    {
     "data": {
      "text/plain": [
       "5"
      ]
     },
     "execution_count": 61,
     "metadata": {},
     "output_type": "execute_result"
    }
   ],
   "source": [
    "main_df[\"name\"].isnull().sum()"
   ]
  },
  {
   "cell_type": "code",
   "execution_count": 62,
   "metadata": {},
   "outputs": [
    {
     "data": {
      "text/plain": [
       "0"
      ]
     },
     "execution_count": 62,
     "metadata": {},
     "output_type": "execute_result"
    }
   ],
   "source": [
    "main_df[\"procuringEntity_name\"].isnull().sum()"
   ]
  },
  {
   "cell_type": "code",
   "execution_count": 64,
   "metadata": {},
   "outputs": [
    {
     "data": {
      "text/plain": [
       "1                SALAZAR SALAZAR LUIS ALBERTO\n",
       "2                       ITSEGUINFO CIA. LTDA.\n",
       "3                                   IASA S.A.\n",
       "4          VELASTEGUI LASSO BOLIVAR ALEJANDRO\n",
       "14                              QUIFATEX S.A.\n",
       "                          ...                \n",
       "1470010            VISION DINAMICA S A VISIDI\n",
       "1470011            VISION DINAMICA S A VISIDI\n",
       "1470012                        COAGVELCOR S.A\n",
       "1470013          QUIROZ ROSADO ROCIO MARICELA\n",
       "1470014     VALENZUELA OLALLA FANNY JACKELINE\n",
       "Name: name, Length: 711254, dtype: object"
      ]
     },
     "execution_count": 64,
     "metadata": {},
     "output_type": "execute_result"
    }
   ],
   "source": [
    "main_df[\"name\"]"
   ]
  },
  {
   "cell_type": "code",
   "execution_count": 16,
   "metadata": {},
   "outputs": [],
   "source": [
    "main_df = main_df.groupby(\"procuringEntity_name\").agg({\n",
    "    \"diferencia_relativa\" : \"mean\",\n",
    "    \"diferencia_absoluta\" : \"mean\",\n",
    "}).reset_index()"
   ]
  },
  {
   "cell_type": "code",
   "execution_count": 17,
   "metadata": {},
   "outputs": [],
   "source": [
    "\n",
    "main_df[\"total_procesos\"] = percentaje.groupby([\"procuringEntity_name\"])[\"id_aw\"].sum().reset_index()[\"id_aw\"]\n",
    "main_df[\"unicos\"] = percentaje.groupby([\"procuringEntity_name\"])[\"id_aw\"].count().reset_index()[\"id_aw\"]\n",
    "main_df[\"porcentaje_unicos\"] = main_df[\"unicos\"] / main_df[\"total_procesos\"]"
   ]
  },
  {
   "cell_type": "code",
   "execution_count": 18,
   "metadata": {},
   "outputs": [
    {
     "data": {
      "text/html": [
       "<div>\n",
       "<style scoped>\n",
       "    .dataframe tbody tr th:only-of-type {\n",
       "        vertical-align: middle;\n",
       "    }\n",
       "\n",
       "    .dataframe tbody tr th {\n",
       "        vertical-align: top;\n",
       "    }\n",
       "\n",
       "    .dataframe thead th {\n",
       "        text-align: right;\n",
       "    }\n",
       "</style>\n",
       "<table border=\"1\" class=\"dataframe\">\n",
       "  <thead>\n",
       "    <tr style=\"text-align: right;\">\n",
       "      <th></th>\n",
       "      <th>procuringEntity_name</th>\n",
       "      <th>diferencia_relativa</th>\n",
       "      <th>diferencia_absoluta</th>\n",
       "      <th>total_procesos</th>\n",
       "      <th>unicos</th>\n",
       "      <th>porcentaje_unicos</th>\n",
       "    </tr>\n",
       "  </thead>\n",
       "  <tbody>\n",
       "    <tr>\n",
       "      <th>0</th>\n",
       "      <td>\\t GOBIERNO AUTONOMO PARROQUIAL DE SINAI</td>\n",
       "      <td>0.00</td>\n",
       "      <td>0.00</td>\n",
       "      <td>1</td>\n",
       "      <td>1</td>\n",
       "      <td>1.00</td>\n",
       "    </tr>\n",
       "    <tr>\n",
       "      <th>1</th>\n",
       "      <td>GOBIERNO AUTONOMO DESCENTRALIZADO DE LA PARRO...</td>\n",
       "      <td>0.00</td>\n",
       "      <td>0.00</td>\n",
       "      <td>6</td>\n",
       "      <td>6</td>\n",
       "      <td>1.00</td>\n",
       "    </tr>\n",
       "    <tr>\n",
       "      <th>2</th>\n",
       "      <td>GOBIERNO AUTONOMO DESCENTRALIZADO PARROQUIAL ...</td>\n",
       "      <td>0.00</td>\n",
       "      <td>0.00</td>\n",
       "      <td>1</td>\n",
       "      <td>1</td>\n",
       "      <td>1.00</td>\n",
       "    </tr>\n",
       "    <tr>\n",
       "      <th>3</th>\n",
       "      <td>GOBIERNO AUTONOMO DESCENTRALIZADO PARROQUIAL ...</td>\n",
       "      <td>0.00</td>\n",
       "      <td>0.00</td>\n",
       "      <td>3</td>\n",
       "      <td>3</td>\n",
       "      <td>1.00</td>\n",
       "    </tr>\n",
       "    <tr>\n",
       "      <th>4</th>\n",
       "      <td>JUNTA PARROQUIAL DE SANTA RITA</td>\n",
       "      <td>0.00</td>\n",
       "      <td>0.00</td>\n",
       "      <td>1</td>\n",
       "      <td>1</td>\n",
       "      <td>1.00</td>\n",
       "    </tr>\n",
       "  </tbody>\n",
       "</table>\n",
       "</div>"
      ],
      "text/plain": [
       "                                procuringEntity_name  diferencia_relativa  \\\n",
       "0           \\t GOBIERNO AUTONOMO PARROQUIAL DE SINAI                 0.00   \n",
       "1   GOBIERNO AUTONOMO DESCENTRALIZADO DE LA PARRO...                 0.00   \n",
       "2   GOBIERNO AUTONOMO DESCENTRALIZADO PARROQUIAL ...                 0.00   \n",
       "3   GOBIERNO AUTONOMO DESCENTRALIZADO PARROQUIAL ...                 0.00   \n",
       "4                     JUNTA PARROQUIAL DE SANTA RITA                 0.00   \n",
       "\n",
       "   diferencia_absoluta  total_procesos  unicos  porcentaje_unicos  \n",
       "0                 0.00               1       1               1.00  \n",
       "1                 0.00               6       6               1.00  \n",
       "2                 0.00               1       1               1.00  \n",
       "3                 0.00               3       3               1.00  \n",
       "4                 0.00               1       1               1.00  "
      ]
     },
     "execution_count": 18,
     "metadata": {},
     "output_type": "execute_result"
    }
   ],
   "source": [
    "main_df.head()"
   ]
  },
  {
   "cell_type": "code",
   "execution_count": 19,
   "metadata": {},
   "outputs": [
    {
     "data": {
      "text/html": [
       "<div>\n",
       "<style scoped>\n",
       "    .dataframe tbody tr th:only-of-type {\n",
       "        vertical-align: middle;\n",
       "    }\n",
       "\n",
       "    .dataframe tbody tr th {\n",
       "        vertical-align: top;\n",
       "    }\n",
       "\n",
       "    .dataframe thead th {\n",
       "        text-align: right;\n",
       "    }\n",
       "</style>\n",
       "<table border=\"1\" class=\"dataframe\">\n",
       "  <thead>\n",
       "    <tr style=\"text-align: right;\">\n",
       "      <th></th>\n",
       "      <th>Licitante</th>\n",
       "      <th>Diferencia relativa Promedio</th>\n",
       "      <th>Diferencia absoluta promedio</th>\n",
       "      <th>Total Procesos</th>\n",
       "      <th>Empresas Unicas</th>\n",
       "      <th>Porcentaje Empresas Unicas</th>\n",
       "    </tr>\n",
       "  </thead>\n",
       "  <tbody>\n",
       "    <tr>\n",
       "      <th>0</th>\n",
       "      <td>\\t GOBIERNO AUTONOMO PARROQUIAL DE SINAI</td>\n",
       "      <td>0.00</td>\n",
       "      <td>0.00</td>\n",
       "      <td>1</td>\n",
       "      <td>1</td>\n",
       "      <td>1.00</td>\n",
       "    </tr>\n",
       "    <tr>\n",
       "      <th>1</th>\n",
       "      <td>GOBIERNO AUTONOMO DESCENTRALIZADO DE LA PARRO...</td>\n",
       "      <td>0.00</td>\n",
       "      <td>0.00</td>\n",
       "      <td>6</td>\n",
       "      <td>6</td>\n",
       "      <td>1.00</td>\n",
       "    </tr>\n",
       "    <tr>\n",
       "      <th>2</th>\n",
       "      <td>GOBIERNO AUTONOMO DESCENTRALIZADO PARROQUIAL ...</td>\n",
       "      <td>0.00</td>\n",
       "      <td>0.00</td>\n",
       "      <td>1</td>\n",
       "      <td>1</td>\n",
       "      <td>1.00</td>\n",
       "    </tr>\n",
       "    <tr>\n",
       "      <th>3</th>\n",
       "      <td>GOBIERNO AUTONOMO DESCENTRALIZADO PARROQUIAL ...</td>\n",
       "      <td>0.00</td>\n",
       "      <td>0.00</td>\n",
       "      <td>3</td>\n",
       "      <td>3</td>\n",
       "      <td>1.00</td>\n",
       "    </tr>\n",
       "    <tr>\n",
       "      <th>4</th>\n",
       "      <td>JUNTA PARROQUIAL DE SANTA RITA</td>\n",
       "      <td>0.00</td>\n",
       "      <td>0.00</td>\n",
       "      <td>1</td>\n",
       "      <td>1</td>\n",
       "      <td>1.00</td>\n",
       "    </tr>\n",
       "  </tbody>\n",
       "</table>\n",
       "</div>"
      ],
      "text/plain": [
       "                                           Licitante  \\\n",
       "0           \\t GOBIERNO AUTONOMO PARROQUIAL DE SINAI   \n",
       "1   GOBIERNO AUTONOMO DESCENTRALIZADO DE LA PARRO...   \n",
       "2   GOBIERNO AUTONOMO DESCENTRALIZADO PARROQUIAL ...   \n",
       "3   GOBIERNO AUTONOMO DESCENTRALIZADO PARROQUIAL ...   \n",
       "4                     JUNTA PARROQUIAL DE SANTA RITA   \n",
       "\n",
       "   Diferencia relativa Promedio  Diferencia absoluta promedio  Total Procesos  \\\n",
       "0                          0.00                          0.00               1   \n",
       "1                          0.00                          0.00               6   \n",
       "2                          0.00                          0.00               1   \n",
       "3                          0.00                          0.00               3   \n",
       "4                          0.00                          0.00               1   \n",
       "\n",
       "   Empresas Unicas  Porcentaje Empresas Unicas  \n",
       "0                1                        1.00  \n",
       "1                6                        1.00  \n",
       "2                1                        1.00  \n",
       "3                3                        1.00  \n",
       "4                1                        1.00  "
      ]
     },
     "execution_count": 19,
     "metadata": {},
     "output_type": "execute_result"
    }
   ],
   "source": [
    "main_df.columns = [\"Licitante\", \"Diferencia relativa Promedio\", \"Diferencia absoluta promedio\", \"Total Procesos\", \"Empresas Unicas\", \"Porcentaje Empresas Unicas\"]\n",
    "main_df.head()"
   ]
  },
  {
   "cell_type": "code",
   "execution_count": 22,
   "metadata": {},
   "outputs": [
    {
     "data": {
      "text/html": [
       "<div>\n",
       "<style scoped>\n",
       "    .dataframe tbody tr th:only-of-type {\n",
       "        vertical-align: middle;\n",
       "    }\n",
       "\n",
       "    .dataframe tbody tr th {\n",
       "        vertical-align: top;\n",
       "    }\n",
       "\n",
       "    .dataframe thead th {\n",
       "        text-align: right;\n",
       "    }\n",
       "</style>\n",
       "<table border=\"1\" class=\"dataframe\">\n",
       "  <thead>\n",
       "    <tr style=\"text-align: right;\">\n",
       "      <th></th>\n",
       "      <th>Diferencia relativa Promedio</th>\n",
       "      <th>Diferencia absoluta promedio</th>\n",
       "      <th>Total Procesos</th>\n",
       "      <th>Empresas Unicas</th>\n",
       "      <th>Porcentaje Empresas Unicas</th>\n",
       "    </tr>\n",
       "  </thead>\n",
       "  <tbody>\n",
       "    <tr>\n",
       "      <th>0</th>\n",
       "      <td>0.00</td>\n",
       "      <td>0.00</td>\n",
       "      <td>1</td>\n",
       "      <td>1</td>\n",
       "      <td>1.00</td>\n",
       "    </tr>\n",
       "    <tr>\n",
       "      <th>1</th>\n",
       "      <td>0.00</td>\n",
       "      <td>0.00</td>\n",
       "      <td>6</td>\n",
       "      <td>6</td>\n",
       "      <td>1.00</td>\n",
       "    </tr>\n",
       "    <tr>\n",
       "      <th>2</th>\n",
       "      <td>0.00</td>\n",
       "      <td>0.00</td>\n",
       "      <td>1</td>\n",
       "      <td>1</td>\n",
       "      <td>1.00</td>\n",
       "    </tr>\n",
       "    <tr>\n",
       "      <th>3</th>\n",
       "      <td>0.00</td>\n",
       "      <td>0.00</td>\n",
       "      <td>3</td>\n",
       "      <td>3</td>\n",
       "      <td>1.00</td>\n",
       "    </tr>\n",
       "    <tr>\n",
       "      <th>4</th>\n",
       "      <td>0.00</td>\n",
       "      <td>0.00</td>\n",
       "      <td>1</td>\n",
       "      <td>1</td>\n",
       "      <td>1.00</td>\n",
       "    </tr>\n",
       "  </tbody>\n",
       "</table>\n",
       "</div>"
      ],
      "text/plain": [
       "   Diferencia relativa Promedio  Diferencia absoluta promedio  Total Procesos  \\\n",
       "0                          0.00                          0.00               1   \n",
       "1                          0.00                          0.00               6   \n",
       "2                          0.00                          0.00               1   \n",
       "3                          0.00                          0.00               3   \n",
       "4                          0.00                          0.00               1   \n",
       "\n",
       "   Empresas Unicas  Porcentaje Empresas Unicas  \n",
       "0                1                        1.00  \n",
       "1                6                        1.00  \n",
       "2                1                        1.00  \n",
       "3                3                        1.00  \n",
       "4                1                        1.00  "
      ]
     },
     "execution_count": 22,
     "metadata": {},
     "output_type": "execute_result"
    }
   ],
   "source": [
    "X = main_df.iloc[:,1:]\n",
    "X.head()"
   ]
  },
  {
   "cell_type": "code",
   "execution_count": 23,
   "metadata": {},
   "outputs": [],
   "source": [
    "sc = StandardScaler()"
   ]
  },
  {
   "cell_type": "code",
   "execution_count": 24,
   "metadata": {},
   "outputs": [
    {
     "data": {
      "text/plain": [
       "StandardScaler()"
      ]
     },
     "execution_count": 24,
     "metadata": {},
     "output_type": "execute_result"
    }
   ],
   "source": [
    "sc.fit(X)"
   ]
  },
  {
   "cell_type": "code",
   "execution_count": 25,
   "metadata": {},
   "outputs": [],
   "source": [
    "X_norm = sc.transform(X)"
   ]
  },
  {
   "cell_type": "code",
   "execution_count": 26,
   "metadata": {},
   "outputs": [
    {
     "data": {
      "text/plain": [
       "array([[-0.01885922, -0.01910406, -0.03819581, -0.4640265 ,  1.00844634],\n",
       "       [-0.01885922, -0.01910406, -0.03742612, -0.36440881,  1.00844634],\n",
       "       [-0.01885922, -0.01910406, -0.03819581, -0.4640265 ,  1.00844634],\n",
       "       ...,\n",
       "       [-0.01885922, -0.01910406, -0.03819581, -0.4640265 ,  1.00844634],\n",
       "       [-0.01881758, -0.01910377, -0.00663844, -0.28471467, -2.96932201],\n",
       "       [-0.01885922, -0.01910406, -0.03804187, -0.44410296,  1.00844634]])"
      ]
     },
     "execution_count": 26,
     "metadata": {},
     "output_type": "execute_result"
    }
   ],
   "source": [
    "X_norm"
   ]
  },
  {
   "cell_type": "code",
   "execution_count": 27,
   "metadata": {},
   "outputs": [
    {
     "data": {
      "text/plain": [
       "(2855, 5)"
      ]
     },
     "execution_count": 27,
     "metadata": {},
     "output_type": "execute_result"
    }
   ],
   "source": [
    "X_norm.shape"
   ]
  },
  {
   "cell_type": "code",
   "execution_count": 28,
   "metadata": {},
   "outputs": [],
   "source": [
    "clusters = np.arange(2,10)"
   ]
  },
  {
   "cell_type": "code",
   "execution_count": 29,
   "metadata": {},
   "outputs": [],
   "source": [
    "inercias = []\n",
    "for k in clusters:\n",
    "    kmeans = KMeans(n_clusters=k, random_state=0)\n",
    "    kmeans.fit(X_norm)\n",
    "    inercias.append(kmeans.inertia_)"
   ]
  },
  {
   "cell_type": "code",
   "execution_count": 30,
   "metadata": {},
   "outputs": [],
   "source": [
    "eva = pd.DataFrame({\"K\":clusters, \"inercia\":inercias})"
   ]
  },
  {
   "cell_type": "code",
   "execution_count": 31,
   "metadata": {},
   "outputs": [
    {
     "data": {
      "text/html": [
       "<div>\n",
       "<style scoped>\n",
       "    .dataframe tbody tr th:only-of-type {\n",
       "        vertical-align: middle;\n",
       "    }\n",
       "\n",
       "    .dataframe tbody tr th {\n",
       "        vertical-align: top;\n",
       "    }\n",
       "\n",
       "    .dataframe thead th {\n",
       "        text-align: right;\n",
       "    }\n",
       "</style>\n",
       "<table border=\"1\" class=\"dataframe\">\n",
       "  <thead>\n",
       "    <tr style=\"text-align: right;\">\n",
       "      <th></th>\n",
       "      <th>K</th>\n",
       "      <th>inercia</th>\n",
       "    </tr>\n",
       "  </thead>\n",
       "  <tbody>\n",
       "    <tr>\n",
       "      <th>0</th>\n",
       "      <td>2</td>\n",
       "      <td>8564.13</td>\n",
       "    </tr>\n",
       "    <tr>\n",
       "      <th>1</th>\n",
       "      <td>3</td>\n",
       "      <td>5860.38</td>\n",
       "    </tr>\n",
       "    <tr>\n",
       "      <th>2</th>\n",
       "      <td>4</td>\n",
       "      <td>3548.38</td>\n",
       "    </tr>\n",
       "    <tr>\n",
       "      <th>3</th>\n",
       "      <td>5</td>\n",
       "      <td>2207.16</td>\n",
       "    </tr>\n",
       "    <tr>\n",
       "      <th>4</th>\n",
       "      <td>6</td>\n",
       "      <td>1638.14</td>\n",
       "    </tr>\n",
       "    <tr>\n",
       "      <th>5</th>\n",
       "      <td>7</td>\n",
       "      <td>1121.07</td>\n",
       "    </tr>\n",
       "    <tr>\n",
       "      <th>6</th>\n",
       "      <td>8</td>\n",
       "      <td>935.57</td>\n",
       "    </tr>\n",
       "    <tr>\n",
       "      <th>7</th>\n",
       "      <td>9</td>\n",
       "      <td>775.01</td>\n",
       "    </tr>\n",
       "  </tbody>\n",
       "</table>\n",
       "</div>"
      ],
      "text/plain": [
       "   K  inercia\n",
       "0  2  8564.13\n",
       "1  3  5860.38\n",
       "2  4  3548.38\n",
       "3  5  2207.16\n",
       "4  6  1638.14\n",
       "5  7  1121.07\n",
       "6  8   935.57\n",
       "7  9   775.01"
      ]
     },
     "execution_count": 31,
     "metadata": {},
     "output_type": "execute_result"
    }
   ],
   "source": [
    "eva"
   ]
  },
  {
   "cell_type": "code",
   "execution_count": 32,
   "metadata": {},
   "outputs": [
    {
     "data": {
      "text/plain": [
       "<matplotlib.axes._subplots.AxesSubplot at 0x7f86bb9bef40>"
      ]
     },
     "execution_count": 32,
     "metadata": {},
     "output_type": "execute_result"
    },
    {
     "data": {
      "image/png": "[encoded data removed]",
      "text/plain": [
       "<Figure size 720x576 with 1 Axes>"
      ]
     },
     "metadata": {
      "needs_background": "light"
     },
     "output_type": "display_data"
    }
   ],
   "source": [
    "fig, ax = plt.subplots(figsize=(10,8))\n",
    "sns.lineplot(data = eva, x = \"K\", y = \"inercia\")"
   ]
  },
  {
   "cell_type": "code",
   "execution_count": 33,
   "metadata": {},
   "outputs": [],
   "source": [
    "kmeans = KMeans(n_clusters=5, random_state=0)"
   ]
  },
  {
   "cell_type": "code",
   "execution_count": 34,
   "metadata": {},
   "outputs": [
    {
     "data": {
      "text/plain": [
       "KMeans(n_clusters=5, random_state=0)"
      ]
     },
     "execution_count": 34,
     "metadata": {},
     "output_type": "execute_result"
    }
   ],
   "source": [
    "kmeans.fit(X_norm)"
   ]
  },
  {
   "cell_type": "code",
   "execution_count": 35,
   "metadata": {},
   "outputs": [
    {
     "data": {
      "text/plain": [
       "array([[-1.87517836e-02, -1.90625722e-02, -7.81614066e-03,\n",
       "         5.64737391e-02, -8.55066218e-01],\n",
       "       [ 5.34225555e+01,  5.34170965e+01, -1.92613872e-02,\n",
       "         8.90773997e-01, -8.45903373e-01],\n",
       "       [-1.87347039e-02, -1.91021243e-02,  5.17525315e+01,\n",
       "         3.79961035e+00, -3.16959771e+00],\n",
       "       [-1.86994400e-02, -1.84607777e-02, -3.70153217e-02,\n",
       "        -3.34301289e-01,  7.34769227e-01],\n",
       "       [-1.86533816e-02, -1.87319737e-02,  1.17219693e-01,\n",
       "         3.47110013e+00, -1.24386310e+00]])"
      ]
     },
     "execution_count": 35,
     "metadata": {},
     "output_type": "execute_result"
    }
   ],
   "source": [
    "kmeans.cluster_centers_"
   ]
  },
  {
   "cell_type": "code",
   "execution_count": 36,
   "metadata": {},
   "outputs": [],
   "source": [
    "main_df[\"cluster\"] = kmeans.labels_"
   ]
  },
  {
   "cell_type": "code",
   "execution_count": 37,
   "metadata": {},
   "outputs": [
    {
     "data": {
      "text/html": [
       "<div>\n",
       "<style scoped>\n",
       "    .dataframe tbody tr th:only-of-type {\n",
       "        vertical-align: middle;\n",
       "    }\n",
       "\n",
       "    .dataframe tbody tr th {\n",
       "        vertical-align: top;\n",
       "    }\n",
       "\n",
       "    .dataframe thead th {\n",
       "        text-align: right;\n",
       "    }\n",
       "</style>\n",
       "<table border=\"1\" class=\"dataframe\">\n",
       "  <thead>\n",
       "    <tr style=\"text-align: right;\">\n",
       "      <th></th>\n",
       "      <th>Licitante</th>\n",
       "      <th>Diferencia relativa Promedio</th>\n",
       "      <th>Diferencia absoluta promedio</th>\n",
       "      <th>Total Procesos</th>\n",
       "      <th>Empresas Unicas</th>\n",
       "      <th>Porcentaje Empresas Unicas</th>\n",
       "      <th>cluster</th>\n",
       "    </tr>\n",
       "  </thead>\n",
       "  <tbody>\n",
       "    <tr>\n",
       "      <th>0</th>\n",
       "      <td>\\t GOBIERNO AUTONOMO PARROQUIAL DE SINAI</td>\n",
       "      <td>0.00</td>\n",
       "      <td>0.00</td>\n",
       "      <td>1</td>\n",
       "      <td>1</td>\n",
       "      <td>1.00</td>\n",
       "      <td>3</td>\n",
       "    </tr>\n",
       "    <tr>\n",
       "      <th>1</th>\n",
       "      <td>GOBIERNO AUTONOMO DESCENTRALIZADO DE LA PARRO...</td>\n",
       "      <td>0.00</td>\n",
       "      <td>0.00</td>\n",
       "      <td>6</td>\n",
       "      <td>6</td>\n",
       "      <td>1.00</td>\n",
       "      <td>3</td>\n",
       "    </tr>\n",
       "    <tr>\n",
       "      <th>2</th>\n",
       "      <td>GOBIERNO AUTONOMO DESCENTRALIZADO PARROQUIAL ...</td>\n",
       "      <td>0.00</td>\n",
       "      <td>0.00</td>\n",
       "      <td>1</td>\n",
       "      <td>1</td>\n",
       "      <td>1.00</td>\n",
       "      <td>3</td>\n",
       "    </tr>\n",
       "    <tr>\n",
       "      <th>3</th>\n",
       "      <td>GOBIERNO AUTONOMO DESCENTRALIZADO PARROQUIAL ...</td>\n",
       "      <td>0.00</td>\n",
       "      <td>0.00</td>\n",
       "      <td>3</td>\n",
       "      <td>3</td>\n",
       "      <td>1.00</td>\n",
       "      <td>3</td>\n",
       "    </tr>\n",
       "    <tr>\n",
       "      <th>4</th>\n",
       "      <td>JUNTA PARROQUIAL DE SANTA RITA</td>\n",
       "      <td>0.00</td>\n",
       "      <td>0.00</td>\n",
       "      <td>1</td>\n",
       "      <td>1</td>\n",
       "      <td>1.00</td>\n",
       "      <td>3</td>\n",
       "    </tr>\n",
       "  </tbody>\n",
       "</table>\n",
       "</div>"
      ],
      "text/plain": [
       "                                           Licitante  \\\n",
       "0           \\t GOBIERNO AUTONOMO PARROQUIAL DE SINAI   \n",
       "1   GOBIERNO AUTONOMO DESCENTRALIZADO DE LA PARRO...   \n",
       "2   GOBIERNO AUTONOMO DESCENTRALIZADO PARROQUIAL ...   \n",
       "3   GOBIERNO AUTONOMO DESCENTRALIZADO PARROQUIAL ...   \n",
       "4                     JUNTA PARROQUIAL DE SANTA RITA   \n",
       "\n",
       "   Diferencia relativa Promedio  Diferencia absoluta promedio  Total Procesos  \\\n",
       "0                          0.00                          0.00               1   \n",
       "1                          0.00                          0.00               6   \n",
       "2                          0.00                          0.00               1   \n",
       "3                          0.00                          0.00               3   \n",
       "4                          0.00                          0.00               1   \n",
       "\n",
       "   Empresas Unicas  Porcentaje Empresas Unicas  cluster  \n",
       "0                1                        1.00        3  \n",
       "1                6                        1.00        3  \n",
       "2                1                        1.00        3  \n",
       "3                3                        1.00        3  \n",
       "4                1                        1.00        3  "
      ]
     },
     "execution_count": 37,
     "metadata": {},
     "output_type": "execute_result"
    }
   ],
   "source": [
    "main_df.head()"
   ]
  },
  {
   "cell_type": "code",
   "execution_count": 38,
   "metadata": {},
   "outputs": [
    {
     "data": {
      "text/plain": [
       "<seaborn.axisgrid.PairGrid at 0x7f86bb91d6d0>"
      ]
     },
     "execution_count": 38,
     "metadata": {},
     "output_type": "execute_result"
    },
    {
     "data": {
      "image/png": "[encoded data removed]",
      "text/plain": [
       "<Figure size 942.375x900 with 30 Axes>"
      ]
     },
     "metadata": {
      "needs_background": "light"
     },
     "output_type": "display_data"
    }
   ],
   "source": [
    "sns.pairplot(main_df,hue=\"cluster\", palette=\"tab10\")"
   ]
  },
  {
   "cell_type": "code",
   "execution_count": 39,
   "metadata": {},
   "outputs": [
    {
     "data": {
      "text/plain": [
       "<matplotlib.axes._subplots.AxesSubplot at 0x7f8678747ca0>"
      ]
     },
     "execution_count": 39,
     "metadata": {},
     "output_type": "execute_result"
    },
    {
     "data": {
      "image/png": "[encoded data removed]",
      "text/plain": [
       "<Figure size 432x288 with 1 Axes>"
      ]
     },
     "metadata": {
      "needs_background": "light"
     },
     "output_type": "display_data"
    }
   ],
   "source": [
    "sns.boxplot(x=\"cluster\", y=\"Porcentaje Empresas Unicas\", data=main_df)"
   ]
  },
  {
   "cell_type": "code",
   "execution_count": 40,
   "metadata": {},
   "outputs": [
    {
     "data": {
      "text/plain": [
       "<matplotlib.axes._subplots.AxesSubplot at 0x7f867766eb20>"
      ]
     },
     "execution_count": 40,
     "metadata": {},
     "output_type": "execute_result"
    },
    {
     "data": {
      "image/png": "[encoded data removed]",
      "text/plain": [
       "<Figure size 432x288 with 1 Axes>"
      ]
     },
     "metadata": {
      "needs_background": "light"
     },
     "output_type": "display_data"
    }
   ],
   "source": [
    "sns.boxplot(x=\"cluster\", y=\"Empresas Unicas\", data=main_df)"
   ]
  },
  {
   "cell_type": "code",
   "execution_count": 41,
   "metadata": {},
   "outputs": [
    {
     "data": {
      "text/plain": [
       "<matplotlib.axes._subplots.AxesSubplot at 0x7f8677612940>"
      ]
     },
     "execution_count": 41,
     "metadata": {},
     "output_type": "execute_result"
    },
    {
     "data": {
      "image/png": "[encoded data removed]",
      "text/plain": [
       "<Figure size 432x288 with 1 Axes>"
      ]
     },
     "metadata": {
      "needs_background": "light"
     },
     "output_type": "display_data"
    }
   ],
   "source": [
    "sns.boxplot(x=\"cluster\", y=\"Total Procesos\", data=main_df)"
   ]
  },
  {
   "cell_type": "code",
   "execution_count": 42,
   "metadata": {},
   "outputs": [
    {
     "data": {
      "text/plain": [
       "<matplotlib.axes._subplots.AxesSubplot at 0x7f8677554e20>"
      ]
     },
     "execution_count": 42,
     "metadata": {},
     "output_type": "execute_result"
    },
    {
     "data": {
      "image/png": "[encoded data removed]",
      "text/plain": [
       "<Figure size 432x288 with 1 Axes>"
      ]
     },
     "metadata": {
      "needs_background": "light"
     },
     "output_type": "display_data"
    }
   ],
   "source": [
    "sns.boxplot(x=\"cluster\", y=\"Diferencia absoluta promedio\", data=main_df)"
   ]
  },
  {
   "cell_type": "code",
   "execution_count": 43,
   "metadata": {},
   "outputs": [
    {
     "data": {
      "text/plain": [
       "<matplotlib.axes._subplots.AxesSubplot at 0x7f8676c01310>"
      ]
     },
     "execution_count": 43,
     "metadata": {},
     "output_type": "execute_result"
    },
    {
     "data": {
      "image/png": "[encoded data removed]",
      "text/plain": [
       "<Figure size 432x288 with 1 Axes>"
      ]
     },
     "metadata": {
      "needs_background": "light"
     },
     "output_type": "display_data"
    }
   ],
   "source": [
    "sns.boxplot(x=\"cluster\", y=\"Diferencia relativa Promedio\", data=main_df)"
   ]
  },
  {
   "cell_type": "code",
   "execution_count": 44,
   "metadata": {},
   "outputs": [
    {
     "data": {
      "text/html": [
       "<div>\n",
       "<style scoped>\n",
       "    .dataframe tbody tr th:only-of-type {\n",
       "        vertical-align: middle;\n",
       "    }\n",
       "\n",
       "    .dataframe tbody tr th {\n",
       "        vertical-align: top;\n",
       "    }\n",
       "\n",
       "    .dataframe thead th {\n",
       "        text-align: right;\n",
       "    }\n",
       "</style>\n",
       "<table border=\"1\" class=\"dataframe\">\n",
       "  <thead>\n",
       "    <tr style=\"text-align: right;\">\n",
       "      <th></th>\n",
       "      <th>Diferencia relativa Promedio</th>\n",
       "      <th>Diferencia absoluta promedio</th>\n",
       "      <th>Total Procesos</th>\n",
       "      <th>Empresas Unicas</th>\n",
       "      <th>Porcentaje Empresas Unicas</th>\n",
       "      <th>cluster</th>\n",
       "    </tr>\n",
       "  </thead>\n",
       "  <tbody>\n",
       "    <tr>\n",
       "      <th>Diferencia relativa Promedio</th>\n",
       "      <td>1.00</td>\n",
       "      <td>1.00</td>\n",
       "      <td>-0.00</td>\n",
       "      <td>0.02</td>\n",
       "      <td>-0.02</td>\n",
       "      <td>-0.01</td>\n",
       "    </tr>\n",
       "    <tr>\n",
       "      <th>Diferencia absoluta promedio</th>\n",
       "      <td>1.00</td>\n",
       "      <td>1.00</td>\n",
       "      <td>-0.00</td>\n",
       "      <td>0.02</td>\n",
       "      <td>-0.02</td>\n",
       "      <td>-0.01</td>\n",
       "    </tr>\n",
       "    <tr>\n",
       "      <th>Total Procesos</th>\n",
       "      <td>-0.00</td>\n",
       "      <td>-0.00</td>\n",
       "      <td>1.00</td>\n",
       "      <td>0.10</td>\n",
       "      <td>-0.11</td>\n",
       "      <td>-0.00</td>\n",
       "    </tr>\n",
       "    <tr>\n",
       "      <th>Empresas Unicas</th>\n",
       "      <td>0.02</td>\n",
       "      <td>0.02</td>\n",
       "      <td>0.10</td>\n",
       "      <td>1.00</td>\n",
       "      <td>-0.37</td>\n",
       "      <td>0.06</td>\n",
       "    </tr>\n",
       "    <tr>\n",
       "      <th>Porcentaje Empresas Unicas</th>\n",
       "      <td>-0.02</td>\n",
       "      <td>-0.02</td>\n",
       "      <td>-0.11</td>\n",
       "      <td>-0.37</td>\n",
       "      <td>1.00</td>\n",
       "      <td>0.64</td>\n",
       "    </tr>\n",
       "    <tr>\n",
       "      <th>cluster</th>\n",
       "      <td>-0.01</td>\n",
       "      <td>-0.01</td>\n",
       "      <td>-0.00</td>\n",
       "      <td>0.06</td>\n",
       "      <td>0.64</td>\n",
       "      <td>1.00</td>\n",
       "    </tr>\n",
       "  </tbody>\n",
       "</table>\n",
       "</div>"
      ],
      "text/plain": [
       "                              Diferencia relativa Promedio  \\\n",
       "Diferencia relativa Promedio                          1.00   \n",
       "Diferencia absoluta promedio                          1.00   \n",
       "Total Procesos                                       -0.00   \n",
       "Empresas Unicas                                       0.02   \n",
       "Porcentaje Empresas Unicas                           -0.02   \n",
       "cluster                                              -0.01   \n",
       "\n",
       "                              Diferencia absoluta promedio  Total Procesos  \\\n",
       "Diferencia relativa Promedio                          1.00           -0.00   \n",
       "Diferencia absoluta promedio                          1.00           -0.00   \n",
       "Total Procesos                                       -0.00            1.00   \n",
       "Empresas Unicas                                       0.02            0.10   \n",
       "Porcentaje Empresas Unicas                           -0.02           -0.11   \n",
       "cluster                                              -0.01           -0.00   \n",
       "\n",
       "                              Empresas Unicas  Porcentaje Empresas Unicas  \\\n",
       "Diferencia relativa Promedio             0.02                       -0.02   \n",
       "Diferencia absoluta promedio             0.02                       -0.02   \n",
       "Total Procesos                           0.10                       -0.11   \n",
       "Empresas Unicas                          1.00                       -0.37   \n",
       "Porcentaje Empresas Unicas              -0.37                        1.00   \n",
       "cluster                                  0.06                        0.64   \n",
       "\n",
       "                              cluster  \n",
       "Diferencia relativa Promedio    -0.01  \n",
       "Diferencia absoluta promedio    -0.01  \n",
       "Total Procesos                  -0.00  \n",
       "Empresas Unicas                  0.06  \n",
       "Porcentaje Empresas Unicas       0.64  \n",
       "cluster                          1.00  "
      ]
     },
     "execution_count": 44,
     "metadata": {},
     "output_type": "execute_result"
    }
   ],
   "source": [
    "main_df.corr()"
   ]
  },
  {
   "cell_type": "code",
   "execution_count": null,
   "metadata": {},
   "outputs": [],
   "source": []
  },
  {
   "cell_type": "code",
   "execution_count": null,
   "metadata": {},
   "outputs": [],
   "source": []
  },
  {
   "cell_type": "code",
   "execution_count": null,
   "metadata": {},
   "outputs": [],
   "source": []
  }
 ],
 "metadata": {
  "kernelspec": {
   "display_name": "Python 3 (ipykernel)",
   "language": "python",
   "name": "python3"
  },
  "language_info": {
   "codemirror_mode": {
    "name": "ipython",
    "version": 3
   },
   "file_extension": ".py",
   "mimetype": "text/x-python",
   "name": "python",
   "nbconvert_exporter": "python",
   "pygments_lexer": "ipython3",
   "version": "3.8.10"
  },
  "vscode": {
   "interpreter": {
    "hash": "2032ae172dee228978471570a37de78f0ff56046ba7520af1570576ee8db04d6"
   }
  }
 },
 "nbformat": 4,
 "nbformat_minor": 2
}

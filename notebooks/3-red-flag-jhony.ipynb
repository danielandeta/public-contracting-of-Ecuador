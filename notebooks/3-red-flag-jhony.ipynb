{
 "cells": [
  {
   "cell_type": "code",
   "execution_count": null,
   "metadata": {},
   "outputs": [],
   "source": [
    "import  pandas as pd\n",
    "import numpy as np\n",
    "import seaborn as sbn\n",
    "import matplotlib.pyplot as plt\n",
    "import matplotlib.ticker as tck"
   ]
  },
  {
   "cell_type": "code",
   "execution_count": null,
   "metadata": {},
   "outputs": [],
   "source": [
    "pd.options.display.float_format = '{:.2f}'.format"
   ]
  },
  {
   "cell_type": "code",
   "execution_count": null,
   "metadata": {},
   "outputs": [],
   "source": [
    "df_planning_2018 = pd.read_csv(\"../data/releases_2018/planning_2018.csv\")\n",
    "df_planning_2019 = pd.read_csv(\"../data/releases_2019/planning_2019.csv\")\n",
    "df_planning_2020 = pd.read_csv(\"../data/releases_2020/planning_2020.csv\")\n",
    "df_planning_2021 = pd.read_csv(\"../data/releases_2021/planning_2021.csv\")\n",
    "df_planning = pd.concat([df_planning_2018, df_planning_2019, df_planning_2020, df_planning_2021], axis=0)"
   ]
  },
  {
   "cell_type": "code",
   "execution_count": null,
   "metadata": {},
   "outputs": [],
   "source": [
    "df_tender_2018 = pd.read_csv(\"../data/releases_2018/tender_2018.csv\")\n",
    "df_tender_2019 = pd.read_csv(\"../data/releases_2019/tender_2019.csv\")\n",
    "df_tender_2020 = pd.read_csv(\"../data/releases_2020/tender_2020.csv\")\n",
    "df_tender_2021 = pd.read_csv(\"../data/releases_2021/tender_2021.csv\")\n",
    "df_tender = pd.concat([df_tender_2018, df_tender_2019, df_tender_2020, df_tender_2021], axis=0)"
   ]
  },
  {
   "cell_type": "code",
   "execution_count": null,
   "metadata": {},
   "outputs": [],
   "source": [
    "df_award_2018 = pd.read_csv(\"../data/releases_2018/awards_2018.csv\")\n",
    "df_award_2019 = pd.read_csv(\"../data/releases_2019/awards_2019.csv\")\n",
    "df_award_2020 = pd.read_csv(\"../data/releases_2020/awards_2020.csv\")\n",
    "df_award_2021 = pd.read_csv(\"../data/releases_2021/awards_2021.csv\")\n",
    "df_award = pd.concat([df_award_2018, df_award_2019, df_award_2020, df_award_2021], axis=0)"
   ]
  },
  {
   "cell_type": "code",
   "execution_count": null,
   "metadata": {},
   "outputs": [],
   "source": [
    "df_contract_2018 = pd.read_csv(\"../data/releases_2018/contracts_2018.csv\")\n",
    "df_contract_2019 = pd.read_csv(\"../data/releases_2019/contracts_2019.csv\")\n",
    "df_contract_2020 = pd.read_csv(\"../data/releases_2020/contracts_2020.csv\")\n",
    "df_contract_2021 = pd.read_csv(\"../data/releases_2021/contracts_2021.csv\")\n",
    "df_contract = pd.concat([df_contract_2018, df_contract_2019, df_contract_2020, df_contract_2021], axis=0)"
   ]
  },
  {
   "cell_type": "code",
   "execution_count": null,
   "metadata": {},
   "outputs": [],
   "source": [
    "df_release_2018 = pd.read_csv(\"../data/releases_2018/releases_2018.csv\")\n",
    "df_release_2019 = pd.read_csv(\"../data/releases_2019/releases_2019.csv\")\n",
    "df_release_2020 = pd.read_csv(\"../data/releases_2020/releases_2020.csv\")\n",
    "df_release_2021 = pd.read_csv(\"../data/releases_2021/releases_2021.csv\")\n",
    "df_release = pd.concat([df_release_2018, df_release_2019, df_release_2020, df_release_2021], axis=0)"
   ]
  },
  {
   "cell_type": "code",
   "execution_count": null,
   "metadata": {},
   "outputs": [],
   "source": [
    "df_supplier_2018 = pd.read_csv(\"../data/releases_2018/suppliers_2018.csv\")\n",
    "df_supplier_2019 = pd.read_csv(\"../data/releases_2019/suppliers_2019.csv\")\n",
    "df_supplier_2020 = pd.read_csv(\"../data/releases_2020/suppliers_2020.csv\")\n",
    "df_supplier_2021 = pd.read_csv(\"../data/releases_2021/suppliers_2021.csv\")\n",
    "df_supplier = pd.concat([df_supplier_2018, df_supplier_2019, df_supplier_2020, df_supplier_2021], axis=0)"
   ]
  },
  {
   "cell_type": "code",
   "execution_count": null,
   "metadata": {},
   "outputs": [],
   "source": [
    "res_tender = df_tender.loc[:, [\"ocid\", \"procuringEntity_name\", \"procurementMethod\", \"value_amount\"]]\n",
    "res_award = df_award.loc[:, [\"ocid\", \"status\"]]\n",
    "res1 = res_tender.merge(res_award, left_on=\"ocid\", right_on=\"ocid\", how=\"left\")\n",
    "res1"
   ]
  },
  {
   "cell_type": "code",
   "execution_count": null,
   "metadata": {},
   "outputs": [],
   "source": [
    "res1 = res1[(res1[\"status\"] == \"active\")]\n",
    "res1"
   ]
  },
  {
   "cell_type": "code",
   "execution_count": null,
   "metadata": {},
   "outputs": [],
   "source": [
    "def competitive(x):\n",
    "    if (x == \"direct\"):\n",
    "        return \"No competitive\"\n",
    "    return \"Competitive\""
   ]
  },
  {
   "cell_type": "code",
   "execution_count": null,
   "metadata": {},
   "outputs": [],
   "source": [
    "res1[\"procurementMethod\"] = res1[\"procurementMethod\"].apply(competitive)\n",
    "res1"
   ]
  },
  {
   "cell_type": "code",
   "execution_count": null,
   "metadata": {},
   "outputs": [],
   "source": [
    "res1 = res1.groupby([\"procuringEntity_name\", \"procurementMethod\"])[\"ocid\"].count().reset_index()\n",
    "res1[\"total_procesos\"] = res1.groupby(\"procuringEntity_name\")[\"ocid\"].transform(\"sum\")\n",
    "res1.columns = [\"Licitante\", \"Metodo\", \"Cantidad\", \"Total\"]\n",
    "res1 = res1[~(res1[\"Cantidad\"] == res1[\"Total\"])]\n",
    "res1[\"Porcentaje\"] = res1[\"Cantidad\"] / res1[\"Total\"]\n",
    "res1 = res1[(res1[\"Metodo\"] == \"No competitive\") & (res1[\"Porcentaje\"] > 0.75) & (res1[\"Cantidad\"] > 80)]\n",
    "res1.reset_index(drop=True)"
   ]
  },
  {
   "cell_type": "code",
   "execution_count": null,
   "metadata": {},
   "outputs": [],
   "source": [
    "def filtrar(x: str):\n",
    "    x = x.upper()\n",
    "    if x.startswith(\"CENTRO CLINICO\"):\n",
    "        return \"CENTRO CLINICO\"\n",
    "    if x.startswith(\"HOSPITAL\"):\n",
    "        return \"HOSPITAL\"\n",
    "    if x.startswith(\"GOBIERNO AUTONOMO\"):\n",
    "        return \"GOBIERNO AUTONOMO\"\n",
    "    if x.startswith(\"DIRECCION DISTRITAL\"):\n",
    "        return \"DIRECCION DISTRITAL\"\n",
    "    if x.startswith(\"CENTRO DE SALUD\"):\n",
    "        return \"CENTRO DE SALUD\"\n",
    "    if x.startswith(\"MINISTERIO\"):\n",
    "        return \"MINISTERIO\"\n",
    "    return x"
   ]
  },
  {
   "cell_type": "code",
   "execution_count": null,
   "metadata": {},
   "outputs": [],
   "source": [
    "res1[\"Licitante\"] = res1[\"Licitante\"].apply(filtrar)\n",
    "res1 = res1.groupby(\"Licitante\").agg({\"Porcentaje\": [\"mean\", \"count\"]})\n",
    "res1.columns = res1.columns.droplevel()\n",
    "res1.columns = [\"Porcentaje\", \"Frecuencia\"]\n",
    "res1.sort_values(\"Frecuencia\", ascending=False)\n",
    "res1.head()"
   ]
  },
  {
   "cell_type": "code",
   "execution_count": null,
   "metadata": {},
   "outputs": [],
   "source": [
    "dib1 = res1.sort_values(\"Porcentaje\", ascending=False)[:10]\n",
    "dib2 = res1.sort_values(\"Frecuencia\", ascending=False)[:10]\n",
    "sbn.set_style(\"darkgrid\")\n",
    "fig,axs = plt.subplots(2,1,figsize=(16,16))\n",
    "sbn.barplot(data=dib1, x=\"Porcentaje\", y=dib1.index, ax=axs[0])\n",
    "sbn.barplot(data=dib2, x=\"Frecuencia\", y=dib2.index, ax=axs[1])\n",
    "_ = plt.setp(axs[0].set_title(\"Top 10 porcentaje de procesos no competitivos\"))\n",
    "_ = plt.setp(axs[1].set_title(\"Frecuencia de entidad de la misma categoría\"))\n",
    "fig.tight_layout()\n",
    "plt.savefig(\"../output/redflag-jhony1.jpg\")"
   ]
  },
  {
   "cell_type": "code",
   "execution_count": null,
   "metadata": {},
   "outputs": [],
   "source": [
    "res2_tender = df_tender[[\"ocid\", \"procuringEntity_name\"]]\n",
    "res2_award = df_award[[\"ocid\", \"id\", \"amount\",]]\n",
    "res2_contract = df_contract[[\"ocid\", \"id\", \"amount\"]]"
   ]
  },
  {
   "cell_type": "code",
   "execution_count": null,
   "metadata": {},
   "outputs": [],
   "source": [
    "res2 = res2_award.merge(res2_contract, left_on=\"ocid\", right_on=\"ocid\", how=\"left\", suffixes=(\"_aw\", \"_ctr\"))\n",
    "res2 = res2[~(res2[\"amount_ctr\"].isnull()) & ~(res2[\"amount_aw\"].isnull())]\n",
    "res2 = res2.merge(res2_tender, left_on=\"ocid\", right_on=\"ocid\", how=\"left\")"
   ]
  },
  {
   "cell_type": "code",
   "execution_count": null,
   "metadata": {},
   "outputs": [],
   "source": [
    "res2[\"diferencia_absoluta\"] = np.abs(res2[\"amount_aw\"] - res2[\"amount_ctr\"])\n",
    "res2[\"diferencia_relativa\"] = res2[\"diferencia_absoluta\"] / res2[\"amount_aw\"]\n",
    "res2.head()"
   ]
  },
  {
   "cell_type": "code",
   "execution_count": null,
   "metadata": {},
   "outputs": [],
   "source": [
    "res2 = res2[(res2[\"diferencia_relativa\"] > 0) & (res2[\"diferencia_relativa\"] <= 0.8)]\n",
    "res2 = res2.groupby(\"procuringEntity_name\").agg({\"diferencia_relativa\" : \"mean\", \"diferencia_absoluta\" : \"mean\"}).reset_index()\n",
    "res2.head()"
   ]
  },
  {
   "cell_type": "code",
   "execution_count": null,
   "metadata": {},
   "outputs": [],
   "source": [
    "res2.columns = [\"Licitante\", \"Diferencia relativa\", \"Diferencia absoluta\"]\n",
    "res2[\"Licitante\"] = res2[\"Licitante\"].str.upper().str[:60] + \"...\"\n",
    "res2.head()"
   ]
  },
  {
   "cell_type": "code",
   "execution_count": null,
   "metadata": {},
   "outputs": [],
   "source": [
    "dib2_rel = res2.sort_values(\"Diferencia relativa\", ascending=False)\n",
    "dib2_abs = res2.sort_values(\"Diferencia absoluta\", ascending=False)\n",
    "sbn.set_style(\"darkgrid\")\n",
    "fig,axs = plt.subplots(2,1,figsize=(16,10))\n",
    "sbn.barplot(data=dib2_rel[:10], x=\"Diferencia relativa\", y=\"Licitante\", ax=axs[0])\n",
    "sbn.barplot(data=dib2_abs[:10], x=\"Diferencia absoluta\", y=\"Licitante\", ax=axs[1])\n",
    "plt.setp(axs[0].set_title(\"Top 10 diferencia relativa entre precio adjudicado y precio declarado en la implementación\"))\n",
    "plt.setp(axs[1].set_title(\"Top 10 diferencia absoluta entre precio adjudicado y precio declarado en la implementación\"))\n",
    "axs[1].get_xaxis().get_major_formatter().set_scientific(False)\n",
    "fig.tight_layout()\n",
    "plt.savefig(\"../output/redflag-jhony2.jpg\")"
   ]
  },
  {
   "cell_type": "code",
   "execution_count": null,
   "metadata": {},
   "outputs": [],
   "source": [
    "res3_tender = df_tender[[\"ocid\", \"procuringEntity_name\", \"value_amount\", \"procurementMethod\"]]\n",
    "res3_award = df_award[[\"ocid\", \"status\", \"id\"]]\n",
    "res3_supplier = df_supplier[[\"award_id\", \"name\"]]\n",
    "tmp = res3_award.merge(res3_supplier, left_on=\"id\", right_on=\"award_id\", how=\"left\")\n",
    "res3 = res3_tender.merge(tmp, left_on=\"ocid\", right_on=\"ocid\", how=\"left\")\n",
    "res3.head()"
   ]
  },
  {
   "cell_type": "code",
   "execution_count": null,
   "metadata": {},
   "outputs": [],
   "source": [
    "def filtrar(row):\n",
    "    porc = row[\"Porcentaje\"]\n",
    "    if porc < 0.1:\n",
    "        row[\"Licitador\"] = \"OTROS\"\n",
    "    row[\"Licitante\"] = row[\"Licitante\"].upper()[:70]\n",
    "    row[\"Licitador\"] = row[\"Licitador\"].upper()\n",
    "    return row"
   ]
  },
  {
   "cell_type": "code",
   "execution_count": null,
   "metadata": {},
   "outputs": [],
   "source": [
    "result3 = res3.groupby([\"procuringEntity_name\", \"name\"])[\"id\"].count().reset_index()\n",
    "result3[\"total_procesos\"] = result3.groupby([\"procuringEntity_name\"])[\"id\"].transform(\"sum\")\n",
    "result3[\"unicos\"] = result3.groupby([\"procuringEntity_name\"])[\"id\"].transform(\"count\")\n",
    "result3[\"porcentaje\"] = result3[\"id\"] / result3[\"total_procesos\"]\n",
    "result3 = result3[(result3[\"total_procesos\"] != result3[\"id\"]) & (result3[\"unicos\"] >= 40)]\n",
    "filtro3 = result3.groupby([\"procuringEntity_name\"])[\"porcentaje\"].transform(\"max\") >= 0.6\n",
    "result3 = result3[filtro3].reset_index(drop=True)\n",
    "result3.columns = [\"Licitante\", \"Licitador\", \"Cantidad\", \"Total\", \"Uniques\", \"Porcentaje\"]\n",
    "result3 = result3.apply(filtrar, axis=1)\n",
    "result3.head()"
   ]
  },
  {
   "cell_type": "code",
   "execution_count": null,
   "metadata": {},
   "outputs": [],
   "source": [
    "result3 = result3.groupby([\"Licitante\", \"Licitador\"])[\"Porcentaje\"].sum().reset_index()\n",
    "result3.head()"
   ]
  },
  {
   "cell_type": "code",
   "execution_count": null,
   "metadata": {},
   "outputs": [],
   "source": [
    "result3.sort_values(\"Porcentaje\", ascending=False).head()"
   ]
  },
  {
   "cell_type": "code",
   "execution_count": null,
   "metadata": {},
   "outputs": [],
   "source": [
    "dib3 = pd.pivot_table(result3, index=\"Licitante\", columns=\"Licitador\", fill_value=0)\n",
    "dib3.columns = dib3.columns.droplevel()"
   ]
  },
  {
   "cell_type": "code",
   "execution_count": null,
   "metadata": {},
   "outputs": [],
   "source": [
    "sbn.set_style(\"darkgrid\")\n",
    "fig, axs = plt.subplots(figsize=(16, 16))\n",
    "_ = sbn.heatmap(dib3, yticklabels=dib3.index, xticklabels=dib3.columns,\n",
    "                ax=axs, annot=True, fmt=\".2f\", cmap=\"YlOrBr\")\n",
    "axs.set_title(\n",
    "    \"Porcentaje de procesos acreditados Licitante vs Licitador. Licitantes con 40 clientes únicos.\")\n",
    "_ = plt.xticks(rotation=90)\n",
    "fig.tight_layout()\n",
    "plt.savefig(\"../output/redflag-jhony3.jpg\")"
   ]
  }
 ],
 "metadata": {
  "kernelspec": {
   "display_name": "Python 3 (ipykernel)",
   "language": "python",
   "name": "python3"
  },
  "language_info": {
   "codemirror_mode": {
    "name": "ipython",
    "version": 3
   },
   "file_extension": ".py",
   "mimetype": "text/x-python",
   "name": "python",
   "nbconvert_exporter": "python",
   "pygments_lexer": "ipython3",
   "version": "3.7.12"
  },
  "vscode": {
   "interpreter": {
    "hash": "2032ae172dee228978471570a37de78f0ff56046ba7520af1570576ee8db04d6"
   }
  }
 },
 "nbformat": 4,
 "nbformat_minor": 2
}

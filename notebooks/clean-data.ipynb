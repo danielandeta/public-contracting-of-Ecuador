{
  "cells": [
    {
      "cell_type": "code",
      "source": [
        "import pandas as pd"
      ],
      "outputs": [],
      "execution_count": 1,
      "metadata": {
        "gather": {
          "logged": 1655961464779
        }
      }
    },
    {
      "cell_type": "code",
      "source": [
        "df_awards = pd.read_csv(\"../data/awards_2021.csv\")\n",
        "df_awards.head()\n",
        "df_awards.isnull().sum()"
      ],
      "outputs": [
        {
          "output_type": "stream",
          "name": "stderr",
          "text": "/anaconda/envs/azureml_py38/lib/python3.8/site-packages/IPython/core/interactiveshell.py:3134: DtypeWarning: Columns (4,6,13,14) have mixed types.Specify dtype option on import or set low_memory=False.\n  has_raised = await self.run_ast_nodes(code_ast.body, cell_name,\n"
        },
        {
          "output_type": "execute_result",
          "execution_count": 2,
          "data": {
            "text/plain": "ocid                                  0\nrelease_id                            0\nid                                    0\ntitle                            161869\ndescription                      123757\nstatus                            48559\ndate                             131407\namount                                3\ncurrency                              3\ncorrectedValue_amount            161869\ncorrectedValue_currency          161869\nenteredValue_amount              161869\nenteredValue_currency            161869\ncontractPeriod_startDate         155762\ncontractPeriod_endDate           155762\ncontractPeriod_maxExtentDate     161869\ncontractPeriod_durationInDays    155764\ndtype: int64"
          },
          "metadata": {}
        }
      ],
      "execution_count": 2,
      "metadata": {
        "gather": {
          "logged": 1655961465770
        }
      }
    },
    {
      "cell_type": "code",
      "source": [
        "df_awards.drop(columns=[\"title\", \"description\", \"date\", \"correctedValue_amount\", \"correctedValue_currency\", \"enteredValue_amount\", \"enteredValue_currency\", \"contractPeriod_startDate\", \"contractPeriod_endDate\", \"contractPeriod_maxExtentDate\", \"contractPeriod_durationInDays\"], inplace=True)\r\n",
        "df_awards.isnull().sum()"
      ],
      "outputs": [
        {
          "output_type": "execute_result",
          "execution_count": 3,
          "data": {
            "text/plain": "ocid              0\nrelease_id        0\nid                0\nstatus        48559\namount            3\ncurrency          3\ndtype: int64"
          },
          "metadata": {}
        }
      ],
      "execution_count": 3,
      "metadata": {
        "jupyter": {
          "source_hidden": false,
          "outputs_hidden": false
        },
        "nteract": {
          "transient": {
            "deleting": false
          }
        },
        "gather": {
          "logged": 1655961466011
        }
      }
    },
    {
      "cell_type": "code",
      "source": [
        "df_contracts = pd.read_csv(\"../data/contracts_2021.csv\")\n",
        "df_contracts.head()\n",
        "df_contracts.isnull().sum()\n"
      ],
      "outputs": [
        {
          "output_type": "execute_result",
          "execution_count": 4,
          "data": {
            "text/plain": "ocid                                  0\nrelease_id                            0\nid                                    0\nawardID                               0\ntitle                            151586\ndescription                      151586\nstatus                                0\ncontractPeriod_startDate         123757\ncontractPeriod_endDate           123757\ncontractPeriod_maxExtentDate     151586\ncontractPeriod_durationInDays    123761\namount                           123757\ncurrency                         123757\ndateSigned                       123757\ndtype: int64"
          },
          "metadata": {}
        }
      ],
      "execution_count": 4,
      "metadata": {
        "gather": {
          "logged": 1655961466588
        }
      }
    },
    {
      "cell_type": "code",
      "source": [
        "df_contracts.drop(columns=[\"title\", \"description\", \"contractPeriod_startDate\", \"contractPeriod_endDate\", \"contractPeriod_maxExtentDate\", \"contractPeriod_durationInDays\", \"amount\", \"currency\", \"dateSigned\"], inplace=True)\r\n",
        "df_contracts.isnull().sum()"
      ],
      "outputs": [
        {
          "output_type": "execute_result",
          "execution_count": 5,
          "data": {
            "text/plain": "ocid          0\nrelease_id    0\nid            0\nawardID       0\nstatus        0\ndtype: int64"
          },
          "metadata": {}
        }
      ],
      "execution_count": 5,
      "metadata": {
        "jupyter": {
          "source_hidden": false,
          "outputs_hidden": false
        },
        "nteract": {
          "transient": {
            "deleting": false
          }
        },
        "gather": {
          "logged": 1655961466906
        }
      }
    },
    {
      "cell_type": "code",
      "source": [
        "df_extensions = pd.read_csv(\"../data/extensions_2021.csv\")\n",
        "df_extensions.head()"
      ],
      "outputs": [
        {
          "output_type": "execute_result",
          "execution_count": 6,
          "data": {
            "text/plain": "                                           extension\n0  https://raw.githubusercontent.com/open-contrac...\n1  https://raw.githubusercontent.com/open-contrac...\n2  https://raw.githubusercontent.com/open-contrac...\n3  https://raw.githubusercontent.com/GobiernoFaci...\n4  https://gitlab.com/dncp-opendata/ocds_auctions...",
            "text/html": "<div>\n<style scoped>\n    .dataframe tbody tr th:only-of-type {\n        vertical-align: middle;\n    }\n\n    .dataframe tbody tr th {\n        vertical-align: top;\n    }\n\n    .dataframe thead th {\n        text-align: right;\n    }\n</style>\n<table border=\"1\" class=\"dataframe\">\n  <thead>\n    <tr style=\"text-align: right;\">\n      <th></th>\n      <th>extension</th>\n    </tr>\n  </thead>\n  <tbody>\n    <tr>\n      <th>0</th>\n      <td>https://raw.githubusercontent.com/open-contrac...</td>\n    </tr>\n    <tr>\n      <th>1</th>\n      <td>https://raw.githubusercontent.com/open-contrac...</td>\n    </tr>\n    <tr>\n      <th>2</th>\n      <td>https://raw.githubusercontent.com/open-contrac...</td>\n    </tr>\n    <tr>\n      <th>3</th>\n      <td>https://raw.githubusercontent.com/GobiernoFaci...</td>\n    </tr>\n    <tr>\n      <th>4</th>\n      <td>https://gitlab.com/dncp-opendata/ocds_auctions...</td>\n    </tr>\n  </tbody>\n</table>\n</div>"
          },
          "metadata": {}
        }
      ],
      "execution_count": 6,
      "metadata": {
        "gather": {
          "logged": 1655961467141
        }
      }
    },
    {
      "cell_type": "code",
      "source": [
        "df_metadata = pd.read_csv(\"../data/metadata_2021.csv\")\n",
        "df_metadata.head()"
      ],
      "outputs": [
        {
          "output_type": "execute_result",
          "execution_count": 7,
          "data": {
            "text/plain": "                                                 Uri  Version  \\\n0  https://portal.compraspublicas.gob.ec/sercop/d...      1.1   \n\n                                       PublisherName PublisherScheme  \\\n0  Servicio Nacional de Contratación Pública (SER...            OCDS   \n\n  PublisherUid                        PublisherUri  \\\n0  ocds-5wno2w  https://www.compraspublicas.gob.ec   \n\n                                           License  \\\n0  https://creativecommons.org/licenses/by/3.0/ec/   \n\n                                   PublicationPolicy             PublishedDate  \n0  https://datosabiertos.compraspublicas.gob.ec/P...  2022-06-22T12:48:52.215Z  ",
            "text/html": "<div>\n<style scoped>\n    .dataframe tbody tr th:only-of-type {\n        vertical-align: middle;\n    }\n\n    .dataframe tbody tr th {\n        vertical-align: top;\n    }\n\n    .dataframe thead th {\n        text-align: right;\n    }\n</style>\n<table border=\"1\" class=\"dataframe\">\n  <thead>\n    <tr style=\"text-align: right;\">\n      <th></th>\n      <th>Uri</th>\n      <th>Version</th>\n      <th>PublisherName</th>\n      <th>PublisherScheme</th>\n      <th>PublisherUid</th>\n      <th>PublisherUri</th>\n      <th>License</th>\n      <th>PublicationPolicy</th>\n      <th>PublishedDate</th>\n    </tr>\n  </thead>\n  <tbody>\n    <tr>\n      <th>0</th>\n      <td>https://portal.compraspublicas.gob.ec/sercop/d...</td>\n      <td>1.1</td>\n      <td>Servicio Nacional de Contratación Pública (SER...</td>\n      <td>OCDS</td>\n      <td>ocds-5wno2w</td>\n      <td>https://www.compraspublicas.gob.ec</td>\n      <td>https://creativecommons.org/licenses/by/3.0/ec/</td>\n      <td>https://datosabiertos.compraspublicas.gob.ec/P...</td>\n      <td>2022-06-22T12:48:52.215Z</td>\n    </tr>\n  </tbody>\n</table>\n</div>"
          },
          "metadata": {}
        }
      ],
      "execution_count": 7,
      "metadata": {
        "gather": {
          "logged": 1655961467427
        }
      }
    },
    {
      "cell_type": "code",
      "source": [
        "df_planning = pd.read_csv(\"../data/planning_2021.csv\")\n",
        "df_planning.head()\n",
        "df_planning.isnull().sum()"
      ],
      "outputs": [
        {
          "output_type": "execute_result",
          "execution_count": 8,
          "data": {
            "text/plain": "ocid                      0\nid                        0\nrationale                 1\nbudget_id                 0\nbudget_description    38202\nbudget_amount         19740\nbudget_currency       19740\ndtype: int64"
          },
          "metadata": {}
        }
      ],
      "execution_count": 8,
      "metadata": {
        "gather": {
          "logged": 1655961467732
        }
      }
    },
    {
      "cell_type": "code",
      "source": [
        "df_planning.drop(columns=[\"budget_description\"], inplace=True)\r\n",
        "df_planning.dropna(subset=[\"budget_amount\", \"budget_currency\"], how=\"all\", inplace=True)\r\n",
        "df_planning.isnull().sum()"
      ],
      "outputs": [
        {
          "output_type": "execute_result",
          "execution_count": 9,
          "data": {
            "text/plain": "ocid               0\nid                 0\nrationale          0\nbudget_id          0\nbudget_amount      0\nbudget_currency    0\ndtype: int64"
          },
          "metadata": {}
        }
      ],
      "execution_count": 9,
      "metadata": {
        "jupyter": {
          "source_hidden": false,
          "outputs_hidden": false
        },
        "nteract": {
          "transient": {
            "deleting": false
          }
        },
        "gather": {
          "logged": 1655961468074
        }
      }
    },
    {
      "cell_type": "code",
      "source": [
        "df_releases = pd.read_csv(\"../data/releases_2021.csv\")\n",
        "df_releases.head()\n",
        "df_releases.isnull().sum()"
      ],
      "outputs": [
        {
          "output_type": "execute_result",
          "execution_count": 10,
          "data": {
            "text/plain": "ocid              0\nid                0\ninitiationType    0\nbuyer_id          0\nbuyer_name        0\nlanguage          0\ndate              0\ntag               0\ndtype: int64"
          },
          "metadata": {}
        }
      ],
      "execution_count": 10,
      "metadata": {
        "gather": {
          "logged": 1655961468444
        }
      }
    },
    {
      "cell_type": "code",
      "source": [
        "df_suppliers = pd.read_csv(\"../data/suppliers_2021.csv\")\n",
        "df_suppliers.head()\n",
        "df_suppliers.isnull().sum()"
      ],
      "outputs": [
        {
          "output_type": "execute_result",
          "execution_count": 11,
          "data": {
            "text/plain": "ocid           0\nrelease_id     0\naward_id       0\nid             0\nname          16\ndtype: int64"
          },
          "metadata": {}
        }
      ],
      "execution_count": 11,
      "metadata": {
        "gather": {
          "logged": 1655961469250
        }
      }
    },
    {
      "cell_type": "code",
      "source": [
        "df_suppliers.dropna(inplace=True)\r\n",
        "df_suppliers.isnull().sum()"
      ],
      "outputs": [
        {
          "output_type": "execute_result",
          "execution_count": 12,
          "data": {
            "text/plain": "ocid          0\nrelease_id    0\naward_id      0\nid            0\nname          0\ndtype: int64"
          },
          "metadata": {}
        }
      ],
      "execution_count": 12,
      "metadata": {
        "jupyter": {
          "source_hidden": false,
          "outputs_hidden": false
        },
        "nteract": {
          "transient": {
            "deleting": false
          }
        },
        "gather": {
          "logged": 1655961469517
        }
      }
    },
    {
      "cell_type": "code",
      "source": [
        "df_tender = pd.read_csv(\"../data/tender_2021.csv\")\n",
        "df_tender.head()\n",
        "df_tender.isnull().sum()"
      ],
      "outputs": [
        {
          "output_type": "stream",
          "name": "stderr",
          "text": "/anaconda/envs/azureml_py38/lib/python3.8/site-packages/IPython/core/interactiveshell.py:3134: DtypeWarning: Columns (12,13,14,15,16,18,19,20,22,23,24,25,26) have mixed types.Specify dtype option on import or set low_memory=False.\n  has_raised = await self.run_ast_nodes(code_ast.body, cell_name,\n"
        },
        {
          "output_type": "execute_result",
          "execution_count": 13,
          "data": {
            "text/plain": "ocid                                 0\nrelease_id                           0\nid                                   0\ntitle                                0\ndescription                          1\nstatus                               0\nprocuringEntity_id                  54\nprocuringEntity_name                54\nvalue_amount                     19048\nvalue_currency                   19048\nprocurementMethod                    0\nprocurementMethodDetails             0\nmainProcurementCategory         123757\nawardCriteria                   123757\ntenderPeriod_startDate          123757\ntenderPeriod_endDate            145778\ntenderPeriod_maxExtentDate      145778\ntenderPeriod_durationInDays     146107\nenquiryPeriod_startDate         123757\nenquiryPeriod_endDate           129772\nenquiryPeriod_maxExtentDate     129772\nenquiryPeriod_durationInDays    130583\nhasEnquiries                    136645\neligibilityCriteria             142805\nawardPeriod_startDate           141465\nawardPeriod_endDate             123757\nawardPeriod_maxExtentDate       123757\nawardPeriod_durationInDays      142361\nnumberOfTenderers               124031\ndtype: int64"
          },
          "metadata": {}
        }
      ],
      "execution_count": 13,
      "metadata": {
        "gather": {
          "logged": 1655961471644
        }
      }
    },
    {
      "cell_type": "code",
      "source": [
        "df_tender = df_tender[[\"ocid\", \"release_id\", \"id\", \"title\", \"description\", \"status\", \"procuringEntity_id\", \"procuringEntity_name\", \"value_amount\", \"value_currency\", \"procurementMethod\", \"procurementMethodDetails\"]]\r\n",
        "df_tender.isnull().sum()"
      ],
      "outputs": [
        {
          "output_type": "execute_result",
          "execution_count": 14,
          "data": {
            "text/plain": "ocid                            0\nrelease_id                      0\nid                              0\ntitle                           0\ndescription                     1\nstatus                          0\nprocuringEntity_id             54\nprocuringEntity_name           54\nvalue_amount                19048\nvalue_currency              19048\nprocurementMethod               0\nprocurementMethodDetails        0\ndtype: int64"
          },
          "metadata": {}
        }
      ],
      "execution_count": 14,
      "metadata": {
        "jupyter": {
          "source_hidden": false,
          "outputs_hidden": false
        },
        "nteract": {
          "transient": {
            "deleting": false
          }
        },
        "gather": {
          "logged": 1655961471900
        }
      }
    },
    {
      "cell_type": "code",
      "source": [
        "def unir(df_general, df_unir, r_sufix):\n",
        "    return df_general.merge(df_unir, how=\"right\", left_on=\"id\", right_on=\"release_id\", suffixes=(\"\", r_sufix))"
      ],
      "outputs": [],
      "execution_count": 20,
      "metadata": {
        "gather": {
          "logged": 1655961710402
        }
      }
    },
    {
      "cell_type": "code",
      "source": [
        "df = unir(df_releases, df_tender, \"_tender\")\n",
        "df = unir(df, df_suppliers, \"_supplier\")\n",
        "df = unir(df, df_contracts, \"_contracts\")\n",
        "df = unir(df, df_awards, \"_awards\")\n",
        "df"
      ],
      "outputs": [
        {
          "output_type": "execute_result",
          "execution_count": 21,
          "data": {
            "text/plain": "                                           ocid  \\\n0          ocds-5wno2w-MCBS-DNA-003-2021-178618   \n1           ocds-5wno2w-CE-20210001957608-68478   \n2           ocds-5wno2w-CE-20210001957610-68478   \n3          ocds-5wno2w-CE-20210001988613-129424   \n4           ocds-5wno2w-CE-20210002013013-68478   \n...                                         ...   \n26949484     ocds-5wno2w-CE-20210002114419-2541   \n26949485   ocds-5wno2w-MCBS-DNA-005-2021-178618   \n26949486  ocds-5wno2w-MCS-CCFFAA-002-ABR21-2539   \n26949487  ocds-5wno2w-RE-GADMCN-17-21-LRG-67188   \n26949488   ocds-5wno2w-RE-HGADPCH-039-2021-2583   \n\n                                                         id initiationType  \\\n0         MCBS-DNA-003-2021-178618-2022-05-04T11:41:39.8...         tender   \n1          CE-20210001957608-68478-2022-05-05T05:42:35.921Z         tender   \n2          CE-20210001957610-68478-2022-05-05T05:42:36.127Z         tender   \n3         CE-20210001988613-129424-2022-05-05T06:51:33.253Z         tender   \n4          CE-20210002013013-68478-2022-05-05T07:42:28.539Z         tender   \n...                                                     ...            ...   \n26949484    CE-20210002114419-2541-2022-05-04T11:08:49.220Z         tender   \n26949485  MCBS-DNA-005-2021-178618-2022-05-04T11:43:12.1...         tender   \n26949486  MCS-CCFFAA-002-ABR21-2539-2022-05-04T11:36:54....         tender   \n26949487  RE-GADMCN-17-21-LRG-67188-2022-05-04T11:48:52....         tender   \n26949488  RE-HGADPCH-039-2021-2583-2022-05-04T11:39:57.9...         tender   \n\n                             buyer_id  \\\n0         EC-RUC-1768040760001-178618   \n1                EC-RUC-1960000110001   \n2                EC-RUC-1960000110001   \n3                EC-RUC-1260005880001   \n4                EC-RUC-1960000110001   \n...                               ...   \n26949484         EC-RUC-1760001470001   \n26949485  EC-RUC-1768040760001-178618   \n26949486    EC-RUC-1768012630001-2539   \n26949487   EC-RUC-0968532700001-67188   \n26949488    EC-RUC-0660000280001-2583   \n\n                                                 buyer_name language  \\\n0                      DIRECCION NACIONAL DE ANTINARCOTICOS       es   \n1         GOBIERNO AUTONOMO DESCENTRALIZADO PROVINCIAL D...       es   \n2         GOBIERNO AUTONOMO DESCENTRALIZADO PROVINCIAL D...       es   \n3         DIRECCION DISTRITAL 12D04 - QUINSALOMA - VENTA...       es   \n4         GOBIERNO AUTONOMO DESCENTRALIZADO PROVINCIAL D...       es   \n...                                                     ...      ...   \n26949484             MINISTERIO DE AGRICULTURA Y GANADERÍA        es   \n26949485               DIRECCION NACIONAL DE ANTINARCOTICOS       es   \n26949486                                   COMANDO CONJUNTO       es   \n26949487  GOBIERNO AUTONOMO DESCENTRALIZADO MUNICIPAL DE...       es   \n26949488  HONORABLE GOBIERNO AUTONOMO DESCENTRALIZADO DE...       es   \n\n                               date  \\\n0         2022-05-04T06:51:47-05:00   \n1         2021-02-09T00:00:00-05:00   \n2         2021-02-09T00:00:00-05:00   \n3         2021-03-29T00:00:00-05:00   \n4         2021-05-10T00:00:00-05:00   \n...                             ...   \n26949484  2021-12-02T00:00:00-05:00   \n26949485  2022-05-04T06:51:47-05:00   \n26949486  2022-05-04T06:51:48-05:00   \n26949487  2022-05-04T06:51:48-05:00   \n26949488  2022-05-04T06:51:48-05:00   \n\n                                                        tag  \\\n0                  [\"planning\",\"tender\",\"award\",\"contract\"]   \n1                             [\"tender\",\"award\",\"contract\"]   \n2                             [\"tender\",\"award\",\"contract\"]   \n3                             [\"tender\",\"award\",\"contract\"]   \n4                             [\"tender\",\"award\",\"contract\"]   \n...                                                     ...   \n26949484                      [\"tender\",\"award\",\"contract\"]   \n26949485           [\"planning\",\"tender\",\"award\",\"contract\"]   \n26949486  [\"planning\",\"tender\",\"award\",\"contract\",\"imple...   \n26949487           [\"planning\",\"tender\",\"award\",\"contract\"]   \n26949488  [\"planning\",\"tender\",\"award\",\"contract\",\"imple...   \n\n                                    ocid_tender  \\\n0          ocds-5wno2w-MCBS-DNA-003-2021-178618   \n1           ocds-5wno2w-CE-20210001957608-68478   \n2           ocds-5wno2w-CE-20210001957610-68478   \n3          ocds-5wno2w-CE-20210001988613-129424   \n4           ocds-5wno2w-CE-20210002013013-68478   \n...                                         ...   \n26949484     ocds-5wno2w-CE-20210002114419-2541   \n26949485   ocds-5wno2w-MCBS-DNA-005-2021-178618   \n26949486  ocds-5wno2w-MCS-CCFFAA-002-ABR21-2539   \n26949487  ocds-5wno2w-RE-GADMCN-17-21-LRG-67188   \n26949488   ocds-5wno2w-RE-HGADPCH-039-2021-2583   \n\n                                                 release_id  ...  \\\n0         MCBS-DNA-003-2021-178618-2022-05-04T11:41:39.8...  ...   \n1          CE-20210001957608-68478-2022-05-05T05:42:35.921Z  ...   \n2          CE-20210001957610-68478-2022-05-05T05:42:36.127Z  ...   \n3         CE-20210001988613-129424-2022-05-05T06:51:33.253Z  ...   \n4          CE-20210002013013-68478-2022-05-05T07:42:28.539Z  ...   \n...                                                     ...  ...   \n26949484    CE-20210002114419-2541-2022-05-04T11:08:49.220Z  ...   \n26949485  MCBS-DNA-005-2021-178618-2022-05-04T11:43:12.1...  ...   \n26949486  MCS-CCFFAA-002-ABR21-2539-2022-05-04T11:36:54....  ...   \n26949487  RE-GADMCN-17-21-LRG-67188-2022-05-04T11:48:52....  ...   \n26949488  RE-HGADPCH-039-2021-2583-2022-05-04T11:39:57.9...  ...   \n\n                                       release_id_contracts  \\\n0         MCBS-DNA-003-2021-178618-2022-05-04T11:41:39.8...   \n1          CE-20210001957608-68478-2022-05-05T05:42:35.921Z   \n2          CE-20210001957610-68478-2022-05-05T05:42:36.127Z   \n3         CE-20210001988613-129424-2022-05-05T06:51:33.253Z   \n4          CE-20210002013013-68478-2022-05-05T07:42:28.539Z   \n...                                                     ...   \n26949484    CE-20210002114419-2541-2022-05-04T11:08:49.220Z   \n26949485  MCBS-DNA-005-2021-178618-2022-05-04T11:43:12.1...   \n26949486  MCS-CCFFAA-002-ABR21-2539-2022-05-04T11:36:54....   \n26949487  RE-GADMCN-17-21-LRG-67188-2022-05-04T11:48:52....   \n26949488  RE-HGADPCH-039-2021-2583-2022-05-04T11:39:57.9...   \n\n                          id_contracts                       awardID  \\\n0            2115897-MCBS-DNA-003-2021     4726509-MCBS-DNA-003-2021   \n1           CE-20210001957608-contract             CE-20210001957608   \n2           CE-20210001957610-contract             CE-20210001957610   \n3           CE-20210001988613-contract             CE-20210001988613   \n4           CE-20210002013013-contract             CE-20210002013013   \n...                                ...                           ...   \n26949484    CE-20210002114419-contract             CE-20210002114419   \n26949485     2115899-MCBS-DNA-005-2021     4862272-MCBS-DNA-005-2021   \n26949486  2072552-MCS-CCFFAA-002-ABR21  4744578-MCS-CCFFAA-002-ABR21   \n26949487   2115789-RE-GADMCN-17-21-LRG   5302403-RE-GADMCN-17-21-LRG   \n26949488   2108207-RE-HGADPCH-039-2021   5099697-RE-HGADPCH-039-2021   \n\n         status_contracts                            ocid_awards  \\\n0              terminated   ocds-5wno2w-MCBS-DNA-003-2021-178618   \n1              terminated    ocds-5wno2w-CE-20210001957608-68478   \n2              terminated    ocds-5wno2w-CE-20210001957610-68478   \n3              terminated   ocds-5wno2w-CE-20210001988613-129424   \n4              terminated    ocds-5wno2w-CE-20210002013013-68478   \n...                   ...                                    ...   \n26949484       terminated     ocds-5wno2w-CE-20210002114419-2541   \n26949485       terminated   ocds-5wno2w-MCBS-DNA-005-2021-178618   \n26949486       terminated  ocds-5wno2w-MCS-CCFFAA-002-ABR21-2539   \n26949487       terminated  ocds-5wno2w-RE-GADMCN-17-21-LRG-67188   \n26949488       terminated   ocds-5wno2w-RE-HGADPCH-039-2021-2583   \n\n                                          release_id_awards  \\\n0         MCBS-DNA-003-2021-178618-2022-05-04T11:41:39.8...   \n1          CE-20210001957608-68478-2022-05-05T05:42:35.921Z   \n2          CE-20210001957610-68478-2022-05-05T05:42:36.127Z   \n3         CE-20210001988613-129424-2022-05-05T06:51:33.253Z   \n4          CE-20210002013013-68478-2022-05-05T07:42:28.539Z   \n...                                                     ...   \n26949484    CE-20210002114419-2541-2022-05-04T11:08:49.220Z   \n26949485  MCBS-DNA-005-2021-178618-2022-05-04T11:43:12.1...   \n26949486  MCS-CCFFAA-002-ABR21-2539-2022-05-04T11:36:54....   \n26949487  RE-GADMCN-17-21-LRG-67188-2022-05-04T11:48:52....   \n26949488  RE-HGADPCH-039-2021-2583-2022-05-04T11:39:57.9...   \n\n                             id_awards status_awards     amount currency  \n0            4726509-MCBS-DNA-003-2021           NaN   24706.08      USD  \n1                    CE-20210001957608        active     174.72      USD  \n2                    CE-20210001957610        active      90.72      USD  \n3                    CE-20210001988613        active     916.61      USD  \n4                    CE-20210002013013        active      80.81      USD  \n...                                ...           ...        ...      ...  \n26949484             CE-20210002114419        active      18.98      USD  \n26949485     4862272-MCBS-DNA-005-2021           NaN   28823.77      USD  \n26949486  4744578-MCS-CCFFAA-002-ABR21           NaN    7589.29      USD  \n26949487   5302403-RE-GADMCN-17-21-LRG           NaN   30590.89      USD  \n26949488   5099697-RE-HGADPCH-039-2021           NaN  148474.03      USD  \n\n[26949489 rows x 36 columns]",
            "text/html": "<div>\n<style scoped>\n    .dataframe tbody tr th:only-of-type {\n        vertical-align: middle;\n    }\n\n    .dataframe tbody tr th {\n        vertical-align: top;\n    }\n\n    .dataframe thead th {\n        text-align: right;\n    }\n</style>\n<table border=\"1\" class=\"dataframe\">\n  <thead>\n    <tr style=\"text-align: right;\">\n      <th></th>\n      <th>ocid</th>\n      <th>id</th>\n      <th>initiationType</th>\n      <th>buyer_id</th>\n      <th>buyer_name</th>\n      <th>language</th>\n      <th>date</th>\n      <th>tag</th>\n      <th>ocid_tender</th>\n      <th>release_id</th>\n      <th>...</th>\n      <th>release_id_contracts</th>\n      <th>id_contracts</th>\n      <th>awardID</th>\n      <th>status_contracts</th>\n      <th>ocid_awards</th>\n      <th>release_id_awards</th>\n      <th>id_awards</th>\n      <th>status_awards</th>\n      <th>amount</th>\n      <th>currency</th>\n    </tr>\n  </thead>\n  <tbody>\n    <tr>\n      <th>0</th>\n      <td>ocds-5wno2w-MCBS-DNA-003-2021-178618</td>\n      <td>MCBS-DNA-003-2021-178618-2022-05-04T11:41:39.8...</td>\n      <td>tender</td>\n      <td>EC-RUC-1768040760001-178618</td>\n      <td>DIRECCION NACIONAL DE ANTINARCOTICOS</td>\n      <td>es</td>\n      <td>2022-05-04T06:51:47-05:00</td>\n      <td>[\"planning\",\"tender\",\"award\",\"contract\"]</td>\n      <td>ocds-5wno2w-MCBS-DNA-003-2021-178618</td>\n      <td>MCBS-DNA-003-2021-178618-2022-05-04T11:41:39.8...</td>\n      <td>...</td>\n      <td>MCBS-DNA-003-2021-178618-2022-05-04T11:41:39.8...</td>\n      <td>2115897-MCBS-DNA-003-2021</td>\n      <td>4726509-MCBS-DNA-003-2021</td>\n      <td>terminated</td>\n      <td>ocds-5wno2w-MCBS-DNA-003-2021-178618</td>\n      <td>MCBS-DNA-003-2021-178618-2022-05-04T11:41:39.8...</td>\n      <td>4726509-MCBS-DNA-003-2021</td>\n      <td>NaN</td>\n      <td>24706.08</td>\n      <td>USD</td>\n    </tr>\n    <tr>\n      <th>1</th>\n      <td>ocds-5wno2w-CE-20210001957608-68478</td>\n      <td>CE-20210001957608-68478-2022-05-05T05:42:35.921Z</td>\n      <td>tender</td>\n      <td>EC-RUC-1960000110001</td>\n      <td>GOBIERNO AUTONOMO DESCENTRALIZADO PROVINCIAL D...</td>\n      <td>es</td>\n      <td>2021-02-09T00:00:00-05:00</td>\n      <td>[\"tender\",\"award\",\"contract\"]</td>\n      <td>ocds-5wno2w-CE-20210001957608-68478</td>\n      <td>CE-20210001957608-68478-2022-05-05T05:42:35.921Z</td>\n      <td>...</td>\n      <td>CE-20210001957608-68478-2022-05-05T05:42:35.921Z</td>\n      <td>CE-20210001957608-contract</td>\n      <td>CE-20210001957608</td>\n      <td>terminated</td>\n      <td>ocds-5wno2w-CE-20210001957608-68478</td>\n      <td>CE-20210001957608-68478-2022-05-05T05:42:35.921Z</td>\n      <td>CE-20210001957608</td>\n      <td>active</td>\n      <td>174.72</td>\n      <td>USD</td>\n    </tr>\n    <tr>\n      <th>2</th>\n      <td>ocds-5wno2w-CE-20210001957610-68478</td>\n      <td>CE-20210001957610-68478-2022-05-05T05:42:36.127Z</td>\n      <td>tender</td>\n      <td>EC-RUC-1960000110001</td>\n      <td>GOBIERNO AUTONOMO DESCENTRALIZADO PROVINCIAL D...</td>\n      <td>es</td>\n      <td>2021-02-09T00:00:00-05:00</td>\n      <td>[\"tender\",\"award\",\"contract\"]</td>\n      <td>ocds-5wno2w-CE-20210001957610-68478</td>\n      <td>CE-20210001957610-68478-2022-05-05T05:42:36.127Z</td>\n      <td>...</td>\n      <td>CE-20210001957610-68478-2022-05-05T05:42:36.127Z</td>\n      <td>CE-20210001957610-contract</td>\n      <td>CE-20210001957610</td>\n      <td>terminated</td>\n      <td>ocds-5wno2w-CE-20210001957610-68478</td>\n      <td>CE-20210001957610-68478-2022-05-05T05:42:36.127Z</td>\n      <td>CE-20210001957610</td>\n      <td>active</td>\n      <td>90.72</td>\n      <td>USD</td>\n    </tr>\n    <tr>\n      <th>3</th>\n      <td>ocds-5wno2w-CE-20210001988613-129424</td>\n      <td>CE-20210001988613-129424-2022-05-05T06:51:33.253Z</td>\n      <td>tender</td>\n      <td>EC-RUC-1260005880001</td>\n      <td>DIRECCION DISTRITAL 12D04 - QUINSALOMA - VENTA...</td>\n      <td>es</td>\n      <td>2021-03-29T00:00:00-05:00</td>\n      <td>[\"tender\",\"award\",\"contract\"]</td>\n      <td>ocds-5wno2w-CE-20210001988613-129424</td>\n      <td>CE-20210001988613-129424-2022-05-05T06:51:33.253Z</td>\n      <td>...</td>\n      <td>CE-20210001988613-129424-2022-05-05T06:51:33.253Z</td>\n      <td>CE-20210001988613-contract</td>\n      <td>CE-20210001988613</td>\n      <td>terminated</td>\n      <td>ocds-5wno2w-CE-20210001988613-129424</td>\n      <td>CE-20210001988613-129424-2022-05-05T06:51:33.253Z</td>\n      <td>CE-20210001988613</td>\n      <td>active</td>\n      <td>916.61</td>\n      <td>USD</td>\n    </tr>\n    <tr>\n      <th>4</th>\n      <td>ocds-5wno2w-CE-20210002013013-68478</td>\n      <td>CE-20210002013013-68478-2022-05-05T07:42:28.539Z</td>\n      <td>tender</td>\n      <td>EC-RUC-1960000110001</td>\n      <td>GOBIERNO AUTONOMO DESCENTRALIZADO PROVINCIAL D...</td>\n      <td>es</td>\n      <td>2021-05-10T00:00:00-05:00</td>\n      <td>[\"tender\",\"award\",\"contract\"]</td>\n      <td>ocds-5wno2w-CE-20210002013013-68478</td>\n      <td>CE-20210002013013-68478-2022-05-05T07:42:28.539Z</td>\n      <td>...</td>\n      <td>CE-20210002013013-68478-2022-05-05T07:42:28.539Z</td>\n      <td>CE-20210002013013-contract</td>\n      <td>CE-20210002013013</td>\n      <td>terminated</td>\n      <td>ocds-5wno2w-CE-20210002013013-68478</td>\n      <td>CE-20210002013013-68478-2022-05-05T07:42:28.539Z</td>\n      <td>CE-20210002013013</td>\n      <td>active</td>\n      <td>80.81</td>\n      <td>USD</td>\n    </tr>\n    <tr>\n      <th>...</th>\n      <td>...</td>\n      <td>...</td>\n      <td>...</td>\n      <td>...</td>\n      <td>...</td>\n      <td>...</td>\n      <td>...</td>\n      <td>...</td>\n      <td>...</td>\n      <td>...</td>\n      <td>...</td>\n      <td>...</td>\n      <td>...</td>\n      <td>...</td>\n      <td>...</td>\n      <td>...</td>\n      <td>...</td>\n      <td>...</td>\n      <td>...</td>\n      <td>...</td>\n      <td>...</td>\n    </tr>\n    <tr>\n      <th>26949484</th>\n      <td>ocds-5wno2w-CE-20210002114419-2541</td>\n      <td>CE-20210002114419-2541-2022-05-04T11:08:49.220Z</td>\n      <td>tender</td>\n      <td>EC-RUC-1760001470001</td>\n      <td>MINISTERIO DE AGRICULTURA Y GANADERÍA</td>\n      <td>es</td>\n      <td>2021-12-02T00:00:00-05:00</td>\n      <td>[\"tender\",\"award\",\"contract\"]</td>\n      <td>ocds-5wno2w-CE-20210002114419-2541</td>\n      <td>CE-20210002114419-2541-2022-05-04T11:08:49.220Z</td>\n      <td>...</td>\n      <td>CE-20210002114419-2541-2022-05-04T11:08:49.220Z</td>\n      <td>CE-20210002114419-contract</td>\n      <td>CE-20210002114419</td>\n      <td>terminated</td>\n      <td>ocds-5wno2w-CE-20210002114419-2541</td>\n      <td>CE-20210002114419-2541-2022-05-04T11:08:49.220Z</td>\n      <td>CE-20210002114419</td>\n      <td>active</td>\n      <td>18.98</td>\n      <td>USD</td>\n    </tr>\n    <tr>\n      <th>26949485</th>\n      <td>ocds-5wno2w-MCBS-DNA-005-2021-178618</td>\n      <td>MCBS-DNA-005-2021-178618-2022-05-04T11:43:12.1...</td>\n      <td>tender</td>\n      <td>EC-RUC-1768040760001-178618</td>\n      <td>DIRECCION NACIONAL DE ANTINARCOTICOS</td>\n      <td>es</td>\n      <td>2022-05-04T06:51:47-05:00</td>\n      <td>[\"planning\",\"tender\",\"award\",\"contract\"]</td>\n      <td>ocds-5wno2w-MCBS-DNA-005-2021-178618</td>\n      <td>MCBS-DNA-005-2021-178618-2022-05-04T11:43:12.1...</td>\n      <td>...</td>\n      <td>MCBS-DNA-005-2021-178618-2022-05-04T11:43:12.1...</td>\n      <td>2115899-MCBS-DNA-005-2021</td>\n      <td>4862272-MCBS-DNA-005-2021</td>\n      <td>terminated</td>\n      <td>ocds-5wno2w-MCBS-DNA-005-2021-178618</td>\n      <td>MCBS-DNA-005-2021-178618-2022-05-04T11:43:12.1...</td>\n      <td>4862272-MCBS-DNA-005-2021</td>\n      <td>NaN</td>\n      <td>28823.77</td>\n      <td>USD</td>\n    </tr>\n    <tr>\n      <th>26949486</th>\n      <td>ocds-5wno2w-MCS-CCFFAA-002-ABR21-2539</td>\n      <td>MCS-CCFFAA-002-ABR21-2539-2022-05-04T11:36:54....</td>\n      <td>tender</td>\n      <td>EC-RUC-1768012630001-2539</td>\n      <td>COMANDO CONJUNTO</td>\n      <td>es</td>\n      <td>2022-05-04T06:51:48-05:00</td>\n      <td>[\"planning\",\"tender\",\"award\",\"contract\",\"imple...</td>\n      <td>ocds-5wno2w-MCS-CCFFAA-002-ABR21-2539</td>\n      <td>MCS-CCFFAA-002-ABR21-2539-2022-05-04T11:36:54....</td>\n      <td>...</td>\n      <td>MCS-CCFFAA-002-ABR21-2539-2022-05-04T11:36:54....</td>\n      <td>2072552-MCS-CCFFAA-002-ABR21</td>\n      <td>4744578-MCS-CCFFAA-002-ABR21</td>\n      <td>terminated</td>\n      <td>ocds-5wno2w-MCS-CCFFAA-002-ABR21-2539</td>\n      <td>MCS-CCFFAA-002-ABR21-2539-2022-05-04T11:36:54....</td>\n      <td>4744578-MCS-CCFFAA-002-ABR21</td>\n      <td>NaN</td>\n      <td>7589.29</td>\n      <td>USD</td>\n    </tr>\n    <tr>\n      <th>26949487</th>\n      <td>ocds-5wno2w-RE-GADMCN-17-21-LRG-67188</td>\n      <td>RE-GADMCN-17-21-LRG-67188-2022-05-04T11:48:52....</td>\n      <td>tender</td>\n      <td>EC-RUC-0968532700001-67188</td>\n      <td>GOBIERNO AUTONOMO DESCENTRALIZADO MUNICIPAL DE...</td>\n      <td>es</td>\n      <td>2022-05-04T06:51:48-05:00</td>\n      <td>[\"planning\",\"tender\",\"award\",\"contract\"]</td>\n      <td>ocds-5wno2w-RE-GADMCN-17-21-LRG-67188</td>\n      <td>RE-GADMCN-17-21-LRG-67188-2022-05-04T11:48:52....</td>\n      <td>...</td>\n      <td>RE-GADMCN-17-21-LRG-67188-2022-05-04T11:48:52....</td>\n      <td>2115789-RE-GADMCN-17-21-LRG</td>\n      <td>5302403-RE-GADMCN-17-21-LRG</td>\n      <td>terminated</td>\n      <td>ocds-5wno2w-RE-GADMCN-17-21-LRG-67188</td>\n      <td>RE-GADMCN-17-21-LRG-67188-2022-05-04T11:48:52....</td>\n      <td>5302403-RE-GADMCN-17-21-LRG</td>\n      <td>NaN</td>\n      <td>30590.89</td>\n      <td>USD</td>\n    </tr>\n    <tr>\n      <th>26949488</th>\n      <td>ocds-5wno2w-RE-HGADPCH-039-2021-2583</td>\n      <td>RE-HGADPCH-039-2021-2583-2022-05-04T11:39:57.9...</td>\n      <td>tender</td>\n      <td>EC-RUC-0660000280001-2583</td>\n      <td>HONORABLE GOBIERNO AUTONOMO DESCENTRALIZADO DE...</td>\n      <td>es</td>\n      <td>2022-05-04T06:51:48-05:00</td>\n      <td>[\"planning\",\"tender\",\"award\",\"contract\",\"imple...</td>\n      <td>ocds-5wno2w-RE-HGADPCH-039-2021-2583</td>\n      <td>RE-HGADPCH-039-2021-2583-2022-05-04T11:39:57.9...</td>\n      <td>...</td>\n      <td>RE-HGADPCH-039-2021-2583-2022-05-04T11:39:57.9...</td>\n      <td>2108207-RE-HGADPCH-039-2021</td>\n      <td>5099697-RE-HGADPCH-039-2021</td>\n      <td>terminated</td>\n      <td>ocds-5wno2w-RE-HGADPCH-039-2021-2583</td>\n      <td>RE-HGADPCH-039-2021-2583-2022-05-04T11:39:57.9...</td>\n      <td>5099697-RE-HGADPCH-039-2021</td>\n      <td>NaN</td>\n      <td>148474.03</td>\n      <td>USD</td>\n    </tr>\n  </tbody>\n</table>\n<p>26949489 rows × 36 columns</p>\n</div>"
          },
          "metadata": {}
        }
      ],
      "execution_count": 21,
      "metadata": {
        "gather": {
          "logged": 1655961773883
        }
      }
    },
    {
      "cell_type": "code",
      "source": [
        "df.isnull().sum()"
      ],
      "outputs": [
        {
          "output_type": "execute_result",
          "execution_count": 17,
          "data": {
            "text/plain": "ocid                               0\nid                                 0\ninitiationType                     0\nbuyer_id                           0\nbuyer_name                         0\nlanguage                           0\ndate                               0\ntag                                0\nocid_tender                     1446\nrelease_id                      1446\nid_tender                       1446\ntitle                           1446\ndescription                     1447\nstatus                          1446\nprocuringEntity_id              1500\nprocuringEntity_name            1500\nvalue_amount                   20496\nvalue_currency                 20496\nprocurementMethod               1446\nprocurementMethodDetails        1446\nocid_supplier                   2823\nrelease_id_supplier             2823\naward_id                        2823\nid_supplier                     2823\nname                            2823\nocid_contracts                 56462\nrelease_id_contracts           56462\nid_contracts                   56462\nawardID                        56462\nstatus_contracts               56462\nocid_awards                     2807\nrelease_id_awards               2807\nid_awards                       2807\nstatus_awards               26882350\namount                          2810\ncurrency                        2810\ndtype: int64"
          },
          "metadata": {}
        }
      ],
      "execution_count": 17,
      "metadata": {
        "jupyter": {
          "source_hidden": false,
          "outputs_hidden": false
        },
        "nteract": {
          "transient": {
            "deleting": false
          }
        },
        "gather": {
          "logged": 1655961549008
        }
      }
    }
  ],
  "metadata": {
    "kernelspec": {
      "name": "python3",
      "language": "python",
      "display_name": "Python 3 (ipykernel)"
    },
    "language_info": {
      "name": "python",
      "version": "3.8.5",
      "mimetype": "text/x-python",
      "codemirror_mode": {
        "name": "ipython",
        "version": 3
      },
      "pygments_lexer": "ipython3",
      "nbconvert_exporter": "python",
      "file_extension": ".py"
    },
    "orig_nbformat": 4,
    "vscode": {
      "interpreter": {
        "hash": "b95bd45029f467f5ffdb04a0dca108fe317981093d378cd9f566d3ace075d8db"
      }
    },
    "kernel_info": {
      "name": "python3"
    },
    "microsoft": {
      "host": {
        "AzureML": {
          "notebookHasBeenCompleted": true
        }
      }
    },
    "nteract": {
      "version": "nteract-front-end@1.0.0"
    }
  },
  "nbformat": 4,
  "nbformat_minor": 2
}